{
 "cells": [
  {
   "cell_type": "markdown",
   "metadata": {},
   "source": [
    "# Introduction to scientific computing with Python\n",
    "\n",
    "*Merci à [Maxime Sangnier](http://www.lpsm.paris/pageperso/sangnier/) d'avoir partagé avec nous ses TPs.*\n",
    "\n",
    "## Part 4: Statistics"
   ]
  },
  {
   "cell_type": "markdown",
   "metadata": {},
   "source": [
    "# Table of contents\n",
    "1. [Sampling](#part1)\n",
    "    - [Random sampling](#part1sec1)\n",
    "    - [Advanced distributions](#part1sec2)\n",
    "    - [Descriptive statistics](#part1sec3)\n",
    "1. [Data representation and manipulation](#part2)\n",
    "    - [Reading and creating a dataframe](#part2sec1)\n",
    "    - [Viewing data](#part2sec2)\n",
    "    - [Indexing a table](#part2sec3)\n",
    "    - [Adding and deleting items](#part2sec4)\n",
    "    - [Managing missing data](#part2sec5)\n",
    "    - [Descriptive statistics](#part2sec6)\n",
    "    - [Plotting](#part2sec8)\n",
    "1. [Linear Regression with the Iris data set](#part3)\n",
    "1. [Exercises](#part4)\n",
    "1. [References](#part5)\n"
   ]
  },
  {
   "cell_type": "markdown",
   "metadata": {},
   "source": [
    "# Sampling and testing <a id=\"part1\"></a>\n",
    "## Random sampling <a id=\"part1sec1\"></a>\n",
    "### Simple random data\n",
    "[Numpy](http://docs.scipy.org/doc/numpy/reference/routines.random.html#random-generator) offers several routines to generate easily uniform and normal random samples:"
   ]
  },
  {
   "cell_type": "code",
   "execution_count": 36,
   "metadata": {},
   "outputs": [
    {
     "data": {
      "text/plain": [
       "array([[0.72, 0.63, 0.68, 0.  ],\n",
       "       [0.6 , 0.55, 0.16, 0.52],\n",
       "       [0.37, 0.33, 0.05, 0.65],\n",
       "       [0.78, 0.05, 0.9 , 0.6 ]])"
      ]
     },
     "execution_count": 36,
     "metadata": {},
     "output_type": "execute_result"
    }
   ],
   "source": [
    "import numpy as np\n",
    "import numpy.random as rdm\n",
    "np.set_printoptions(precision=2)\n",
    "\n",
    "rdm.rand(4, 4)  # Uniform sampling"
   ]
  },
  {
   "cell_type": "code",
   "execution_count": 2,
   "metadata": {},
   "outputs": [
    {
     "data": {
      "text/plain": [
       "array([[-0.1 , -0.31, -0.02,  1.77],\n",
       "       [ 0.94, -2.54,  0.53,  0.06],\n",
       "       [ 0.43, -1.12,  1.28,  2.31],\n",
       "       [-0.23,  1.25,  0.23, -1.09]])"
      ]
     },
     "execution_count": 2,
     "metadata": {},
     "output_type": "execute_result"
    }
   ],
   "source": [
    "rdm.randn(4, 4)  # Standard normal sampling"
   ]
  },
  {
   "cell_type": "code",
   "execution_count": 3,
   "metadata": {},
   "outputs": [
    {
     "data": {
      "text/plain": [
       "array([[2, 6, 0],\n",
       "       [6, 9, 2]])"
      ]
     },
     "execution_count": 3,
     "metadata": {},
     "output_type": "execute_result"
    }
   ],
   "source": [
    "rdm.randint(0, 10, size=(2, 3))  # Discrete uniform sampling (10 exclusive)"
   ]
  },
  {
   "cell_type": "markdown",
   "metadata": {},
   "source": [
    "In the case where the sampled integers are supposed to index an array, one can replace:"
   ]
  },
  {
   "cell_type": "code",
   "execution_count": 4,
   "metadata": {},
   "outputs": [
    {
     "data": {
      "text/plain": [
       "array([10, 40, 20, 10, 30, 10, 10])"
      ]
     },
     "execution_count": 4,
     "metadata": {},
     "output_type": "execute_result"
    }
   ],
   "source": [
    "a = np.arange(10)*10\n",
    "\n",
    "ind = rdm.randint(0, 5, size=7)\n",
    "a[ind]"
   ]
  },
  {
   "cell_type": "markdown",
   "metadata": {},
   "source": [
    "by:"
   ]
  },
  {
   "cell_type": "code",
   "execution_count": 5,
   "metadata": {},
   "outputs": [
    {
     "data": {
      "text/plain": [
       "array([90, 70, 50, 50, 10, 40, 90])"
      ]
     },
     "execution_count": 5,
     "metadata": {},
     "output_type": "execute_result"
    }
   ],
   "source": [
    "rdm.choice(a, size=7)"
   ]
  },
  {
   "cell_type": "markdown",
   "metadata": {},
   "source": [
    "The previous routines sample integers with replacement.\n",
    "To sample without replacement, one can use:"
   ]
  },
  {
   "cell_type": "code",
   "execution_count": 6,
   "metadata": {},
   "outputs": [
    {
     "data": {
      "text/plain": [
       "array([2, 6, 7, 3, 4, 8, 1])"
      ]
     },
     "execution_count": 6,
     "metadata": {},
     "output_type": "execute_result"
    }
   ],
   "source": [
    "rdm.permutation(10)[:7]  # 7 first items of a random permutation of [0, …, 9]"
   ]
  },
  {
   "cell_type": "markdown",
   "metadata": {},
   "source": [
    "Note that one can also directly permute an array with a copy (`permutation`) or in-place (`shuffle`), instead of generating random indexes."
   ]
  },
  {
   "cell_type": "code",
   "execution_count": 7,
   "metadata": {},
   "outputs": [
    {
     "data": {
      "text/plain": [
       "array([40, 70,  0, 30, 50, 80, 90, 20, 10, 60])"
      ]
     },
     "execution_count": 7,
     "metadata": {},
     "output_type": "execute_result"
    }
   ],
   "source": [
    "rdm.permutation(a)"
   ]
  },
  {
   "cell_type": "code",
   "execution_count": 8,
   "metadata": {},
   "outputs": [
    {
     "data": {
      "text/plain": [
       "array([80, 70,  0, 50, 30, 20, 60, 10, 40, 90])"
      ]
     },
     "execution_count": 8,
     "metadata": {},
     "output_type": "execute_result"
    }
   ],
   "source": [
    "rdm.shuffle(a)\n",
    "a"
   ]
  },
  {
   "cell_type": "markdown",
   "metadata": {},
   "source": [
    "**Question**\n",
    "\n",
    "Draw a sample of size $100$ from a normal distribution with mean $10$ and standard deviation $2$.\n",
    "Print the usual estimators of these two parameters to validate your operation."
   ]
  },
  {
   "cell_type": "code",
   "execution_count": null,
   "metadata": {
    "collapsed": true,
    "jupyter": {
     "outputs_hidden": true
    }
   },
   "outputs": [],
   "source": [
    "# Answer"
   ]
  },
  {
   "cell_type": "markdown",
   "metadata": {},
   "source": [
    "### Random generator\n",
    "It is obvious that random generators used in scientific computing are in fact pseudo-random generators.\n",
    "As a consequence, the practitioner is able to control them to a certain extent.\n",
    "In a way, this is good news for reproducible science!\n",
    "\n",
    "Both examples below illustrate how to replay a random sampling."
   ]
  },
  {
   "cell_type": "code",
   "execution_count": 10,
   "metadata": {},
   "outputs": [
    {
     "name": "stdout",
     "output_type": "stream",
     "text": [
      "[44 47 64]\n",
      "[37 12 72]\n",
      "[40 15 72]\n"
     ]
    }
   ],
   "source": [
    "for it in range(3):\n",
    "    rdm.seed(it)  # Seed the generator to the current iteration number\n",
    "    print(rdm.randint(100, size=3))"
   ]
  },
  {
   "cell_type": "code",
   "execution_count": 11,
   "metadata": {},
   "outputs": [
    {
     "name": "stdout",
     "output_type": "stream",
     "text": [
      "[44 47 64]\n",
      "[37 12 72]\n",
      "[40 15 72]\n"
     ]
    }
   ],
   "source": [
    "for it in range(3):\n",
    "    rdm.seed(it)  # Seed the generator to the current iteration number\n",
    "    print(rdm.randint(100, size=3))  # Same as before!"
   ]
  },
  {
   "cell_type": "code",
   "execution_count": 12,
   "metadata": {},
   "outputs": [
    {
     "name": "stdout",
     "output_type": "stream",
     "text": [
      "[-2.14  1.64 -1.79]\n",
      "[[0.2  0.62 0.3 ]\n",
      " [0.27 0.62 0.53]\n",
      " [0.13 0.51 0.18]]\n"
     ]
    }
   ],
   "source": [
    "s = rdm.get_state()  # Get the internal state of the generator\n",
    "print(np.array([rdm.randn() for it in range(3)]))\n",
    "print(rdm.rand(3, 3))"
   ]
  },
  {
   "cell_type": "code",
   "execution_count": 13,
   "metadata": {},
   "outputs": [
    {
     "name": "stdout",
     "output_type": "stream",
     "text": [
      "[-2.14]\n",
      "[1.64]\n",
      "[-1.79]\n"
     ]
    }
   ],
   "source": [
    "rdm.set_state(s)  # Set the internal state of the generator to its previous value\n",
    "for it in range(3):\n",
    "    print(rdm.randn(1))  # Same as before!"
   ]
  },
  {
   "cell_type": "markdown",
   "metadata": {},
   "source": [
    "### Distributions\n",
    "Besides the previous routines, Numpy offers the possibility to draw samples from numerous [distributions](http://docs.scipy.org/doc/numpy/reference/routines.random.html#distributions)."
   ]
  },
  {
   "cell_type": "code",
   "execution_count": 14,
   "metadata": {},
   "outputs": [
    {
     "name": "stdout",
     "output_type": "stream",
     "text": [
      "[3 4 5 2 2 2 4 6 6 3 2 1 6 2 5 3 3 5 3 6 7 6 5 3 2 3 2 4 4 3]\n"
     ]
    }
   ],
   "source": [
    "x = rdm.poisson(lam=4, size=500)\n",
    "print(x[:30])"
   ]
  },
  {
   "cell_type": "code",
   "execution_count": 15,
   "metadata": {},
   "outputs": [
    {
     "data": {
      "image/png": "[encoded data removed]",
      "text/plain": [
       "<Figure size 432x288 with 1 Axes>"
      ]
     },
     "metadata": {},
     "output_type": "display_data"
    }
   ],
   "source": [
    "import matplotlib.pyplot as plt\n",
    "import seaborn as sns\n",
    "sns.set()\n",
    "\n",
    "fig, ax = plt.subplots()\n",
    "ax.stem(np.bincount(x), use_line_collection=True);"
   ]
  },
  {
   "cell_type": "markdown",
   "metadata": {},
   "source": [
    "**Question**\n",
    "\n",
    "Draw a sample of size $1000$ from an exponential distribution with scale $2$ and plot a density histogram of this sample."
   ]
  },
  {
   "cell_type": "code",
   "execution_count": null,
   "metadata": {
    "collapsed": true,
    "jupyter": {
     "outputs_hidden": true
    }
   },
   "outputs": [],
   "source": [
    "# Answer"
   ]
  },
  {
   "cell_type": "markdown",
   "metadata": {},
   "source": [
    "## Advanced distributions <a id=\"part1sec2\"></a>\n",
    "### Special functions\n",
    "Many raw statistical routines (cumulative, survival and inverse functions) are available in the [scipy.special](http://docs.scipy.org/doc/scipy/reference/special.html#raw-statistical-functions) mudule."
   ]
  },
  {
   "cell_type": "code",
   "execution_count": 17,
   "metadata": {},
   "outputs": [
    {
     "data": {
      "image/png": "[encoded data removed]",
      "text/plain": [
       "<Figure size 432x288 with 1 Axes>"
      ]
     },
     "metadata": {},
     "output_type": "display_data"
    }
   ],
   "source": [
    "from scipy import special\n",
    "\n",
    "plt.stem(special.pdtr(range(15), 4), use_line_collection=True);  # Poisson cumulative distribution function"
   ]
  },
  {
   "cell_type": "markdown",
   "metadata": {},
   "source": [
    "### Random variables\n",
    "[Scipy.stats](http://docs.scipy.org/doc/scipy/reference/stats.html) implements random variables with two different classes: [*continuous random variables*](http://docs.scipy.org/doc/scipy/reference/tutorial/stats/continuous.html#continuous-random-variables) and [*discrete random variables*](http://docs.scipy.org/doc/scipy/reference/tutorial/stats/discrete.html#discrete-random-variables).\n",
    "As an example, we focus here on the gamma distribution and illustrate the main methods available."
   ]
  },
  {
   "cell_type": "code",
   "execution_count": 1,
   "metadata": {},
   "outputs": [],
   "source": [
    "from scipy.stats import gamma\n",
    "\n",
    "# gamma is a r.v. object corresponding to the standard gamma distribution"
   ]
  },
  {
   "cell_type": "markdown",
   "metadata": {},
   "source": [
    "The shape parameter `a` appears in the probability density function:\n",
    "<!-- $$f(x; a, \\lambda) = x^{a-1}\\exp(-\\lambda x) \\frac{\\lambda^a}{\\Gamma(a)}.$$ -->\n",
    "$$f(x; a) = \\frac{x^{a-1}\\exp(-x)}{\\Gamma(a)}.$$\n",
    "\n",
    "Since the shape parameter `a` is required, one has to specify it for each method."
   ]
  },
  {
   "cell_type": "code",
   "execution_count": 2,
   "metadata": {
    "scrolled": true
   },
   "outputs": [
    {
     "name": "stdout",
     "output_type": "stream",
     "text": [
      "Mean: 4.0\n",
      "Median: 3.672060748850897\n",
      "Variance: 4.0\n"
     ]
    }
   ],
   "source": [
    "print(\"Mean:\", gamma.mean(a=4))\n",
    "print(\"Median:\", gamma.median(a=4))\n",
    "print(\"Variance:\", gamma.var(a=4))"
   ]
  },
  {
   "cell_type": "markdown",
   "metadata": {},
   "source": [
    "Two other parameters can be passed to the methods: `loc` and `scale`.\n",
    "They correspond to shifting and rescaling the standard random variable with \n",
    "$x \\mapsto scale \\cdot x + loc.$"
   ]
  },
  {
   "cell_type": "code",
   "execution_count": 3,
   "metadata": {},
   "outputs": [
    {
     "name": "stdout",
     "output_type": "stream",
     "text": [
      "Mean: 2.4\n"
     ]
    }
   ],
   "source": [
    "print(\"Mean:\", gamma.mean(a=4, loc=2, scale=0.1))"
   ]
  },
  {
   "cell_type": "markdown",
   "metadata": {},
   "source": [
    "Since passing those parameters time and again can become quite bothersome, one can freeze the parameters:"
   ]
  },
  {
   "cell_type": "code",
   "execution_count": 21,
   "metadata": {},
   "outputs": [
    {
     "name": "stdout",
     "output_type": "stream",
     "text": [
      "Mean: 10.0\n"
     ]
    }
   ],
   "source": [
    "rv = gamma(a=4, loc=2, scale=2)\n",
    "print(\"Mean:\", rv.mean())"
   ]
  },
  {
   "cell_type": "markdown",
   "metadata": {},
   "source": [
    "Now, let us have a look at the available methods."
   ]
  },
  {
   "cell_type": "code",
   "execution_count": 22,
   "metadata": {},
   "outputs": [
    {
     "name": "stdout",
     "output_type": "stream",
     "text": [
      "[ 6.56 17.46 24.21  7.11  9.63  5.71  8.27  7.46  9.37 14.17]\n"
     ]
    }
   ],
   "source": [
    "print(rv.rvs(size=10))  # Draw a random sample"
   ]
  },
  {
   "cell_type": "code",
   "execution_count": 23,
   "metadata": {},
   "outputs": [
    {
     "name": "stdout",
     "output_type": "stream",
     "text": [
      "Moment 0: 1.0\n",
      "Moment 1: 10.0\n",
      "Moment 2: 116.0\n",
      "Moment 3: 1544.0\n"
     ]
    }
   ],
   "source": [
    "for n in range(4):\n",
    "    print(\"Moment {}:\".format(n), rv.moment(n))"
   ]
  },
  {
   "cell_type": "code",
   "execution_count": 24,
   "metadata": {},
   "outputs": [
    {
     "data": {
      "image/png": "[encoded data removed]",
      "text/plain": [
       "<Figure size 432x288 with 1 Axes>"
      ]
     },
     "metadata": {},
     "output_type": "display_data"
    }
   ],
   "source": [
    "x = np.linspace(0, 30, num=50)\n",
    "\n",
    "fig, ax = plt.subplots()\n",
    "ax.plot(x, rv.pdf(x), label='pdf')  # Probability density function\n",
    "ax.plot(x, rv.cdf(x)/10, label='cdf / 10')  # Cumulative density function\n",
    "ax.legend(loc=\"best\");"
   ]
  },
  {
   "cell_type": "code",
   "execution_count": 25,
   "metadata": {},
   "outputs": [
    {
     "data": {
      "image/png": "[encoded data removed]",
      "text/plain": [
       "<Figure size 432x288 with 1 Axes>"
      ]
     },
     "metadata": {},
     "output_type": "display_data"
    }
   ],
   "source": [
    "fig, ax = plt.subplots()\n",
    "ax.plot(x, rv.logpdf(x), label='log pdf');  # Log of the pdf"
   ]
  },
  {
   "cell_type": "code",
   "execution_count": 26,
   "metadata": {},
   "outputs": [
    {
     "data": {
      "image/png": "[encoded data removed]",
      "text/plain": [
       "<Figure size 432x288 with 1 Axes>"
      ]
     },
     "metadata": {},
     "output_type": "display_data"
    }
   ],
   "source": [
    "x = np.linspace(0, 1, num=50)\n",
    "\n",
    "fig, ax = plt.subplots()\n",
    "ax.plot(x, rv.ppf(x), label='ppf')  # Percent point function (inverse of cdf, also called quantile function) \n",
    "ax.legend(loc=\"upper left\");"
   ]
  },
  {
   "cell_type": "code",
   "execution_count": 27,
   "metadata": {},
   "outputs": [
    {
     "name": "stdout",
     "output_type": "stream",
     "text": [
      "First exponential moment: 1.67e-03\n"
     ]
    }
   ],
   "source": [
    "m = rv.expect(lambda x: np.exp(-x))  # Expectation of a function\n",
    "print(\"First exponential moment: {0:0.2e}\".format(m))"
   ]
  },
  {
   "cell_type": "markdown",
   "metadata": {},
   "source": [
    "Note that an unfrozen random variable (for instance `gamma`, not `rv`) benefits from two other methods: `fit` and `fit_loc_scale` for estimating parameters respectively by likelihood maximization and the moment method."
   ]
  },
  {
   "cell_type": "markdown",
   "metadata": {},
   "source": [
    "**Question**\n",
    "\n",
    "Draw a sample of size $1000$ from a Laplace distribution (with location $1$ and scale $2$) and plot a density histogram of this sample.\n",
    "Add the curve of the probability density function."
   ]
  },
  {
   "cell_type": "code",
   "execution_count": null,
   "metadata": {
    "collapsed": true,
    "jupyter": {
     "outputs_hidden": true
    }
   },
   "outputs": [],
   "source": [
    "# Answer"
   ]
  },
  {
   "cell_type": "markdown",
   "metadata": {},
   "source": [
    "## Descriptive statistics <a id=\"part1sec3\"></a>\n",
    "### Order statistics, moments and correlation\n",
    "Basic descriptive statistics such as min, max, mean, median, std, variance and percentiles can be computed with [array methods](http://docs.scipy.org/doc/numpy/reference/generated/numpy.ndarray.html) or routines from [Numpy](http://docs.scipy.org/doc/numpy/reference/routines.statistics.html).\n",
    "Other empirical statistics such as mode and moments can be obtained with [Scipy statistical functions](http://docs.scipy.org/doc/scipy/reference/stats.html#statistical-functions)."
   ]
  },
  {
   "cell_type": "markdown",
   "metadata": {},
   "source": [
    "### Histograms\n",
    "A common task in statisics is to estimate the probability density function of a random variable, what is called density estimation.\n",
    "In a first approach, this task can be achieved by computing a histogram."
   ]
  },
  {
   "cell_type": "code",
   "execution_count": 29,
   "metadata": {},
   "outputs": [
    {
     "data": {
      "image/png": "[encoded data removed]",
      "text/plain": [
       "<Figure size 432x288 with 1 Axes>"
      ]
     },
     "metadata": {},
     "output_type": "display_data"
    }
   ],
   "source": [
    "x = rv.rvs(size=1000)  # Draw a random sample\n",
    "\n",
    "# Compute the histogram\n",
    "hist, bins = np.histogram(x, bins=20, density=True)\n",
    "\n",
    "# Plot the histogram\n",
    "fig, ax = plt.subplots()\n",
    "ax.bar(bins[:-1], hist, width=bins[1]-bins[0])\n",
    "ax.set_xticks(bins[::3], [\"{0:0.2f}\".format(t) for t in bins[::3]]);\n",
    "\n",
    "x_pdf = np.linspace(0, 30, num=100)\n",
    "ax.plot(x_pdf, rv.pdf(x_pdf), color=\"red\", linewidth=2, label=\"pdf\")\n",
    "ax.legend();"
   ]
  },
  {
   "cell_type": "markdown",
   "metadata": {},
   "source": [
    "Alternatively, one can use Matplotlib to produce fancy plots:"
   ]
  },
  {
   "cell_type": "code",
   "execution_count": 30,
   "metadata": {},
   "outputs": [
    {
     "data": {
      "image/png": "[encoded data removed]",
      "text/plain": [
       "<Figure size 432x288 with 1 Axes>"
      ]
     },
     "metadata": {},
     "output_type": "display_data"
    }
   ],
   "source": [
    "fig, ax = plt.subplots()\n",
    "hist_plt, bins_plt, patches = ax.hist(x, bins=20, density=True)\n",
    "ax.plot(x_pdf, rv.pdf(x_pdf), color=\"red\", linewidth=2, label=\"pdf\")\n",
    "ax.legend();"
   ]
  },
  {
   "cell_type": "markdown",
   "metadata": {},
   "source": [
    "### Kernel density estimation\n",
    "Kernel desity estimation is a tool more efficient than a histogram for density estimation.\n",
    "In Python, kernel density estimation can be performed with the `gaussian_kde` function."
   ]
  },
  {
   "cell_type": "code",
   "execution_count": 31,
   "metadata": {},
   "outputs": [
    {
     "data": {
      "image/png": "[encoded data removed]",
      "text/plain": [
       "<Figure size 432x288 with 1 Axes>"
      ]
     },
     "metadata": {},
     "output_type": "display_data"
    }
   ],
   "source": [
    "from scipy.stats import gaussian_kde\n",
    "\n",
    "kde = gaussian_kde(x)\n",
    "\n",
    "fig, ax = plt.subplots()\n",
    "(hist_plt, bins_plt, patches) = ax.hist(x, bins=20, density=True)\n",
    "ax.plot(x_pdf, rv.pdf(x_pdf), color=\"red\", linewidth=2, label=\"pdf\")\n",
    "ax.plot(x_pdf, kde(x_pdf), color=\"magenta\", linewidth=2, label=\"kde\")\n",
    "ax.legend();"
   ]
  },
  {
   "cell_type": "markdown",
   "metadata": {},
   "source": [
    "**Question**\n",
    "Add on the previous figure the curves of a kernel density estimation with parameter `bw_method` (of `gaussian_kde`) varying according to `bw_values`."
   ]
  },
  {
   "cell_type": "code",
   "execution_count": 32,
   "metadata": {},
   "outputs": [],
   "source": [
    "bw_values = [0.1, 0.5, 1]"
   ]
  },
  {
   "cell_type": "code",
   "execution_count": null,
   "metadata": {
    "collapsed": true,
    "jupyter": {
     "outputs_hidden": true
    }
   },
   "outputs": [],
   "source": [
    "# Answer"
   ]
  },
  {
   "cell_type": "markdown",
   "metadata": {},
   "source": [
    "# Data representation and manipulation <a id=\"part2\"></a>\n",
    "Following the example of R, Python comes with a package for handling data as a table : the [Pandas](http://pandas.pydata.org/) package provides a container for tables, called **dataframe**.\n",
    "A dataframe is a two-dimensional table, in which each column contains measurements on one variable, and each row contains one individual.\n",
    "\n",
    "The main features of Pandas and its dataframe are:\n",
    "- reading data from csv and Excel files;\n",
    "- giving names to variables;\n",
    "- storing in a clever manner a large amound of data;\n",
    "- providing methods for descriptive statistics.\n",
    "\n",
    "## Reading and creating a dataframe <a id=\"part2sec1\"></a>\n",
    "A dataframe may be either read from a file or created from raw data (the file is available [here](http://bertrand.michel.perso.math.cnrs.fr/Enseignements/Data/defra_consumption.csv)):"
   ]
  },
  {
   "cell_type": "code",
   "execution_count": 7,
   "metadata": {},
   "outputs": [
    {
     "name": "stdout",
     "output_type": "stream",
     "text": [
      ";England;Wales;Scotland;N Ireland\n",
      "Cheese;105;103;103;66\n",
      "Carcass meat;245;227;242;267\n",
      "Other meat;685;803;750;586\n",
      "Fish;147;160;122;93\n",
      "Fats and oils;193;235;184;209\n",
      "Sugars;156;175;147;139\n",
      "Fresh potatoes;720;874;566;1033\n",
      "Fresh Veg;253;265;171;143\n",
      "Other Veg;488;570;418;355\n",
      "Processed potatoes;198;203;220;187\n",
      "Processed Veg;360;365;337;334\n",
      "Fresh fruit;1102;1137;957;674\n",
      "Cereals;1472;1582;1462;1494\n",
      "Beverages;57;73;53;47\n",
      "Soft drinks;1374;1256;1572;1506\n",
      "Alcoholic drinks;375;475;458;135\n",
      "Confectionery;54;64;62;41\n"
     ]
    }
   ],
   "source": [
    "!cat defra_consumption.csv"
   ]
  },
  {
   "cell_type": "code",
   "execution_count": 5,
   "metadata": {},
   "outputs": [
    {
     "data": {
      "text/html": [
       "<div>\n",
       "<style scoped>\n",
       "    .dataframe tbody tr th:only-of-type {\n",
       "        vertical-align: middle;\n",
       "    }\n",
       "\n",
       "    .dataframe tbody tr th {\n",
       "        vertical-align: top;\n",
       "    }\n",
       "\n",
       "    .dataframe thead th {\n",
       "        text-align: right;\n",
       "    }\n",
       "</style>\n",
       "<table border=\"1\" class=\"dataframe\">\n",
       "  <thead>\n",
       "    <tr style=\"text-align: right;\">\n",
       "      <th></th>\n",
       "      <th>England</th>\n",
       "      <th>Wales</th>\n",
       "      <th>Scotland</th>\n",
       "      <th>N Ireland</th>\n",
       "    </tr>\n",
       "  </thead>\n",
       "  <tbody>\n",
       "    <tr>\n",
       "      <th>Cheese</th>\n",
       "      <td>105</td>\n",
       "      <td>103</td>\n",
       "      <td>103</td>\n",
       "      <td>66</td>\n",
       "    </tr>\n",
       "    <tr>\n",
       "      <th>Carcass meat</th>\n",
       "      <td>245</td>\n",
       "      <td>227</td>\n",
       "      <td>242</td>\n",
       "      <td>267</td>\n",
       "    </tr>\n",
       "    <tr>\n",
       "      <th>Other meat</th>\n",
       "      <td>685</td>\n",
       "      <td>803</td>\n",
       "      <td>750</td>\n",
       "      <td>586</td>\n",
       "    </tr>\n",
       "    <tr>\n",
       "      <th>Fish</th>\n",
       "      <td>147</td>\n",
       "      <td>160</td>\n",
       "      <td>122</td>\n",
       "      <td>93</td>\n",
       "    </tr>\n",
       "    <tr>\n",
       "      <th>Fats and oils</th>\n",
       "      <td>193</td>\n",
       "      <td>235</td>\n",
       "      <td>184</td>\n",
       "      <td>209</td>\n",
       "    </tr>\n",
       "    <tr>\n",
       "      <th>Sugars</th>\n",
       "      <td>156</td>\n",
       "      <td>175</td>\n",
       "      <td>147</td>\n",
       "      <td>139</td>\n",
       "    </tr>\n",
       "    <tr>\n",
       "      <th>Fresh potatoes</th>\n",
       "      <td>720</td>\n",
       "      <td>874</td>\n",
       "      <td>566</td>\n",
       "      <td>1033</td>\n",
       "    </tr>\n",
       "    <tr>\n",
       "      <th>Fresh Veg</th>\n",
       "      <td>253</td>\n",
       "      <td>265</td>\n",
       "      <td>171</td>\n",
       "      <td>143</td>\n",
       "    </tr>\n",
       "    <tr>\n",
       "      <th>Other Veg</th>\n",
       "      <td>488</td>\n",
       "      <td>570</td>\n",
       "      <td>418</td>\n",
       "      <td>355</td>\n",
       "    </tr>\n",
       "    <tr>\n",
       "      <th>Processed potatoes</th>\n",
       "      <td>198</td>\n",
       "      <td>203</td>\n",
       "      <td>220</td>\n",
       "      <td>187</td>\n",
       "    </tr>\n",
       "    <tr>\n",
       "      <th>Processed Veg</th>\n",
       "      <td>360</td>\n",
       "      <td>365</td>\n",
       "      <td>337</td>\n",
       "      <td>334</td>\n",
       "    </tr>\n",
       "    <tr>\n",
       "      <th>Fresh fruit</th>\n",
       "      <td>1102</td>\n",
       "      <td>1137</td>\n",
       "      <td>957</td>\n",
       "      <td>674</td>\n",
       "    </tr>\n",
       "    <tr>\n",
       "      <th>Cereals</th>\n",
       "      <td>1472</td>\n",
       "      <td>1582</td>\n",
       "      <td>1462</td>\n",
       "      <td>1494</td>\n",
       "    </tr>\n",
       "    <tr>\n",
       "      <th>Beverages</th>\n",
       "      <td>57</td>\n",
       "      <td>73</td>\n",
       "      <td>53</td>\n",
       "      <td>47</td>\n",
       "    </tr>\n",
       "    <tr>\n",
       "      <th>Soft drinks</th>\n",
       "      <td>1374</td>\n",
       "      <td>1256</td>\n",
       "      <td>1572</td>\n",
       "      <td>1506</td>\n",
       "    </tr>\n",
       "    <tr>\n",
       "      <th>Alcoholic drinks</th>\n",
       "      <td>375</td>\n",
       "      <td>475</td>\n",
       "      <td>458</td>\n",
       "      <td>135</td>\n",
       "    </tr>\n",
       "    <tr>\n",
       "      <th>Confectionery</th>\n",
       "      <td>54</td>\n",
       "      <td>64</td>\n",
       "      <td>62</td>\n",
       "      <td>41</td>\n",
       "    </tr>\n",
       "  </tbody>\n",
       "</table>\n",
       "</div>"
      ],
      "text/plain": [
       "                    England  Wales  Scotland  N Ireland\n",
       "Cheese                  105    103       103         66\n",
       "Carcass meat            245    227       242        267\n",
       "Other meat              685    803       750        586\n",
       "Fish                    147    160       122         93\n",
       "Fats and oils           193    235       184        209\n",
       "Sugars                  156    175       147        139\n",
       "Fresh potatoes          720    874       566       1033\n",
       "Fresh Veg               253    265       171        143\n",
       "Other Veg               488    570       418        355\n",
       "Processed potatoes      198    203       220        187\n",
       "Processed Veg           360    365       337        334\n",
       "Fresh fruit            1102   1137       957        674\n",
       "Cereals                1472   1582      1462       1494\n",
       "Beverages                57     73        53         47\n",
       "Soft drinks            1374   1256      1572       1506\n",
       "Alcoholic drinks        375    475       458        135\n",
       "Confectionery            54     64        62         41"
      ]
     },
     "execution_count": 5,
     "metadata": {},
     "output_type": "execute_result"
    }
   ],
   "source": [
    "import numpy as np\n",
    "import pandas as pd\n",
    "\n",
    "consumption = pd.read_csv('defra_consumption.csv', sep=';', index_col=0)\n",
    "consumption"
   ]
  },
  {
   "cell_type": "code",
   "execution_count": 6,
   "metadata": {},
   "outputs": [
    {
     "data": {
      "text/html": [
       "<div>\n",
       "<style scoped>\n",
       "    .dataframe tbody tr th:only-of-type {\n",
       "        vertical-align: middle;\n",
       "    }\n",
       "\n",
       "    .dataframe tbody tr th {\n",
       "        vertical-align: top;\n",
       "    }\n",
       "\n",
       "    .dataframe thead th {\n",
       "        text-align: right;\n",
       "    }\n",
       "</style>\n",
       "<table border=\"1\" class=\"dataframe\">\n",
       "  <thead>\n",
       "    <tr style=\"text-align: right;\">\n",
       "      <th></th>\n",
       "      <th>A</th>\n",
       "      <th>B</th>\n",
       "      <th>C</th>\n",
       "      <th>D</th>\n",
       "    </tr>\n",
       "  </thead>\n",
       "  <tbody>\n",
       "    <tr>\n",
       "      <th>2013-01-01</th>\n",
       "      <td>-1.318219</td>\n",
       "      <td>1.268203</td>\n",
       "      <td>-0.563872</td>\n",
       "      <td>0.820811</td>\n",
       "    </tr>\n",
       "    <tr>\n",
       "      <th>2013-01-02</th>\n",
       "      <td>0.081261</td>\n",
       "      <td>-1.382097</td>\n",
       "      <td>0.567375</td>\n",
       "      <td>2.086866</td>\n",
       "    </tr>\n",
       "    <tr>\n",
       "      <th>2013-01-03</th>\n",
       "      <td>2.680484</td>\n",
       "      <td>-2.655466</td>\n",
       "      <td>0.818241</td>\n",
       "      <td>0.129595</td>\n",
       "    </tr>\n",
       "    <tr>\n",
       "      <th>2013-01-04</th>\n",
       "      <td>0.234514</td>\n",
       "      <td>-0.517613</td>\n",
       "      <td>1.186406</td>\n",
       "      <td>-0.214957</td>\n",
       "    </tr>\n",
       "    <tr>\n",
       "      <th>2013-01-05</th>\n",
       "      <td>1.727123</td>\n",
       "      <td>0.024707</td>\n",
       "      <td>-1.429049</td>\n",
       "      <td>0.954067</td>\n",
       "    </tr>\n",
       "    <tr>\n",
       "      <th>2013-01-06</th>\n",
       "      <td>-0.536418</td>\n",
       "      <td>0.538629</td>\n",
       "      <td>-0.583425</td>\n",
       "      <td>-0.184966</td>\n",
       "    </tr>\n",
       "  </tbody>\n",
       "</table>\n",
       "</div>"
      ],
      "text/plain": [
       "                   A         B         C         D\n",
       "2013-01-01 -1.318219  1.268203 -0.563872  0.820811\n",
       "2013-01-02  0.081261 -1.382097  0.567375  2.086866\n",
       "2013-01-03  2.680484 -2.655466  0.818241  0.129595\n",
       "2013-01-04  0.234514 -0.517613  1.186406 -0.214957\n",
       "2013-01-05  1.727123  0.024707 -1.429049  0.954067\n",
       "2013-01-06 -0.536418  0.538629 -0.583425 -0.184966"
      ]
     },
     "execution_count": 6,
     "metadata": {},
     "output_type": "execute_result"
    }
   ],
   "source": [
    "timeseries = pd.DataFrame(data=np.random.randn(6,4),\n",
    "                          index=pd.date_range('20130101', periods=6),\n",
    "                          columns=list('ABCD'))\n",
    "timeseries"
   ]
  },
  {
   "cell_type": "code",
   "execution_count": 47,
   "metadata": {},
   "outputs": [
    {
     "data": {
      "text/html": [
       "<div>\n",
       "<style scoped>\n",
       "    .dataframe tbody tr th:only-of-type {\n",
       "        vertical-align: middle;\n",
       "    }\n",
       "\n",
       "    .dataframe tbody tr th {\n",
       "        vertical-align: top;\n",
       "    }\n",
       "\n",
       "    .dataframe thead th {\n",
       "        text-align: right;\n",
       "    }\n",
       "</style>\n",
       "<table border=\"1\" class=\"dataframe\">\n",
       "  <thead>\n",
       "    <tr style=\"text-align: right;\">\n",
       "      <th></th>\n",
       "      <th>A</th>\n",
       "      <th>B</th>\n",
       "      <th>C</th>\n",
       "      <th>D</th>\n",
       "    </tr>\n",
       "  </thead>\n",
       "  <tbody>\n",
       "    <tr>\n",
       "      <th>0</th>\n",
       "      <td>1.0</td>\n",
       "      <td>2013-01-02</td>\n",
       "      <td>-0.138763</td>\n",
       "      <td>test</td>\n",
       "    </tr>\n",
       "    <tr>\n",
       "      <th>1</th>\n",
       "      <td>1.0</td>\n",
       "      <td>2013-01-02</td>\n",
       "      <td>0.060227</td>\n",
       "      <td>train</td>\n",
       "    </tr>\n",
       "    <tr>\n",
       "      <th>2</th>\n",
       "      <td>1.0</td>\n",
       "      <td>2013-01-02</td>\n",
       "      <td>-0.429151</td>\n",
       "      <td>test</td>\n",
       "    </tr>\n",
       "    <tr>\n",
       "      <th>3</th>\n",
       "      <td>1.0</td>\n",
       "      <td>2013-01-02</td>\n",
       "      <td>1.244043</td>\n",
       "      <td>train</td>\n",
       "    </tr>\n",
       "  </tbody>\n",
       "</table>\n",
       "</div>"
      ],
      "text/plain": [
       "     A          B         C      D\n",
       "0  1.0 2013-01-02 -0.138763   test\n",
       "1  1.0 2013-01-02  0.060227  train\n",
       "2  1.0 2013-01-02 -0.429151   test\n",
       "3  1.0 2013-01-02  1.244043  train"
      ]
     },
     "execution_count": 47,
     "metadata": {},
     "output_type": "execute_result"
    }
   ],
   "source": [
    "df = pd.DataFrame({'A' : 1.,  # Single item\n",
    "                    'B' : pd.Timestamp('20130102'),  # Single item\n",
    "                    'C' : np.random.randn(4),  # Multiple item\n",
    "                    'D' : pd.Categorical([\"test\", \"train\", \"test\", \"train\"])})\n",
    "df"
   ]
  },
  {
   "cell_type": "markdown",
   "metadata": {},
   "source": [
    "**Question**\n",
    "\n",
    "Create a dataframe, the columns of which are entitled `normal`, `exponential` and `laplace`, and contain random samples of size $10$ of each distribution."
   ]
  },
  {
   "cell_type": "code",
   "execution_count": null,
   "metadata": {
    "collapsed": true,
    "jupyter": {
     "outputs_hidden": true
    }
   },
   "outputs": [],
   "source": [
    "# Answer"
   ]
  },
  {
   "cell_type": "markdown",
   "metadata": {},
   "source": [
    "## Viewing data <a id=\"part2sec2\"></a>\n",
    "Since it is unrealistic to view a table in whole, Pandas provides different methods to give a sneak look at the aforesaid table."
   ]
  },
  {
   "cell_type": "code",
   "execution_count": 49,
   "metadata": {},
   "outputs": [
    {
     "data": {
      "text/plain": [
       "DatetimeIndex(['2013-01-01', '2013-01-02', '2013-01-03', '2013-01-04',\n",
       "               '2013-01-05', '2013-01-06'],\n",
       "              dtype='datetime64[ns]', freq='D')"
      ]
     },
     "execution_count": 49,
     "metadata": {},
     "output_type": "execute_result"
    }
   ],
   "source": [
    "timeseries.index  # Index of the table"
   ]
  },
  {
   "cell_type": "code",
   "execution_count": 50,
   "metadata": {},
   "outputs": [
    {
     "data": {
      "text/plain": [
       "Index(['Cheese', 'Carcass meat', 'Other meat', 'Fish', 'Fats and oils',\n",
       "       'Sugars', 'Fresh potatoes', 'Fresh Veg', 'Other Veg',\n",
       "       'Processed potatoes', 'Processed Veg', 'Fresh fruit', 'Cereals',\n",
       "       'Beverages', 'Soft drinks', 'Alcoholic drinks', 'Confectionery'],\n",
       "      dtype='object')"
      ]
     },
     "execution_count": 50,
     "metadata": {},
     "output_type": "execute_result"
    }
   ],
   "source": [
    "consumption.index  # Index of the table"
   ]
  },
  {
   "cell_type": "code",
   "execution_count": 51,
   "metadata": {},
   "outputs": [
    {
     "data": {
      "text/plain": [
       "Index(['England', 'Wales', 'Scotland', 'N Ireland'], dtype='object')"
      ]
     },
     "execution_count": 51,
     "metadata": {},
     "output_type": "execute_result"
    }
   ],
   "source": [
    "consumption.columns  # Columns of the table"
   ]
  },
  {
   "cell_type": "code",
   "execution_count": 52,
   "metadata": {},
   "outputs": [
    {
     "data": {
      "text/html": [
       "<div>\n",
       "<style scoped>\n",
       "    .dataframe tbody tr th:only-of-type {\n",
       "        vertical-align: middle;\n",
       "    }\n",
       "\n",
       "    .dataframe tbody tr th {\n",
       "        vertical-align: top;\n",
       "    }\n",
       "\n",
       "    .dataframe thead th {\n",
       "        text-align: right;\n",
       "    }\n",
       "</style>\n",
       "<table border=\"1\" class=\"dataframe\">\n",
       "  <thead>\n",
       "    <tr style=\"text-align: right;\">\n",
       "      <th></th>\n",
       "      <th>England</th>\n",
       "      <th>Wales</th>\n",
       "      <th>Scotland</th>\n",
       "      <th>N Ireland</th>\n",
       "    </tr>\n",
       "  </thead>\n",
       "  <tbody>\n",
       "    <tr>\n",
       "      <th>Cheese</th>\n",
       "      <td>105</td>\n",
       "      <td>103</td>\n",
       "      <td>103</td>\n",
       "      <td>66</td>\n",
       "    </tr>\n",
       "    <tr>\n",
       "      <th>Carcass meat</th>\n",
       "      <td>245</td>\n",
       "      <td>227</td>\n",
       "      <td>242</td>\n",
       "      <td>267</td>\n",
       "    </tr>\n",
       "    <tr>\n",
       "      <th>Other meat</th>\n",
       "      <td>685</td>\n",
       "      <td>803</td>\n",
       "      <td>750</td>\n",
       "      <td>586</td>\n",
       "    </tr>\n",
       "  </tbody>\n",
       "</table>\n",
       "</div>"
      ],
      "text/plain": [
       "              England  Wales  Scotland  N Ireland\n",
       "Cheese            105    103       103         66\n",
       "Carcass meat      245    227       242        267\n",
       "Other meat        685    803       750        586"
      ]
     },
     "execution_count": 52,
     "metadata": {},
     "output_type": "execute_result"
    }
   ],
   "source": [
    "consumption.head(n=3)"
   ]
  },
  {
   "cell_type": "code",
   "execution_count": 53,
   "metadata": {},
   "outputs": [
    {
     "data": {
      "text/html": [
       "<div>\n",
       "<style scoped>\n",
       "    .dataframe tbody tr th:only-of-type {\n",
       "        vertical-align: middle;\n",
       "    }\n",
       "\n",
       "    .dataframe tbody tr th {\n",
       "        vertical-align: top;\n",
       "    }\n",
       "\n",
       "    .dataframe thead th {\n",
       "        text-align: right;\n",
       "    }\n",
       "</style>\n",
       "<table border=\"1\" class=\"dataframe\">\n",
       "  <thead>\n",
       "    <tr style=\"text-align: right;\">\n",
       "      <th></th>\n",
       "      <th>England</th>\n",
       "      <th>Wales</th>\n",
       "      <th>Scotland</th>\n",
       "      <th>N Ireland</th>\n",
       "    </tr>\n",
       "  </thead>\n",
       "  <tbody>\n",
       "    <tr>\n",
       "      <th>Soft drinks</th>\n",
       "      <td>1374</td>\n",
       "      <td>1256</td>\n",
       "      <td>1572</td>\n",
       "      <td>1506</td>\n",
       "    </tr>\n",
       "    <tr>\n",
       "      <th>Alcoholic drinks</th>\n",
       "      <td>375</td>\n",
       "      <td>475</td>\n",
       "      <td>458</td>\n",
       "      <td>135</td>\n",
       "    </tr>\n",
       "    <tr>\n",
       "      <th>Confectionery</th>\n",
       "      <td>54</td>\n",
       "      <td>64</td>\n",
       "      <td>62</td>\n",
       "      <td>41</td>\n",
       "    </tr>\n",
       "  </tbody>\n",
       "</table>\n",
       "</div>"
      ],
      "text/plain": [
       "                  England  Wales  Scotland  N Ireland\n",
       "Soft drinks          1374   1256      1572       1506\n",
       "Alcoholic drinks      375    475       458        135\n",
       "Confectionery          54     64        62         41"
      ]
     },
     "execution_count": 53,
     "metadata": {},
     "output_type": "execute_result"
    }
   ],
   "source": [
    "consumption.tail(n=3)"
   ]
  },
  {
   "cell_type": "code",
   "execution_count": 54,
   "metadata": {},
   "outputs": [
    {
     "data": {
      "text/plain": [
       "array([[ 105,  103,  103,   66],\n",
       "       [ 245,  227,  242,  267],\n",
       "       [ 685,  803,  750,  586],\n",
       "       [ 147,  160,  122,   93],\n",
       "       [ 193,  235,  184,  209],\n",
       "       [ 156,  175,  147,  139],\n",
       "       [ 720,  874,  566, 1033],\n",
       "       [ 253,  265,  171,  143],\n",
       "       [ 488,  570,  418,  355],\n",
       "       [ 198,  203,  220,  187],\n",
       "       [ 360,  365,  337,  334],\n",
       "       [1102, 1137,  957,  674],\n",
       "       [1472, 1582, 1462, 1494],\n",
       "       [  57,   73,   53,   47],\n",
       "       [1374, 1256, 1572, 1506],\n",
       "       [ 375,  475,  458,  135],\n",
       "       [  54,   64,   62,   41]])"
      ]
     },
     "execution_count": 54,
     "metadata": {},
     "output_type": "execute_result"
    }
   ],
   "source": [
    "consumption.values  # Values are in a Numpy array"
   ]
  },
  {
   "cell_type": "markdown",
   "metadata": {},
   "source": [
    "The methods `info` and `describe` give respectively general and quantitative information concerning the dataframe.\n",
    "In particular, `info` indicates the categorical variables (which are not treated by `describe`)."
   ]
  },
  {
   "cell_type": "code",
   "execution_count": 55,
   "metadata": {},
   "outputs": [
    {
     "name": "stdout",
     "output_type": "stream",
     "text": [
      "<class 'pandas.core.frame.DataFrame'>\n",
      "RangeIndex: 4 entries, 0 to 3\n",
      "Data columns (total 4 columns):\n",
      "A    4 non-null float64\n",
      "B    4 non-null datetime64[ns]\n",
      "C    4 non-null float64\n",
      "D    4 non-null category\n",
      "dtypes: category(1), datetime64[ns](1), float64(2)\n",
      "memory usage: 324.0 bytes\n"
     ]
    }
   ],
   "source": [
    "df.info()"
   ]
  },
  {
   "cell_type": "code",
   "execution_count": 56,
   "metadata": {},
   "outputs": [
    {
     "data": {
      "text/html": [
       "<div>\n",
       "<style scoped>\n",
       "    .dataframe tbody tr th:only-of-type {\n",
       "        vertical-align: middle;\n",
       "    }\n",
       "\n",
       "    .dataframe tbody tr th {\n",
       "        vertical-align: top;\n",
       "    }\n",
       "\n",
       "    .dataframe thead th {\n",
       "        text-align: right;\n",
       "    }\n",
       "</style>\n",
       "<table border=\"1\" class=\"dataframe\">\n",
       "  <thead>\n",
       "    <tr style=\"text-align: right;\">\n",
       "      <th></th>\n",
       "      <th>A</th>\n",
       "      <th>C</th>\n",
       "    </tr>\n",
       "  </thead>\n",
       "  <tbody>\n",
       "    <tr>\n",
       "      <th>count</th>\n",
       "      <td>4.0</td>\n",
       "      <td>4.000000</td>\n",
       "    </tr>\n",
       "    <tr>\n",
       "      <th>mean</th>\n",
       "      <td>1.0</td>\n",
       "      <td>0.184089</td>\n",
       "    </tr>\n",
       "    <tr>\n",
       "      <th>std</th>\n",
       "      <td>0.0</td>\n",
       "      <td>0.734652</td>\n",
       "    </tr>\n",
       "    <tr>\n",
       "      <th>min</th>\n",
       "      <td>1.0</td>\n",
       "      <td>-0.429151</td>\n",
       "    </tr>\n",
       "    <tr>\n",
       "      <th>25%</th>\n",
       "      <td>1.0</td>\n",
       "      <td>-0.211360</td>\n",
       "    </tr>\n",
       "    <tr>\n",
       "      <th>50%</th>\n",
       "      <td>1.0</td>\n",
       "      <td>-0.039268</td>\n",
       "    </tr>\n",
       "    <tr>\n",
       "      <th>75%</th>\n",
       "      <td>1.0</td>\n",
       "      <td>0.356181</td>\n",
       "    </tr>\n",
       "    <tr>\n",
       "      <th>max</th>\n",
       "      <td>1.0</td>\n",
       "      <td>1.244043</td>\n",
       "    </tr>\n",
       "  </tbody>\n",
       "</table>\n",
       "</div>"
      ],
      "text/plain": [
       "         A         C\n",
       "count  4.0  4.000000\n",
       "mean   1.0  0.184089\n",
       "std    0.0  0.734652\n",
       "min    1.0 -0.429151\n",
       "25%    1.0 -0.211360\n",
       "50%    1.0 -0.039268\n",
       "75%    1.0  0.356181\n",
       "max    1.0  1.244043"
      ]
     },
     "execution_count": 56,
     "metadata": {},
     "output_type": "execute_result"
    }
   ],
   "source": [
    "df.describe()"
   ]
  },
  {
   "cell_type": "markdown",
   "metadata": {},
   "source": [
    "If you suspect a variable to be categorical, you can state it."
   ]
  },
  {
   "cell_type": "code",
   "execution_count": 57,
   "metadata": {},
   "outputs": [
    {
     "data": {
      "text/html": [
       "<div>\n",
       "<style scoped>\n",
       "    .dataframe tbody tr th:only-of-type {\n",
       "        vertical-align: middle;\n",
       "    }\n",
       "\n",
       "    .dataframe tbody tr th {\n",
       "        vertical-align: top;\n",
       "    }\n",
       "\n",
       "    .dataframe thead th {\n",
       "        text-align: right;\n",
       "    }\n",
       "</style>\n",
       "<table border=\"1\" class=\"dataframe\">\n",
       "  <thead>\n",
       "    <tr style=\"text-align: right;\">\n",
       "      <th></th>\n",
       "      <th>A</th>\n",
       "      <th>B</th>\n",
       "      <th>C</th>\n",
       "      <th>D</th>\n",
       "      <th>E</th>\n",
       "    </tr>\n",
       "  </thead>\n",
       "  <tbody>\n",
       "    <tr>\n",
       "      <th>0</th>\n",
       "      <td>1.0</td>\n",
       "      <td>2013-01-02</td>\n",
       "      <td>-0.138763</td>\n",
       "      <td>test</td>\n",
       "      <td>0</td>\n",
       "    </tr>\n",
       "    <tr>\n",
       "      <th>1</th>\n",
       "      <td>1.0</td>\n",
       "      <td>2013-01-02</td>\n",
       "      <td>0.060227</td>\n",
       "      <td>train</td>\n",
       "      <td>1</td>\n",
       "    </tr>\n",
       "    <tr>\n",
       "      <th>2</th>\n",
       "      <td>1.0</td>\n",
       "      <td>2013-01-02</td>\n",
       "      <td>-0.429151</td>\n",
       "      <td>test</td>\n",
       "      <td>1</td>\n",
       "    </tr>\n",
       "    <tr>\n",
       "      <th>3</th>\n",
       "      <td>1.0</td>\n",
       "      <td>2013-01-02</td>\n",
       "      <td>1.244043</td>\n",
       "      <td>train</td>\n",
       "      <td>0</td>\n",
       "    </tr>\n",
       "  </tbody>\n",
       "</table>\n",
       "</div>"
      ],
      "text/plain": [
       "     A          B         C      D  E\n",
       "0  1.0 2013-01-02 -0.138763   test  0\n",
       "1  1.0 2013-01-02  0.060227  train  1\n",
       "2  1.0 2013-01-02 -0.429151   test  1\n",
       "3  1.0 2013-01-02  1.244043  train  0"
      ]
     },
     "execution_count": 57,
     "metadata": {},
     "output_type": "execute_result"
    }
   ],
   "source": [
    "df['E'] = np.random.randint(0, high=2, size=df.shape[0])\n",
    "df['E'] = df['E'].astype('category')\n",
    "df"
   ]
  },
  {
   "cell_type": "code",
   "execution_count": 58,
   "metadata": {},
   "outputs": [
    {
     "name": "stdout",
     "output_type": "stream",
     "text": [
      "<class 'pandas.core.frame.DataFrame'>\n",
      "RangeIndex: 4 entries, 0 to 3\n",
      "Data columns (total 5 columns):\n",
      "A    4 non-null float64\n",
      "B    4 non-null datetime64[ns]\n",
      "C    4 non-null float64\n",
      "D    4 non-null category\n",
      "E    4 non-null category\n",
      "dtypes: category(2), datetime64[ns](1), float64(2)\n",
      "memory usage: 424.0 bytes\n"
     ]
    }
   ],
   "source": [
    "df.info()"
   ]
  },
  {
   "cell_type": "code",
   "execution_count": 59,
   "metadata": {},
   "outputs": [
    {
     "data": {
      "text/html": [
       "<div>\n",
       "<style scoped>\n",
       "    .dataframe tbody tr th:only-of-type {\n",
       "        vertical-align: middle;\n",
       "    }\n",
       "\n",
       "    .dataframe tbody tr th {\n",
       "        vertical-align: top;\n",
       "    }\n",
       "\n",
       "    .dataframe thead th {\n",
       "        text-align: right;\n",
       "    }\n",
       "</style>\n",
       "<table border=\"1\" class=\"dataframe\">\n",
       "  <thead>\n",
       "    <tr style=\"text-align: right;\">\n",
       "      <th></th>\n",
       "      <th>A</th>\n",
       "      <th>B</th>\n",
       "      <th>C</th>\n",
       "      <th>D</th>\n",
       "    </tr>\n",
       "  </thead>\n",
       "  <tbody>\n",
       "    <tr>\n",
       "      <th>2013-01-06</th>\n",
       "      <td>0.308346</td>\n",
       "      <td>-0.164241</td>\n",
       "      <td>0.446200</td>\n",
       "      <td>0.744765</td>\n",
       "    </tr>\n",
       "    <tr>\n",
       "      <th>2013-01-05</th>\n",
       "      <td>-1.305641</td>\n",
       "      <td>0.480583</td>\n",
       "      <td>-0.135586</td>\n",
       "      <td>0.421599</td>\n",
       "    </tr>\n",
       "    <tr>\n",
       "      <th>2013-01-04</th>\n",
       "      <td>-1.595424</td>\n",
       "      <td>0.257599</td>\n",
       "      <td>0.202211</td>\n",
       "      <td>-2.483426</td>\n",
       "    </tr>\n",
       "    <tr>\n",
       "      <th>2013-01-03</th>\n",
       "      <td>1.075539</td>\n",
       "      <td>-0.549968</td>\n",
       "      <td>-1.587368</td>\n",
       "      <td>0.389060</td>\n",
       "    </tr>\n",
       "    <tr>\n",
       "      <th>2013-01-02</th>\n",
       "      <td>-0.897261</td>\n",
       "      <td>-1.181121</td>\n",
       "      <td>1.017547</td>\n",
       "      <td>1.058445</td>\n",
       "    </tr>\n",
       "    <tr>\n",
       "      <th>2013-01-01</th>\n",
       "      <td>-0.429630</td>\n",
       "      <td>2.257868</td>\n",
       "      <td>-0.765199</td>\n",
       "      <td>1.047689</td>\n",
       "    </tr>\n",
       "  </tbody>\n",
       "</table>\n",
       "</div>"
      ],
      "text/plain": [
       "                   A         B         C         D\n",
       "2013-01-06  0.308346 -0.164241  0.446200  0.744765\n",
       "2013-01-05 -1.305641  0.480583 -0.135586  0.421599\n",
       "2013-01-04 -1.595424  0.257599  0.202211 -2.483426\n",
       "2013-01-03  1.075539 -0.549968 -1.587368  0.389060\n",
       "2013-01-02 -0.897261 -1.181121  1.017547  1.058445\n",
       "2013-01-01 -0.429630  2.257868 -0.765199  1.047689"
      ]
     },
     "execution_count": 59,
     "metadata": {},
     "output_type": "execute_result"
    }
   ],
   "source": [
    "timeseries.sort_index(ascending=False)"
   ]
  },
  {
   "cell_type": "code",
   "execution_count": 60,
   "metadata": {},
   "outputs": [
    {
     "data": {
      "text/html": [
       "<div>\n",
       "<style scoped>\n",
       "    .dataframe tbody tr th:only-of-type {\n",
       "        vertical-align: middle;\n",
       "    }\n",
       "\n",
       "    .dataframe tbody tr th {\n",
       "        vertical-align: top;\n",
       "    }\n",
       "\n",
       "    .dataframe thead th {\n",
       "        text-align: right;\n",
       "    }\n",
       "</style>\n",
       "<table border=\"1\" class=\"dataframe\">\n",
       "  <thead>\n",
       "    <tr style=\"text-align: right;\">\n",
       "      <th></th>\n",
       "      <th>A</th>\n",
       "      <th>B</th>\n",
       "      <th>C</th>\n",
       "      <th>D</th>\n",
       "    </tr>\n",
       "  </thead>\n",
       "  <tbody>\n",
       "    <tr>\n",
       "      <th>2013-01-04</th>\n",
       "      <td>-1.595424</td>\n",
       "      <td>0.257599</td>\n",
       "      <td>0.202211</td>\n",
       "      <td>-2.483426</td>\n",
       "    </tr>\n",
       "    <tr>\n",
       "      <th>2013-01-05</th>\n",
       "      <td>-1.305641</td>\n",
       "      <td>0.480583</td>\n",
       "      <td>-0.135586</td>\n",
       "      <td>0.421599</td>\n",
       "    </tr>\n",
       "    <tr>\n",
       "      <th>2013-01-02</th>\n",
       "      <td>-0.897261</td>\n",
       "      <td>-1.181121</td>\n",
       "      <td>1.017547</td>\n",
       "      <td>1.058445</td>\n",
       "    </tr>\n",
       "    <tr>\n",
       "      <th>2013-01-01</th>\n",
       "      <td>-0.429630</td>\n",
       "      <td>2.257868</td>\n",
       "      <td>-0.765199</td>\n",
       "      <td>1.047689</td>\n",
       "    </tr>\n",
       "    <tr>\n",
       "      <th>2013-01-06</th>\n",
       "      <td>0.308346</td>\n",
       "      <td>-0.164241</td>\n",
       "      <td>0.446200</td>\n",
       "      <td>0.744765</td>\n",
       "    </tr>\n",
       "    <tr>\n",
       "      <th>2013-01-03</th>\n",
       "      <td>1.075539</td>\n",
       "      <td>-0.549968</td>\n",
       "      <td>-1.587368</td>\n",
       "      <td>0.389060</td>\n",
       "    </tr>\n",
       "  </tbody>\n",
       "</table>\n",
       "</div>"
      ],
      "text/plain": [
       "                   A         B         C         D\n",
       "2013-01-04 -1.595424  0.257599  0.202211 -2.483426\n",
       "2013-01-05 -1.305641  0.480583 -0.135586  0.421599\n",
       "2013-01-02 -0.897261 -1.181121  1.017547  1.058445\n",
       "2013-01-01 -0.429630  2.257868 -0.765199  1.047689\n",
       "2013-01-06  0.308346 -0.164241  0.446200  0.744765\n",
       "2013-01-03  1.075539 -0.549968 -1.587368  0.389060"
      ]
     },
     "execution_count": 60,
     "metadata": {},
     "output_type": "execute_result"
    }
   ],
   "source": [
    "timeseries.sort_values(by='A')"
   ]
  },
  {
   "cell_type": "markdown",
   "metadata": {},
   "source": [
    "**Question**\n",
    "\n",
    "Print the first 10 lines of the dataframe `consumption`."
   ]
  },
  {
   "cell_type": "code",
   "execution_count": null,
   "metadata": {
    "collapsed": true,
    "jupyter": {
     "outputs_hidden": true
    }
   },
   "outputs": [],
   "source": [
    "# Answer"
   ]
  },
  {
   "cell_type": "markdown",
   "metadata": {},
   "source": [
    "## Indexing a table <a id=\"part2sec3\"></a>\n",
    "### Natural indexing"
   ]
  },
  {
   "cell_type": "markdown",
   "metadata": {},
   "source": [
    "Explanations are provided with the `consumption` dataframe."
   ]
  },
  {
   "cell_type": "code",
   "execution_count": 62,
   "metadata": {},
   "outputs": [
    {
     "data": {
      "text/html": [
       "<div>\n",
       "<style scoped>\n",
       "    .dataframe tbody tr th:only-of-type {\n",
       "        vertical-align: middle;\n",
       "    }\n",
       "\n",
       "    .dataframe tbody tr th {\n",
       "        vertical-align: top;\n",
       "    }\n",
       "\n",
       "    .dataframe thead th {\n",
       "        text-align: right;\n",
       "    }\n",
       "</style>\n",
       "<table border=\"1\" class=\"dataframe\">\n",
       "  <thead>\n",
       "    <tr style=\"text-align: right;\">\n",
       "      <th></th>\n",
       "      <th>England</th>\n",
       "      <th>Wales</th>\n",
       "      <th>Scotland</th>\n",
       "      <th>N Ireland</th>\n",
       "    </tr>\n",
       "  </thead>\n",
       "  <tbody>\n",
       "    <tr>\n",
       "      <th>Cheese</th>\n",
       "      <td>105</td>\n",
       "      <td>103</td>\n",
       "      <td>103</td>\n",
       "      <td>66</td>\n",
       "    </tr>\n",
       "    <tr>\n",
       "      <th>Carcass meat</th>\n",
       "      <td>245</td>\n",
       "      <td>227</td>\n",
       "      <td>242</td>\n",
       "      <td>267</td>\n",
       "    </tr>\n",
       "    <tr>\n",
       "      <th>Other meat</th>\n",
       "      <td>685</td>\n",
       "      <td>803</td>\n",
       "      <td>750</td>\n",
       "      <td>586</td>\n",
       "    </tr>\n",
       "    <tr>\n",
       "      <th>Fish</th>\n",
       "      <td>147</td>\n",
       "      <td>160</td>\n",
       "      <td>122</td>\n",
       "      <td>93</td>\n",
       "    </tr>\n",
       "    <tr>\n",
       "      <th>Fats and oils</th>\n",
       "      <td>193</td>\n",
       "      <td>235</td>\n",
       "      <td>184</td>\n",
       "      <td>209</td>\n",
       "    </tr>\n",
       "  </tbody>\n",
       "</table>\n",
       "</div>"
      ],
      "text/plain": [
       "               England  Wales  Scotland  N Ireland\n",
       "Cheese             105    103       103         66\n",
       "Carcass meat       245    227       242        267\n",
       "Other meat         685    803       750        586\n",
       "Fish               147    160       122         93\n",
       "Fats and oils      193    235       184        209"
      ]
     },
     "execution_count": 62,
     "metadata": {},
     "output_type": "execute_result"
    }
   ],
   "source": [
    "consumption.head()"
   ]
  },
  {
   "cell_type": "markdown",
   "metadata": {},
   "source": [
    "Natural indexing is performed with `[]`.\n",
    "This indexes the **columns** of dataframes and the **rows** of series."
   ]
  },
  {
   "cell_type": "code",
   "execution_count": 63,
   "metadata": {},
   "outputs": [
    {
     "data": {
      "text/plain": [
       "Cheese                 105\n",
       "Carcass meat           245\n",
       "Other meat             685\n",
       "Fish                   147\n",
       "Fats and oils          193\n",
       "Sugars                 156\n",
       "Fresh potatoes         720\n",
       "Fresh Veg              253\n",
       "Other Veg              488\n",
       "Processed potatoes     198\n",
       "Processed Veg          360\n",
       "Fresh fruit           1102\n",
       "Cereals               1472\n",
       "Beverages               57\n",
       "Soft drinks           1374\n",
       "Alcoholic drinks       375\n",
       "Confectionery           54\n",
       "Name: England, dtype: int64"
      ]
     },
     "execution_count": 63,
     "metadata": {},
     "output_type": "execute_result"
    }
   ],
   "source": [
    "consumption['England']"
   ]
  },
  {
   "cell_type": "code",
   "execution_count": 64,
   "metadata": {},
   "outputs": [
    {
     "data": {
      "text/plain": [
       "105"
      ]
     },
     "execution_count": 64,
     "metadata": {},
     "output_type": "execute_result"
    }
   ],
   "source": [
    "s = consumption['England']  # A series\n",
    "s['Cheese']"
   ]
  },
  {
   "cell_type": "markdown",
   "metadata": {},
   "source": [
    "You may want to extract several columns or several rows."
   ]
  },
  {
   "cell_type": "code",
   "execution_count": 65,
   "metadata": {},
   "outputs": [
    {
     "data": {
      "text/html": [
       "<div>\n",
       "<style scoped>\n",
       "    .dataframe tbody tr th:only-of-type {\n",
       "        vertical-align: middle;\n",
       "    }\n",
       "\n",
       "    .dataframe tbody tr th {\n",
       "        vertical-align: top;\n",
       "    }\n",
       "\n",
       "    .dataframe thead th {\n",
       "        text-align: right;\n",
       "    }\n",
       "</style>\n",
       "<table border=\"1\" class=\"dataframe\">\n",
       "  <thead>\n",
       "    <tr style=\"text-align: right;\">\n",
       "      <th></th>\n",
       "      <th>England</th>\n",
       "      <th>Scotland</th>\n",
       "    </tr>\n",
       "  </thead>\n",
       "  <tbody>\n",
       "    <tr>\n",
       "      <th>Cheese</th>\n",
       "      <td>105</td>\n",
       "      <td>103</td>\n",
       "    </tr>\n",
       "    <tr>\n",
       "      <th>Carcass meat</th>\n",
       "      <td>245</td>\n",
       "      <td>242</td>\n",
       "    </tr>\n",
       "    <tr>\n",
       "      <th>Other meat</th>\n",
       "      <td>685</td>\n",
       "      <td>750</td>\n",
       "    </tr>\n",
       "    <tr>\n",
       "      <th>Fish</th>\n",
       "      <td>147</td>\n",
       "      <td>122</td>\n",
       "    </tr>\n",
       "    <tr>\n",
       "      <th>Fats and oils</th>\n",
       "      <td>193</td>\n",
       "      <td>184</td>\n",
       "    </tr>\n",
       "  </tbody>\n",
       "</table>\n",
       "</div>"
      ],
      "text/plain": [
       "               England  Scotland\n",
       "Cheese             105       103\n",
       "Carcass meat       245       242\n",
       "Other meat         685       750\n",
       "Fish               147       122\n",
       "Fats and oils      193       184"
      ]
     },
     "execution_count": 65,
     "metadata": {},
     "output_type": "execute_result"
    }
   ],
   "source": [
    "consumption[['England', 'Scotland']].head()"
   ]
  },
  {
   "cell_type": "code",
   "execution_count": 66,
   "metadata": {},
   "outputs": [
    {
     "data": {
      "text/plain": [
       "Cheese        105\n",
       "Other meat    685\n",
       "Name: England, dtype: int64"
      ]
     },
     "execution_count": 66,
     "metadata": {},
     "output_type": "execute_result"
    }
   ],
   "source": [
    "s[['Cheese', 'Other meat']]"
   ]
  },
  {
   "cell_type": "markdown",
   "metadata": {},
   "source": [
    "**Remark:** selecting with `[[]]` always return a dataframe."
   ]
  },
  {
   "cell_type": "code",
   "execution_count": 67,
   "metadata": {},
   "outputs": [
    {
     "data": {
      "text/html": [
       "<div>\n",
       "<style scoped>\n",
       "    .dataframe tbody tr th:only-of-type {\n",
       "        vertical-align: middle;\n",
       "    }\n",
       "\n",
       "    .dataframe tbody tr th {\n",
       "        vertical-align: top;\n",
       "    }\n",
       "\n",
       "    .dataframe thead th {\n",
       "        text-align: right;\n",
       "    }\n",
       "</style>\n",
       "<table border=\"1\" class=\"dataframe\">\n",
       "  <thead>\n",
       "    <tr style=\"text-align: right;\">\n",
       "      <th></th>\n",
       "      <th>England</th>\n",
       "    </tr>\n",
       "  </thead>\n",
       "  <tbody>\n",
       "    <tr>\n",
       "      <th>Cheese</th>\n",
       "      <td>105</td>\n",
       "    </tr>\n",
       "    <tr>\n",
       "      <th>Carcass meat</th>\n",
       "      <td>245</td>\n",
       "    </tr>\n",
       "    <tr>\n",
       "      <th>Other meat</th>\n",
       "      <td>685</td>\n",
       "    </tr>\n",
       "    <tr>\n",
       "      <th>Fish</th>\n",
       "      <td>147</td>\n",
       "    </tr>\n",
       "    <tr>\n",
       "      <th>Fats and oils</th>\n",
       "      <td>193</td>\n",
       "    </tr>\n",
       "  </tbody>\n",
       "</table>\n",
       "</div>"
      ],
      "text/plain": [
       "               England\n",
       "Cheese             105\n",
       "Carcass meat       245\n",
       "Other meat         685\n",
       "Fish               147\n",
       "Fats and oils      193"
      ]
     },
     "execution_count": 67,
     "metadata": {},
     "output_type": "execute_result"
    }
   ],
   "source": [
    "consumption[['England']].head()"
   ]
  },
  {
   "cell_type": "markdown",
   "metadata": {},
   "source": [
    "**Question**\n",
    "\n",
    "Print together columns `B` and `D` of the dataframe `df`."
   ]
  },
  {
   "cell_type": "code",
   "execution_count": null,
   "metadata": {
    "collapsed": true,
    "jupyter": {
     "outputs_hidden": true
    }
   },
   "outputs": [],
   "source": [
    "# Answer"
   ]
  },
  {
   "cell_type": "markdown",
   "metadata": {},
   "source": [
    "### Label based indexing\n",
    "\n",
    "Label based indexing is an enhancement of natural indexing, accessible with `.loc[]`.\n",
    "Indexing has to be thought *as a matrix but with labels instead of positions*.\n",
    "Hence, the **rows** are indexed first (instead of the columns with `[]`)."
   ]
  },
  {
   "cell_type": "code",
   "execution_count": 69,
   "metadata": {},
   "outputs": [
    {
     "data": {
      "text/plain": [
       "England      105\n",
       "Wales        103\n",
       "Scotland     103\n",
       "N Ireland     66\n",
       "Name: Cheese, dtype: int64"
      ]
     },
     "execution_count": 69,
     "metadata": {},
     "output_type": "execute_result"
    }
   ],
   "source": [
    "consumption.loc['Cheese']  # Single row"
   ]
  },
  {
   "cell_type": "code",
   "execution_count": 70,
   "metadata": {},
   "outputs": [
    {
     "data": {
      "text/plain": [
       "Cheese           105\n",
       "Carcass meat     245\n",
       "Other meat       685\n",
       "Fish             147\n",
       "Fats and oils    193\n",
       "Name: England, dtype: int64"
      ]
     },
     "execution_count": 70,
     "metadata": {},
     "output_type": "execute_result"
    }
   ],
   "source": [
    "consumption.loc[:, 'England'].head()  # Single column"
   ]
  },
  {
   "cell_type": "code",
   "execution_count": 71,
   "metadata": {},
   "outputs": [
    {
     "data": {
      "text/html": [
       "<div>\n",
       "<style scoped>\n",
       "    .dataframe tbody tr th:only-of-type {\n",
       "        vertical-align: middle;\n",
       "    }\n",
       "\n",
       "    .dataframe tbody tr th {\n",
       "        vertical-align: top;\n",
       "    }\n",
       "\n",
       "    .dataframe thead th {\n",
       "        text-align: right;\n",
       "    }\n",
       "</style>\n",
       "<table border=\"1\" class=\"dataframe\">\n",
       "  <thead>\n",
       "    <tr style=\"text-align: right;\">\n",
       "      <th></th>\n",
       "      <th>England</th>\n",
       "      <th>Wales</th>\n",
       "      <th>Scotland</th>\n",
       "      <th>N Ireland</th>\n",
       "    </tr>\n",
       "  </thead>\n",
       "  <tbody>\n",
       "    <tr>\n",
       "      <th>Cheese</th>\n",
       "      <td>105</td>\n",
       "      <td>103</td>\n",
       "      <td>103</td>\n",
       "      <td>66</td>\n",
       "    </tr>\n",
       "    <tr>\n",
       "      <th>Fresh potatoes</th>\n",
       "      <td>720</td>\n",
       "      <td>874</td>\n",
       "      <td>566</td>\n",
       "      <td>1033</td>\n",
       "    </tr>\n",
       "  </tbody>\n",
       "</table>\n",
       "</div>"
      ],
      "text/plain": [
       "                England  Wales  Scotland  N Ireland\n",
       "Cheese              105    103       103         66\n",
       "Fresh potatoes      720    874       566       1033"
      ]
     },
     "execution_count": 71,
     "metadata": {},
     "output_type": "execute_result"
    }
   ],
   "source": [
    "consumption.loc[['Cheese', 'Fresh potatoes']]  # Multiple rows"
   ]
  },
  {
   "cell_type": "markdown",
   "metadata": {},
   "source": [
    "Slicing on rows and columns is possible but **endpoints are included**."
   ]
  },
  {
   "cell_type": "code",
   "execution_count": 72,
   "metadata": {},
   "outputs": [
    {
     "data": {
      "text/html": [
       "<div>\n",
       "<style scoped>\n",
       "    .dataframe tbody tr th:only-of-type {\n",
       "        vertical-align: middle;\n",
       "    }\n",
       "\n",
       "    .dataframe tbody tr th {\n",
       "        vertical-align: top;\n",
       "    }\n",
       "\n",
       "    .dataframe thead th {\n",
       "        text-align: right;\n",
       "    }\n",
       "</style>\n",
       "<table border=\"1\" class=\"dataframe\">\n",
       "  <thead>\n",
       "    <tr style=\"text-align: right;\">\n",
       "      <th></th>\n",
       "      <th>England</th>\n",
       "      <th>Wales</th>\n",
       "      <th>Scotland</th>\n",
       "      <th>N Ireland</th>\n",
       "    </tr>\n",
       "  </thead>\n",
       "  <tbody>\n",
       "    <tr>\n",
       "      <th>Cheese</th>\n",
       "      <td>105</td>\n",
       "      <td>103</td>\n",
       "      <td>103</td>\n",
       "      <td>66</td>\n",
       "    </tr>\n",
       "    <tr>\n",
       "      <th>Carcass meat</th>\n",
       "      <td>245</td>\n",
       "      <td>227</td>\n",
       "      <td>242</td>\n",
       "      <td>267</td>\n",
       "    </tr>\n",
       "    <tr>\n",
       "      <th>Other meat</th>\n",
       "      <td>685</td>\n",
       "      <td>803</td>\n",
       "      <td>750</td>\n",
       "      <td>586</td>\n",
       "    </tr>\n",
       "    <tr>\n",
       "      <th>Fish</th>\n",
       "      <td>147</td>\n",
       "      <td>160</td>\n",
       "      <td>122</td>\n",
       "      <td>93</td>\n",
       "    </tr>\n",
       "  </tbody>\n",
       "</table>\n",
       "</div>"
      ],
      "text/plain": [
       "              England  Wales  Scotland  N Ireland\n",
       "Cheese            105    103       103         66\n",
       "Carcass meat      245    227       242        267\n",
       "Other meat        685    803       750        586\n",
       "Fish              147    160       122         93"
      ]
     },
     "execution_count": 72,
     "metadata": {},
     "output_type": "execute_result"
    }
   ],
   "source": [
    "consumption.loc['Cheese':'Fish']  # Row slicing"
   ]
  },
  {
   "cell_type": "code",
   "execution_count": 73,
   "metadata": {},
   "outputs": [
    {
     "data": {
      "text/html": [
       "<div>\n",
       "<style scoped>\n",
       "    .dataframe tbody tr th:only-of-type {\n",
       "        vertical-align: middle;\n",
       "    }\n",
       "\n",
       "    .dataframe tbody tr th {\n",
       "        vertical-align: top;\n",
       "    }\n",
       "\n",
       "    .dataframe thead th {\n",
       "        text-align: right;\n",
       "    }\n",
       "</style>\n",
       "<table border=\"1\" class=\"dataframe\">\n",
       "  <thead>\n",
       "    <tr style=\"text-align: right;\">\n",
       "      <th></th>\n",
       "      <th>England</th>\n",
       "      <th>Wales</th>\n",
       "      <th>Scotland</th>\n",
       "      <th>N Ireland</th>\n",
       "    </tr>\n",
       "  </thead>\n",
       "  <tbody>\n",
       "    <tr>\n",
       "      <th>Cheese</th>\n",
       "      <td>105</td>\n",
       "      <td>103</td>\n",
       "      <td>103</td>\n",
       "      <td>66</td>\n",
       "    </tr>\n",
       "    <tr>\n",
       "      <th>Fats and oils</th>\n",
       "      <td>193</td>\n",
       "      <td>235</td>\n",
       "      <td>184</td>\n",
       "      <td>209</td>\n",
       "    </tr>\n",
       "    <tr>\n",
       "      <th>Other Veg</th>\n",
       "      <td>488</td>\n",
       "      <td>570</td>\n",
       "      <td>418</td>\n",
       "      <td>355</td>\n",
       "    </tr>\n",
       "    <tr>\n",
       "      <th>Cereals</th>\n",
       "      <td>1472</td>\n",
       "      <td>1582</td>\n",
       "      <td>1462</td>\n",
       "      <td>1494</td>\n",
       "    </tr>\n",
       "  </tbody>\n",
       "</table>\n",
       "</div>"
      ],
      "text/plain": [
       "               England  Wales  Scotland  N Ireland\n",
       "Cheese             105    103       103         66\n",
       "Fats and oils      193    235       184        209\n",
       "Other Veg          488    570       418        355\n",
       "Cereals           1472   1582      1462       1494"
      ]
     },
     "execution_count": 73,
     "metadata": {},
     "output_type": "execute_result"
    }
   ],
   "source": [
    "consumption.loc['Cheese':'Cereals':4]  # Row slicing (from Cheese to Cereals with step 2)"
   ]
  },
  {
   "cell_type": "code",
   "execution_count": 74,
   "metadata": {},
   "outputs": [
    {
     "data": {
      "text/html": [
       "<div>\n",
       "<style scoped>\n",
       "    .dataframe tbody tr th:only-of-type {\n",
       "        vertical-align: middle;\n",
       "    }\n",
       "\n",
       "    .dataframe tbody tr th {\n",
       "        vertical-align: top;\n",
       "    }\n",
       "\n",
       "    .dataframe thead th {\n",
       "        text-align: right;\n",
       "    }\n",
       "</style>\n",
       "<table border=\"1\" class=\"dataframe\">\n",
       "  <thead>\n",
       "    <tr style=\"text-align: right;\">\n",
       "      <th></th>\n",
       "      <th>England</th>\n",
       "      <th>Wales</th>\n",
       "    </tr>\n",
       "  </thead>\n",
       "  <tbody>\n",
       "    <tr>\n",
       "      <th>Cheese</th>\n",
       "      <td>105</td>\n",
       "      <td>103</td>\n",
       "    </tr>\n",
       "    <tr>\n",
       "      <th>Fats and oils</th>\n",
       "      <td>193</td>\n",
       "      <td>235</td>\n",
       "    </tr>\n",
       "    <tr>\n",
       "      <th>Other Veg</th>\n",
       "      <td>488</td>\n",
       "      <td>570</td>\n",
       "    </tr>\n",
       "    <tr>\n",
       "      <th>Cereals</th>\n",
       "      <td>1472</td>\n",
       "      <td>1582</td>\n",
       "    </tr>\n",
       "  </tbody>\n",
       "</table>\n",
       "</div>"
      ],
      "text/plain": [
       "               England  Wales\n",
       "Cheese             105    103\n",
       "Fats and oils      193    235\n",
       "Other Veg          488    570\n",
       "Cereals           1472   1582"
      ]
     },
     "execution_count": 74,
     "metadata": {},
     "output_type": "execute_result"
    }
   ],
   "source": [
    "consumption.loc['Cheese':'Cereals':4, :'Wales']  # Row and column slicing"
   ]
  },
  {
   "cell_type": "markdown",
   "metadata": {},
   "source": [
    "**Question**\n",
    "\n",
    "What is the value in the dataframe `timeseries` at row `2013-01-04` and column `B`?"
   ]
  },
  {
   "cell_type": "code",
   "execution_count": null,
   "metadata": {
    "collapsed": true,
    "jupyter": {
     "outputs_hidden": true
    }
   },
   "outputs": [],
   "source": [
    "# Answer"
   ]
  },
  {
   "cell_type": "markdown",
   "metadata": {},
   "source": [
    "### Integer position based indexing\n",
    "\n",
    "Interger location (or position) based indexing is done with `.iloc[]`.\n",
    "It is similar to `.loc[]` but consideres only integer positions instead of labels.\n",
    "\n",
    "**Remark:** endpoints are not included (similarly to Numpy)."
   ]
  },
  {
   "cell_type": "code",
   "execution_count": 76,
   "metadata": {},
   "outputs": [
    {
     "data": {
      "text/html": [
       "<div>\n",
       "<style scoped>\n",
       "    .dataframe tbody tr th:only-of-type {\n",
       "        vertical-align: middle;\n",
       "    }\n",
       "\n",
       "    .dataframe tbody tr th {\n",
       "        vertical-align: top;\n",
       "    }\n",
       "\n",
       "    .dataframe thead th {\n",
       "        text-align: right;\n",
       "    }\n",
       "</style>\n",
       "<table border=\"1\" class=\"dataframe\">\n",
       "  <thead>\n",
       "    <tr style=\"text-align: right;\">\n",
       "      <th></th>\n",
       "      <th>England</th>\n",
       "      <th>Wales</th>\n",
       "      <th>Scotland</th>\n",
       "      <th>N Ireland</th>\n",
       "    </tr>\n",
       "  </thead>\n",
       "  <tbody>\n",
       "    <tr>\n",
       "      <th>Cheese</th>\n",
       "      <td>105</td>\n",
       "      <td>103</td>\n",
       "      <td>103</td>\n",
       "      <td>66</td>\n",
       "    </tr>\n",
       "    <tr>\n",
       "      <th>Carcass meat</th>\n",
       "      <td>245</td>\n",
       "      <td>227</td>\n",
       "      <td>242</td>\n",
       "      <td>267</td>\n",
       "    </tr>\n",
       "  </tbody>\n",
       "</table>\n",
       "</div>"
      ],
      "text/plain": [
       "              England  Wales  Scotland  N Ireland\n",
       "Cheese            105    103       103         66\n",
       "Carcass meat      245    227       242        267"
      ]
     },
     "execution_count": 76,
     "metadata": {},
     "output_type": "execute_result"
    }
   ],
   "source": [
    "consumption.iloc[:2]"
   ]
  },
  {
   "cell_type": "code",
   "execution_count": 77,
   "metadata": {},
   "outputs": [
    {
     "data": {
      "text/html": [
       "<div>\n",
       "<style scoped>\n",
       "    .dataframe tbody tr th:only-of-type {\n",
       "        vertical-align: middle;\n",
       "    }\n",
       "\n",
       "    .dataframe tbody tr th {\n",
       "        vertical-align: top;\n",
       "    }\n",
       "\n",
       "    .dataframe thead th {\n",
       "        text-align: right;\n",
       "    }\n",
       "</style>\n",
       "<table border=\"1\" class=\"dataframe\">\n",
       "  <thead>\n",
       "    <tr style=\"text-align: right;\">\n",
       "      <th></th>\n",
       "      <th>England</th>\n",
       "      <th>Scotland</th>\n",
       "    </tr>\n",
       "  </thead>\n",
       "  <tbody>\n",
       "    <tr>\n",
       "      <th>Processed Veg</th>\n",
       "      <td>360</td>\n",
       "      <td>337</td>\n",
       "    </tr>\n",
       "    <tr>\n",
       "      <th>Soft drinks</th>\n",
       "      <td>1374</td>\n",
       "      <td>1572</td>\n",
       "    </tr>\n",
       "  </tbody>\n",
       "</table>\n",
       "</div>"
      ],
      "text/plain": [
       "               England  Scotland\n",
       "Processed Veg      360       337\n",
       "Soft drinks       1374      1572"
      ]
     },
     "execution_count": 77,
     "metadata": {},
     "output_type": "execute_result"
    }
   ],
   "source": [
    "consumption.iloc[10::4, ::2]"
   ]
  },
  {
   "cell_type": "markdown",
   "metadata": {},
   "source": [
    "### Boolean indexing\n",
    "Similarly to Numpy arrays, dataframes can be indexed with Boolean variables thanks to `.loc[]`."
   ]
  },
  {
   "cell_type": "code",
   "execution_count": 78,
   "metadata": {
    "scrolled": true
   },
   "outputs": [
    {
     "data": {
      "text/html": [
       "<div>\n",
       "<style scoped>\n",
       "    .dataframe tbody tr th:only-of-type {\n",
       "        vertical-align: middle;\n",
       "    }\n",
       "\n",
       "    .dataframe tbody tr th {\n",
       "        vertical-align: top;\n",
       "    }\n",
       "\n",
       "    .dataframe thead th {\n",
       "        text-align: right;\n",
       "    }\n",
       "</style>\n",
       "<table border=\"1\" class=\"dataframe\">\n",
       "  <thead>\n",
       "    <tr style=\"text-align: right;\">\n",
       "      <th></th>\n",
       "      <th>England</th>\n",
       "      <th>Wales</th>\n",
       "      <th>Scotland</th>\n",
       "      <th>N Ireland</th>\n",
       "    </tr>\n",
       "  </thead>\n",
       "  <tbody>\n",
       "    <tr>\n",
       "      <th>Other meat</th>\n",
       "      <td>685</td>\n",
       "      <td>803</td>\n",
       "      <td>750</td>\n",
       "      <td>586</td>\n",
       "    </tr>\n",
       "    <tr>\n",
       "      <th>Fresh potatoes</th>\n",
       "      <td>720</td>\n",
       "      <td>874</td>\n",
       "      <td>566</td>\n",
       "      <td>1033</td>\n",
       "    </tr>\n",
       "    <tr>\n",
       "      <th>Fresh fruit</th>\n",
       "      <td>1102</td>\n",
       "      <td>1137</td>\n",
       "      <td>957</td>\n",
       "      <td>674</td>\n",
       "    </tr>\n",
       "    <tr>\n",
       "      <th>Cereals</th>\n",
       "      <td>1472</td>\n",
       "      <td>1582</td>\n",
       "      <td>1462</td>\n",
       "      <td>1494</td>\n",
       "    </tr>\n",
       "    <tr>\n",
       "      <th>Soft drinks</th>\n",
       "      <td>1374</td>\n",
       "      <td>1256</td>\n",
       "      <td>1572</td>\n",
       "      <td>1506</td>\n",
       "    </tr>\n",
       "  </tbody>\n",
       "</table>\n",
       "</div>"
      ],
      "text/plain": [
       "                England  Wales  Scotland  N Ireland\n",
       "Other meat          685    803       750        586\n",
       "Fresh potatoes      720    874       566       1033\n",
       "Fresh fruit        1102   1137       957        674\n",
       "Cereals            1472   1582      1462       1494\n",
       "Soft drinks        1374   1256      1572       1506"
      ]
     },
     "execution_count": 78,
     "metadata": {},
     "output_type": "execute_result"
    }
   ],
   "source": [
    "consumption.loc[consumption['England'] > 500]  # Row selection"
   ]
  },
  {
   "cell_type": "code",
   "execution_count": 79,
   "metadata": {},
   "outputs": [
    {
     "data": {
      "text/html": [
       "<div>\n",
       "<style scoped>\n",
       "    .dataframe tbody tr th:only-of-type {\n",
       "        vertical-align: middle;\n",
       "    }\n",
       "\n",
       "    .dataframe tbody tr th {\n",
       "        vertical-align: top;\n",
       "    }\n",
       "\n",
       "    .dataframe thead th {\n",
       "        text-align: right;\n",
       "    }\n",
       "</style>\n",
       "<table border=\"1\" class=\"dataframe\">\n",
       "  <thead>\n",
       "    <tr style=\"text-align: right;\">\n",
       "      <th></th>\n",
       "      <th>England</th>\n",
       "      <th>Scotland</th>\n",
       "      <th>N Ireland</th>\n",
       "    </tr>\n",
       "  </thead>\n",
       "  <tbody>\n",
       "    <tr>\n",
       "      <th>Other meat</th>\n",
       "      <td>685</td>\n",
       "      <td>750</td>\n",
       "      <td>586</td>\n",
       "    </tr>\n",
       "    <tr>\n",
       "      <th>Fresh potatoes</th>\n",
       "      <td>720</td>\n",
       "      <td>566</td>\n",
       "      <td>1033</td>\n",
       "    </tr>\n",
       "    <tr>\n",
       "      <th>Fresh fruit</th>\n",
       "      <td>1102</td>\n",
       "      <td>957</td>\n",
       "      <td>674</td>\n",
       "    </tr>\n",
       "    <tr>\n",
       "      <th>Cereals</th>\n",
       "      <td>1472</td>\n",
       "      <td>1462</td>\n",
       "      <td>1494</td>\n",
       "    </tr>\n",
       "    <tr>\n",
       "      <th>Soft drinks</th>\n",
       "      <td>1374</td>\n",
       "      <td>1572</td>\n",
       "      <td>1506</td>\n",
       "    </tr>\n",
       "  </tbody>\n",
       "</table>\n",
       "</div>"
      ],
      "text/plain": [
       "                England  Scotland  N Ireland\n",
       "Other meat          685       750        586\n",
       "Fresh potatoes      720       566       1033\n",
       "Fresh fruit        1102       957        674\n",
       "Cereals            1472      1462       1494\n",
       "Soft drinks        1374      1572       1506"
      ]
     },
     "execution_count": 79,
     "metadata": {},
     "output_type": "execute_result"
    }
   ],
   "source": [
    "consumption.loc[consumption['England'] > 500, consumption.loc['Other meat'] < 800]  # Row and column selection"
   ]
  },
  {
   "cell_type": "markdown",
   "metadata": {},
   "source": [
    "Operating on the whole dataframe puts `NaN` where the condition is not satisfied.\n",
    "Beyond that, it is useful for assignments."
   ]
  },
  {
   "cell_type": "code",
   "execution_count": 80,
   "metadata": {},
   "outputs": [
    {
     "data": {
      "text/html": [
       "<div>\n",
       "<style scoped>\n",
       "    .dataframe tbody tr th:only-of-type {\n",
       "        vertical-align: middle;\n",
       "    }\n",
       "\n",
       "    .dataframe tbody tr th {\n",
       "        vertical-align: top;\n",
       "    }\n",
       "\n",
       "    .dataframe thead th {\n",
       "        text-align: right;\n",
       "    }\n",
       "</style>\n",
       "<table border=\"1\" class=\"dataframe\">\n",
       "  <thead>\n",
       "    <tr style=\"text-align: right;\">\n",
       "      <th></th>\n",
       "      <th>A</th>\n",
       "      <th>B</th>\n",
       "      <th>C</th>\n",
       "      <th>D</th>\n",
       "    </tr>\n",
       "  </thead>\n",
       "  <tbody>\n",
       "    <tr>\n",
       "      <th>2013-01-01</th>\n",
       "      <td>NaN</td>\n",
       "      <td>2.257868</td>\n",
       "      <td>NaN</td>\n",
       "      <td>1.047689</td>\n",
       "    </tr>\n",
       "    <tr>\n",
       "      <th>2013-01-02</th>\n",
       "      <td>NaN</td>\n",
       "      <td>NaN</td>\n",
       "      <td>1.017547</td>\n",
       "      <td>1.058445</td>\n",
       "    </tr>\n",
       "    <tr>\n",
       "      <th>2013-01-03</th>\n",
       "      <td>1.075539</td>\n",
       "      <td>NaN</td>\n",
       "      <td>NaN</td>\n",
       "      <td>0.389060</td>\n",
       "    </tr>\n",
       "    <tr>\n",
       "      <th>2013-01-04</th>\n",
       "      <td>NaN</td>\n",
       "      <td>0.257599</td>\n",
       "      <td>0.202211</td>\n",
       "      <td>NaN</td>\n",
       "    </tr>\n",
       "    <tr>\n",
       "      <th>2013-01-05</th>\n",
       "      <td>NaN</td>\n",
       "      <td>0.480583</td>\n",
       "      <td>NaN</td>\n",
       "      <td>0.421599</td>\n",
       "    </tr>\n",
       "    <tr>\n",
       "      <th>2013-01-06</th>\n",
       "      <td>0.308346</td>\n",
       "      <td>NaN</td>\n",
       "      <td>0.446200</td>\n",
       "      <td>0.744765</td>\n",
       "    </tr>\n",
       "  </tbody>\n",
       "</table>\n",
       "</div>"
      ],
      "text/plain": [
       "                   A         B         C         D\n",
       "2013-01-01       NaN  2.257868       NaN  1.047689\n",
       "2013-01-02       NaN       NaN  1.017547  1.058445\n",
       "2013-01-03  1.075539       NaN       NaN  0.389060\n",
       "2013-01-04       NaN  0.257599  0.202211       NaN\n",
       "2013-01-05       NaN  0.480583       NaN  0.421599\n",
       "2013-01-06  0.308346       NaN  0.446200  0.744765"
      ]
     },
     "execution_count": 80,
     "metadata": {},
     "output_type": "execute_result"
    }
   ],
   "source": [
    "timeseries[timeseries > 0]  # Set NaN where condition is not satisfied"
   ]
  },
  {
   "cell_type": "code",
   "execution_count": 81,
   "metadata": {},
   "outputs": [
    {
     "data": {
      "text/html": [
       "<div>\n",
       "<style scoped>\n",
       "    .dataframe tbody tr th:only-of-type {\n",
       "        vertical-align: middle;\n",
       "    }\n",
       "\n",
       "    .dataframe tbody tr th {\n",
       "        vertical-align: top;\n",
       "    }\n",
       "\n",
       "    .dataframe thead th {\n",
       "        text-align: right;\n",
       "    }\n",
       "</style>\n",
       "<table border=\"1\" class=\"dataframe\">\n",
       "  <thead>\n",
       "    <tr style=\"text-align: right;\">\n",
       "      <th></th>\n",
       "      <th>A</th>\n",
       "      <th>B</th>\n",
       "      <th>C</th>\n",
       "      <th>D</th>\n",
       "    </tr>\n",
       "  </thead>\n",
       "  <tbody>\n",
       "    <tr>\n",
       "      <th>2013-01-01</th>\n",
       "      <td>0.000000</td>\n",
       "      <td>2.257868</td>\n",
       "      <td>0.000000</td>\n",
       "      <td>1.047689</td>\n",
       "    </tr>\n",
       "    <tr>\n",
       "      <th>2013-01-02</th>\n",
       "      <td>0.000000</td>\n",
       "      <td>0.000000</td>\n",
       "      <td>1.017547</td>\n",
       "      <td>1.058445</td>\n",
       "    </tr>\n",
       "    <tr>\n",
       "      <th>2013-01-03</th>\n",
       "      <td>1.075539</td>\n",
       "      <td>0.000000</td>\n",
       "      <td>0.000000</td>\n",
       "      <td>0.389060</td>\n",
       "    </tr>\n",
       "    <tr>\n",
       "      <th>2013-01-04</th>\n",
       "      <td>0.000000</td>\n",
       "      <td>0.257599</td>\n",
       "      <td>0.202211</td>\n",
       "      <td>0.000000</td>\n",
       "    </tr>\n",
       "    <tr>\n",
       "      <th>2013-01-05</th>\n",
       "      <td>0.000000</td>\n",
       "      <td>0.480583</td>\n",
       "      <td>0.000000</td>\n",
       "      <td>0.421599</td>\n",
       "    </tr>\n",
       "    <tr>\n",
       "      <th>2013-01-06</th>\n",
       "      <td>0.308346</td>\n",
       "      <td>0.000000</td>\n",
       "      <td>0.446200</td>\n",
       "      <td>0.744765</td>\n",
       "    </tr>\n",
       "  </tbody>\n",
       "</table>\n",
       "</div>"
      ],
      "text/plain": [
       "                   A         B         C         D\n",
       "2013-01-01  0.000000  2.257868  0.000000  1.047689\n",
       "2013-01-02  0.000000  0.000000  1.017547  1.058445\n",
       "2013-01-03  1.075539  0.000000  0.000000  0.389060\n",
       "2013-01-04  0.000000  0.257599  0.202211  0.000000\n",
       "2013-01-05  0.000000  0.480583  0.000000  0.421599\n",
       "2013-01-06  0.308346  0.000000  0.446200  0.744765"
      ]
     },
     "execution_count": 81,
     "metadata": {},
     "output_type": "execute_result"
    }
   ],
   "source": [
    "tt = timeseries.copy()\n",
    "tt[tt < 0] = 0\n",
    "tt"
   ]
  },
  {
   "cell_type": "markdown",
   "metadata": {},
   "source": [
    "The `isin` method enables selecting with an OR condition."
   ]
  },
  {
   "cell_type": "code",
   "execution_count": 82,
   "metadata": {
    "scrolled": true
   },
   "outputs": [
    {
     "data": {
      "text/html": [
       "<div>\n",
       "<style scoped>\n",
       "    .dataframe tbody tr th:only-of-type {\n",
       "        vertical-align: middle;\n",
       "    }\n",
       "\n",
       "    .dataframe tbody tr th {\n",
       "        vertical-align: top;\n",
       "    }\n",
       "\n",
       "    .dataframe thead th {\n",
       "        text-align: right;\n",
       "    }\n",
       "</style>\n",
       "<table border=\"1\" class=\"dataframe\">\n",
       "  <thead>\n",
       "    <tr style=\"text-align: right;\">\n",
       "      <th></th>\n",
       "      <th>A</th>\n",
       "      <th>B</th>\n",
       "      <th>C</th>\n",
       "      <th>D</th>\n",
       "      <th>E</th>\n",
       "    </tr>\n",
       "  </thead>\n",
       "  <tbody>\n",
       "    <tr>\n",
       "      <th>0</th>\n",
       "      <td>1.0</td>\n",
       "      <td>2013-01-02</td>\n",
       "      <td>-0.138763</td>\n",
       "      <td>test</td>\n",
       "      <td>0</td>\n",
       "    </tr>\n",
       "    <tr>\n",
       "      <th>1</th>\n",
       "      <td>1.0</td>\n",
       "      <td>2013-01-02</td>\n",
       "      <td>0.060227</td>\n",
       "      <td>train</td>\n",
       "      <td>1</td>\n",
       "    </tr>\n",
       "    <tr>\n",
       "      <th>2</th>\n",
       "      <td>1.0</td>\n",
       "      <td>2013-01-02</td>\n",
       "      <td>-0.429151</td>\n",
       "      <td>test</td>\n",
       "      <td>1</td>\n",
       "    </tr>\n",
       "    <tr>\n",
       "      <th>3</th>\n",
       "      <td>1.0</td>\n",
       "      <td>2013-01-02</td>\n",
       "      <td>1.244043</td>\n",
       "      <td>train</td>\n",
       "      <td>0</td>\n",
       "    </tr>\n",
       "  </tbody>\n",
       "</table>\n",
       "</div>"
      ],
      "text/plain": [
       "     A          B         C      D  E\n",
       "0  1.0 2013-01-02 -0.138763   test  0\n",
       "1  1.0 2013-01-02  0.060227  train  1\n",
       "2  1.0 2013-01-02 -0.429151   test  1\n",
       "3  1.0 2013-01-02  1.244043  train  0"
      ]
     },
     "execution_count": 82,
     "metadata": {},
     "output_type": "execute_result"
    }
   ],
   "source": [
    "df.loc[df['D'].isin(['test', 'train'])]"
   ]
  },
  {
   "cell_type": "markdown",
   "metadata": {},
   "source": [
    "**Question**\n",
    "\n",
    "Select rows of `df` with $1$ in column `E`."
   ]
  },
  {
   "cell_type": "code",
   "execution_count": null,
   "metadata": {
    "collapsed": true,
    "jupyter": {
     "outputs_hidden": true
    }
   },
   "outputs": [],
   "source": [
    "# Answer"
   ]
  },
  {
   "cell_type": "markdown",
   "metadata": {},
   "source": [
    "### Selection random samples\n",
    "\n",
    "The `sample` method makes it possible to randomly select rows (individuals) from a dataframe (without replacement)."
   ]
  },
  {
   "cell_type": "code",
   "execution_count": 89,
   "metadata": {},
   "outputs": [
    {
     "data": {
      "text/html": [
       "<div>\n",
       "<style scoped>\n",
       "    .dataframe tbody tr th:only-of-type {\n",
       "        vertical-align: middle;\n",
       "    }\n",
       "\n",
       "    .dataframe tbody tr th {\n",
       "        vertical-align: top;\n",
       "    }\n",
       "\n",
       "    .dataframe thead th {\n",
       "        text-align: right;\n",
       "    }\n",
       "</style>\n",
       "<table border=\"1\" class=\"dataframe\">\n",
       "  <thead>\n",
       "    <tr style=\"text-align: right;\">\n",
       "      <th></th>\n",
       "      <th>England</th>\n",
       "      <th>Wales</th>\n",
       "      <th>Scotland</th>\n",
       "      <th>N Ireland</th>\n",
       "    </tr>\n",
       "  </thead>\n",
       "  <tbody>\n",
       "    <tr>\n",
       "      <th>Confectionery</th>\n",
       "      <td>54</td>\n",
       "      <td>64</td>\n",
       "      <td>62</td>\n",
       "      <td>41</td>\n",
       "    </tr>\n",
       "    <tr>\n",
       "      <th>Fresh Veg</th>\n",
       "      <td>253</td>\n",
       "      <td>265</td>\n",
       "      <td>171</td>\n",
       "      <td>143</td>\n",
       "    </tr>\n",
       "    <tr>\n",
       "      <th>Fresh fruit</th>\n",
       "      <td>1102</td>\n",
       "      <td>1137</td>\n",
       "      <td>957</td>\n",
       "      <td>674</td>\n",
       "    </tr>\n",
       "  </tbody>\n",
       "</table>\n",
       "</div>"
      ],
      "text/plain": [
       "               England  Wales  Scotland  N Ireland\n",
       "Confectionery       54     64        62         41\n",
       "Fresh Veg          253    265       171        143\n",
       "Fresh fruit       1102   1137       957        674"
      ]
     },
     "execution_count": 89,
     "metadata": {},
     "output_type": "execute_result"
    }
   ],
   "source": [
    "consumption.sample(n=3)"
   ]
  },
  {
   "cell_type": "markdown",
   "metadata": {},
   "source": [
    "## Adding and deleting items <a id=\"part2sec4\"></a>\n",
    "Let us consider a copy of the first 5 rows of `consumption`."
   ]
  },
  {
   "cell_type": "code",
   "execution_count": 90,
   "metadata": {},
   "outputs": [
    {
     "data": {
      "text/html": [
       "<div>\n",
       "<style scoped>\n",
       "    .dataframe tbody tr th:only-of-type {\n",
       "        vertical-align: middle;\n",
       "    }\n",
       "\n",
       "    .dataframe tbody tr th {\n",
       "        vertical-align: top;\n",
       "    }\n",
       "\n",
       "    .dataframe thead th {\n",
       "        text-align: right;\n",
       "    }\n",
       "</style>\n",
       "<table border=\"1\" class=\"dataframe\">\n",
       "  <thead>\n",
       "    <tr style=\"text-align: right;\">\n",
       "      <th></th>\n",
       "      <th>England</th>\n",
       "      <th>Wales</th>\n",
       "      <th>Scotland</th>\n",
       "      <th>N Ireland</th>\n",
       "    </tr>\n",
       "  </thead>\n",
       "  <tbody>\n",
       "    <tr>\n",
       "      <th>Cheese</th>\n",
       "      <td>105</td>\n",
       "      <td>103</td>\n",
       "      <td>103</td>\n",
       "      <td>66</td>\n",
       "    </tr>\n",
       "    <tr>\n",
       "      <th>Carcass meat</th>\n",
       "      <td>245</td>\n",
       "      <td>227</td>\n",
       "      <td>242</td>\n",
       "      <td>267</td>\n",
       "    </tr>\n",
       "    <tr>\n",
       "      <th>Other meat</th>\n",
       "      <td>685</td>\n",
       "      <td>803</td>\n",
       "      <td>750</td>\n",
       "      <td>586</td>\n",
       "    </tr>\n",
       "    <tr>\n",
       "      <th>Fish</th>\n",
       "      <td>147</td>\n",
       "      <td>160</td>\n",
       "      <td>122</td>\n",
       "      <td>93</td>\n",
       "    </tr>\n",
       "    <tr>\n",
       "      <th>Fats and oils</th>\n",
       "      <td>193</td>\n",
       "      <td>235</td>\n",
       "      <td>184</td>\n",
       "      <td>209</td>\n",
       "    </tr>\n",
       "  </tbody>\n",
       "</table>\n",
       "</div>"
      ],
      "text/plain": [
       "               England  Wales  Scotland  N Ireland\n",
       "Cheese             105    103       103         66\n",
       "Carcass meat       245    227       242        267\n",
       "Other meat         685    803       750        586\n",
       "Fish               147    160       122         93\n",
       "Fats and oils      193    235       184        209"
      ]
     },
     "execution_count": 90,
     "metadata": {},
     "output_type": "execute_result"
    }
   ],
   "source": [
    "cons = consumption.iloc[:5].copy()\n",
    "cons"
   ]
  },
  {
   "cell_type": "markdown",
   "metadata": {},
   "source": [
    "We successively add a column and a row to `cons`."
   ]
  },
  {
   "cell_type": "code",
   "execution_count": 91,
   "metadata": {},
   "outputs": [
    {
     "data": {
      "text/html": [
       "<div>\n",
       "<style scoped>\n",
       "    .dataframe tbody tr th:only-of-type {\n",
       "        vertical-align: middle;\n",
       "    }\n",
       "\n",
       "    .dataframe tbody tr th {\n",
       "        vertical-align: top;\n",
       "    }\n",
       "\n",
       "    .dataframe thead th {\n",
       "        text-align: right;\n",
       "    }\n",
       "</style>\n",
       "<table border=\"1\" class=\"dataframe\">\n",
       "  <thead>\n",
       "    <tr style=\"text-align: right;\">\n",
       "      <th></th>\n",
       "      <th>England</th>\n",
       "      <th>Wales</th>\n",
       "      <th>Scotland</th>\n",
       "      <th>N Ireland</th>\n",
       "      <th>all</th>\n",
       "    </tr>\n",
       "  </thead>\n",
       "  <tbody>\n",
       "    <tr>\n",
       "      <th>Cheese</th>\n",
       "      <td>105</td>\n",
       "      <td>103</td>\n",
       "      <td>103</td>\n",
       "      <td>66</td>\n",
       "      <td>377</td>\n",
       "    </tr>\n",
       "    <tr>\n",
       "      <th>Carcass meat</th>\n",
       "      <td>245</td>\n",
       "      <td>227</td>\n",
       "      <td>242</td>\n",
       "      <td>267</td>\n",
       "      <td>981</td>\n",
       "    </tr>\n",
       "    <tr>\n",
       "      <th>Other meat</th>\n",
       "      <td>685</td>\n",
       "      <td>803</td>\n",
       "      <td>750</td>\n",
       "      <td>586</td>\n",
       "      <td>2824</td>\n",
       "    </tr>\n",
       "    <tr>\n",
       "      <th>Fish</th>\n",
       "      <td>147</td>\n",
       "      <td>160</td>\n",
       "      <td>122</td>\n",
       "      <td>93</td>\n",
       "      <td>522</td>\n",
       "    </tr>\n",
       "    <tr>\n",
       "      <th>Fats and oils</th>\n",
       "      <td>193</td>\n",
       "      <td>235</td>\n",
       "      <td>184</td>\n",
       "      <td>209</td>\n",
       "      <td>821</td>\n",
       "    </tr>\n",
       "    <tr>\n",
       "      <th>Chocolate</th>\n",
       "      <td>70</td>\n",
       "      <td>60</td>\n",
       "      <td>60</td>\n",
       "      <td>150</td>\n",
       "      <td>340</td>\n",
       "    </tr>\n",
       "  </tbody>\n",
       "</table>\n",
       "</div>"
      ],
      "text/plain": [
       "               England  Wales  Scotland  N Ireland   all\n",
       "Cheese             105    103       103         66   377\n",
       "Carcass meat       245    227       242        267   981\n",
       "Other meat         685    803       750        586  2824\n",
       "Fish               147    160       122         93   522\n",
       "Fats and oils      193    235       184        209   821\n",
       "Chocolate           70     60        60        150   340"
      ]
     },
     "execution_count": 91,
     "metadata": {},
     "output_type": "execute_result"
    }
   ],
   "source": [
    "cons['all'] = cons.sum(axis=1)\n",
    "cons.loc['Chocolate'] = [70, 60, 60, 150, 340]\n",
    "cons"
   ]
  },
  {
   "cell_type": "markdown",
   "metadata": {},
   "source": [
    "That we can now drop."
   ]
  },
  {
   "cell_type": "code",
   "execution_count": 92,
   "metadata": {},
   "outputs": [
    {
     "data": {
      "text/html": [
       "<div>\n",
       "<style scoped>\n",
       "    .dataframe tbody tr th:only-of-type {\n",
       "        vertical-align: middle;\n",
       "    }\n",
       "\n",
       "    .dataframe tbody tr th {\n",
       "        vertical-align: top;\n",
       "    }\n",
       "\n",
       "    .dataframe thead th {\n",
       "        text-align: right;\n",
       "    }\n",
       "</style>\n",
       "<table border=\"1\" class=\"dataframe\">\n",
       "  <thead>\n",
       "    <tr style=\"text-align: right;\">\n",
       "      <th></th>\n",
       "      <th>England</th>\n",
       "      <th>Wales</th>\n",
       "      <th>Scotland</th>\n",
       "      <th>N Ireland</th>\n",
       "    </tr>\n",
       "  </thead>\n",
       "  <tbody>\n",
       "    <tr>\n",
       "      <th>Cheese</th>\n",
       "      <td>105</td>\n",
       "      <td>103</td>\n",
       "      <td>103</td>\n",
       "      <td>66</td>\n",
       "    </tr>\n",
       "    <tr>\n",
       "      <th>Carcass meat</th>\n",
       "      <td>245</td>\n",
       "      <td>227</td>\n",
       "      <td>242</td>\n",
       "      <td>267</td>\n",
       "    </tr>\n",
       "    <tr>\n",
       "      <th>Other meat</th>\n",
       "      <td>685</td>\n",
       "      <td>803</td>\n",
       "      <td>750</td>\n",
       "      <td>586</td>\n",
       "    </tr>\n",
       "    <tr>\n",
       "      <th>Fish</th>\n",
       "      <td>147</td>\n",
       "      <td>160</td>\n",
       "      <td>122</td>\n",
       "      <td>93</td>\n",
       "    </tr>\n",
       "    <tr>\n",
       "      <th>Fats and oils</th>\n",
       "      <td>193</td>\n",
       "      <td>235</td>\n",
       "      <td>184</td>\n",
       "      <td>209</td>\n",
       "    </tr>\n",
       "  </tbody>\n",
       "</table>\n",
       "</div>"
      ],
      "text/plain": [
       "               England  Wales  Scotland  N Ireland\n",
       "Cheese             105    103       103         66\n",
       "Carcass meat       245    227       242        267\n",
       "Other meat         685    803       750        586\n",
       "Fish               147    160       122         93\n",
       "Fats and oils      193    235       184        209"
      ]
     },
     "execution_count": 92,
     "metadata": {},
     "output_type": "execute_result"
    }
   ],
   "source": [
    "cons = cons.drop('Chocolate')\n",
    "cons = cons.drop('all', axis=1)\n",
    "cons"
   ]
  },
  {
   "cell_type": "markdown",
   "metadata": {},
   "source": [
    "Dataframes can be concatenated along columns and rows."
   ]
  },
  {
   "cell_type": "code",
   "execution_count": 93,
   "metadata": {},
   "outputs": [
    {
     "data": {
      "text/html": [
       "<div>\n",
       "<style scoped>\n",
       "    .dataframe tbody tr th:only-of-type {\n",
       "        vertical-align: middle;\n",
       "    }\n",
       "\n",
       "    .dataframe tbody tr th {\n",
       "        vertical-align: top;\n",
       "    }\n",
       "\n",
       "    .dataframe thead th {\n",
       "        text-align: right;\n",
       "    }\n",
       "</style>\n",
       "<table border=\"1\" class=\"dataframe\">\n",
       "  <thead>\n",
       "    <tr style=\"text-align: right;\">\n",
       "      <th></th>\n",
       "      <th>England</th>\n",
       "      <th>Scotland</th>\n",
       "    </tr>\n",
       "  </thead>\n",
       "  <tbody>\n",
       "    <tr>\n",
       "      <th>Cheese</th>\n",
       "      <td>105</td>\n",
       "      <td>103</td>\n",
       "    </tr>\n",
       "    <tr>\n",
       "      <th>Carcass meat</th>\n",
       "      <td>245</td>\n",
       "      <td>242</td>\n",
       "    </tr>\n",
       "    <tr>\n",
       "      <th>Other meat</th>\n",
       "      <td>685</td>\n",
       "      <td>750</td>\n",
       "    </tr>\n",
       "    <tr>\n",
       "      <th>Fish</th>\n",
       "      <td>147</td>\n",
       "      <td>122</td>\n",
       "    </tr>\n",
       "    <tr>\n",
       "      <th>Fats and oils</th>\n",
       "      <td>193</td>\n",
       "      <td>184</td>\n",
       "    </tr>\n",
       "  </tbody>\n",
       "</table>\n",
       "</div>"
      ],
      "text/plain": [
       "               England  Scotland\n",
       "Cheese             105       103\n",
       "Carcass meat       245       242\n",
       "Other meat         685       750\n",
       "Fish               147       122\n",
       "Fats and oils      193       184"
      ]
     },
     "execution_count": 93,
     "metadata": {},
     "output_type": "execute_result"
    }
   ],
   "source": [
    "pd.concat((cons[['England']], cons[['Scotland']]), axis=1)"
   ]
  },
  {
   "cell_type": "code",
   "execution_count": 94,
   "metadata": {},
   "outputs": [
    {
     "data": {
      "text/html": [
       "<div>\n",
       "<style scoped>\n",
       "    .dataframe tbody tr th:only-of-type {\n",
       "        vertical-align: middle;\n",
       "    }\n",
       "\n",
       "    .dataframe tbody tr th {\n",
       "        vertical-align: top;\n",
       "    }\n",
       "\n",
       "    .dataframe thead th {\n",
       "        text-align: right;\n",
       "    }\n",
       "</style>\n",
       "<table border=\"1\" class=\"dataframe\">\n",
       "  <thead>\n",
       "    <tr style=\"text-align: right;\">\n",
       "      <th></th>\n",
       "      <th>England</th>\n",
       "      <th>Wales</th>\n",
       "      <th>Scotland</th>\n",
       "      <th>N Ireland</th>\n",
       "    </tr>\n",
       "  </thead>\n",
       "  <tbody>\n",
       "    <tr>\n",
       "      <th>Cheese</th>\n",
       "      <td>105</td>\n",
       "      <td>103</td>\n",
       "      <td>103</td>\n",
       "      <td>66</td>\n",
       "    </tr>\n",
       "    <tr>\n",
       "      <th>Carcass meat</th>\n",
       "      <td>245</td>\n",
       "      <td>227</td>\n",
       "      <td>242</td>\n",
       "      <td>267</td>\n",
       "    </tr>\n",
       "    <tr>\n",
       "      <th>Fish</th>\n",
       "      <td>147</td>\n",
       "      <td>160</td>\n",
       "      <td>122</td>\n",
       "      <td>93</td>\n",
       "    </tr>\n",
       "    <tr>\n",
       "      <th>Fats and oils</th>\n",
       "      <td>193</td>\n",
       "      <td>235</td>\n",
       "      <td>184</td>\n",
       "      <td>209</td>\n",
       "    </tr>\n",
       "  </tbody>\n",
       "</table>\n",
       "</div>"
      ],
      "text/plain": [
       "               England  Wales  Scotland  N Ireland\n",
       "Cheese             105    103       103         66\n",
       "Carcass meat       245    227       242        267\n",
       "Fish               147    160       122         93\n",
       "Fats and oils      193    235       184        209"
      ]
     },
     "execution_count": 94,
     "metadata": {},
     "output_type": "execute_result"
    }
   ],
   "source": [
    "pd.concat((cons.iloc[:2], cons.iloc[-2:]))"
   ]
  },
  {
   "cell_type": "markdown",
   "metadata": {},
   "source": [
    "This last operation is similar to:"
   ]
  },
  {
   "cell_type": "code",
   "execution_count": 95,
   "metadata": {},
   "outputs": [
    {
     "data": {
      "text/html": [
       "<div>\n",
       "<style scoped>\n",
       "    .dataframe tbody tr th:only-of-type {\n",
       "        vertical-align: middle;\n",
       "    }\n",
       "\n",
       "    .dataframe tbody tr th {\n",
       "        vertical-align: top;\n",
       "    }\n",
       "\n",
       "    .dataframe thead th {\n",
       "        text-align: right;\n",
       "    }\n",
       "</style>\n",
       "<table border=\"1\" class=\"dataframe\">\n",
       "  <thead>\n",
       "    <tr style=\"text-align: right;\">\n",
       "      <th></th>\n",
       "      <th>England</th>\n",
       "      <th>Wales</th>\n",
       "      <th>Scotland</th>\n",
       "      <th>N Ireland</th>\n",
       "    </tr>\n",
       "  </thead>\n",
       "  <tbody>\n",
       "    <tr>\n",
       "      <th>Cheese</th>\n",
       "      <td>105</td>\n",
       "      <td>103</td>\n",
       "      <td>103</td>\n",
       "      <td>66</td>\n",
       "    </tr>\n",
       "    <tr>\n",
       "      <th>Carcass meat</th>\n",
       "      <td>245</td>\n",
       "      <td>227</td>\n",
       "      <td>242</td>\n",
       "      <td>267</td>\n",
       "    </tr>\n",
       "    <tr>\n",
       "      <th>Fish</th>\n",
       "      <td>147</td>\n",
       "      <td>160</td>\n",
       "      <td>122</td>\n",
       "      <td>93</td>\n",
       "    </tr>\n",
       "    <tr>\n",
       "      <th>Fats and oils</th>\n",
       "      <td>193</td>\n",
       "      <td>235</td>\n",
       "      <td>184</td>\n",
       "      <td>209</td>\n",
       "    </tr>\n",
       "  </tbody>\n",
       "</table>\n",
       "</div>"
      ],
      "text/plain": [
       "               England  Wales  Scotland  N Ireland\n",
       "Cheese             105    103       103         66\n",
       "Carcass meat       245    227       242        267\n",
       "Fish               147    160       122         93\n",
       "Fats and oils      193    235       184        209"
      ]
     },
     "execution_count": 95,
     "metadata": {},
     "output_type": "execute_result"
    }
   ],
   "source": [
    "cons.iloc[:2].append(cons.iloc[-2:])"
   ]
  },
  {
   "cell_type": "markdown",
   "metadata": {},
   "source": [
    "## Managing missing data <a id=\"part2sec5\"></a>\n",
    "Missing data are generally replaced by a `NaN` in the table.\n",
    "Pandas offers several possibilities to manage them."
   ]
  },
  {
   "cell_type": "code",
   "execution_count": 96,
   "metadata": {},
   "outputs": [
    {
     "data": {
      "text/html": [
       "<div>\n",
       "<style scoped>\n",
       "    .dataframe tbody tr th:only-of-type {\n",
       "        vertical-align: middle;\n",
       "    }\n",
       "\n",
       "    .dataframe tbody tr th {\n",
       "        vertical-align: top;\n",
       "    }\n",
       "\n",
       "    .dataframe thead th {\n",
       "        text-align: right;\n",
       "    }\n",
       "</style>\n",
       "<table border=\"1\" class=\"dataframe\">\n",
       "  <thead>\n",
       "    <tr style=\"text-align: right;\">\n",
       "      <th></th>\n",
       "      <th>England</th>\n",
       "      <th>Wales</th>\n",
       "      <th>Scotland</th>\n",
       "      <th>N Ireland</th>\n",
       "    </tr>\n",
       "  </thead>\n",
       "  <tbody>\n",
       "    <tr>\n",
       "      <th>Cheese</th>\n",
       "      <td>NaN</td>\n",
       "      <td>NaN</td>\n",
       "      <td>NaN</td>\n",
       "      <td>66</td>\n",
       "    </tr>\n",
       "    <tr>\n",
       "      <th>Carcass meat</th>\n",
       "      <td>245.0</td>\n",
       "      <td>227.0</td>\n",
       "      <td>242.0</td>\n",
       "      <td>267</td>\n",
       "    </tr>\n",
       "    <tr>\n",
       "      <th>Other meat</th>\n",
       "      <td>685.0</td>\n",
       "      <td>803.0</td>\n",
       "      <td>750.0</td>\n",
       "      <td>586</td>\n",
       "    </tr>\n",
       "    <tr>\n",
       "      <th>Fish</th>\n",
       "      <td>NaN</td>\n",
       "      <td>NaN</td>\n",
       "      <td>NaN</td>\n",
       "      <td>93</td>\n",
       "    </tr>\n",
       "    <tr>\n",
       "      <th>Fats and oils</th>\n",
       "      <td>NaN</td>\n",
       "      <td>235.0</td>\n",
       "      <td>NaN</td>\n",
       "      <td>209</td>\n",
       "    </tr>\n",
       "  </tbody>\n",
       "</table>\n",
       "</div>"
      ],
      "text/plain": [
       "               England  Wales  Scotland  N Ireland\n",
       "Cheese             NaN    NaN       NaN         66\n",
       "Carcass meat     245.0  227.0     242.0        267\n",
       "Other meat       685.0  803.0     750.0        586\n",
       "Fish               NaN    NaN       NaN         93\n",
       "Fats and oils      NaN  235.0       NaN        209"
      ]
     },
     "execution_count": 96,
     "metadata": {},
     "output_type": "execute_result"
    }
   ],
   "source": [
    "cons_md = consumption[consumption>200]\n",
    "cons_md.iloc[:, -1] = consumption.iloc[:, -1]\n",
    "cons_md.head()  # A table with missing data"
   ]
  },
  {
   "cell_type": "code",
   "execution_count": 97,
   "metadata": {},
   "outputs": [
    {
     "data": {
      "text/html": [
       "<div>\n",
       "<style scoped>\n",
       "    .dataframe tbody tr th:only-of-type {\n",
       "        vertical-align: middle;\n",
       "    }\n",
       "\n",
       "    .dataframe tbody tr th {\n",
       "        vertical-align: top;\n",
       "    }\n",
       "\n",
       "    .dataframe thead th {\n",
       "        text-align: right;\n",
       "    }\n",
       "</style>\n",
       "<table border=\"1\" class=\"dataframe\">\n",
       "  <thead>\n",
       "    <tr style=\"text-align: right;\">\n",
       "      <th></th>\n",
       "      <th>England</th>\n",
       "      <th>Wales</th>\n",
       "      <th>Scotland</th>\n",
       "      <th>N Ireland</th>\n",
       "    </tr>\n",
       "  </thead>\n",
       "  <tbody>\n",
       "    <tr>\n",
       "      <th>Carcass meat</th>\n",
       "      <td>245.0</td>\n",
       "      <td>227.0</td>\n",
       "      <td>242.0</td>\n",
       "      <td>267</td>\n",
       "    </tr>\n",
       "    <tr>\n",
       "      <th>Other meat</th>\n",
       "      <td>685.0</td>\n",
       "      <td>803.0</td>\n",
       "      <td>750.0</td>\n",
       "      <td>586</td>\n",
       "    </tr>\n",
       "    <tr>\n",
       "      <th>Fresh potatoes</th>\n",
       "      <td>720.0</td>\n",
       "      <td>874.0</td>\n",
       "      <td>566.0</td>\n",
       "      <td>1033</td>\n",
       "    </tr>\n",
       "    <tr>\n",
       "      <th>Other Veg</th>\n",
       "      <td>488.0</td>\n",
       "      <td>570.0</td>\n",
       "      <td>418.0</td>\n",
       "      <td>355</td>\n",
       "    </tr>\n",
       "    <tr>\n",
       "      <th>Processed Veg</th>\n",
       "      <td>360.0</td>\n",
       "      <td>365.0</td>\n",
       "      <td>337.0</td>\n",
       "      <td>334</td>\n",
       "    </tr>\n",
       "    <tr>\n",
       "      <th>Fresh fruit</th>\n",
       "      <td>1102.0</td>\n",
       "      <td>1137.0</td>\n",
       "      <td>957.0</td>\n",
       "      <td>674</td>\n",
       "    </tr>\n",
       "    <tr>\n",
       "      <th>Cereals</th>\n",
       "      <td>1472.0</td>\n",
       "      <td>1582.0</td>\n",
       "      <td>1462.0</td>\n",
       "      <td>1494</td>\n",
       "    </tr>\n",
       "    <tr>\n",
       "      <th>Soft drinks</th>\n",
       "      <td>1374.0</td>\n",
       "      <td>1256.0</td>\n",
       "      <td>1572.0</td>\n",
       "      <td>1506</td>\n",
       "    </tr>\n",
       "    <tr>\n",
       "      <th>Alcoholic drinks</th>\n",
       "      <td>375.0</td>\n",
       "      <td>475.0</td>\n",
       "      <td>458.0</td>\n",
       "      <td>135</td>\n",
       "    </tr>\n",
       "  </tbody>\n",
       "</table>\n",
       "</div>"
      ],
      "text/plain": [
       "                  England   Wales  Scotland  N Ireland\n",
       "Carcass meat        245.0   227.0     242.0        267\n",
       "Other meat          685.0   803.0     750.0        586\n",
       "Fresh potatoes      720.0   874.0     566.0       1033\n",
       "Other Veg           488.0   570.0     418.0        355\n",
       "Processed Veg       360.0   365.0     337.0        334\n",
       "Fresh fruit        1102.0  1137.0     957.0        674\n",
       "Cereals            1472.0  1582.0    1462.0       1494\n",
       "Soft drinks        1374.0  1256.0    1572.0       1506\n",
       "Alcoholic drinks    375.0   475.0     458.0        135"
      ]
     },
     "execution_count": 97,
     "metadata": {},
     "output_type": "execute_result"
    }
   ],
   "source": [
    "cons_md.dropna()  # Drop any row with missing data"
   ]
  },
  {
   "cell_type": "code",
   "execution_count": 98,
   "metadata": {},
   "outputs": [
    {
     "data": {
      "text/html": [
       "<div>\n",
       "<style scoped>\n",
       "    .dataframe tbody tr th:only-of-type {\n",
       "        vertical-align: middle;\n",
       "    }\n",
       "\n",
       "    .dataframe tbody tr th {\n",
       "        vertical-align: top;\n",
       "    }\n",
       "\n",
       "    .dataframe thead th {\n",
       "        text-align: right;\n",
       "    }\n",
       "</style>\n",
       "<table border=\"1\" class=\"dataframe\">\n",
       "  <thead>\n",
       "    <tr style=\"text-align: right;\">\n",
       "      <th></th>\n",
       "      <th>England</th>\n",
       "      <th>Wales</th>\n",
       "      <th>Scotland</th>\n",
       "      <th>N Ireland</th>\n",
       "    </tr>\n",
       "  </thead>\n",
       "  <tbody>\n",
       "    <tr>\n",
       "      <th>Cheese</th>\n",
       "      <td>NaN</td>\n",
       "      <td>NaN</td>\n",
       "      <td>NaN</td>\n",
       "      <td>66</td>\n",
       "    </tr>\n",
       "    <tr>\n",
       "      <th>Carcass meat</th>\n",
       "      <td>245.0</td>\n",
       "      <td>227.0</td>\n",
       "      <td>242.0</td>\n",
       "      <td>267</td>\n",
       "    </tr>\n",
       "    <tr>\n",
       "      <th>Other meat</th>\n",
       "      <td>685.0</td>\n",
       "      <td>803.0</td>\n",
       "      <td>750.0</td>\n",
       "      <td>586</td>\n",
       "    </tr>\n",
       "    <tr>\n",
       "      <th>Fish</th>\n",
       "      <td>685.0</td>\n",
       "      <td>803.0</td>\n",
       "      <td>750.0</td>\n",
       "      <td>93</td>\n",
       "    </tr>\n",
       "    <tr>\n",
       "      <th>Fats and oils</th>\n",
       "      <td>685.0</td>\n",
       "      <td>235.0</td>\n",
       "      <td>750.0</td>\n",
       "      <td>209</td>\n",
       "    </tr>\n",
       "  </tbody>\n",
       "</table>\n",
       "</div>"
      ],
      "text/plain": [
       "               England  Wales  Scotland  N Ireland\n",
       "Cheese             NaN    NaN       NaN         66\n",
       "Carcass meat     245.0  227.0     242.0        267\n",
       "Other meat       685.0  803.0     750.0        586\n",
       "Fish             685.0  803.0     750.0         93\n",
       "Fats and oils    685.0  235.0     750.0        209"
      ]
     },
     "execution_count": 98,
     "metadata": {},
     "output_type": "execute_result"
    }
   ],
   "source": [
    "cons_md.fillna(method='ffill').head()  # Fill missing data with previous real values\n",
    "# This does not work with the first line"
   ]
  },
  {
   "cell_type": "code",
   "execution_count": 99,
   "metadata": {},
   "outputs": [
    {
     "data": {
      "text/html": [
       "<div>\n",
       "<style scoped>\n",
       "    .dataframe tbody tr th:only-of-type {\n",
       "        vertical-align: middle;\n",
       "    }\n",
       "\n",
       "    .dataframe tbody tr th {\n",
       "        vertical-align: top;\n",
       "    }\n",
       "\n",
       "    .dataframe thead th {\n",
       "        text-align: right;\n",
       "    }\n",
       "</style>\n",
       "<table border=\"1\" class=\"dataframe\">\n",
       "  <thead>\n",
       "    <tr style=\"text-align: right;\">\n",
       "      <th></th>\n",
       "      <th>England</th>\n",
       "      <th>Wales</th>\n",
       "      <th>Scotland</th>\n",
       "      <th>N Ireland</th>\n",
       "    </tr>\n",
       "  </thead>\n",
       "  <tbody>\n",
       "    <tr>\n",
       "      <th>Cheese</th>\n",
       "      <td>245.0</td>\n",
       "      <td>227.0</td>\n",
       "      <td>242.0</td>\n",
       "      <td>66</td>\n",
       "    </tr>\n",
       "    <tr>\n",
       "      <th>Carcass meat</th>\n",
       "      <td>245.0</td>\n",
       "      <td>227.0</td>\n",
       "      <td>242.0</td>\n",
       "      <td>267</td>\n",
       "    </tr>\n",
       "    <tr>\n",
       "      <th>Other meat</th>\n",
       "      <td>685.0</td>\n",
       "      <td>803.0</td>\n",
       "      <td>750.0</td>\n",
       "      <td>586</td>\n",
       "    </tr>\n",
       "    <tr>\n",
       "      <th>Fish</th>\n",
       "      <td>685.0</td>\n",
       "      <td>803.0</td>\n",
       "      <td>750.0</td>\n",
       "      <td>93</td>\n",
       "    </tr>\n",
       "    <tr>\n",
       "      <th>Fats and oils</th>\n",
       "      <td>685.0</td>\n",
       "      <td>235.0</td>\n",
       "      <td>750.0</td>\n",
       "      <td>209</td>\n",
       "    </tr>\n",
       "  </tbody>\n",
       "</table>\n",
       "</div>"
      ],
      "text/plain": [
       "               England  Wales  Scotland  N Ireland\n",
       "Cheese           245.0  227.0     242.0         66\n",
       "Carcass meat     245.0  227.0     242.0        267\n",
       "Other meat       685.0  803.0     750.0        586\n",
       "Fish             685.0  803.0     750.0         93\n",
       "Fats and oils    685.0  235.0     750.0        209"
      ]
     },
     "execution_count": 99,
     "metadata": {},
     "output_type": "execute_result"
    }
   ],
   "source": [
    "cons_md.fillna(method='ffill').fillna(method='bfill').head()"
   ]
  },
  {
   "cell_type": "code",
   "execution_count": 100,
   "metadata": {},
   "outputs": [
    {
     "data": {
      "text/plain": [
       "England       True\n",
       "Wales         True\n",
       "Scotland      True\n",
       "N Ireland    False\n",
       "dtype: bool"
      ]
     },
     "execution_count": 100,
     "metadata": {},
     "output_type": "execute_result"
    }
   ],
   "source": [
    "cons_md.isnull().any()  # Test for missing data"
   ]
  },
  {
   "cell_type": "markdown",
   "metadata": {},
   "source": [
    "**Question**\n",
    "\n",
    "By changing the `axis` parameter of `dropna`, drop the columns with missing values of `cons_md`."
   ]
  },
  {
   "cell_type": "code",
   "execution_count": null,
   "metadata": {
    "collapsed": true,
    "jupyter": {
     "outputs_hidden": true
    }
   },
   "outputs": [],
   "source": [
    "# Answer"
   ]
  },
  {
   "cell_type": "markdown",
   "metadata": {},
   "source": [
    "## Descriptive statistics <a id=\"part2sec6\"></a>\n",
    "A dataframe comes with many methods for descriptive statistics:\n",
    "- `count`: \tNumber of non-null observations;\n",
    "- `sum`: \tSum of values;\n",
    "- `mean`: \tMean of values;\n",
    "- `mad`: \tMean absolute deviation;\n",
    "- `median`: \tArithmetic median of values;\n",
    "- `min`: \tMinimum;\n",
    "- `max`: \tMaximum;\n",
    "- `mode`: \tMode;\n",
    "- `abs`: \tAbsolute Value;\n",
    "- `prod`: \tProduct of values;\n",
    "- `std`: \tBessel-corrected sample standard deviation;\n",
    "- `var`: \tUnbiased variance;\n",
    "- `sem`: \tStandard error of the mean;\n",
    "- `skew`: \tSample skewness (3rd moment);\n",
    "- `kurt`: \tSample kurtosis (4th moment);\n",
    "- `quantile`: \tSample quantile (value at %);\n",
    "- `cumsum`: \tCumulative sum;\n",
    "- `cumprod`: \tCumulative product;\n",
    "- `cummax`: \tCumulative maximum;\n",
    "- `cummin`: \tCumulative minimum."
   ]
  },
  {
   "cell_type": "code",
   "execution_count": 102,
   "metadata": {},
   "outputs": [
    {
     "data": {
      "text/plain": [
       "A    1.000000\n",
       "C   -0.039268\n",
       "E    0.500000\n",
       "dtype: float64"
      ]
     },
     "execution_count": 102,
     "metadata": {},
     "output_type": "execute_result"
    }
   ],
   "source": [
    "df.median()  # Median of numeric columns"
   ]
  },
  {
   "cell_type": "code",
   "execution_count": 103,
   "metadata": {},
   "outputs": [
    {
     "data": {
      "text/plain": [
       "0    0.430619\n",
       "1    0.530114\n",
       "2    0.285425\n",
       "3    1.122021\n",
       "dtype: float64"
      ]
     },
     "execution_count": 103,
     "metadata": {},
     "output_type": "execute_result"
    }
   ],
   "source": [
    "df.median(axis=1)  # Median of rows (numeric objects only)"
   ]
  },
  {
   "cell_type": "code",
   "execution_count": 104,
   "metadata": {},
   "outputs": [
    {
     "data": {
      "text/plain": [
       "train    2\n",
       "test     2\n",
       "Name: D, dtype: int64"
      ]
     },
     "execution_count": 104,
     "metadata": {},
     "output_type": "execute_result"
    }
   ],
   "source": [
    "df['D'].value_counts()  # Histrogramming"
   ]
  },
  {
   "cell_type": "markdown",
   "metadata": {},
   "source": [
    "**Question**\n",
    "\n",
    "Compute the cumulative sum of the consumption data."
   ]
  },
  {
   "cell_type": "code",
   "execution_count": null,
   "metadata": {
    "collapsed": true,
    "jupyter": {
     "outputs_hidden": true
    }
   },
   "outputs": [],
   "source": [
    "# Answer"
   ]
  },
  {
   "cell_type": "markdown",
   "metadata": {},
   "source": [
    "## Plotting <a id=\"part2sec8\"></a>\n",
    "### With pandas\n",
    "Pandas provides a [rich collection](http://pandas.pydata.org/pandas-docs/stable/visualization.html) of techniques to vizualize dataframes.\n",
    "Here, we illustrate just a few of them."
   ]
  },
  {
   "cell_type": "code",
   "execution_count": 108,
   "metadata": {},
   "outputs": [
    {
     "data": {
      "image/png": "[encoded data removed]",
      "text/plain": [
       "<Figure size 720x432 with 1 Axes>"
      ]
     },
     "metadata": {},
     "output_type": "display_data"
    }
   ],
   "source": [
    "consumption.plot(figsize=(10, 6));  # Columns vs index"
   ]
  },
  {
   "cell_type": "code",
   "execution_count": 109,
   "metadata": {},
   "outputs": [
    {
     "data": {
      "image/png": "[encoded data removed]",
      "text/plain": [
       "<Figure size 720x576 with 4 Axes>"
      ]
     },
     "metadata": {},
     "output_type": "display_data"
    }
   ],
   "source": [
    "consumption.plot(subplots=True, figsize=(10, 8));  # Columns vs index"
   ]
  },
  {
   "cell_type": "code",
   "execution_count": 110,
   "metadata": {},
   "outputs": [
    {
     "data": {
      "image/png": "[encoded data removed]",
      "text/plain": [
       "<Figure size 720x432 with 1 Axes>"
      ]
     },
     "metadata": {},
     "output_type": "display_data"
    }
   ],
   "source": [
    "consumption.plot.barh(stacked=True, figsize=(10, 6));"
   ]
  },
  {
   "cell_type": "markdown",
   "metadata": {},
   "source": [
    "**Question**\n",
    "\n",
    "Plot a pie chart (parameter `kind='pie'` of `plot`) of the average consumption of foodstuff."
   ]
  },
  {
   "cell_type": "code",
   "execution_count": null,
   "metadata": {
    "collapsed": true,
    "jupyter": {
     "outputs_hidden": true
    }
   },
   "outputs": [],
   "source": [
    "# Answer"
   ]
  },
  {
   "cell_type": "markdown",
   "metadata": {},
   "source": [
    "### With Seaborn\n",
    "Besides its esthetics purpose, [Seaborn](https://seaborn.pydata.org/api.html) provides many routines for producing beautiful plots from dataframes, particularly for statistical data."
   ]
  },
  {
   "cell_type": "code",
   "execution_count": 112,
   "metadata": {},
   "outputs": [
    {
     "data": {
      "image/png": "[encoded data removed]",
      "text/plain": [
       "<Figure size 720x432 with 1 Axes>"
      ]
     },
     "metadata": {},
     "output_type": "display_data"
    }
   ],
   "source": [
    "fig, ax = plt.subplots(figsize=(10, 6))\n",
    "sns.lineplot(x='England', y='Scotland', data=consumption);"
   ]
  },
  {
   "cell_type": "code",
   "execution_count": 113,
   "metadata": {
    "scrolled": true
   },
   "outputs": [
    {
     "data": {
      "text/html": [
       "<div>\n",
       "<style scoped>\n",
       "    .dataframe tbody tr th:only-of-type {\n",
       "        vertical-align: middle;\n",
       "    }\n",
       "\n",
       "    .dataframe tbody tr th {\n",
       "        vertical-align: top;\n",
       "    }\n",
       "\n",
       "    .dataframe thead th {\n",
       "        text-align: right;\n",
       "    }\n",
       "</style>\n",
       "<table border=\"1\" class=\"dataframe\">\n",
       "  <thead>\n",
       "    <tr style=\"text-align: right;\">\n",
       "      <th></th>\n",
       "      <th>total_bill</th>\n",
       "      <th>tip</th>\n",
       "      <th>sex</th>\n",
       "      <th>smoker</th>\n",
       "      <th>day</th>\n",
       "      <th>time</th>\n",
       "      <th>size</th>\n",
       "    </tr>\n",
       "  </thead>\n",
       "  <tbody>\n",
       "    <tr>\n",
       "      <th>0</th>\n",
       "      <td>16.99</td>\n",
       "      <td>1.01</td>\n",
       "      <td>Female</td>\n",
       "      <td>No</td>\n",
       "      <td>Sun</td>\n",
       "      <td>Dinner</td>\n",
       "      <td>2</td>\n",
       "    </tr>\n",
       "    <tr>\n",
       "      <th>1</th>\n",
       "      <td>10.34</td>\n",
       "      <td>1.66</td>\n",
       "      <td>Male</td>\n",
       "      <td>No</td>\n",
       "      <td>Sun</td>\n",
       "      <td>Dinner</td>\n",
       "      <td>3</td>\n",
       "    </tr>\n",
       "    <tr>\n",
       "      <th>2</th>\n",
       "      <td>21.01</td>\n",
       "      <td>3.50</td>\n",
       "      <td>Male</td>\n",
       "      <td>No</td>\n",
       "      <td>Sun</td>\n",
       "      <td>Dinner</td>\n",
       "      <td>3</td>\n",
       "    </tr>\n",
       "    <tr>\n",
       "      <th>3</th>\n",
       "      <td>23.68</td>\n",
       "      <td>3.31</td>\n",
       "      <td>Male</td>\n",
       "      <td>No</td>\n",
       "      <td>Sun</td>\n",
       "      <td>Dinner</td>\n",
       "      <td>2</td>\n",
       "    </tr>\n",
       "    <tr>\n",
       "      <th>4</th>\n",
       "      <td>24.59</td>\n",
       "      <td>3.61</td>\n",
       "      <td>Female</td>\n",
       "      <td>No</td>\n",
       "      <td>Sun</td>\n",
       "      <td>Dinner</td>\n",
       "      <td>4</td>\n",
       "    </tr>\n",
       "  </tbody>\n",
       "</table>\n",
       "</div>"
      ],
      "text/plain": [
       "   total_bill   tip     sex smoker  day    time  size\n",
       "0       16.99  1.01  Female     No  Sun  Dinner     2\n",
       "1       10.34  1.66    Male     No  Sun  Dinner     3\n",
       "2       21.01  3.50    Male     No  Sun  Dinner     3\n",
       "3       23.68  3.31    Male     No  Sun  Dinner     2\n",
       "4       24.59  3.61  Female     No  Sun  Dinner     4"
      ]
     },
     "execution_count": 113,
     "metadata": {},
     "output_type": "execute_result"
    }
   ],
   "source": [
    "tips = sns.load_dataset('tips')\n",
    "tips.head()"
   ]
  },
  {
   "cell_type": "code",
   "execution_count": 114,
   "metadata": {},
   "outputs": [
    {
     "data": {
      "image/png": "[encoded data removed]",
      "text/plain": [
       "<Figure size 720x432 with 1 Axes>"
      ]
     },
     "metadata": {},
     "output_type": "display_data"
    }
   ],
   "source": [
    "import warnings\n",
    "warnings.filterwarnings(\"ignore\")\n",
    "\n",
    "fig, ax = plt.subplots(figsize=(10, 6))\n",
    "sns.violinplot(x='day', y='total_bill', hue='smoker', split=True, data=tips);"
   ]
  },
  {
   "cell_type": "code",
   "execution_count": 115,
   "metadata": {},
   "outputs": [
    {
     "data": {
      "text/plain": [
       "<matplotlib.axes._subplots.AxesSubplot at 0x7fe06b03a278>"
      ]
     },
     "execution_count": 115,
     "metadata": {},
     "output_type": "execute_result"
    },
    {
     "data": {
      "image/png": "[encoded data removed]",
      "text/plain": [
       "<Figure size 720x432 with 1 Axes>"
      ]
     },
     "metadata": {},
     "output_type": "display_data"
    }
   ],
   "source": [
    "fig, ax = plt.subplots(figsize=(10, 6))\n",
    "sns.barplot(x='day', y='tip', hue='time', data=tips)"
   ]
  },
  {
   "cell_type": "markdown",
   "metadata": {},
   "source": [
    "# Linear regression  <a id=\"part3\"></a>\n",
    "\n",
    "[StatsModels](http://statsmodels.sourceforge.net/stable/index.html) is a scientific module based on Pandas for performing statistical analyses in Python.\n",
    "It provides tools for conducting data exploration, statistical tests and for the estimation of several statistical models.\n",
    "As a statistical package, each estimator in StatsModels comes with an extensive list of resulting statistics.\n",
    "\n",
    "We illustrate here a major feature of StatsModels, which is [linear regression](http://www.statsmodels.org/stable/regression.html#technical-documentation).\n",
    "## Simple example"
   ]
  },
  {
   "cell_type": "code",
   "execution_count": 116,
   "metadata": {},
   "outputs": [],
   "source": [
    "import statsmodels.api as sm\n",
    "from statsmodels.sandbox.regression.predstd import wls_prediction_std\n",
    "\n",
    "# Generate data\n",
    "nsample = 50\n",
    "sig = 0.5\n",
    "x = np.linspace(0, 20, nsample)\n",
    "X = np.column_stack((x, np.sin(x), (x-5)**2, np.ones(nsample)))\n",
    "beta = [0.5, 0.5, -0.02, 5.]\n",
    "\n",
    "y_true = np.dot(X, beta)\n",
    "y = y_true + sig * np.random.normal(size=nsample)\n",
    "\n",
    "y[np.random.permutation(y.size)[:3]] += 4 * (-1)**np.random.randint(0, 2, size=3)  # 3 outliers"
   ]
  },
  {
   "cell_type": "code",
   "execution_count": 117,
   "metadata": {},
   "outputs": [
    {
     "data": {
      "text/html": [
       "<table class=\"simpletable\">\n",
       "<caption>OLS Regression Results</caption>\n",
       "<tr>\n",
       "  <th>Dep. Variable:</th>            <td>y</td>        <th>  R-squared:         </th> <td>   0.751</td>\n",
       "</tr>\n",
       "<tr>\n",
       "  <th>Model:</th>                   <td>OLS</td>       <th>  Adj. R-squared:    </th> <td>   0.734</td>\n",
       "</tr>\n",
       "<tr>\n",
       "  <th>Method:</th>             <td>Least Squares</td>  <th>  F-statistic:       </th> <td>   46.15</td>\n",
       "</tr>\n",
       "<tr>\n",
       "  <th>Date:</th>             <td>Wed, 26 Aug 2020</td> <th>  Prob (F-statistic):</th> <td>6.45e-14</td>\n",
       "</tr>\n",
       "<tr>\n",
       "  <th>Time:</th>                 <td>13:14:29</td>     <th>  Log-Likelihood:    </th> <td> -73.064</td>\n",
       "</tr>\n",
       "<tr>\n",
       "  <th>No. Observations:</th>      <td>    50</td>      <th>  AIC:               </th> <td>   154.1</td>\n",
       "</tr>\n",
       "<tr>\n",
       "  <th>Df Residuals:</th>          <td>    46</td>      <th>  BIC:               </th> <td>   161.8</td>\n",
       "</tr>\n",
       "<tr>\n",
       "  <th>Df Model:</th>              <td>     3</td>      <th>                     </th>     <td> </td>   \n",
       "</tr>\n",
       "<tr>\n",
       "  <th>Covariance Type:</th>      <td>nonrobust</td>    <th>                     </th>     <td> </td>   \n",
       "</tr>\n",
       "</table>\n",
       "<table class=\"simpletable\">\n",
       "<tr>\n",
       "    <td></td>       <th>coef</th>     <th>std err</th>      <th>t</th>      <th>P>|t|</th>  <th>[0.025</th>    <th>0.975]</th>  \n",
       "</tr>\n",
       "<tr>\n",
       "  <th>x1</th>    <td>    0.4958</td> <td>    0.057</td> <td>    8.672</td> <td> 0.000</td> <td>    0.381</td> <td>    0.611</td>\n",
       "</tr>\n",
       "<tr>\n",
       "  <th>x2</th>    <td>    0.7785</td> <td>    0.225</td> <td>    3.464</td> <td> 0.001</td> <td>    0.326</td> <td>    1.231</td>\n",
       "</tr>\n",
       "<tr>\n",
       "  <th>x3</th>    <td>   -0.0205</td> <td>    0.005</td> <td>   -4.093</td> <td> 0.000</td> <td>   -0.031</td> <td>   -0.010</td>\n",
       "</tr>\n",
       "<tr>\n",
       "  <th>const</th> <td>    5.1553</td> <td>    0.371</td> <td>   13.906</td> <td> 0.000</td> <td>    4.409</td> <td>    5.902</td>\n",
       "</tr>\n",
       "</table>\n",
       "<table class=\"simpletable\">\n",
       "<tr>\n",
       "  <th>Omnibus:</th>       <td>41.161</td> <th>  Durbin-Watson:     </th> <td>   2.011</td>\n",
       "</tr>\n",
       "<tr>\n",
       "  <th>Prob(Omnibus):</th> <td> 0.000</td> <th>  Jarque-Bera (JB):  </th> <td> 345.917</td>\n",
       "</tr>\n",
       "<tr>\n",
       "  <th>Skew:</th>          <td> 1.658</td> <th>  Prob(JB):          </th> <td>7.67e-76</td>\n",
       "</tr>\n",
       "<tr>\n",
       "  <th>Kurtosis:</th>      <td>15.452</td> <th>  Cond. No.          </th> <td>    221.</td>\n",
       "</tr>\n",
       "</table><br/><br/>Warnings:<br/>[1] Standard Errors assume that the covariance matrix of the errors is correctly specified."
      ],
      "text/plain": [
       "<class 'statsmodels.iolib.summary.Summary'>\n",
       "\"\"\"\n",
       "                            OLS Regression Results                            \n",
       "==============================================================================\n",
       "Dep. Variable:                      y   R-squared:                       0.751\n",
       "Model:                            OLS   Adj. R-squared:                  0.734\n",
       "Method:                 Least Squares   F-statistic:                     46.15\n",
       "Date:                Wed, 26 Aug 2020   Prob (F-statistic):           6.45e-14\n",
       "Time:                        13:14:29   Log-Likelihood:                -73.064\n",
       "No. Observations:                  50   AIC:                             154.1\n",
       "Df Residuals:                      46   BIC:                             161.8\n",
       "Df Model:                           3                                         \n",
       "Covariance Type:            nonrobust                                         \n",
       "==============================================================================\n",
       "                 coef    std err          t      P>|t|      [0.025      0.975]\n",
       "------------------------------------------------------------------------------\n",
       "x1             0.4958      0.057      8.672      0.000       0.381       0.611\n",
       "x2             0.7785      0.225      3.464      0.001       0.326       1.231\n",
       "x3            -0.0205      0.005     -4.093      0.000      -0.031      -0.010\n",
       "const          5.1553      0.371     13.906      0.000       4.409       5.902\n",
       "==============================================================================\n",
       "Omnibus:                       41.161   Durbin-Watson:                   2.011\n",
       "Prob(Omnibus):                  0.000   Jarque-Bera (JB):              345.917\n",
       "Skew:                           1.658   Prob(JB):                     7.67e-76\n",
       "Kurtosis:                      15.452   Cond. No.                         221.\n",
       "==============================================================================\n",
       "\n",
       "Warnings:\n",
       "[1] Standard Errors assume that the covariance matrix of the errors is correctly specified.\n",
       "\"\"\""
      ]
     },
     "execution_count": 117,
     "metadata": {},
     "output_type": "execute_result"
    }
   ],
   "source": [
    "# Fit the model\n",
    "model = sm.OLS(y, X)\n",
    "res = model.fit()\n",
    "res.summary()"
   ]
  },
  {
   "cell_type": "markdown",
   "metadata": {},
   "source": [
    "Main attributes of the fitted model are:"
   ]
  },
  {
   "cell_type": "code",
   "execution_count": 118,
   "metadata": {},
   "outputs": [
    {
     "name": "stdout",
     "output_type": "stream",
     "text": [
      "Parameters:  [ 0.5   0.78 -0.02  5.16]\n",
      "Standard errors:  [0.06 0.22 0.01 0.37]\n",
      "Predicted values:  [ 4.64  5.23  5.77  6.2   6.51  6.68  6.73  6.7   6.62  6.55  6.53  6.62\n",
      "  6.82  7.14  7.56  8.04  8.54  8.99  9.37  9.62  9.74  9.73  9.62  9.44\n",
      "  9.26  9.11  9.05  9.1   9.27  9.55  9.9  10.29 10.67 10.97 11.17 11.24\n",
      " 11.17 10.99 10.73 10.44 10.16  9.96  9.85  9.87 10.   10.23 10.51 10.79\n",
      " 11.02 11.16]\n"
     ]
    }
   ],
   "source": [
    "print('Parameters: ', res.params)\n",
    "print('Standard errors: ', res.bse)\n",
    "print('Predicted values: ', res.fittedvalues)"
   ]
  },
  {
   "cell_type": "markdown",
   "metadata": {},
   "source": [
    "A method called `predict` is also available for prediction with the estimator:"
   ]
  },
  {
   "cell_type": "code",
   "execution_count": 119,
   "metadata": {},
   "outputs": [
    {
     "data": {
      "text/plain": [
       "array([ 4.64,  5.23,  5.77,  6.2 ,  6.51,  6.68,  6.73,  6.7 ,  6.62,\n",
       "        6.55,  6.53,  6.62,  6.82,  7.14,  7.56,  8.04,  8.54,  8.99,\n",
       "        9.37,  9.62,  9.74,  9.73,  9.62,  9.44,  9.26,  9.11,  9.05,\n",
       "        9.1 ,  9.27,  9.55,  9.9 , 10.29, 10.67, 10.97, 11.17, 11.24,\n",
       "       11.17, 10.99, 10.73, 10.44, 10.16,  9.96,  9.85,  9.87, 10.  ,\n",
       "       10.23, 10.51, 10.79, 11.02, 11.16])"
      ]
     },
     "execution_count": 119,
     "metadata": {},
     "output_type": "execute_result"
    }
   ],
   "source": [
    "res.predict(X)  # Same as res.fittedvalues"
   ]
  },
  {
   "cell_type": "code",
   "execution_count": 120,
   "metadata": {},
   "outputs": [
    {
     "data": {
      "image/png": "[encoded data removed]",
      "text/plain": [
       "<Figure size 432x288 with 1 Axes>"
      ]
     },
     "metadata": {},
     "output_type": "display_data"
    }
   ],
   "source": [
    "# Plot the regression\n",
    "prstd, iv_l, iv_u = wls_prediction_std(res)  # Curves for standard deviation\n",
    "\n",
    "fig, ax = plt.subplots()\n",
    "ax.plot(x, y, 'o', label=\"data\")\n",
    "ax.plot(x, y_true, 'b-', label=\"True\")\n",
    "ax.plot(x, res.fittedvalues, 'r--.', label=\"OLS\")\n",
    "ax.plot(x, iv_u, 'r--')\n",
    "ax.plot(x, iv_l, 'r--')\n",
    "ax.legend(loc='best');"
   ]
  },
  {
   "cell_type": "code",
   "execution_count": 121,
   "metadata": {},
   "outputs": [
    {
     "name": "stdout",
     "output_type": "stream",
     "text": [
      "[-9.56e-02  3.60e-04 -5.25e-02 -2.06e-01 -2.61e-02  2.10e-01  7.19e-01\n",
      " -2.71e-01  2.62e-01  5.74e-01 -1.89e-01 -3.74e+00  1.43e-01 -3.85e-02\n",
      "  5.10e+00  1.58e-01 -8.59e-01 -5.07e-01 -7.50e-01 -1.20e-01 -3.58e-01\n",
      " -1.74e-01 -9.44e-01  4.75e-01 -3.43e-01  7.70e-01 -2.83e-01  6.08e-01\n",
      "  5.87e-01 -1.29e-01 -4.30e-01 -1.33e-01 -4.77e-01 -1.08e-01  2.57e-01\n",
      " -6.15e-01  2.47e+00 -7.23e-02 -2.46e-01 -6.36e-01 -8.28e-01  1.71e-01\n",
      "  1.68e-01 -3.14e-02 -4.50e-01 -3.48e-01  5.32e-01 -2.21e-02  1.70e-01\n",
      "  9.64e-02]\n"
     ]
    }
   ],
   "source": [
    "residues = y - res.predict(X)  # Same as res.resid\n",
    "print(residues)"
   ]
  },
  {
   "cell_type": "markdown",
   "metadata": {},
   "source": [
    "The sum of squared residuals (or residual sum of squares) is:"
   ]
  },
  {
   "cell_type": "code",
   "execution_count": 122,
   "metadata": {},
   "outputs": [
    {
     "name": "stdout",
     "output_type": "stream",
     "text": [
      "54.4182341449693 54.41823414496929\n"
     ]
    }
   ],
   "source": [
    "print(np.sum(res.resid**2), res.ssr)"
   ]
  },
  {
   "cell_type": "markdown",
   "metadata": {},
   "source": [
    "while an unbiased estimate of the variance is:"
   ]
  },
  {
   "cell_type": "code",
   "execution_count": 123,
   "metadata": {},
   "outputs": [
    {
     "name": "stdout",
     "output_type": "stream",
     "text": [
      "1.183005090108028 1.183005090108028\n"
     ]
    }
   ],
   "source": [
    "print(res.ssr / res.df_resid, res.scale)"
   ]
  },
  {
   "cell_type": "markdown",
   "metadata": {},
   "source": [
    "The hat (or projection matrix) is:"
   ]
  },
  {
   "cell_type": "code",
   "execution_count": 124,
   "metadata": {},
   "outputs": [],
   "source": [
    "H = X.dot(np.linalg.solve(X.T.dot(X), X.T))"
   ]
  },
  {
   "cell_type": "markdown",
   "metadata": {},
   "source": [
    "Then, the studentized residuals are:"
   ]
  },
  {
   "cell_type": "code",
   "execution_count": 125,
   "metadata": {},
   "outputs": [
    {
     "name": "stdout",
     "output_type": "stream",
     "text": [
      "[-9.57e-02  3.53e-04 -5.11e-02 -2.00e-01 -2.51e-02  2.00e-01  6.81e-01\n",
      " -2.53e-01  2.45e-01  5.41e-01 -1.79e-01 -4.20e+00  1.36e-01 -3.63e-02\n",
      "  6.77e+00  1.47e-01 -8.03e-01 -4.76e-01 -7.12e-01 -1.14e-01 -3.40e-01\n",
      " -1.64e-01 -8.91e-01  4.43e-01 -3.20e-01  7.26e-01 -2.68e-01  5.78e-01\n",
      "  5.56e-01 -1.20e-01 -4.00e-01 -1.23e-01 -4.46e-01 -1.02e-01  2.45e-01\n",
      " -5.87e-01  2.49e+00 -6.76e-02 -2.28e-01 -5.93e-01 -7.80e-01  1.62e-01\n",
      "  1.60e-01 -3.02e-02 -4.33e-01 -3.33e-01  5.12e-01 -2.14e-02  1.68e-01\n",
      "  9.77e-02]\n"
     ]
    }
   ],
   "source": [
    "t = res.resid / np.sqrt(res.scale*(1-np.diag(H)))  # Standardized residuals\n",
    "ts = t * np.sqrt( (res.df_resid-1) / (res.df_resid-t**2))  # Studentized residuals\n",
    "print(ts)"
   ]
  },
  {
   "cell_type": "markdown",
   "metadata": {},
   "source": [
    "The studentized residuals can be directly obtained by:"
   ]
  },
  {
   "cell_type": "code",
   "execution_count": 126,
   "metadata": {},
   "outputs": [
    {
     "name": "stdout",
     "output_type": "stream",
     "text": [
      "[-9.57e-02  3.53e-04 -5.11e-02 -2.00e-01 -2.51e-02  2.00e-01  6.81e-01\n",
      " -2.53e-01  2.45e-01  5.41e-01 -1.79e-01 -4.20e+00  1.36e-01 -3.63e-02\n",
      "  6.77e+00  1.47e-01 -8.03e-01 -4.76e-01 -7.12e-01 -1.14e-01 -3.40e-01\n",
      " -1.64e-01 -8.91e-01  4.43e-01 -3.20e-01  7.26e-01 -2.68e-01  5.78e-01\n",
      "  5.56e-01 -1.20e-01 -4.00e-01 -1.23e-01 -4.46e-01 -1.02e-01  2.45e-01\n",
      " -5.87e-01  2.49e+00 -6.76e-02 -2.28e-01 -5.93e-01 -7.80e-01  1.62e-01\n",
      "  1.60e-01 -3.02e-02 -4.33e-01 -3.33e-01  5.12e-01 -2.14e-02  1.68e-01\n",
      "  9.77e-02]\n"
     ]
    }
   ],
   "source": [
    "print(res.outlier_test()[:, 0])"
   ]
  },
  {
   "cell_type": "code",
   "execution_count": 127,
   "metadata": {},
   "outputs": [
    {
     "data": {
      "text/plain": [
       "[<matplotlib.lines.Line2D at 0x7fe06af794a8>,\n",
       " <matplotlib.lines.Line2D at 0x7fe06af792b0>]"
      ]
     },
     "execution_count": 127,
     "metadata": {},
     "output_type": "execute_result"
    },
    {
     "data": {
      "image/png": "[encoded data removed]",
      "text/plain": [
       "<Figure size 432x288 with 1 Axes>"
      ]
     },
     "metadata": {},
     "output_type": "display_data"
    }
   ],
   "source": [
    "fig, ax = plt.subplots()\n",
    "ax.plot(ts, '.')\n",
    "ax.plot([0, X.shape[0]], [-2]*2, 'r')\n",
    "ax.plot([0, X.shape[0]], [2]*2, 'r')\n",
    "\n",
    "outliers = np.where(res.outlier_test()[:, -1]<0.1)\n",
    "ax.plot(outliers, res.outlier_test()[outliers, 0], 'ro')"
   ]
  },
  {
   "cell_type": "markdown",
   "metadata": {},
   "source": [
    "Note that studentized residuals are only asymptotically normal."
   ]
  },
  {
   "cell_type": "code",
   "execution_count": 128,
   "metadata": {},
   "outputs": [
    {
     "name": "stdout",
     "output_type": "stream",
     "text": [
      "NormaltestResult(statistic=57.329631472186776, pvalue=3.5565482180656016e-13)\n"
     ]
    }
   ],
   "source": [
    "from scipy.stats import normaltest, probplot\n",
    "\n",
    "print(normaltest(ts))"
   ]
  },
  {
   "cell_type": "code",
   "execution_count": 129,
   "metadata": {},
   "outputs": [
    {
     "data": {
      "image/png": "[encoded data removed]",
      "text/plain": [
       "<Figure size 432x288 with 1 Axes>"
      ]
     },
     "metadata": {},
     "output_type": "display_data"
    }
   ],
   "source": [
    "from scipy.stats import t as student_dist\n",
    "\n",
    "probplot(ts, dist=student_dist(df=res.df_resid-1), plot=plt);"
   ]
  },
  {
   "cell_type": "code",
   "execution_count": 130,
   "metadata": {},
   "outputs": [
    {
     "data": {
      "image/png": "[encoded data removed]",
      "text/plain": [
       "<Figure size 432x288 with 1 Axes>"
      ]
     },
     "metadata": {},
     "output_type": "display_data"
    }
   ],
   "source": [
    "probplot(ts, dist='norm', plot=plt);"
   ]
  },
  {
   "cell_type": "markdown",
   "metadata": {},
   "source": [
    "# Linear Regression with the Iris data set <a id=\"part3\"></a>\n",
    "\n",
    "[StatsModels](http://statsmodels.sourceforge.net/stable/index.html) is a scientific module based on Pandas for performing statistical analyses in Python.\n",
    "It provides tools for conducting data exploration, statistical tests and for the estimation of several statistical models.\n",
    "As a statistical package, each estimator in StatsModels comes with an extensive list of resulting statistics.\n",
    "\n",
    "We illustrate here a major feature of StatsModels, which is [linear regression](http://www.statsmodels.org/stable/regression.html#technical-documentation)."
   ]
  },
  {
   "cell_type": "markdown",
   "metadata": {},
   "source": [
    "Get the [Iris data set](http://archive.ics.uci.edu/ml/datasets/Iris) from R."
   ]
  },
  {
   "cell_type": "code",
   "execution_count": 9,
   "metadata": {},
   "outputs": [
    {
     "data": {
      "text/html": [
       "<div>\n",
       "<style scoped>\n",
       "    .dataframe tbody tr th:only-of-type {\n",
       "        vertical-align: middle;\n",
       "    }\n",
       "\n",
       "    .dataframe tbody tr th {\n",
       "        vertical-align: top;\n",
       "    }\n",
       "\n",
       "    .dataframe thead th {\n",
       "        text-align: right;\n",
       "    }\n",
       "</style>\n",
       "<table border=\"1\" class=\"dataframe\">\n",
       "  <thead>\n",
       "    <tr style=\"text-align: right;\">\n",
       "      <th></th>\n",
       "      <th>sepal_length</th>\n",
       "      <th>sepal_width</th>\n",
       "      <th>petal_length</th>\n",
       "      <th>petal_width</th>\n",
       "    </tr>\n",
       "  </thead>\n",
       "  <tbody>\n",
       "    <tr>\n",
       "      <th>count</th>\n",
       "      <td>150.000000</td>\n",
       "      <td>150.000000</td>\n",
       "      <td>150.000000</td>\n",
       "      <td>150.000000</td>\n",
       "    </tr>\n",
       "    <tr>\n",
       "      <th>mean</th>\n",
       "      <td>5.843333</td>\n",
       "      <td>3.057333</td>\n",
       "      <td>3.758000</td>\n",
       "      <td>1.199333</td>\n",
       "    </tr>\n",
       "    <tr>\n",
       "      <th>std</th>\n",
       "      <td>0.828066</td>\n",
       "      <td>0.435866</td>\n",
       "      <td>1.765298</td>\n",
       "      <td>0.762238</td>\n",
       "    </tr>\n",
       "    <tr>\n",
       "      <th>min</th>\n",
       "      <td>4.300000</td>\n",
       "      <td>2.000000</td>\n",
       "      <td>1.000000</td>\n",
       "      <td>0.100000</td>\n",
       "    </tr>\n",
       "    <tr>\n",
       "      <th>25%</th>\n",
       "      <td>5.100000</td>\n",
       "      <td>2.800000</td>\n",
       "      <td>1.600000</td>\n",
       "      <td>0.300000</td>\n",
       "    </tr>\n",
       "    <tr>\n",
       "      <th>50%</th>\n",
       "      <td>5.800000</td>\n",
       "      <td>3.000000</td>\n",
       "      <td>4.350000</td>\n",
       "      <td>1.300000</td>\n",
       "    </tr>\n",
       "    <tr>\n",
       "      <th>75%</th>\n",
       "      <td>6.400000</td>\n",
       "      <td>3.300000</td>\n",
       "      <td>5.100000</td>\n",
       "      <td>1.800000</td>\n",
       "    </tr>\n",
       "    <tr>\n",
       "      <th>max</th>\n",
       "      <td>7.900000</td>\n",
       "      <td>4.400000</td>\n",
       "      <td>6.900000</td>\n",
       "      <td>2.500000</td>\n",
       "    </tr>\n",
       "  </tbody>\n",
       "</table>\n",
       "</div>"
      ],
      "text/plain": [
       "       sepal_length  sepal_width  petal_length  petal_width\n",
       "count    150.000000   150.000000    150.000000   150.000000\n",
       "mean       5.843333     3.057333      3.758000     1.199333\n",
       "std        0.828066     0.435866      1.765298     0.762238\n",
       "min        4.300000     2.000000      1.000000     0.100000\n",
       "25%        5.100000     2.800000      1.600000     0.300000\n",
       "50%        5.800000     3.000000      4.350000     1.300000\n",
       "75%        6.400000     3.300000      5.100000     1.800000\n",
       "max        7.900000     4.400000      6.900000     2.500000"
      ]
     },
     "execution_count": 9,
     "metadata": {},
     "output_type": "execute_result"
    }
   ],
   "source": [
    "df = sm.datasets.get_rdataset('iris').data\n",
    "df.columns = [name.replace('.', '_').lower() for name in df.columns]  # Make name pythonic\n",
    "\n",
    "df.describe()"
   ]
  },
  {
   "cell_type": "code",
   "execution_count": 10,
   "metadata": {},
   "outputs": [
    {
     "data": {
      "text/plain": [
       "sepal_length    False\n",
       "sepal_width     False\n",
       "petal_length    False\n",
       "petal_width     False\n",
       "species         False\n",
       "dtype: bool"
      ]
     },
     "execution_count": 10,
     "metadata": {},
     "output_type": "execute_result"
    }
   ],
   "source": [
    "df.isnull().any()  # Check if there is any missing value"
   ]
  },
  {
   "cell_type": "code",
   "execution_count": 11,
   "metadata": {},
   "outputs": [
    {
     "data": {
      "text/html": [
       "<table class=\"simpletable\">\n",
       "<caption>OLS Regression Results</caption>\n",
       "<tr>\n",
       "  <th>Dep. Variable:</th>      <td>sepal_length</td>   <th>  R-squared:         </th> <td>   0.766</td>\n",
       "</tr>\n",
       "<tr>\n",
       "  <th>Model:</th>                   <td>OLS</td>       <th>  Adj. R-squared:    </th> <td>   0.763</td>\n",
       "</tr>\n",
       "<tr>\n",
       "  <th>Method:</th>             <td>Least Squares</td>  <th>  F-statistic:       </th> <td>   241.0</td>\n",
       "</tr>\n",
       "<tr>\n",
       "  <th>Date:</th>             <td>Tue, 01 Sep 2020</td> <th>  Prob (F-statistic):</th> <td>4.00e-47</td>\n",
       "</tr>\n",
       "<tr>\n",
       "  <th>Time:</th>                 <td>13:51:46</td>     <th>  Log-Likelihood:    </th> <td> -75.023</td>\n",
       "</tr>\n",
       "<tr>\n",
       "  <th>No. Observations:</th>      <td>   150</td>      <th>  AIC:               </th> <td>   156.0</td>\n",
       "</tr>\n",
       "<tr>\n",
       "  <th>Df Residuals:</th>          <td>   147</td>      <th>  BIC:               </th> <td>   165.1</td>\n",
       "</tr>\n",
       "<tr>\n",
       "  <th>Df Model:</th>              <td>     2</td>      <th>                     </th>     <td> </td>   \n",
       "</tr>\n",
       "<tr>\n",
       "  <th>Covariance Type:</th>      <td>nonrobust</td>    <th>                     </th>     <td> </td>   \n",
       "</tr>\n",
       "</table>\n",
       "<table class=\"simpletable\">\n",
       "<tr>\n",
       "        <td></td>          <th>coef</th>     <th>std err</th>      <th>t</th>      <th>P>|t|</th>  <th>[0.025</th>    <th>0.975]</th>  \n",
       "</tr>\n",
       "<tr>\n",
       "  <th>Intercept</th>    <td>    4.1906</td> <td>    0.097</td> <td>   43.181</td> <td> 0.000</td> <td>    3.999</td> <td>    4.382</td>\n",
       "</tr>\n",
       "<tr>\n",
       "  <th>petal_length</th> <td>    0.5418</td> <td>    0.069</td> <td>    7.820</td> <td> 0.000</td> <td>    0.405</td> <td>    0.679</td>\n",
       "</tr>\n",
       "<tr>\n",
       "  <th>petal_width</th>  <td>   -0.3196</td> <td>    0.160</td> <td>   -1.992</td> <td> 0.048</td> <td>   -0.637</td> <td>   -0.002</td>\n",
       "</tr>\n",
       "</table>\n",
       "<table class=\"simpletable\">\n",
       "<tr>\n",
       "  <th>Omnibus:</th>       <td> 0.383</td> <th>  Durbin-Watson:     </th> <td>   1.826</td>\n",
       "</tr>\n",
       "<tr>\n",
       "  <th>Prob(Omnibus):</th> <td> 0.826</td> <th>  Jarque-Bera (JB):  </th> <td>   0.540</td>\n",
       "</tr>\n",
       "<tr>\n",
       "  <th>Skew:</th>          <td> 0.060</td> <th>  Prob(JB):          </th> <td>   0.763</td>\n",
       "</tr>\n",
       "<tr>\n",
       "  <th>Kurtosis:</th>      <td> 2.732</td> <th>  Cond. No.          </th> <td>    25.3</td>\n",
       "</tr>\n",
       "</table><br/><br/>Warnings:<br/>[1] Standard Errors assume that the covariance matrix of the errors is correctly specified."
      ],
      "text/plain": [
       "<class 'statsmodels.iolib.summary.Summary'>\n",
       "\"\"\"\n",
       "                            OLS Regression Results                            \n",
       "==============================================================================\n",
       "Dep. Variable:           sepal_length   R-squared:                       0.766\n",
       "Model:                            OLS   Adj. R-squared:                  0.763\n",
       "Method:                 Least Squares   F-statistic:                     241.0\n",
       "Date:                Tue, 01 Sep 2020   Prob (F-statistic):           4.00e-47\n",
       "Time:                        13:51:46   Log-Likelihood:                -75.023\n",
       "No. Observations:                 150   AIC:                             156.0\n",
       "Df Residuals:                     147   BIC:                             165.1\n",
       "Df Model:                           2                                         \n",
       "Covariance Type:            nonrobust                                         \n",
       "================================================================================\n",
       "                   coef    std err          t      P>|t|      [0.025      0.975]\n",
       "--------------------------------------------------------------------------------\n",
       "Intercept        4.1906      0.097     43.181      0.000       3.999       4.382\n",
       "petal_length     0.5418      0.069      7.820      0.000       0.405       0.679\n",
       "petal_width     -0.3196      0.160     -1.992      0.048      -0.637      -0.002\n",
       "==============================================================================\n",
       "Omnibus:                        0.383   Durbin-Watson:                   1.826\n",
       "Prob(Omnibus):                  0.826   Jarque-Bera (JB):                0.540\n",
       "Skew:                           0.060   Prob(JB):                        0.763\n",
       "Kurtosis:                       2.732   Cond. No.                         25.3\n",
       "==============================================================================\n",
       "\n",
       "Warnings:\n",
       "[1] Standard Errors assume that the covariance matrix of the errors is correctly specified.\n",
       "\"\"\""
      ]
     },
     "execution_count": 11,
     "metadata": {},
     "output_type": "execute_result"
    }
   ],
   "source": [
    "import statsmodels.api as sm\n",
    "import statsmodels.formula.api as smf\n",
    "\n",
    "# define a linear model : linear link between (the expectation of) sepal_length \n",
    "# and a linear combination of  petal_length and petal_width \n",
    "model =  smf.ols('sepal_length ~ petal_length + petal_width', data=df)\n",
    "# fit the model:\n",
    "res = model.fit()\n",
    "res.summary()"
   ]
  },
  {
   "cell_type": "markdown",
   "metadata": {},
   "source": [
    "StatsModels accepts categorical variables:"
   ]
  },
  {
   "cell_type": "code",
   "execution_count": 12,
   "metadata": {},
   "outputs": [
    {
     "data": {
      "text/html": [
       "<table class=\"simpletable\">\n",
       "<caption>OLS Regression Results</caption>\n",
       "<tr>\n",
       "  <th>Dep. Variable:</th>      <td>sepal_length</td>   <th>  R-squared:         </th> <td>   0.837</td>\n",
       "</tr>\n",
       "<tr>\n",
       "  <th>Model:</th>                   <td>OLS</td>       <th>  Adj. R-squared:    </th> <td>   0.832</td>\n",
       "</tr>\n",
       "<tr>\n",
       "  <th>Method:</th>             <td>Least Squares</td>  <th>  F-statistic:       </th> <td>   185.8</td>\n",
       "</tr>\n",
       "<tr>\n",
       "  <th>Date:</th>             <td>Tue, 01 Sep 2020</td> <th>  Prob (F-statistic):</th> <td>5.33e-56</td>\n",
       "</tr>\n",
       "<tr>\n",
       "  <th>Time:</th>                 <td>13:51:50</td>     <th>  Log-Likelihood:    </th> <td> -48.116</td>\n",
       "</tr>\n",
       "<tr>\n",
       "  <th>No. Observations:</th>      <td>   150</td>      <th>  AIC:               </th> <td>   106.2</td>\n",
       "</tr>\n",
       "<tr>\n",
       "  <th>Df Residuals:</th>          <td>   145</td>      <th>  BIC:               </th> <td>   121.3</td>\n",
       "</tr>\n",
       "<tr>\n",
       "  <th>Df Model:</th>              <td>     4</td>      <th>                     </th>     <td> </td>   \n",
       "</tr>\n",
       "<tr>\n",
       "  <th>Covariance Type:</th>      <td>nonrobust</td>    <th>                     </th>     <td> </td>   \n",
       "</tr>\n",
       "</table>\n",
       "<table class=\"simpletable\">\n",
       "<tr>\n",
       "              <td></td>                <th>coef</th>     <th>std err</th>      <th>t</th>      <th>P>|t|</th>  <th>[0.025</th>    <th>0.975]</th>  \n",
       "</tr>\n",
       "<tr>\n",
       "  <th>Intercept</th>                <td>    3.6830</td> <td>    0.107</td> <td>   34.291</td> <td> 0.000</td> <td>    3.471</td> <td>    3.895</td>\n",
       "</tr>\n",
       "<tr>\n",
       "  <th>C(species)[T.versicolor]</th> <td>   -1.5984</td> <td>    0.206</td> <td>   -7.770</td> <td> 0.000</td> <td>   -2.005</td> <td>   -1.192</td>\n",
       "</tr>\n",
       "<tr>\n",
       "  <th>C(species)[T.virginica]</th>  <td>   -2.1126</td> <td>    0.304</td> <td>   -6.949</td> <td> 0.000</td> <td>   -2.714</td> <td>   -1.512</td>\n",
       "</tr>\n",
       "<tr>\n",
       "  <th>petal_length</th>             <td>    0.9059</td> <td>    0.074</td> <td>   12.191</td> <td> 0.000</td> <td>    0.759</td> <td>    1.053</td>\n",
       "</tr>\n",
       "<tr>\n",
       "  <th>petal_width</th>              <td>   -0.0060</td> <td>    0.156</td> <td>   -0.038</td> <td> 0.969</td> <td>   -0.315</td> <td>    0.303</td>\n",
       "</tr>\n",
       "</table>\n",
       "<table class=\"simpletable\">\n",
       "<tr>\n",
       "  <th>Omnibus:</th>       <td> 0.587</td> <th>  Durbin-Watson:     </th> <td>   1.802</td>\n",
       "</tr>\n",
       "<tr>\n",
       "  <th>Prob(Omnibus):</th> <td> 0.746</td> <th>  Jarque-Bera (JB):  </th> <td>   0.679</td>\n",
       "</tr>\n",
       "<tr>\n",
       "  <th>Skew:</th>          <td> 0.142</td> <th>  Prob(JB):          </th> <td>   0.712</td>\n",
       "</tr>\n",
       "<tr>\n",
       "  <th>Kurtosis:</th>      <td> 2.832</td> <th>  Cond. No.          </th> <td>    61.5</td>\n",
       "</tr>\n",
       "</table><br/><br/>Warnings:<br/>[1] Standard Errors assume that the covariance matrix of the errors is correctly specified."
      ],
      "text/plain": [
       "<class 'statsmodels.iolib.summary.Summary'>\n",
       "\"\"\"\n",
       "                            OLS Regression Results                            \n",
       "==============================================================================\n",
       "Dep. Variable:           sepal_length   R-squared:                       0.837\n",
       "Model:                            OLS   Adj. R-squared:                  0.832\n",
       "Method:                 Least Squares   F-statistic:                     185.8\n",
       "Date:                Tue, 01 Sep 2020   Prob (F-statistic):           5.33e-56\n",
       "Time:                        13:51:50   Log-Likelihood:                -48.116\n",
       "No. Observations:                 150   AIC:                             106.2\n",
       "Df Residuals:                     145   BIC:                             121.3\n",
       "Df Model:                           4                                         \n",
       "Covariance Type:            nonrobust                                         \n",
       "============================================================================================\n",
       "                               coef    std err          t      P>|t|      [0.025      0.975]\n",
       "--------------------------------------------------------------------------------------------\n",
       "Intercept                    3.6830      0.107     34.291      0.000       3.471       3.895\n",
       "C(species)[T.versicolor]    -1.5984      0.206     -7.770      0.000      -2.005      -1.192\n",
       "C(species)[T.virginica]     -2.1126      0.304     -6.949      0.000      -2.714      -1.512\n",
       "petal_length                 0.9059      0.074     12.191      0.000       0.759       1.053\n",
       "petal_width                 -0.0060      0.156     -0.038      0.969      -0.315       0.303\n",
       "==============================================================================\n",
       "Omnibus:                        0.587   Durbin-Watson:                   1.802\n",
       "Prob(Omnibus):                  0.746   Jarque-Bera (JB):                0.679\n",
       "Skew:                           0.142   Prob(JB):                        0.712\n",
       "Kurtosis:                       2.832   Cond. No.                         61.5\n",
       "==============================================================================\n",
       "\n",
       "Warnings:\n",
       "[1] Standard Errors assume that the covariance matrix of the errors is correctly specified.\n",
       "\"\"\""
      ]
     },
     "execution_count": 12,
     "metadata": {},
     "output_type": "execute_result"
    }
   ],
   "source": [
    "model = smf.ols('sepal_length ~ petal_length + petal_width + C(species)', data=df)\n",
    "res = model.fit()\n",
    "res.summary()"
   ]
  },
  {
   "cell_type": "markdown",
   "metadata": {},
   "source": [
    "Main attributes of the fitted model are:"
   ]
  },
  {
   "cell_type": "code",
   "execution_count": 13,
   "metadata": {},
   "outputs": [
    {
     "name": "stdout",
     "output_type": "stream",
     "text": [
      "Parameters:  Intercept                   3.682982\n",
      "C(species)[T.versicolor]   -1.598362\n",
      "C(species)[T.virginica]    -2.112647\n",
      "petal_length                0.905946\n",
      "petal_width                -0.005995\n",
      "dtype: float64\n",
      "Standard errors:  Intercept                   0.107403\n",
      "C(species)[T.versicolor]    0.205706\n",
      "C(species)[T.virginica]     0.304024\n",
      "petal_length                0.074311\n",
      "petal_width                 0.156260\n",
      "dtype: float64\n",
      "Predicted values:  0      4.950107\n",
      "1      4.950107\n",
      "2      4.859513\n",
      "3      5.040702\n",
      "4      4.950107\n",
      "5      5.220692\n",
      "6      4.949508\n",
      "7      5.040702\n",
      "8      4.950107\n",
      "9      5.041301\n",
      "10     5.040702\n",
      "11     5.131296\n",
      "12     4.950707\n",
      "13     4.678923\n",
      "14     4.768918\n",
      "15     5.039503\n",
      "16     4.858313\n",
      "17     4.949508\n",
      "18     5.221291\n",
      "19     5.040102\n",
      "20     5.221891\n",
      "21     5.039503\n",
      "22     4.587729\n",
      "23     5.220092\n",
      "24     5.403080\n",
      "25     5.131296\n",
      "26     5.130097\n",
      "27     5.040702\n",
      "28     4.950107\n",
      "29     5.131296\n",
      "         ...   \n",
      "120    6.720437\n",
      "121    5.997479\n",
      "122    7.628182\n",
      "123    5.998678\n",
      "124    6.721636\n",
      "125    6.995219\n",
      "126    5.908084\n",
      "127    5.998678\n",
      "128    6.631042\n",
      "129    6.815229\n",
      "130    7.085214\n",
      "131    7.356398\n",
      "132    6.630442\n",
      "133    6.181666\n",
      "134    6.635239\n",
      "135    7.082816\n",
      "136    6.629243\n",
      "137    6.542246\n",
      "138    5.908084\n",
      "139    6.449853\n",
      "140    6.629243\n",
      "141    6.176870\n",
      "142    6.179268\n",
      "143    6.901626\n",
      "144    6.719238\n",
      "145    6.267464\n",
      "146    6.088673\n",
      "147    6.269263\n",
      "148    6.448653\n",
      "149    6.179867\n",
      "Length: 150, dtype: float64\n"
     ]
    }
   ],
   "source": [
    "print('Parameters: ', res.params)\n",
    "print('Standard errors: ', res.bse)\n",
    "print('Predicted values: ', res.fittedvalues)"
   ]
  },
  {
   "cell_type": "markdown",
   "metadata": {},
   "source": [
    "A method called `predict` is also available for prediction with the estimator:"
   ]
  },
  {
   "cell_type": "code",
   "execution_count": 15,
   "metadata": {},
   "outputs": [
    {
     "data": {
      "text/plain": [
       "0      4.950107\n",
       "1      4.950107\n",
       "2      4.859513\n",
       "3      5.040702\n",
       "4      4.950107\n",
       "5      5.220692\n",
       "6      4.949508\n",
       "7      5.040702\n",
       "8      4.950107\n",
       "9      5.041301\n",
       "10     5.040702\n",
       "11     5.131296\n",
       "12     4.950707\n",
       "13     4.678923\n",
       "14     4.768918\n",
       "15     5.039503\n",
       "16     4.858313\n",
       "17     4.949508\n",
       "18     5.221291\n",
       "19     5.040102\n",
       "20     5.221891\n",
       "21     5.039503\n",
       "22     4.587729\n",
       "23     5.220092\n",
       "24     5.403080\n",
       "25     5.131296\n",
       "26     5.130097\n",
       "27     5.040702\n",
       "28     4.950107\n",
       "29     5.131296\n",
       "         ...   \n",
       "120    6.720437\n",
       "121    5.997479\n",
       "122    7.628182\n",
       "123    5.998678\n",
       "124    6.721636\n",
       "125    6.995219\n",
       "126    5.908084\n",
       "127    5.998678\n",
       "128    6.631042\n",
       "129    6.815229\n",
       "130    7.085214\n",
       "131    7.356398\n",
       "132    6.630442\n",
       "133    6.181666\n",
       "134    6.635239\n",
       "135    7.082816\n",
       "136    6.629243\n",
       "137    6.542246\n",
       "138    5.908084\n",
       "139    6.449853\n",
       "140    6.629243\n",
       "141    6.176870\n",
       "142    6.179268\n",
       "143    6.901626\n",
       "144    6.719238\n",
       "145    6.267464\n",
       "146    6.088673\n",
       "147    6.269263\n",
       "148    6.448653\n",
       "149    6.179867\n",
       "Length: 150, dtype: float64"
      ]
     },
     "execution_count": 15,
     "metadata": {},
     "output_type": "execute_result"
    }
   ],
   "source": [
    "res.predict(df)  # Same as res.fittedvalues"
   ]
  },
  {
   "cell_type": "code",
   "execution_count": 31,
   "metadata": {},
   "outputs": [
    {
     "data": {
      "image/png": "[encoded data removed]",
      "text/plain": [
       "<Figure size 432x288 with 1 Axes>"
      ]
     },
     "metadata": {
      "needs_background": "light"
     },
     "output_type": "display_data"
    }
   ],
   "source": [
    "# Plot the regression\n",
    "#prstd, iv_l, iv_u = wls_prediction_std(res)  # Curves for standard deviation\n",
    "import matplotlib.pyplot as plt\n",
    "fig, ax = plt.subplots()\n",
    "ax.plot(df['petal_length'], df['sepal_length'], 'o', label=\"data\")\n",
    "ax.plot(df['petal_length'], res.fittedvalues, 'o', label=\"OLS\")\n",
    "ax.legend(loc='best');"
   ]
  },
  {
   "cell_type": "code",
   "execution_count": 34,
   "metadata": {},
   "outputs": [
    {
     "name": "stdout",
     "output_type": "stream",
     "text": [
      "0     -3.550107\n",
      "1     -3.550107\n",
      "2     -3.559513\n",
      "3     -3.540702\n",
      "4     -3.550107\n",
      "5     -3.520692\n",
      "6     -3.549508\n",
      "7     -3.540702\n",
      "8     -3.550107\n",
      "9     -3.541301\n",
      "10    -3.540702\n",
      "11    -3.531296\n",
      "12    -3.550707\n",
      "13    -3.578923\n",
      "14    -3.568918\n",
      "15    -3.539503\n",
      "16    -3.558313\n",
      "17    -3.549508\n",
      "18    -3.521291\n",
      "19    -3.540102\n",
      "20    -3.521891\n",
      "21    -3.539503\n",
      "22    -3.587729\n",
      "23    -3.520092\n",
      "24    -3.503080\n",
      "25    -3.531296\n",
      "26    -3.530097\n",
      "27    -3.540702\n",
      "28    -3.550107\n",
      "29    -3.531296\n",
      "         ...   \n",
      "120   -1.020437\n",
      "121   -1.097479\n",
      "122   -0.928182\n",
      "123   -1.098678\n",
      "124   -1.021636\n",
      "125   -0.995219\n",
      "126   -1.108084\n",
      "127   -1.098678\n",
      "128   -1.031042\n",
      "129   -1.015229\n",
      "130   -0.985214\n",
      "131   -0.956398\n",
      "132   -1.030442\n",
      "133   -1.081666\n",
      "134   -1.035239\n",
      "135   -0.982816\n",
      "136   -1.029243\n",
      "137   -1.042246\n",
      "138   -1.108084\n",
      "139   -1.049853\n",
      "140   -1.029243\n",
      "141   -1.076870\n",
      "142   -1.079268\n",
      "143   -1.001626\n",
      "144   -1.019238\n",
      "145   -1.067464\n",
      "146   -1.088673\n",
      "147   -1.069263\n",
      "148   -1.048653\n",
      "149   -1.079867\n",
      "Length: 150, dtype: float64\n"
     ]
    }
   ],
   "source": [
    "residues = df['petal_length'] - res.predict(df)  # Same as res.resid\n",
    "print(residues)"
   ]
  },
  {
   "cell_type": "markdown",
   "metadata": {},
   "source": [
    "The sum of squared residuals (or residual sum of squares) is:"
   ]
  },
  {
   "cell_type": "code",
   "execution_count": 37,
   "metadata": {},
   "outputs": [
    {
     "name": "stdout",
     "output_type": "stream",
     "text": [
      "16.6814894448197 16.6814894448197\n"
     ]
    }
   ],
   "source": [
    "print(np.sum(res.resid**2), res.ssr)"
   ]
  },
  {
   "cell_type": "markdown",
   "metadata": {},
   "source": [
    "# Exercises <a id=\"part4\"></a>\n",
    "## Exercise 1 <a id=\"part4sec1\"></a>\n",
    "Draw a sample from a chi-squared distribution with 5 degrees of freedom.\n",
    "Plot the histogram and the probability distribution function on the same figure."
   ]
  },
  {
   "cell_type": "code",
   "execution_count": null,
   "metadata": {
    "collapsed": true,
    "jupyter": {
     "outputs_hidden": true
    }
   },
   "outputs": [],
   "source": [
    "# Answer"
   ]
  },
  {
   "cell_type": "markdown",
   "metadata": {},
   "source": [
    "## Exercise 2 <a id=\"part4sec4\"></a>\n",
    "This exercise proposes to analyse a dataset.\n",
    "- Load the [R dataset `airquality`](https://www.rdocumentation.org/packages/datasets/versions/3.6.2/topics/airquality) with `StatsModels` utilities.\n",
    "- Make columns names pythonic (remove \".\" from solar.m).\n",
    "- Drop rows with missing data.\n",
    "- Display a summary of the dataset.\n",
    "- Perform a linear regression to explain the ozone variable with solar_r , wind, temp and month (categorical variable).\n",
    "- Display a summary of the linear regression.\n",
    "- Predict the air quality for [today](https://www.wolframalpha.com/input/?i=La+Guardia+Airport) (suppose that solar_r = 207.0, convert wind to miles per hour and temp to degrees Fahrenheit by hitting `Show nonmetric`).\n",
    "Use `res.predict(dict(solar_r=207, …))`"
   ]
  },
  {
   "cell_type": "code",
   "execution_count": null,
   "metadata": {},
   "outputs": [],
   "source": [
    "# Answer"
   ]
  },
  {
   "cell_type": "markdown",
   "metadata": {},
   "source": [
    "# References <a id=\"part5\"></a>\n",
    "- [StatsModels documentation](http://statsmodels.sourceforge.net/stable/index.html).\n",
    "- [Scipy lecture notes](http://www.scipy-lectures.org/index.html).\n",
    "- To go further: [advanced visualization with Seaborn](https://stanford.edu/~mwaskom/software/seaborn/tutorial.html)."
   ]
  }
 ],
 "metadata": {
  "kernelspec": {
   "display_name": "Python 3 (ipykernel)",
   "language": "python",
   "name": "python3"
  },
  "language_info": {
   "codemirror_mode": {
    "name": "ipython",
    "version": 3
   },
   "file_extension": ".py",
   "mimetype": "text/x-python",
   "name": "python",
   "nbconvert_exporter": "python",
   "pygments_lexer": "ipython3",
   "version": "3.8.8"
  }
 },
 "nbformat": 4,
 "nbformat_minor": 4
}
