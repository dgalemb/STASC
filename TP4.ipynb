{
 "cells": [
  {
   "cell_type": "markdown",
   "metadata": {},
   "source": [
    "# Introduction à Keras "
   ]
  },
  {
   "cell_type": "markdown",
   "metadata": {},
   "source": [
    "\"\n",
    "Keras is a model-level library, providing high-level building blocks for developing deep learning models. It does not handle itself low-level operations such as tensor products, convolutions and so on. Instead, it relies on a specialized, well-optimized tensor manipulation library to do so, serving as the “backend engine” of Keras.*\n",
    "The Python Keras API uses TensorFlow™ as it’s default tensor backend engine, however it’s possible to use other backends if desired. At this time, Keras has two backend implementations available:\n",
    "-  TensorFlow is an open-source symbolic tensor manipulation framework developed by Google.\n",
    "-  Theano is an open-source symbolic tensor manipulation framework developed by LISA Lab at Université de Montréal.\n",
    "\""
   ]
  },
  {
   "cell_type": "markdown",
   "metadata": {},
   "source": [
    "> Vérifier que la libraire Keras est bien installée.\n",
    "> Dans le cas contraire vous pouvez installer Keras via le [gestionnaire d'environnement d'Anaconda](https://www.logicalfeed.com/posts/1224/install-tensorflow-keras-and-theano-using-anaconda-for-deep-learning), en [ligne de commandes conda](https://anaconda.org/conda-forge/keras) ou encore avec `pip install Keras`."
   ]
  },
  {
   "cell_type": "code",
   "execution_count": null,
   "metadata": {},
   "outputs": [],
   "source": [
    "import tensorflow as tf\n",
    "from tensorflow import keras"
   ]
  },
  {
   "cell_type": "markdown",
   "metadata": {},
   "source": [
    "## Importation des données"
   ]
  },
  {
   "cell_type": "markdown",
   "metadata": {},
   "source": [
    "Dans ce TP, nous allons illustrer les fonctionnalitées de [Keras](https://keras.io/getting_started/intro_to_keras_for_engineers/) sur la base de données des [handwritten digits](http://scikit-learn.org/stable/modules/generated/sklearn.datasets.load_digits.html#sklearn.datasets.load_digits) de sckit-learn.\n",
    "\n",
    "Il s'agit d'un problème de classification à 10 classes (10 digits). "
   ]
  },
  {
   "cell_type": "code",
   "execution_count": null,
   "metadata": {},
   "outputs": [],
   "source": [
    "%matplotlib inline \n",
    "import matplotlib.pyplot as plt"
   ]
  },
  {
   "cell_type": "code",
   "execution_count": null,
   "metadata": {},
   "outputs": [],
   "source": [
    "import numpy as np\n",
    "from sklearn.datasets import load_digits\n",
    "from sklearn import preprocessing \n",
    "from sklearn.model_selection import train_test_split"
   ]
  },
  {
   "cell_type": "code",
   "execution_count": null,
   "metadata": {},
   "outputs": [],
   "source": [
    "digits = load_digits()"
   ]
  },
  {
   "cell_type": "code",
   "execution_count": null,
   "metadata": {},
   "outputs": [],
   "source": [
    "sample_index = 50\n",
    "plt.figure(figsize=(3, 3))\n",
    "plt.imshow(digits.images[sample_index], cmap=plt.cm.gray_r,\n",
    "           interpolation='nearest')\n",
    "plt.title(\"label: %d\" % digits.target[sample_index]);"
   ]
  },
  {
   "cell_type": "markdown",
   "metadata": {},
   "source": [
    "> Normaliser les données avec la fonction `preprocessing.scale()` et séparer celles-ci en deux échantillons d'apprentissage et de test. Afficher la dimension des deux jeux de données."
   ]
  },
  {
   "cell_type": "code",
   "execution_count": null,
   "metadata": {},
   "outputs": [],
   "source": [
    "digits.data_nor = preprocessing.scale(digits.data)\n",
    "\n",
    "X_train_nor, X_test_nor, y_train, y_test = train_test_split(digits.data, digits.target, test_size = 0.4)"
   ]
  },
  {
   "cell_type": "markdown",
   "metadata": {},
   "source": [
    "Les dimensions des deux jeux de données:"
   ]
  },
  {
   "cell_type": "code",
   "execution_count": null,
   "metadata": {},
   "outputs": [],
   "source": [
    "print(X_train_nor.shape, y_train.shape)\n",
    "print(X_test_nor.shape, y_test.shape)"
   ]
  },
  {
   "cell_type": "markdown",
   "metadata": {},
   "source": [
    "## Feed Forward Neural Network avec Keras"
   ]
  },
  {
   "cell_type": "markdown",
   "metadata": {},
   "source": [
    "Nous allons maintenant définir et ajuster un modèle à propagation avant (Feed Forward) avec Keras.\n",
    "\n",
    "#### Pre-processing"
   ]
  },
  {
   "cell_type": "markdown",
   "metadata": {},
   "source": [
    "La variable de classe (chiffre correspondant) indique le numéro de la catégorie : "
   ]
  },
  {
   "cell_type": "code",
   "execution_count": null,
   "metadata": {},
   "outputs": [],
   "source": [
    "y_train[:3]"
   ]
  },
  {
   "cell_type": "markdown",
   "metadata": {},
   "source": [
    "Avec Keras, pour construire un réseau de neurones adapté à ce problème de la classification multiclasses, il faut préalablement transformer la variable de classe sous la forme \"one hot encoding\" i.e. transformer la variable de classe en un vecteur indiquant l'appartenance à chacune des classes sous forme d'indicatrices :"
   ]
  },
  {
   "cell_type": "code",
   "execution_count": null,
   "metadata": {},
   "outputs": [],
   "source": [
    "from keras.utils.np_utils import to_categorical\n",
    "\n",
    "Y_train = to_categorical(y_train)\n",
    "Y_train[:3]"
   ]
  },
  {
   "cell_type": "markdown",
   "metadata": {},
   "source": [
    "#### Definition de l'architecture"
   ]
  },
  {
   "cell_type": "markdown",
   "metadata": {},
   "source": [
    "Nous allons maintenant construire un premier réseau à propagation avant :"
   ]
  },
  {
   "cell_type": "code",
   "execution_count": null,
   "metadata": {},
   "outputs": [],
   "source": [
    "from keras.models import Sequential"
   ]
  },
  {
   "cell_type": "markdown",
   "metadata": {},
   "source": [
    "On importe les fonctionnalités qui permettent de définir, de façon successive, les différentes couches :\n",
    "- Dense : permet de définir les pré-activations, c'est dans cette couche que se situent les poids et les termes de biais.\n",
    "- Activation :  permet de définir les fonctions d'activation."
   ]
  },
  {
   "cell_type": "code",
   "execution_count": null,
   "metadata": {},
   "outputs": [],
   "source": [
    "from keras.layers.core import Dense, Activation"
   ]
  },
  {
   "cell_type": "markdown",
   "metadata": {},
   "source": [
    "Les dimensions du modèle : "
   ]
  },
  {
   "cell_type": "code",
   "execution_count": null,
   "metadata": {},
   "outputs": [],
   "source": [
    "N = X_train_nor.shape[1]  # dimension en entrée\n",
    "N"
   ]
  },
  {
   "cell_type": "code",
   "execution_count": null,
   "metadata": {},
   "outputs": [],
   "source": [
    "H = 128 # dimension de la couche cachée\n",
    "K = 10  # nombre de classes en sortie (autant que de chiffres ici)"
   ]
  },
  {
   "cell_type": "markdown",
   "metadata": {},
   "source": [
    "On peut maintenant définir l'architecture du réseau :"
   ]
  },
  {
   "cell_type": "code",
   "execution_count": null,
   "metadata": {},
   "outputs": [],
   "source": [
    "model = Sequential()\n",
    "model.add(Dense(H, input_dim=N))\n",
    "model.add(Activation(\"relu\"))\n",
    "model.add(Dense(K))\n",
    "model.add(Activation(\"softmax\"))"
   ]
  },
  {
   "cell_type": "markdown",
   "metadata": {},
   "source": [
    "Il est possible de résumer l'architecture avec la méthode `summary()`:"
   ]
  },
  {
   "cell_type": "code",
   "execution_count": null,
   "metadata": {},
   "outputs": [],
   "source": [
    "model.summary()"
   ]
  },
  {
   "cell_type": "markdown",
   "metadata": {},
   "source": [
    "Le nombre de paramètres est indiqué dans la dernière colonne, notez que seules les couches `dense` contiennent ici des paramètres à ajuster.\n",
    "\n",
    "Les dimensions en sortie de chaque couche sont de la forme `(None, ...)`. Lorsque le réseau sera ajusté sur un échantillon, la première dimension indiquera la taille de l'échantillon."
   ]
  },
  {
   "cell_type": "markdown",
   "metadata": {},
   "source": [
    "Vous pouvez visualiser (dans un fichier .png) l'architecture ainsi. Si vous êtes confronté à des problèmes d'installation (librairies `pydot`, `graphviz` ...), ne perdez pas trop de temps sur cette partie."
   ]
  },
  {
   "cell_type": "code",
   "execution_count": null,
   "metadata": {},
   "outputs": [],
   "source": [
    "from keras.utils import plot_model\n",
    "plot_model(model, to_file='model.png')"
   ]
  },
  {
   "cell_type": "markdown",
   "metadata": {},
   "source": [
    "#### Poids du réseau"
   ]
  },
  {
   "cell_type": "markdown",
   "metadata": {},
   "source": [
    "Le contenu (les poids) de chaque couche du réseau est accessible dans la liste `model.layers`. Par exemple pour la premiere couche :"
   ]
  },
  {
   "cell_type": "code",
   "execution_count": null,
   "metadata": {},
   "outputs": [],
   "source": [
    "my_first_layer = model.layers[0]"
   ]
  },
  {
   "cell_type": "markdown",
   "metadata": {},
   "source": [
    "Le tableau contenant les valeurs des poids et les termes de biais de cette première couche sont accessibles avec la méthode `get_weights()`. La méthode renvoie en fait une liste contenant\n",
    "- le tableau numpy des poids,\n",
    "- le vecteur des termes de biais.\n",
    "\n",
    "> Vérifier que le tableau des poids ainsi que les termes de biais possèdent les dimensions attendues compte tenu de ce que nous avons vu dans le `model.summary()` plus haut. Retrouvez le nombre de paramètres affichés dans le `model.summary()`."
   ]
  },
  {
   "cell_type": "code",
   "execution_count": null,
   "metadata": {},
   "outputs": [],
   "source": [
    "len(my_first_layer.get_weights()[0]), len(my_first_layer.get_weights()[1])\n",
    "print(f'Number of parameters: Input : {len(my_first_layer.get_weights()[1])} neurones, each one with {len(my_first_layer.get_weights()[0])} weights and {1} bias, totalling {len(my_first_layer.get_weights()[0])*len(my_first_layer.get_weights()[1])+len(my_first_layer.get_weights()[1])} parameters')"
   ]
  },
  {
   "cell_type": "markdown",
   "metadata": {},
   "source": [
    "> Bien que le réseau n'ait pas encore été ajusté sur des données, vérifier que la définition de l'architecture implique une intialisation immédiate des poids du réseau (i.e. les poids prennent des valeurs). \n",
    "> Vérifier aussi que les biais sont initialisés à zéro."
   ]
  },
  {
   "cell_type": "code",
   "execution_count": 98,
   "metadata": {},
   "outputs": [
    {
     "data": {
      "text/plain": [
       "(array([-1.2416452e-04, -6.3240906e-04, -1.7401080e-03, -3.9316891e-04,\n",
       "        -2.6123230e-03, -1.5924033e-03, -2.4780445e-03, -8.5387583e-04,\n",
       "         9.7552157e-04, -6.8421959e-04, -2.3794067e-03, -6.7645822e-05,\n",
       "        -5.9140823e-04, -3.4977449e-03, -1.5830429e-03, -1.7938417e-03,\n",
       "         1.0725269e-03,  3.8812117e-04,  6.8467038e-05,  4.7552405e-04,\n",
       "        -5.4710556e-05, -6.7953242e-04, -1.2965935e-04,  2.3881188e-03,\n",
       "        -7.2339695e-04,  5.5408216e-04, -3.4602819e-04,  1.7897805e-03,\n",
       "        -6.7619054e-04, -4.0287312e-04,  0.0000000e+00, -1.8315679e-04,\n",
       "         9.0969523e-04, -2.3139601e-03,  2.7546000e-03,  2.1453695e-03,\n",
       "        -1.3123507e-03, -1.3473634e-04, -1.6626731e-03,  2.6458094e-04,\n",
       "         2.2293355e-04, -3.8438232e-03,  1.3564681e-03, -5.8449199e-04,\n",
       "        -1.2151173e-03, -2.6938834e-03,  1.9871476e-04, -1.9225287e-03,\n",
       "         1.0435893e-03, -2.8710521e-03, -4.1183695e-04,  3.3438456e-04,\n",
       "         0.0000000e+00, -7.5851902e-05, -9.3536277e-04,  7.8361924e-04,\n",
       "        -1.2166403e-03, -7.8421732e-04,  9.1112095e-05,  5.1059696e-04,\n",
       "        -1.5257408e-03, -1.3615278e-04,  2.1850500e-04,  0.0000000e+00,\n",
       "        -3.5160752e-03,  1.7412344e-03,  3.7545648e-03,  9.2186583e-06,\n",
       "         5.3429219e-04, -1.9139498e-03, -2.4002388e-03, -1.0424329e-03,\n",
       "         0.0000000e+00, -1.8862890e-03,  1.2610548e-03, -1.0487792e-03,\n",
       "        -1.9851944e-04,  1.9737324e-03,  7.4149837e-04,  6.1349769e-05,\n",
       "        -2.6594270e-03, -4.0839668e-03,  3.0355409e-04, -1.9829290e-03,\n",
       "        -4.2476568e-05,  1.3367466e-03, -2.7254615e-03, -1.7446430e-03,\n",
       "        -2.5350929e-04,  5.1250530e-04, -9.5710787e-04, -1.6058786e-04,\n",
       "        -2.2272291e-03, -1.5163282e-03,  4.0733875e-03, -5.2618200e-04,\n",
       "        -4.0100636e-03, -6.8949495e-04, -1.6216112e-03, -9.5832639e-04,\n",
       "        -1.3883384e-03, -1.5657522e-04,  1.4427153e-04, -2.5806536e-03,\n",
       "        -1.8016704e-04, -1.9168920e-03, -4.3116033e-04, -2.2070601e-03,\n",
       "         1.4709968e-03, -2.4136736e-03,  1.4444778e-03, -7.5316051e-04,\n",
       "         4.2942612e-04,  1.3262888e-03,  0.0000000e+00, -1.8166252e-03,\n",
       "        -1.7068746e-04, -9.0132345e-04,  8.1648113e-04,  6.1426108e-05,\n",
       "        -4.8685627e-04,  3.6616987e-04, -1.8674801e-03, -3.6298553e-03,\n",
       "        -7.2264877e-05, -1.2374625e-03, -6.3781015e-04, -4.1605998e-04],\n",
       "       dtype=float32),\n",
       " array([[-0.04563357, -0.1464109 , -0.09012665, ..., -0.06935306,\n",
       "          0.03748225,  0.11725788],\n",
       "        [ 0.05371366, -0.17268541, -0.11600041, ..., -0.01582207,\n",
       "         -0.14346406,  0.08418266],\n",
       "        [-0.11304104, -0.04498076, -0.15796362, ...,  0.04333718,\n",
       "          0.0206297 , -0.04663196],\n",
       "        ...,\n",
       "        [ 0.10440393,  0.0720685 ,  0.09207553, ..., -0.12653783,\n",
       "         -0.02452867,  0.01329608],\n",
       "        [-0.14777327, -0.0272767 ,  0.01213745, ...,  0.15839992,\n",
       "         -0.01650226, -0.11840455],\n",
       "        [ 0.14668944, -0.0845382 , -0.06401782, ...,  0.16508059,\n",
       "          0.03980738,  0.05023801]], dtype=float32))"
      ]
     },
     "execution_count": 98,
     "metadata": {},
     "output_type": "execute_result"
    }
   ],
   "source": [
    "my_first_layer.get_weights()[1], my_first_layer.get_weights()[0]"
   ]
  },
  {
   "cell_type": "markdown",
   "metadata": {},
   "source": [
    "### Apprentissage : ajustement des poids du réseau"
   ]
  },
  {
   "cell_type": "markdown",
   "metadata": {},
   "source": [
    "La phase d'apprentissage consiste à estimer le vecteur $\\theta$ (qui contient tous les paramètres du réseau : poids et biais) en cherchant à minimiser en $\\theta$ le risque empirique (ici sans pénalité) \n",
    "$$ \\theta \\mapsto \\frac 1{n} \\sum_{i=1}^n  \\ell( f(X_i , \\theta),Y_i) $$\n",
    "où $f(\\cdot , \\theta)$ est la fonction qui correspond au réseau de neurones et où $\\ell$ est la perte choisie. Pour le problème de classification multiclasses qui nous intéresse ici il s'agit de la cross-entropy.\n",
    "\n",
    "On utilise pour cela une méthode d'optimisation de type descente de gradient stochastique, appliquée au risque empirique pénalisé. Par exemple pour `SGD`, chaque itération effectue un pas de gradient, en calculant ce gradient sur un sous-échantillon des données (échantillon batch):\n",
    "$$ \\theta_b  =   \\theta_{b-1}  - \\varepsilon   \\frac 1{|B|} \\sum_{i \\in B}  \\nabla_\\theta \\ell( f(X_i , \\theta_{b-1}),Y_i)   \n",
    " $$\n",
    "où $\\varepsilon$ est le taux d'apprentissage (learning rate).\n",
    "\n",
    "Le module `optimizers` de Keras permet de choisir la méthode d'optimisation. On utilise ci-dessous l'optimiseur `SGD`, avec l'argument `lr` pour régler le taux d'apprentissage :"
   ]
  },
  {
   "cell_type": "code",
   "execution_count": 102,
   "metadata": {},
   "outputs": [],
   "source": [
    "from keras.optimizers import SGD\n",
    "sgd = SGD(learning_rate=0.08)"
   ]
  },
  {
   "cell_type": "markdown",
   "metadata": {},
   "source": [
    "Nous allons maintenant ajuster sur les données digits un réseau de neurones à une couche cachée.\n",
    "\n",
    "L'ajustement est effectué en deux temps : compilation puis ajustement sur les données.\n",
    "\n",
    "On spécifie les éléments nécessaires à l'ajustement  avec la méthode  `compile` :\n",
    "- optimiseur,\n",
    "- perte considérée pour la back propagation (dans l'algo de descente de gradient)\n",
    "- \"métriques\" à considérer pour évaluer l'erreur. On pourrait bien sûr évaluer l'erreur uniquement pour la cross-entropy, mais l'erreur pour la perte sèche $\\ell(y,y') = 1_{y \\neq y'}$ est plus facile à interpréter, on choisit donc de suivre  aussi la métrique \"accuracy\" (précision = taux de bien classé) le long de la trajectoire de descente de gradient."
   ]
  },
  {
   "cell_type": "code",
   "execution_count": 103,
   "metadata": {},
   "outputs": [],
   "source": [
    "model.compile(optimizer=sgd,\n",
    "              loss='categorical_crossentropy',\n",
    "              metrics=['accuracy'])"
   ]
  },
  {
   "cell_type": "markdown",
   "metadata": {},
   "source": [
    "Dans les arguments de la méthode `.fit` ci-dessous:\n",
    "- epochs = nombre de passages sur l'ensemble de l'échantillon  ;\n",
    "- batch_size = taille du sous-échantillon extrait (batch) pour le calcul du gradient à chaque itération."
   ]
  },
  {
   "cell_type": "code",
   "execution_count": 117,
   "metadata": {
    "scrolled": true
   },
   "outputs": [
    {
     "name": "stdout",
     "output_type": "stream",
     "text": [
      "Epoch 1/15\n",
      "34/34 [==============================] - 0s 11ms/step - loss: 0.0193 - accuracy: 0.9944\n",
      "Epoch 2/15\n",
      "34/34 [==============================] - 0s 11ms/step - loss: 0.0159 - accuracy: 0.9954\n",
      "Epoch 3/15\n",
      "34/34 [==============================] - 0s 11ms/step - loss: 0.0138 - accuracy: 0.9963\n",
      "Epoch 4/15\n",
      "34/34 [==============================] - 0s 11ms/step - loss: 0.0067 - accuracy: 0.9991\n",
      "Epoch 5/15\n",
      "34/34 [==============================] - 0s 11ms/step - loss: 0.0070 - accuracy: 0.9991\n",
      "Epoch 6/15\n",
      "34/34 [==============================] - 0s 11ms/step - loss: 0.0047 - accuracy: 1.0000\n",
      "Epoch 7/15\n",
      "34/34 [==============================] - 0s 11ms/step - loss: 0.0042 - accuracy: 1.0000\n",
      "Epoch 8/15\n",
      "34/34 [==============================] - 0s 11ms/step - loss: 0.0049 - accuracy: 1.0000\n",
      "Epoch 9/15\n",
      "34/34 [==============================] - 0s 11ms/step - loss: 0.0048 - accuracy: 0.9991\n",
      "Epoch 10/15\n",
      "34/34 [==============================] - 0s 11ms/step - loss: 0.0034 - accuracy: 1.0000\n",
      "Epoch 11/15\n",
      "34/34 [==============================] - 0s 11ms/step - loss: 0.0030 - accuracy: 1.0000\n",
      "Epoch 12/15\n",
      "34/34 [==============================] - 0s 11ms/step - loss: 0.0029 - accuracy: 1.0000\n",
      "Epoch 13/15\n",
      "34/34 [==============================] - 0s 11ms/step - loss: 0.0027 - accuracy: 1.0000\n",
      "Epoch 14/15\n",
      "34/34 [==============================] - 0s 11ms/step - loss: 0.0024 - accuracy: 1.0000\n",
      "Epoch 15/15\n",
      "34/34 [==============================] - 0s 11ms/step - loss: 0.0022 - accuracy: 1.0000\n"
     ]
    },
    {
     "data": {
      "text/plain": [
       "<keras.callbacks.History at 0x2c7901270>"
      ]
     },
     "execution_count": 117,
     "metadata": {},
     "output_type": "execute_result"
    }
   ],
   "source": [
    "model.fit(X_train_nor, Y_train, epochs=15, batch_size=32)"
   ]
  },
  {
   "cell_type": "markdown",
   "metadata": {},
   "source": [
    "> Chaque ligne correspond à un passage sur l'ensemble des données (= un epoch). Nous avons choisi un batch size de 32 observations. Combien de pas de gradients sont donc effectués par epoch pour ce choix de paramètres ?"
   ]
  },
  {
   "cell_type": "code",
   "execution_count": 113,
   "metadata": {},
   "outputs": [
    {
     "data": {
      "text/plain": [
       "33.6875"
      ]
     },
     "execution_count": 113,
     "metadata": {},
     "output_type": "execute_result"
    }
   ],
   "source": [
    "len(X_train_nor)/32"
   ]
  },
  {
   "cell_type": "markdown",
   "metadata": {},
   "source": [
    "> La perte cross entropy (ici utilisé pour désigner le risque empirique pour la cross entropy) et la précision (accuracy) s'améliorent-elles le long de la trajectoire de descente de gradient ?"
   ]
  },
  {
   "cell_type": "markdown",
   "metadata": {},
   "source": [
    "Oui, en général, oui."
   ]
  },
  {
   "cell_type": "markdown",
   "metadata": {},
   "source": [
    "Les poids sont enregistrés dans `model.layers`. \n",
    "\n",
    "> Les biais sont ils toujours à zero ?"
   ]
  },
  {
   "cell_type": "code",
   "execution_count": 116,
   "metadata": {},
   "outputs": [
    {
     "data": {
      "text/plain": [
       "array([-1.2416452e-04, -6.3240906e-04, -1.7401080e-03, -3.9316891e-04,\n",
       "       -2.6123230e-03, -1.5924033e-03, -2.4780445e-03, -8.5387583e-04,\n",
       "        9.7552157e-04, -6.8421959e-04, -2.3794067e-03, -6.7645822e-05,\n",
       "       -5.9140823e-04, -3.4977449e-03, -1.5830429e-03, -1.7938417e-03,\n",
       "        1.0725269e-03,  3.8812117e-04,  6.8467038e-05,  4.7552405e-04,\n",
       "       -5.4710556e-05, -6.7953242e-04, -1.2965935e-04,  2.3881188e-03,\n",
       "       -7.2339695e-04,  5.5408216e-04, -3.4602819e-04,  1.7897805e-03,\n",
       "       -6.7619054e-04, -4.0287312e-04,  0.0000000e+00, -1.8315679e-04,\n",
       "        9.0969523e-04, -2.3139601e-03,  2.7546000e-03,  2.1453695e-03,\n",
       "       -1.3123507e-03, -1.3473634e-04, -1.6626731e-03,  2.6458094e-04,\n",
       "        2.2293355e-04, -3.8438232e-03,  1.3564681e-03, -5.8449199e-04,\n",
       "       -1.2151173e-03, -2.6938834e-03,  1.9871476e-04, -1.9225287e-03,\n",
       "        1.0435893e-03, -2.8710521e-03, -4.1183695e-04,  3.3438456e-04,\n",
       "        0.0000000e+00, -7.5851902e-05, -9.3536277e-04,  7.8361924e-04,\n",
       "       -1.2166403e-03, -7.8421732e-04,  9.1112095e-05,  5.1059696e-04,\n",
       "       -1.5257408e-03, -1.3615278e-04,  2.1850500e-04,  0.0000000e+00,\n",
       "       -3.5160752e-03,  1.7412344e-03,  3.7545648e-03,  9.2186583e-06,\n",
       "        5.3429219e-04, -1.9139498e-03, -2.4002388e-03, -1.0424329e-03,\n",
       "        0.0000000e+00, -1.8862890e-03,  1.2610548e-03, -1.0487792e-03,\n",
       "       -1.9851944e-04,  1.9737324e-03,  7.4149837e-04,  6.1349769e-05,\n",
       "       -2.6594270e-03, -4.0839668e-03,  3.0355409e-04, -1.9829290e-03,\n",
       "       -4.2476568e-05,  1.3367466e-03, -2.7254615e-03, -1.7446430e-03,\n",
       "       -2.5350929e-04,  5.1250530e-04, -9.5710787e-04, -1.6058786e-04,\n",
       "       -2.2272291e-03, -1.5163282e-03,  4.0733875e-03, -5.2618200e-04,\n",
       "       -4.0100636e-03, -6.8949495e-04, -1.6216112e-03, -9.5832639e-04,\n",
       "       -1.3883384e-03, -1.5657522e-04,  1.4427153e-04, -2.5806536e-03,\n",
       "       -1.8016704e-04, -1.9168920e-03, -4.3116033e-04, -2.2070601e-03,\n",
       "        1.4709968e-03, -2.4136736e-03,  1.4444778e-03, -7.5316051e-04,\n",
       "        4.2942612e-04,  1.3262888e-03,  0.0000000e+00, -1.8166252e-03,\n",
       "       -1.7068746e-04, -9.0132345e-04,  8.1648113e-04,  6.1426108e-05,\n",
       "       -4.8685627e-04,  3.6616987e-04, -1.8674801e-03, -3.6298553e-03,\n",
       "       -7.2264877e-05, -1.2374625e-03, -6.3781015e-04, -4.1605998e-04],\n",
       "      dtype=float32)"
      ]
     },
     "execution_count": 116,
     "metadata": {},
     "output_type": "execute_result"
    }
   ],
   "source": [
    "my_first_layer.get_weights()[1]"
   ]
  },
  {
   "cell_type": "markdown",
   "metadata": {},
   "source": [
    "> En comparant les valeurs de la perte et de l'accuracy, vérifier (sur les sorties) que si l'on effectue l'ajustement une seconde fois, l'état initial pour le second essai correspond à l'état du réseau précédemment ajusté."
   ]
  },
  {
   "cell_type": "markdown",
   "metadata": {},
   "source": [
    "> Essayer de diminuer encore la perte en augmentant le nombre d'épochs, en diminuant le taux d'apprentissage (par exemple 0.001).   \n",
    "> Remarque : si vous souhaitez réinitialiser les poids, il vous faut \"réinstancier\" le modèle en le redéfinissant totalement. "
   ]
  },
  {
   "cell_type": "code",
   "execution_count": 118,
   "metadata": {},
   "outputs": [],
   "source": [
    "model2 = Sequential()\n",
    "model2.add(Dense(H, input_dim=N))\n",
    "model2.add(Activation(\"relu\"))\n",
    "model2.add(Dense(K))\n",
    "model2.add(Activation(\"softmax\"))"
   ]
  },
  {
   "cell_type": "markdown",
   "metadata": {},
   "source": [
    "> Que dire de la convergence pour une grande valeur du taux d'apprentissage (par exemple `lr=2`) ?"
   ]
  },
  {
   "cell_type": "code",
   "execution_count": 122,
   "metadata": {},
   "outputs": [
    {
     "name": "stdout",
     "output_type": "stream",
     "text": [
      "Epoch 1/10\n",
      " 6/34 [====>.........................] - ETA: 0s - loss: 2.3136 - accuracy: 0.1042"
     ]
    },
    {
     "name": "stderr",
     "output_type": "stream",
     "text": [
      "2022-12-12 14:01:22.972888: I tensorflow/core/grappler/optimizers/custom_graph_optimizer_registry.cc:114] Plugin optimizer for device_type GPU is enabled.\n"
     ]
    },
    {
     "name": "stdout",
     "output_type": "stream",
     "text": [
      "34/34 [==============================] - 1s 12ms/step - loss: 2.3163 - accuracy: 0.1002\n",
      "Epoch 2/10\n",
      "34/34 [==============================] - 0s 11ms/step - loss: 2.3157 - accuracy: 0.1113\n",
      "Epoch 3/10\n",
      "34/34 [==============================] - 0s 11ms/step - loss: 2.3152 - accuracy: 0.1095\n",
      "Epoch 4/10\n",
      "34/34 [==============================] - 0s 11ms/step - loss: 2.3141 - accuracy: 0.1113\n",
      "Epoch 5/10\n",
      "34/34 [==============================] - 0s 11ms/step - loss: 2.3231 - accuracy: 0.1048\n",
      "Epoch 6/10\n",
      "34/34 [==============================] - 0s 11ms/step - loss: 2.3159 - accuracy: 0.0881\n",
      "Epoch 7/10\n",
      "34/34 [==============================] - 0s 11ms/step - loss: 2.3189 - accuracy: 0.0937\n",
      "Epoch 8/10\n",
      "34/34 [==============================] - 0s 11ms/step - loss: 2.3240 - accuracy: 0.0955\n",
      "Epoch 9/10\n",
      "34/34 [==============================] - 0s 11ms/step - loss: 2.3214 - accuracy: 0.0872\n",
      "Epoch 10/10\n",
      "34/34 [==============================] - 0s 11ms/step - loss: 2.3174 - accuracy: 0.0974\n"
     ]
    },
    {
     "data": {
      "text/plain": [
       "<keras.callbacks.History at 0x2c7d750c0>"
      ]
     },
     "execution_count": 122,
     "metadata": {},
     "output_type": "execute_result"
    }
   ],
   "source": [
    "sgd2 = SGD(lr=2) \n",
    "\n",
    "model2.compile(optimizer=sgd2,\n",
    "              loss='categorical_crossentropy',\n",
    "              metrics=['accuracy'])\n",
    "\n",
    "model2.fit(X_train_nor, Y_train, epochs=10, batch_size=32)"
   ]
  },
  {
   "cell_type": "markdown",
   "metadata": {},
   "source": [
    "> Essayer aussi d'utiliser une méthode `Momentum-SGD` (argument `momentum= True`).  "
   ]
  },
  {
   "cell_type": "code",
   "execution_count": 149,
   "metadata": {},
   "outputs": [
    {
     "name": "stdout",
     "output_type": "stream",
     "text": [
      "Epoch 1/15\n",
      " 4/34 [==>...........................] - ETA: 0s - loss: 6.2761 - accuracy: 0.0859    "
     ]
    },
    {
     "name": "stderr",
     "output_type": "stream",
     "text": [
      "2022-12-12 14:38:21.045990: I tensorflow/core/grappler/optimizers/custom_graph_optimizer_registry.cc:114] Plugin optimizer for device_type GPU is enabled.\n"
     ]
    },
    {
     "name": "stdout",
     "output_type": "stream",
     "text": [
      "34/34 [==============================] - 1s 15ms/step - loss: 2.9151 - accuracy: 0.4657\n",
      "Epoch 2/15\n",
      "34/34 [==============================] - 0s 13ms/step - loss: 0.8498 - accuracy: 0.7801\n",
      "Epoch 3/15\n",
      "34/34 [==============================] - 0s 12ms/step - loss: 0.5916 - accuracy: 0.8275\n",
      "Epoch 4/15\n",
      "34/34 [==============================] - 0s 12ms/step - loss: 0.5067 - accuracy: 0.8831\n",
      "Epoch 5/15\n",
      "34/34 [==============================] - 0s 13ms/step - loss: 0.5407 - accuracy: 0.9082\n",
      "Epoch 6/15\n",
      "34/34 [==============================] - 0s 12ms/step - loss: 0.7227 - accuracy: 0.9007\n",
      "Epoch 7/15\n",
      "34/34 [==============================] - 0s 12ms/step - loss: 0.5580 - accuracy: 0.9406\n",
      "Epoch 8/15\n",
      "34/34 [==============================] - 0s 12ms/step - loss: 0.5326 - accuracy: 0.9573\n",
      "Epoch 9/15\n",
      "34/34 [==============================] - 0s 12ms/step - loss: 0.6711 - accuracy: 0.9536\n",
      "Epoch 10/15\n",
      "34/34 [==============================] - 0s 13ms/step - loss: 0.5809 - accuracy: 0.9462\n",
      "Epoch 11/15\n",
      "34/34 [==============================] - 0s 12ms/step - loss: 0.3858 - accuracy: 0.9685\n",
      "Epoch 12/15\n",
      "34/34 [==============================] - 0s 13ms/step - loss: 0.3870 - accuracy: 0.9740\n",
      "Epoch 13/15\n",
      "34/34 [==============================] - 0s 13ms/step - loss: 0.2650 - accuracy: 0.9759\n",
      "Epoch 14/15\n",
      "34/34 [==============================] - 0s 13ms/step - loss: 0.3376 - accuracy: 0.9750\n",
      "Epoch 15/15\n",
      "34/34 [==============================] - 0s 12ms/step - loss: 0.2588 - accuracy: 0.9833\n"
     ]
    },
    {
     "data": {
      "text/plain": [
       "<keras.callbacks.History at 0x2f80ebac0>"
      ]
     },
     "execution_count": 149,
     "metadata": {},
     "output_type": "execute_result"
    }
   ],
   "source": [
    "model3 = Sequential()\n",
    "model3.add(Dense(H, input_dim=N))\n",
    "model3.add(Activation(\"relu\"))\n",
    "model3.add(Dense(K))\n",
    "model3.add(Activation(\"softmax\"))\n",
    "\n",
    "sgd3 = SGD(learning_rate=0.0007, momentum = True) \n",
    "\n",
    "model3.compile(optimizer=sgd3,\n",
    "              loss='categorical_crossentropy',\n",
    "              metrics=['accuracy'])\n",
    "\n",
    "model3.fit(X_train_nor, Y_train, epochs=15, batch_size=32)"
   ]
  },
  {
   "cell_type": "markdown",
   "metadata": {},
   "source": [
    "### Predictions et erreur de généralisation"
   ]
  },
  {
   "cell_type": "markdown",
   "metadata": {},
   "source": [
    "> Effectuer des prédictions de votre réseau sur l'échantillon test avec la méthode `.predict()`."
   ]
  },
  {
   "cell_type": "code",
   "execution_count": 179,
   "metadata": {},
   "outputs": [
    {
     "name": "stdout",
     "output_type": "stream",
     "text": [
      "23/23 [==============================] - 0s 3ms/step\n"
     ]
    }
   ],
   "source": [
    "y_predicted = model.predict(X_test_nor)\n",
    "y_predicted1 = [np.argmax(y_predicted) for y_predicted in y_predicted]"
   ]
  },
  {
   "cell_type": "markdown",
   "metadata": {},
   "source": [
    "> Pour plusieurs élements de l'échantillon test, renvoyer les probabilités conditionnelles prédites par le réseau (en sortie du Softmax) à l'aide de la méthode `.model.predict()`. La probabilité de la classe choisie est-elle générallement bien supérieure aux probabilités des autres classes ?\n",
    "Calculer le taux de bien classé sur l'échantillon test."
   ]
  },
  {
   "cell_type": "code",
   "execution_count": 180,
   "metadata": {},
   "outputs": [
    {
     "data": {
      "text/plain": [
       "Text(0.5, 1.0, 'predicted label: 3\\n true label: 3')"
      ]
     },
     "execution_count": 180,
     "metadata": {},
     "output_type": "execute_result"
    },
    {
     "data": {
      "image/png": "[encoded data removed]",
      "text/plain": [
       "<Figure size 640x480 with 1 Axes>"
      ]
     },
     "metadata": {},
     "output_type": "display_data"
    }
   ],
   "source": [
    "sample_idx = 2\n",
    "plt.imshow(X_test_nor[sample_idx].reshape(8, 8),\n",
    "           cmap=plt.cm.gray_r, interpolation='nearest');\n",
    "plt.title(\"predicted label: %d\\n true label: %d\"\n",
    "              % (y_predicted1[sample_idx], y_test[sample_idx]))\n",
    "\n",
    "    "
   ]
  },
  {
   "cell_type": "code",
   "execution_count": 181,
   "metadata": {},
   "outputs": [
    {
     "data": {
      "text/plain": [
       "array([9.7956625e-12, 4.2186751e-11, 2.0584914e-06, 9.9995863e-01,\n",
       "       4.2174150e-13, 1.2972853e-08, 2.9707115e-11, 4.9561422e-10,\n",
       "       3.7465088e-05, 1.8042487e-06], dtype=float32)"
      ]
     },
     "execution_count": 181,
     "metadata": {},
     "output_type": "execute_result"
    }
   ],
   "source": [
    "probabilities = y_predicted\n",
    "probabilities[sample_idx] "
   ]
  },
  {
   "cell_type": "code",
   "execution_count": 182,
   "metadata": {
    "scrolled": true
   },
   "outputs": [
    {
     "data": {
      "image/png": "[encoded data removed]",
      "text/plain": [
       "<Figure size 1200x900 with 15 Axes>"
      ]
     },
     "metadata": {},
     "output_type": "display_data"
    }
   ],
   "source": [
    "plt.figure(figsize=(12, 9))\n",
    "for i in range(15):\n",
    "    plt.subplot(3, 5, i + 1)\n",
    "    plt.imshow(X_test_nor[i].reshape(8, 8),\n",
    "               cmap=plt.cm.gray_r, interpolation='nearest')\n",
    "    plt.title(\"predicted label: %d\\n true label: %d\"\n",
    "              % (y_predicted1[i], y_test[i]))\n",
    "  "
   ]
  },
  {
   "cell_type": "code",
   "execution_count": 183,
   "metadata": {},
   "outputs": [
    {
     "data": {
      "text/plain": [
       "0.9707927677329624"
      ]
     },
     "execution_count": 183,
     "metadata": {},
     "output_type": "execute_result"
    }
   ],
   "source": [
    "(y_predicted1 == y_test).mean()"
   ]
  },
  {
   "cell_type": "markdown",
   "metadata": {},
   "source": [
    "On rappelle que la perte empirique pour la cross-entropy vaut\n",
    "\\begin{eqnarray*}\n",
    "\\hat{ \\mathcal R}_n (\\theta)  &=&  \\frac 1n  \\sum_{i=1}^n  \\ell( Y_i,  f(X_i , \\theta)) \\\\ \n",
    "& =&   -    \\frac 1n \\sum_{i=1}^n  \\sum_{k = 1}^K  \\mathbb{1}_{Y_i =  k}  \\log (f(X_i , \\theta)_k)  \n",
    "\\end{eqnarray*}\n"
   ]
  },
  {
   "cell_type": "markdown",
   "metadata": {},
   "source": [
    "> Calculer (\"à la main\") le risque empirique (pour la cross entropy) sur l'échantillon test. Le risque était-il plus faible sur l'échantillon d'apprentissage  ?"
   ]
  },
  {
   "cell_type": "code",
   "execution_count": 184,
   "metadata": {},
   "outputs": [
    {
     "ename": "TypeError",
     "evalue": "Cannot convert 0.0 to EagerTensor of dtype int32",
     "output_type": "error",
     "traceback": [
      "\u001b[0;31m---------------------------------------------------------------------------\u001b[0m",
      "\u001b[0;31mTypeError\u001b[0m                                 Traceback (most recent call last)",
      "Cell \u001b[0;32mIn [184], line 2\u001b[0m\n\u001b[1;32m      1\u001b[0m cce \u001b[38;5;241m=\u001b[39m tf\u001b[38;5;241m.\u001b[39mkeras\u001b[38;5;241m.\u001b[39mlosses\u001b[38;5;241m.\u001b[39mCategoricalCrossentropy()\n\u001b[0;32m----> 2\u001b[0m \u001b[43mcce\u001b[49m\u001b[43m(\u001b[49m\u001b[43my_test\u001b[49m\u001b[43m,\u001b[49m\u001b[43m \u001b[49m\u001b[43my_predicted1\u001b[49m\u001b[43m)\u001b[49m\u001b[38;5;241m.\u001b[39mnumpy()\n",
      "File \u001b[0;32m~/miniforge3/envs/IA/lib/python3.10/site-packages/keras/losses.py:152\u001b[0m, in \u001b[0;36mLoss.__call__\u001b[0;34m(self, y_true, y_pred, sample_weight)\u001b[0m\n\u001b[1;32m    148\u001b[0m \u001b[38;5;28;01melse\u001b[39;00m:\n\u001b[1;32m    149\u001b[0m     call_fn \u001b[38;5;241m=\u001b[39m tf\u001b[38;5;241m.\u001b[39m__internal__\u001b[38;5;241m.\u001b[39mautograph\u001b[38;5;241m.\u001b[39mtf_convert(\n\u001b[1;32m    150\u001b[0m         \u001b[38;5;28mself\u001b[39m\u001b[38;5;241m.\u001b[39mcall, tf\u001b[38;5;241m.\u001b[39m__internal__\u001b[38;5;241m.\u001b[39mautograph\u001b[38;5;241m.\u001b[39mcontrol_status_ctx()\n\u001b[1;32m    151\u001b[0m     )\n\u001b[0;32m--> 152\u001b[0m losses \u001b[38;5;241m=\u001b[39m \u001b[43mcall_fn\u001b[49m\u001b[43m(\u001b[49m\u001b[43my_true\u001b[49m\u001b[43m,\u001b[49m\u001b[43m \u001b[49m\u001b[43my_pred\u001b[49m\u001b[43m)\u001b[49m\n\u001b[1;32m    153\u001b[0m mask \u001b[38;5;241m=\u001b[39m losses_utils\u001b[38;5;241m.\u001b[39mget_mask(losses)\n\u001b[1;32m    154\u001b[0m reduction \u001b[38;5;241m=\u001b[39m \u001b[38;5;28mself\u001b[39m\u001b[38;5;241m.\u001b[39m_get_reduction()\n",
      "File \u001b[0;32m~/miniforge3/envs/IA/lib/python3.10/site-packages/keras/losses.py:272\u001b[0m, in \u001b[0;36mLossFunctionWrapper.call\u001b[0;34m(self, y_true, y_pred)\u001b[0m\n\u001b[1;32m    265\u001b[0m     y_pred, y_true \u001b[38;5;241m=\u001b[39m losses_utils\u001b[38;5;241m.\u001b[39msqueeze_or_expand_dimensions(\n\u001b[1;32m    266\u001b[0m         y_pred, y_true\n\u001b[1;32m    267\u001b[0m     )\n\u001b[1;32m    269\u001b[0m ag_fn \u001b[38;5;241m=\u001b[39m tf\u001b[38;5;241m.\u001b[39m__internal__\u001b[38;5;241m.\u001b[39mautograph\u001b[38;5;241m.\u001b[39mtf_convert(\n\u001b[1;32m    270\u001b[0m     \u001b[38;5;28mself\u001b[39m\u001b[38;5;241m.\u001b[39mfn, tf\u001b[38;5;241m.\u001b[39m__internal__\u001b[38;5;241m.\u001b[39mautograph\u001b[38;5;241m.\u001b[39mcontrol_status_ctx()\n\u001b[1;32m    271\u001b[0m )\n\u001b[0;32m--> 272\u001b[0m \u001b[38;5;28;01mreturn\u001b[39;00m \u001b[43mag_fn\u001b[49m\u001b[43m(\u001b[49m\u001b[43my_true\u001b[49m\u001b[43m,\u001b[49m\u001b[43m \u001b[49m\u001b[43my_pred\u001b[49m\u001b[43m,\u001b[49m\u001b[43m \u001b[49m\u001b[38;5;241;43m*\u001b[39;49m\u001b[38;5;241;43m*\u001b[39;49m\u001b[38;5;28;43mself\u001b[39;49m\u001b[38;5;241;43m.\u001b[39;49m\u001b[43m_fn_kwargs\u001b[49m\u001b[43m)\u001b[49m\n",
      "File \u001b[0;32m~/miniforge3/envs/IA/lib/python3.10/site-packages/tensorflow/python/util/traceback_utils.py:153\u001b[0m, in \u001b[0;36mfilter_traceback.<locals>.error_handler\u001b[0;34m(*args, **kwargs)\u001b[0m\n\u001b[1;32m    151\u001b[0m \u001b[38;5;28;01mexcept\u001b[39;00m \u001b[38;5;167;01mException\u001b[39;00m \u001b[38;5;28;01mas\u001b[39;00m e:\n\u001b[1;32m    152\u001b[0m   filtered_tb \u001b[38;5;241m=\u001b[39m _process_traceback_frames(e\u001b[38;5;241m.\u001b[39m__traceback__)\n\u001b[0;32m--> 153\u001b[0m   \u001b[38;5;28;01mraise\u001b[39;00m e\u001b[38;5;241m.\u001b[39mwith_traceback(filtered_tb) \u001b[38;5;28;01mfrom\u001b[39;00m \u001b[38;5;28mNone\u001b[39m\n\u001b[1;32m    154\u001b[0m \u001b[38;5;28;01mfinally\u001b[39;00m:\n\u001b[1;32m    155\u001b[0m   \u001b[38;5;28;01mdel\u001b[39;00m filtered_tb\n",
      "File \u001b[0;32m~/miniforge3/envs/IA/lib/python3.10/site-packages/keras/losses.py:1978\u001b[0m, in \u001b[0;36mcategorical_crossentropy\u001b[0;34m(y_true, y_pred, from_logits, label_smoothing, axis)\u001b[0m\n\u001b[1;32m   1976\u001b[0m y_pred \u001b[38;5;241m=\u001b[39m tf\u001b[38;5;241m.\u001b[39mconvert_to_tensor(y_pred)\n\u001b[1;32m   1977\u001b[0m y_true \u001b[38;5;241m=\u001b[39m tf\u001b[38;5;241m.\u001b[39mcast(y_true, y_pred\u001b[38;5;241m.\u001b[39mdtype)\n\u001b[0;32m-> 1978\u001b[0m label_smoothing \u001b[38;5;241m=\u001b[39m \u001b[43mtf\u001b[49m\u001b[38;5;241;43m.\u001b[39;49m\u001b[43mconvert_to_tensor\u001b[49m\u001b[43m(\u001b[49m\u001b[43mlabel_smoothing\u001b[49m\u001b[43m,\u001b[49m\u001b[43m \u001b[49m\u001b[43mdtype\u001b[49m\u001b[38;5;241;43m=\u001b[39;49m\u001b[43my_pred\u001b[49m\u001b[38;5;241;43m.\u001b[39;49m\u001b[43mdtype\u001b[49m\u001b[43m)\u001b[49m\n\u001b[1;32m   1980\u001b[0m \u001b[38;5;28;01mdef\u001b[39;00m \u001b[38;5;21m_smooth_labels\u001b[39m():\n\u001b[1;32m   1981\u001b[0m     num_classes \u001b[38;5;241m=\u001b[39m tf\u001b[38;5;241m.\u001b[39mcast(tf\u001b[38;5;241m.\u001b[39mshape(y_true)[\u001b[38;5;241m-\u001b[39m\u001b[38;5;241m1\u001b[39m], y_pred\u001b[38;5;241m.\u001b[39mdtype)\n",
      "\u001b[0;31mTypeError\u001b[0m: Cannot convert 0.0 to EagerTensor of dtype int32"
     ]
    }
   ],
   "source": [
    "cce = tf.keras.losses.CategoricalCrossentropy()\n",
    "cce(y_test, y_predicted1).numpy()"
   ]
  },
  {
   "cell_type": "markdown",
   "metadata": {},
   "source": [
    "#### > Plus simplement, on peut utiliser la méthode `.evaluate(x,y)`  pour retrouver la perte empirique et l'accuracy. Ce calcul correspond-il à une passe de propagation avant ou bien à un pas de back-propagation ?"
   ]
  },
  {
   "cell_type": "code",
   "execution_count": 185,
   "metadata": {},
   "outputs": [
    {
     "name": "stderr",
     "output_type": "stream",
     "text": [
      "2022-12-12 15:17:18.456236: I tensorflow/core/grappler/optimizers/custom_graph_optimizer_registry.cc:114] Plugin optimizer for device_type GPU is enabled.\n"
     ]
    },
    {
     "name": "stdout",
     "output_type": "stream",
     "text": [
      "23/23 [==============================] - 1s 14ms/step - loss: 0.0447 - accuracy: 1.0000\n"
     ]
    },
    {
     "data": {
      "text/plain": [
       "[0.04472866654396057, 1.0]"
      ]
     },
     "execution_count": 185,
     "metadata": {},
     "output_type": "execute_result"
    }
   ],
   "source": [
    "model.evaluate(X_test_nor, y_predicted)"
   ]
  },
  {
   "cell_type": "markdown",
   "metadata": {},
   "source": [
    "### Impact de l'initialisation\n",
    "\n",
    "Nous allons maintenant étudier l'impact de l'initialisation de la méthode SGD sur la convergence de ce dernier.\n",
    "\n",
    "Dans Keras, par défaut les poids sont initialisés comme suit par l'initialiseur `glorot_uniform` :\n",
    "\n",
    "- chaque poids est tiré uniformément dans $[-scale, scale]$\n",
    "- scale est choisi de l'ordre de $\\frac{1}{\\sqrt{n_{in} + n_{out}}}$\n",
    "\n",
    "Nous allons étudier l'impact de l'initialisation en considérant des initialiseurs Gaussiens en testant plusieurs valeurs pour la variance."
   ]
  },
  {
   "cell_type": "code",
   "execution_count": 186,
   "metadata": {},
   "outputs": [],
   "source": [
    "from keras import initializers\n",
    "mon_init1 = initializers.RandomNormal(mean=0.0, stddev=0.05)"
   ]
  },
  {
   "cell_type": "markdown",
   "metadata": {},
   "source": [
    "> Définir un réseau avec une couche Softmax en sortie et deux couches cachées \"tanh\", avec respectivement H neurones et K neurones. (On utilise ici des activations \"tanh\" pour que le problème soit un peu plus difficile à résoudre pour le réseau ...)\n",
    "> Passer l'initialiseur en argument de `Dense()`, ce qui donne par exemple pour la première couche :   \n",
    "`model.add(Dense(H,input_dim=N,kernel_initializer=mon_init1))`."
   ]
  },
  {
   "cell_type": "code",
   "execution_count": 195,
   "metadata": {},
   "outputs": [],
   "source": [
    "model4 = Sequential()\n",
    "model4.add(Dense(H, input_dim=N,kernel_initializer=mon_init1))\n",
    "model4.add(Activation(\"tanh\"))\n",
    "model4.add(Dense(K))\n",
    "model4.add(Activation(\"softmax\"))"
   ]
  },
  {
   "cell_type": "markdown",
   "metadata": {},
   "source": [
    "> Ajuster le réseau et afficher l'évolution de la perte (i.e. risque empirique) sur les données d'apprentissage le long de la trajectoire des epochs."
   ]
  },
  {
   "cell_type": "code",
   "execution_count": 200,
   "metadata": {},
   "outputs": [
    {
     "name": "stderr",
     "output_type": "stream",
     "text": [
      "2022-12-12 15:27:58.941812: I tensorflow/core/grappler/optimizers/custom_graph_optimizer_registry.cc:114] Plugin optimizer for device_type GPU is enabled.\n"
     ]
    }
   ],
   "source": [
    "sgd4 = SGD(learning_rate=0.08)\n",
    "model4.compile(optimizer=sgd4,\n",
    "              loss='categorical_crossentropy',\n",
    "              metrics=['accuracy']) \n",
    "\n",
    "history1 = model4.fit(X_train_nor, Y_train,epochs=20,\n",
    "                     batch_size=32,verbose=0)"
   ]
  },
  {
   "cell_type": "markdown",
   "metadata": {},
   "source": [
    "On peut afficher l'évolution de la perte sur l'apprentissage comme suit :"
   ]
  },
  {
   "cell_type": "code",
   "execution_count": 199,
   "metadata": {},
   "outputs": [
    {
     "data": {
      "image/png": "[encoded data removed]",
      "text/plain": [
       "<Figure size 640x480 with 1 Axes>"
      ]
     },
     "metadata": {},
     "output_type": "display_data"
    }
   ],
   "source": [
    "plt.plot(history1.history['loss'],label = \"stddev=0.05\")\n",
    "plt.xlabel('# epochs')\n",
    "plt.ylabel('Training loss')\n",
    "#plt.ylim(0, 6)\n",
    "plt.legend(loc='best');"
   ]
  },
  {
   "cell_type": "markdown",
   "metadata": {},
   "source": [
    "> Faire de même avec les initialiseurs suivants :    \n",
    "> `mon_init2 = initializers.RandomNormal(mean=0.0,stddev=10)`   \n",
    "> `mon_init3 = initializers.RandomNormal(mean=0.0,stddev=0.001)` \\\n",
    "> `mon_init4 = initializers.glorot_uniform()`    "
   ]
  },
  {
   "cell_type": "code",
   "execution_count": 204,
   "metadata": {},
   "outputs": [
    {
     "name": "stderr",
     "output_type": "stream",
     "text": [
      "2022-12-12 15:37:57.966752: I tensorflow/core/grappler/optimizers/custom_graph_optimizer_registry.cc:114] Plugin optimizer for device_type GPU is enabled.\n",
      "2022-12-12 15:38:06.058955: I tensorflow/core/grappler/optimizers/custom_graph_optimizer_registry.cc:114] Plugin optimizer for device_type GPU is enabled.\n",
      "2022-12-12 15:38:14.060298: I tensorflow/core/grappler/optimizers/custom_graph_optimizer_registry.cc:114] Plugin optimizer for device_type GPU is enabled.\n"
     ]
    },
    {
     "data": {
      "image/png": "[encoded data removed]",
      "text/plain": [
       "<Figure size 640x480 with 1 Axes>"
      ]
     },
     "metadata": {},
     "output_type": "display_data"
    }
   ],
   "source": [
    "list_inits = [initializers.RandomNormal(mean=0.0,stddev=10), initializers.RandomNormal(mean=0.0,stddev=0.001), initializers.glorot_uniform()]\n",
    "\n",
    "for mon_init, std in zip(list_inits, [10, 0.001, 0]): \n",
    "\n",
    "    model4 = Sequential()\n",
    "    model4.add(Dense(H, input_dim=N,kernel_initializer=mon_init))\n",
    "    model4.add(Activation(\"tanh\"))\n",
    "    model4.add(Dense(K))\n",
    "    model4.add(Activation(\"softmax\"))\n",
    "\n",
    "    sgd4 = SGD(learning_rate=0.08)\n",
    "    model4.compile(optimizer=sgd4,\n",
    "                  loss='categorical_crossentropy',\n",
    "                  metrics=['accuracy']) \n",
    "\n",
    "    history1 = model4.fit(X_train_nor, Y_train,epochs=20,\n",
    "                         batch_size=32,verbose=0)\n",
    "\n",
    "    plt.plot(history1.history['loss'],label = f\"stddev={std}\")\n",
    "    plt.xlabel('# epochs')\n",
    "    plt.ylabel('Training loss')\n",
    "    plt.legend(loc='best');"
   ]
  },
  {
   "cell_type": "markdown",
   "metadata": {},
   "source": [
    "> Comparer les performance des réseaux ajustés avec ces initialiseurs en représentant les \"trajectoires d'apprentissage\"."
   ]
  },
  {
   "cell_type": "markdown",
   "metadata": {},
   "source": [
    "Conclusion:\n",
    "- Initialisation trop proche de zero : gradients trop faibles et SGD peine à sortir de cette zone ...\n",
    "- Initialisation avec des amplitudes trop élevées : les couches intermédiaires ont des gradients qui s'annulent et difficile là encore de sortir de cette zone"
   ]
  },
  {
   "cell_type": "markdown",
   "metadata": {},
   "source": [
    "### Early Stopping\n"
   ]
  },
  {
   "cell_type": "markdown",
   "metadata": {},
   "source": [
    "L'argument ` validation_split=0.1` dans la méthode `.fit()` permet d'évaluer la perte sur un échantillon de validation. \n",
    "\n",
    "> Vérifier graphiquement qu'après un certain nombre d'itérations (quelques centaines epochs ici), le risque et la précision sur l'échantillon de validation  finissent par se dégrader. "
   ]
  },
  {
   "cell_type": "code",
   "execution_count": null,
   "metadata": {},
   "outputs": [],
   "source": [
    "### TO DO ###"
   ]
  },
  {
   "cell_type": "markdown",
   "metadata": {},
   "source": [
    "Les réseaux de neurones, même sans parler des architectures \"profondes\", nécessitent d'ajuster un très grand nombre de paramètres. Il est donc naturel de devoir contrôler la complexité statistique de ces prédicteurs pour en obtenir les meilleurs erreurs de généralisation. \n",
    "\n",
    "A chaque pas de la descente de gradient l'ensemble des poids et des biais du réseau est mis à jour. A chaque pas de la descente correspond donc un prédicteur, et au final on dispose donc d'une suite de prédicteurs. Le prédicteur final (du dernier pas de gradient) est certes celui qui minimise le risque empirique (appelée ici perte) mais cela ne signifie évidemment pas que ce prédicteur a les meilleurs performances sur l'échantillon de validation (ou de test).\n",
    "\n",
    "\n",
    "La méthode classiquement utilisée pour choisir le nombre de pas de gradients est celle du \"early stopping\".  Le principe consiste tout simplement à stopper la descente de gradient stochastique lorsque l'erreur de validation remonte. L'argument `monitor='val_loss'` de la fonction `EarlyStopping` indique que c'est l'erreur de validation calculée pour la perte (ici cross entropy) qui sera surveillée."
   ]
  },
  {
   "cell_type": "code",
   "execution_count": null,
   "metadata": {},
   "outputs": [],
   "source": [
    "from keras.callbacks import EarlyStopping\n",
    "early_stopping = EarlyStopping(monitor='val_loss', patience=5)"
   ]
  },
  {
   "cell_type": "markdown",
   "metadata": {},
   "source": [
    "Le long d'une trajectoire de descente de gradient, il est possible que la perte remonte ponctuellement sur une itération, avant de redescendre aussitôt. Il est donc préférable de ne prendre la décision d'arrêter la descente de gradient que si cette remontée se confirme sur quelques itérations successives. L'argument `patience=5` impose à la descente de gradient de patienter 5 itérations après une remontée de la perte, avant de prendre la décision d'arrêter  ou non l'algorithme."
   ]
  },
  {
   "cell_type": "code",
   "execution_count": null,
   "metadata": {},
   "outputs": [],
   "source": [
    "model = Sequential()\n",
    "\n",
    "model.add(Dense(H,input_dim=N, kernel_initializer=mon_init4))\n",
    "model.add(Activation(\"tanh\"))\n",
    "model.add(Dense(K,kernel_initializer=mon_init4))\n",
    "model.add(Activation(\"tanh\"))\n",
    "model.add(Dense(K,kernel_initializer=mon_init4))\n",
    "model.add(Activation(\"softmax\"))\n",
    "sgd = SGD(lr=0.1) \n",
    "\n",
    "model.compile(optimizer=sgd,\n",
    "              loss='categorical_crossentropy',\n",
    "              metrics = ['accuracy'] )\n",
    "\n",
    "history = model.fit(X_train_nor, Y_train,epochs=500,\n",
    "          batch_size=32,verbose=0,\n",
    "          validation_split=0.1,\n",
    "          callbacks=[early_stopping])"
   ]
  },
  {
   "cell_type": "code",
   "execution_count": null,
   "metadata": {},
   "outputs": [],
   "source": [
    "plt.plot(history.history['loss'],label =\"train\")\n",
    "plt.plot(history.history['val_loss'],label =\"valid\")\n",
    "plt.xlabel('# epochs')\n",
    "plt.ylabel('Training loss')\n",
    "plt.legend(loc='best');"
   ]
  },
  {
   "cell_type": "markdown",
   "metadata": {},
   "source": [
    "> Donner la prédiction du dernier modèle ajusté (par early stopping) sur l'échantillon test `X_test_nor`. Calculer le risque estimé sur les données de test en utilisant la méthode `.evaluate()`. Calculer enfin le taux de mauvais classement sur l'échantillon test."
   ]
  },
  {
   "cell_type": "code",
   "execution_count": null,
   "metadata": {},
   "outputs": [],
   "source": [
    "### TO DO ###"
   ]
  },
  {
   "cell_type": "markdown",
   "metadata": {},
   "source": [
    "## Application : Données MNIST\n",
    "\n",
    "Charger les données [handwritten digits MNIST](http://yann.lecun.com/exdb/mnist/) :"
   ]
  },
  {
   "cell_type": "code",
   "execution_count": null,
   "metadata": {},
   "outputs": [],
   "source": [
    "from keras.datasets import mnist # subroutines for fetching the MNIST dataset\n",
    "(X_train, y_train), (X_test, y_test) = mnist.load_data()  \n",
    "\n",
    "height, width, depth = 28, 28, 1 #  28x28 and 1 canal pour le niveau de gris\n",
    "num_classes = 10\n",
    "\n",
    "num_train = 60000 \n",
    "num_test = 10000  \n",
    "\n",
    "X_train = X_train.reshape(num_train, height * width)  # vecteur \n",
    "X_test = X_test.reshape(num_test, height * width) # vecteur \n",
    "\n",
    "X_train = X_train.astype('float32') \n",
    "X_test = X_test.astype('float32')\n",
    "\n",
    "X_train_nor = X_train / 255 # normalisation dans  [0, 1]  \n",
    "X_test_nor = X_test / 255 # normalisation dans  [0, 1]  "
   ]
  },
  {
   "cell_type": "markdown",
   "metadata": {},
   "source": [
    "> Définir et ajuster un réseau de neurones à deux couches cachées. \n",
    "> On pourra dans un premier temps choisir les paramètres ci-dessous. \n",
    "> On pourra aussi utiliser l'optimiseur adagrad :    \n",
    "> `adag = keras.optimizers.Adagrad(lr=0.01)`"
   ]
  },
  {
   "cell_type": "code",
   "execution_count": null,
   "metadata": {},
   "outputs": [],
   "source": [
    "batch_size = 128  \n",
    "num_epochs = 40  \n",
    "hidden_size = 512  "
   ]
  },
  {
   "cell_type": "code",
   "execution_count": null,
   "metadata": {},
   "outputs": [],
   "source": [
    "### TO DO ###"
   ]
  },
  {
   "cell_type": "markdown",
   "metadata": {},
   "source": [
    "> En reproduisant les codes proposés sur ce [blog](https://machinelearningmastery.com/use-keras-deep-learning-models-scikit-learn-python/), essayer d'améliorer les performances de votre réseau en choisissant mieux les paramètres par validation croisée à l'aide de la fonction `GridSearchCV` de sckit-learn. Attention, cette validation croisée s'avère très couteuse en temps de calcul..."
   ]
  },
  {
   "cell_type": "code",
   "execution_count": null,
   "metadata": {},
   "outputs": [],
   "source": [
    "### TO DO ###"
   ]
  }
 ],
 "metadata": {
  "kernelspec": {
   "display_name": "Python 3 (ipykernel)",
   "language": "python",
   "name": "python3"
  },
  "language_info": {
   "codemirror_mode": {
    "name": "ipython",
    "version": 3
   },
   "file_extension": ".py",
   "mimetype": "text/x-python",
   "name": "python",
   "nbconvert_exporter": "python",
   "pygments_lexer": "ipython3",
   "version": "3.10.6"
  }
 },
 "nbformat": 4,
 "nbformat_minor": 4
}
