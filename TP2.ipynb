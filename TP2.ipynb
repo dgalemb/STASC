{
 "cells": [
  {
   "cell_type": "markdown",
   "metadata": {},
   "source": [
    "# Human Activities - Classification"
   ]
  },
  {
   "cell_type": "markdown",
   "metadata": {},
   "source": [
    "Pour ce TP nous allons mettre en pratique plusieurs méthodes de classification supervisée sur des données d'enregistrement d'acceleromètres (de smart-phones).\n",
    "\n",
    "Les données sources sont disponibles sur [ici](http://bertrand.michel.perso.math.cnrs.fr/Enseignements/Data/UCI-HAR-Dataset.zip), voir aussi la description sur le site de [la plateforme de données UCI](https://archive.ics.uci.edu/ml/datasets/human+activity+recognition+using+smartphones).\n",
    "\n",
    "\"The experiments have been carried out with a group of 30 volunteers within an age bracket of 19-48 years. Each person performed six activities (WALKING, WALKING_UPSTAIRS, WALKING_DOWNSTAIRS, SITTING, STANDING, LAYING) wearing a smartphone (Samsung Galaxy S II) on the waist. Using its embedded accelerometer and gyroscope, we captured 3-axial linear acceleration and 3-axial angular velocity at a constant rate of 50Hz. The experiments have been video-recorded to label the data manually.\n",
    "\n",
    "The sensor signals (accelerometer and gyroscope) were pre-processed by applying noise filters and then sampled in fixed-width sliding windows of 2.56 sec and 50% overlap (128 readings/window). The sensor acceleration signal, which has gravitational and body motion components, was separated using a Butterworth low-pass filter into body acceleration and gravity. The gravitational force is assumed to have only low frequency components, therefore a filter with 0.3 Hz cutoff frequency was used. From each window, a vector of features was obtained by calculating variables from the time and frequency domain. See 'features_info.txt' for more details.\"\n",
    "\n",
    "L'objectif de ce TP est de retrouver l'activité à partir de toutes ces descripteurs (features). Notez que dans un contexte plus réaliste il vous faudrait créer par vosu même tous ces features qui décrivent les séries temporelles des accelerations enregistrées.\n"
   ]
  },
  {
   "cell_type": "code",
   "execution_count": 1,
   "metadata": {},
   "outputs": [],
   "source": [
    "%matplotlib inline\n",
    "from pylab import *\n",
    "import pandas as pd\n",
    "from sklearn.decomposition import PCA\n",
    "from sklearn import preprocessing "
   ]
  },
  {
   "cell_type": "markdown",
   "metadata": {},
   "source": [
    "# Importation des données\n",
    "\n",
    "\n",
    "Les commandes suivantes permettent de récupérer les données.\n",
    "Pour simplifier on n'utilise pour le TP que les données du dossier \"train\".\n",
    "\n",
    "> Vérifiez que vous comprenez l'ensemble des commandes ci-dessous."
   ]
  },
  {
   "cell_type": "code",
   "execution_count": 2,
   "metadata": {},
   "outputs": [],
   "source": [
    "votre_path= \"Data/UCI-HAR-Dataset/\""
   ]
  },
  {
   "cell_type": "markdown",
   "metadata": {},
   "source": [
    "#### Importation des features"
   ]
  },
  {
   "cell_type": "code",
   "execution_count": 3,
   "metadata": {},
   "outputs": [
    {
     "data": {
      "text/html": [
       "<div>\n",
       "<style scoped>\n",
       "    .dataframe tbody tr th:only-of-type {\n",
       "        vertical-align: middle;\n",
       "    }\n",
       "\n",
       "    .dataframe tbody tr th {\n",
       "        vertical-align: top;\n",
       "    }\n",
       "\n",
       "    .dataframe thead th {\n",
       "        text-align: right;\n",
       "    }\n",
       "</style>\n",
       "<table border=\"1\" class=\"dataframe\">\n",
       "  <thead>\n",
       "    <tr style=\"text-align: right;\">\n",
       "      <th></th>\n",
       "      <th>0</th>\n",
       "      <th>1</th>\n",
       "      <th>2</th>\n",
       "      <th>3</th>\n",
       "      <th>4</th>\n",
       "      <th>5</th>\n",
       "      <th>6</th>\n",
       "      <th>7</th>\n",
       "      <th>8</th>\n",
       "      <th>9</th>\n",
       "      <th>...</th>\n",
       "      <th>551</th>\n",
       "      <th>552</th>\n",
       "      <th>553</th>\n",
       "      <th>554</th>\n",
       "      <th>555</th>\n",
       "      <th>556</th>\n",
       "      <th>557</th>\n",
       "      <th>558</th>\n",
       "      <th>559</th>\n",
       "      <th>560</th>\n",
       "    </tr>\n",
       "  </thead>\n",
       "  <tbody>\n",
       "    <tr>\n",
       "      <th>0</th>\n",
       "      <td>0.288585</td>\n",
       "      <td>-0.020294</td>\n",
       "      <td>-0.132905</td>\n",
       "      <td>-0.995279</td>\n",
       "      <td>-0.983111</td>\n",
       "      <td>-0.913526</td>\n",
       "      <td>-0.995112</td>\n",
       "      <td>-0.983185</td>\n",
       "      <td>-0.923527</td>\n",
       "      <td>-0.934724</td>\n",
       "      <td>...</td>\n",
       "      <td>-0.074323</td>\n",
       "      <td>-0.298676</td>\n",
       "      <td>-0.710304</td>\n",
       "      <td>-0.112754</td>\n",
       "      <td>0.030400</td>\n",
       "      <td>-0.464761</td>\n",
       "      <td>-0.018446</td>\n",
       "      <td>-0.841247</td>\n",
       "      <td>0.179941</td>\n",
       "      <td>-0.058627</td>\n",
       "    </tr>\n",
       "    <tr>\n",
       "      <th>1</th>\n",
       "      <td>0.278419</td>\n",
       "      <td>-0.016411</td>\n",
       "      <td>-0.123520</td>\n",
       "      <td>-0.998245</td>\n",
       "      <td>-0.975300</td>\n",
       "      <td>-0.960322</td>\n",
       "      <td>-0.998807</td>\n",
       "      <td>-0.974914</td>\n",
       "      <td>-0.957686</td>\n",
       "      <td>-0.943068</td>\n",
       "      <td>...</td>\n",
       "      <td>0.158075</td>\n",
       "      <td>-0.595051</td>\n",
       "      <td>-0.861499</td>\n",
       "      <td>0.053477</td>\n",
       "      <td>-0.007435</td>\n",
       "      <td>-0.732626</td>\n",
       "      <td>0.703511</td>\n",
       "      <td>-0.844788</td>\n",
       "      <td>0.180289</td>\n",
       "      <td>-0.054317</td>\n",
       "    </tr>\n",
       "    <tr>\n",
       "      <th>2</th>\n",
       "      <td>0.279653</td>\n",
       "      <td>-0.019467</td>\n",
       "      <td>-0.113462</td>\n",
       "      <td>-0.995380</td>\n",
       "      <td>-0.967187</td>\n",
       "      <td>-0.978944</td>\n",
       "      <td>-0.996520</td>\n",
       "      <td>-0.963668</td>\n",
       "      <td>-0.977469</td>\n",
       "      <td>-0.938692</td>\n",
       "      <td>...</td>\n",
       "      <td>0.414503</td>\n",
       "      <td>-0.390748</td>\n",
       "      <td>-0.760104</td>\n",
       "      <td>-0.118559</td>\n",
       "      <td>0.177899</td>\n",
       "      <td>0.100699</td>\n",
       "      <td>0.808529</td>\n",
       "      <td>-0.848933</td>\n",
       "      <td>0.180637</td>\n",
       "      <td>-0.049118</td>\n",
       "    </tr>\n",
       "    <tr>\n",
       "      <th>3</th>\n",
       "      <td>0.279174</td>\n",
       "      <td>-0.026201</td>\n",
       "      <td>-0.123283</td>\n",
       "      <td>-0.996091</td>\n",
       "      <td>-0.983403</td>\n",
       "      <td>-0.990675</td>\n",
       "      <td>-0.997099</td>\n",
       "      <td>-0.982750</td>\n",
       "      <td>-0.989302</td>\n",
       "      <td>-0.938692</td>\n",
       "      <td>...</td>\n",
       "      <td>0.404573</td>\n",
       "      <td>-0.117290</td>\n",
       "      <td>-0.482845</td>\n",
       "      <td>-0.036788</td>\n",
       "      <td>-0.012892</td>\n",
       "      <td>0.640011</td>\n",
       "      <td>-0.485366</td>\n",
       "      <td>-0.848649</td>\n",
       "      <td>0.181935</td>\n",
       "      <td>-0.047663</td>\n",
       "    </tr>\n",
       "    <tr>\n",
       "      <th>4</th>\n",
       "      <td>0.276629</td>\n",
       "      <td>-0.016570</td>\n",
       "      <td>-0.115362</td>\n",
       "      <td>-0.998139</td>\n",
       "      <td>-0.980817</td>\n",
       "      <td>-0.990482</td>\n",
       "      <td>-0.998321</td>\n",
       "      <td>-0.979672</td>\n",
       "      <td>-0.990441</td>\n",
       "      <td>-0.942469</td>\n",
       "      <td>...</td>\n",
       "      <td>0.087753</td>\n",
       "      <td>-0.351471</td>\n",
       "      <td>-0.699205</td>\n",
       "      <td>0.123320</td>\n",
       "      <td>0.122542</td>\n",
       "      <td>0.693578</td>\n",
       "      <td>-0.615971</td>\n",
       "      <td>-0.847865</td>\n",
       "      <td>0.185151</td>\n",
       "      <td>-0.043892</td>\n",
       "    </tr>\n",
       "  </tbody>\n",
       "</table>\n",
       "<p>5 rows × 561 columns</p>\n",
       "</div>"
      ],
      "text/plain": [
       "        0         1         2         3         4         5         6    \\\n",
       "0  0.288585 -0.020294 -0.132905 -0.995279 -0.983111 -0.913526 -0.995112   \n",
       "1  0.278419 -0.016411 -0.123520 -0.998245 -0.975300 -0.960322 -0.998807   \n",
       "2  0.279653 -0.019467 -0.113462 -0.995380 -0.967187 -0.978944 -0.996520   \n",
       "3  0.279174 -0.026201 -0.123283 -0.996091 -0.983403 -0.990675 -0.997099   \n",
       "4  0.276629 -0.016570 -0.115362 -0.998139 -0.980817 -0.990482 -0.998321   \n",
       "\n",
       "        7         8         9    ...       551       552       553       554  \\\n",
       "0 -0.983185 -0.923527 -0.934724  ... -0.074323 -0.298676 -0.710304 -0.112754   \n",
       "1 -0.974914 -0.957686 -0.943068  ...  0.158075 -0.595051 -0.861499  0.053477   \n",
       "2 -0.963668 -0.977469 -0.938692  ...  0.414503 -0.390748 -0.760104 -0.118559   \n",
       "3 -0.982750 -0.989302 -0.938692  ...  0.404573 -0.117290 -0.482845 -0.036788   \n",
       "4 -0.979672 -0.990441 -0.942469  ...  0.087753 -0.351471 -0.699205  0.123320   \n",
       "\n",
       "        555       556       557       558       559       560  \n",
       "0  0.030400 -0.464761 -0.018446 -0.841247  0.179941 -0.058627  \n",
       "1 -0.007435 -0.732626  0.703511 -0.844788  0.180289 -0.054317  \n",
       "2  0.177899  0.100699  0.808529 -0.848933  0.180637 -0.049118  \n",
       "3 -0.012892  0.640011 -0.485366 -0.848649  0.181935 -0.047663  \n",
       "4  0.122542  0.693578 -0.615971 -0.847865  0.185151 -0.043892  \n",
       "\n",
       "[5 rows x 561 columns]"
      ]
     },
     "execution_count": 3,
     "metadata": {},
     "output_type": "execute_result"
    }
   ],
   "source": [
    "data_path = votre_path + \"train/X_train.txt\"\n",
    "activity_features = pd.read_csv(data_path,delim_whitespace=True,\n",
    "                                header=None)\n",
    "activity_features.head()"
   ]
  },
  {
   "cell_type": "markdown",
   "metadata": {},
   "source": [
    "#### Importation des activités :"
   ]
  },
  {
   "cell_type": "code",
   "execution_count": 4,
   "metadata": {},
   "outputs": [
    {
     "data": {
      "text/plain": [
       "array([4, 4, 4, ..., 1, 1, 1])"
      ]
     },
     "execution_count": 4,
     "metadata": {},
     "output_type": "execute_result"
    }
   ],
   "source": [
    "data_path = votre_path + \"train/y_train.txt\"\n",
    "activity  =    pd.read_csv(data_path,delim_whitespace=True,header=None)\n",
    "activity  =  activity.values[:,0] -  1 \n",
    "# la première activité sera 0 (plus pratique en python)\n",
    "activity_names = ['WALKING','WALKING_UPSTAIRS','WALKING_DOWNSTAIRS','SITTING','STANDING','LAYING']\n",
    "activity"
   ]
  },
  {
   "cell_type": "markdown",
   "metadata": {},
   "source": [
    "La variable à prédire  est la variable d'activité. Il s'agit donc d'un problème de classification (à 6 classes).\n",
    "Pour cela on dispose des variables du tableau `activity_features`. \n",
    "> Combien de variables sont disponibles pour construire le prédicteur de l'activité ?  De combien d'observations dispose-t-on ?"
   ]
  },
  {
   "cell_type": "code",
   "execution_count": 5,
   "metadata": {},
   "outputs": [
    {
     "name": "stdout",
     "output_type": "stream",
     "text": [
      "On a 561 variables et 7352 observations.\n"
     ]
    }
   ],
   "source": [
    "print(f'On a {len(activity_features.columns)} variables et {len(activity_features)} observations.')\n"
   ]
  },
  {
   "cell_type": "markdown",
   "metadata": {},
   "source": [
    "Pour de nombreux méthodes d'appprentissage statistique, il est conseiller de préalablement standardiser les données."
   ]
  },
  {
   "cell_type": "markdown",
   "metadata": {},
   "source": [
    "> Effectuer une standardisation des features (activity_features) avec la fonction  [scale()](https://scikit-learn.org/stable/modules/generated/sklearn.preprocessing.scale.html) de scikit-learn."
   ]
  },
  {
   "cell_type": "code",
   "execution_count": 6,
   "metadata": {},
   "outputs": [
    {
     "data": {
      "text/plain": [
       "array([[ 0.20064157, -0.0636826 , -0.41962845, ..., -0.68721921,\n",
       "         0.40794614, -0.00756789],\n",
       "       [ 0.05594788,  0.03148567, -0.25390836, ..., -0.694138  ,\n",
       "         0.40911698,  0.00787517],\n",
       "       [ 0.07351535, -0.04341648, -0.07629468, ..., -0.702239  ,\n",
       "         0.4102883 ,  0.02650234],\n",
       "       ...,\n",
       "       [-0.01566765,  0.0167814 ,  1.13222107, ..., -0.56584847,\n",
       "         0.64059683,  0.34870928],\n",
       "       [ 0.21586648, -0.02812252, -0.86770988, ..., -0.57766781,\n",
       "         0.63147758,  0.29327564],\n",
       "       [ 1.09620157,  0.12919873, -1.67268082, ..., -0.57392691,\n",
       "         0.63274259,  0.33396081]])"
      ]
     },
     "execution_count": 6,
     "metadata": {},
     "output_type": "execute_result"
    }
   ],
   "source": [
    "features_nor = preprocessing.scale(activity_features)\n",
    "features_nor"
   ]
  },
  {
   "cell_type": "markdown",
   "metadata": {},
   "source": [
    "#### Importation des sujets :"
   ]
  },
  {
   "cell_type": "code",
   "execution_count": 7,
   "metadata": {},
   "outputs": [],
   "source": [
    "data_path = votre_path + \"train/subject_train.txt\"\n",
    "sujet = pd.read_csv(data_path,delim_whitespace=True,header=None)\n",
    "sujet = sujet.values[:,0]"
   ]
  },
  {
   "cell_type": "markdown",
   "metadata": {},
   "source": [
    "A chaque sujet correspond plusieurs observations.\n",
    "> Indiquer le nombre d'observations de chaque sujet"
   ]
  },
  {
   "cell_type": "code",
   "execution_count": 8,
   "metadata": {},
   "outputs": [
    {
     "name": "stdout",
     "output_type": "stream",
     "text": [
      "Pour le sujet 1 on a 347 observations\n",
      "Pour le sujet 3 on a 341 observations\n",
      "Pour le sujet 5 on a 302 observations\n",
      "Pour le sujet 6 on a 325 observations\n",
      "Pour le sujet 7 on a 308 observations\n",
      "Pour le sujet 8 on a 281 observations\n",
      "Pour le sujet 11 on a 316 observations\n",
      "Pour le sujet 14 on a 323 observations\n",
      "Pour le sujet 15 on a 328 observations\n",
      "Pour le sujet 16 on a 366 observations\n",
      "Pour le sujet 17 on a 368 observations\n",
      "Pour le sujet 19 on a 360 observations\n",
      "Pour le sujet 21 on a 408 observations\n",
      "Pour le sujet 22 on a 321 observations\n",
      "Pour le sujet 23 on a 372 observations\n",
      "Pour le sujet 25 on a 409 observations\n",
      "Pour le sujet 26 on a 392 observations\n",
      "Pour le sujet 27 on a 376 observations\n",
      "Pour le sujet 28 on a 382 observations\n",
      "Pour le sujet 29 on a 344 observations\n",
      "Pour le sujet 30 on a 383 observations\n"
     ]
    }
   ],
   "source": [
    "for k in set(sujet):\n",
    "    print(f'Pour le sujet {k} on a {np.count_nonzero(sujet == k)} observations')"
   ]
  },
  {
   "cell_type": "markdown",
   "metadata": {},
   "source": [
    "# Problème de classification à deux classes\n",
    "\n",
    "Dans toute la première partie du TP, on considère un problème de classification à deux classes. \n",
    "\n",
    "> Extraire les donnnés pour les activités  'WALKING_DOWNSTAIRS' (activity = 3)  et 'SITTING' (activity =4) uniquement. On appele `features34` et `activity34` les données correspondantes."
   ]
  },
  {
   "cell_type": "code",
   "execution_count": 9,
   "metadata": {},
   "outputs": [
    {
     "name": "stdout",
     "output_type": "stream",
     "text": [
      "(2660, 561) (2660, 561)\n"
     ]
    }
   ],
   "source": [
    "n,p = shape(features_nor)\n",
    "index_act34 = [i for i in range(n) if activity[i] == 3 or activity[i] == 4] \n",
    "activity34 = activity[index_act34]\n",
    "features34 = features_nor[index_act34]\n",
    "print(shape(features34), shape(features34))"
   ]
  },
  {
   "cell_type": "markdown",
   "metadata": {},
   "source": [
    "# Présélection de features  pour réduire la dimension (screening)\n",
    "\n",
    "Pour diminuer les temps de calul on peut pré-sélectionner les 100 features les plus discriminants via un critère univarié. \n",
    "\n",
    "> Utiliser le critère  [SelectKBest](http://scikit-learn.org/stable/modules/generated/sklearn.feature_selection.SelectKBest.html) basé sur la F-value (variance inter / variance intra).\n",
    "\n",
    "Attention, cette méthode ne garantit en rien que l'on a choisi le \"meilleur\" groupe de 100 variables pour le problème de classification."
   ]
  },
  {
   "cell_type": "code",
   "execution_count": 10,
   "metadata": {},
   "outputs": [],
   "source": [
    "from sklearn.feature_selection import SelectKBest, f_classif\n",
    "Selec = SelectKBest(f_classif, k = 100)\n",
    "features34 = Selec.fit_transform(features34, activity34)"
   ]
  },
  {
   "cell_type": "markdown",
   "metadata": {},
   "source": [
    "# Ajustement et prédiction pour des méthodes classiques de classification \n",
    "\n",
    "> Pour chacune des méthodes de classificiation listées ci-dessous, ajuster un predicteur de l'activité en utilisant comme données d'apprentissage la base (features34,activity34) :      \n",
    "- Classifieur naif bayesien avec la fonction `GaussianNB()`   \n",
    "- Classifieur des k plus proches voisins avec `neighbors.KNeighborsClassifier()` avec 5 plus proches voisins.  \n",
    "- Classifieur par régression logistique avec pénalisation ridge, en utilisant la fonction `linear_model.LogisticRegression() `. Indiquer la pénalité \"l2\" dans les arguments de la fonction et choisir le solveur \"saga\" (voir la doc de la fonction).\n",
    "\n",
    "\n",
    "Une présentation de chacune des ces fonctions est disponible sur cette [page](http://scikit-learn.org/stable/user_guide.html).\n",
    "</p>"
   ]
  },
  {
   "cell_type": "code",
   "execution_count": 11,
   "metadata": {},
   "outputs": [
    {
     "name": "stderr",
     "output_type": "stream",
     "text": [
      "/Users/dgalembeck/miniforge3/envs/ia/lib/python3.10/site-packages/sklearn/linear_model/_logistic.py:444: ConvergenceWarning: lbfgs failed to converge (status=1):\n",
      "STOP: TOTAL NO. of ITERATIONS REACHED LIMIT.\n",
      "\n",
      "Increase the number of iterations (max_iter) or scale the data as shown in:\n",
      "    https://scikit-learn.org/stable/modules/preprocessing.html\n",
      "Please also refer to the documentation for alternative solver options:\n",
      "    https://scikit-learn.org/stable/modules/linear_model.html#logistic-regression\n",
      "  n_iter_i = _check_optimize_result(\n"
     ]
    }
   ],
   "source": [
    "from sklearn.naive_bayes import GaussianNB \n",
    "gnb = GaussianNB()\n",
    "gnb.fit(features34, activity34)\n",
    "#clf.predict()\n",
    "\n",
    "from sklearn.neighbors import KNeighborsClassifier\n",
    "nn = KNeighborsClassifier(n_neighbors=5)\n",
    "nn.fit(features34, activity34)\n",
    "#nn.predict()\n",
    "\n",
    "from sklearn.linear_model import LogisticRegression\n",
    "logit =  LogisticRegression(random_state=0).fit(features34, activity34)\n",
    "#logit.predict()"
   ]
  },
  {
   "cell_type": "markdown",
   "metadata": {},
   "source": [
    "Pour chacune de ces méthodes, on peut faire une prédiction grâce à la méthode `predict()`. par exemple pour le classifieur naif bayesien : "
   ]
  },
  {
   "cell_type": "code",
   "execution_count": 12,
   "metadata": {},
   "outputs": [
    {
     "name": "stdout",
     "output_type": "stream",
     "text": [
      "[3 3 4 ... 3 3 3]\n",
      "[4 4 4 ... 3 3 3]\n",
      "[4 4 4 ... 3 3 3]\n"
     ]
    }
   ],
   "source": [
    "feat_pred_gnb = gnb.predict(features34)\n",
    "print(feat_pred_gnb)\n",
    "\n",
    "feat_pred_nn = nn.predict(features34)\n",
    "print(feat_pred_nn)\n",
    "\n",
    "feat_pred_logit = logit.predict(features34)\n",
    "print(feat_pred_logit)"
   ]
  },
  {
   "cell_type": "markdown",
   "metadata": {},
   "source": [
    "> Faire de même une prédiction pour le classifieur des plus proches voisins et pour la régression logistique. "
   ]
  },
  {
   "cell_type": "markdown",
   "metadata": {},
   "source": [
    "> Ces prédictions sont-elles cohérentes entre elles ?"
   ]
  },
  {
   "cell_type": "code",
   "execution_count": 13,
   "metadata": {},
   "outputs": [
    {
     "name": "stdout",
     "output_type": "stream",
     "text": [
      "Rate of differences between: gnb and nn: 0.19736842105263158, gnb and logit: 0.18646616541353384, nn and logit: 0.06428571428571428\n"
     ]
    }
   ],
   "source": [
    "print(f'Rate of differences between: gnb and nn: {(feat_pred_gnb != feat_pred_nn).sum()/len(feat_pred_gnb)}, gnb and logit: {(feat_pred_gnb != feat_pred_logit).sum()/len(feat_pred_gnb)}, nn and logit: {(feat_pred_nn != feat_pred_logit).sum()/len(feat_pred_gnb)}')\n"
   ]
  },
  {
   "cell_type": "markdown",
   "metadata": {},
   "source": [
    "> Pour chaque prédicteur :\n",
    "> - Calculer le taux d'erreur \"à la main\" en comparant les observations et les prédictions.\n",
    "> - Calculer le taux de bon classement avec la méthode `score()` (disponible pour tout predicteur)"
   ]
  },
  {
   "cell_type": "code",
   "execution_count": 14,
   "metadata": {},
   "outputs": [
    {
     "name": "stdout",
     "output_type": "stream",
     "text": [
      "Manually calculated error rate: gnb: 0.1943609022556391, logit: 0.04097744360902256, nn: 0.039097744360902256\n",
      "Score calculatef: gnb: 0.19436090225563907, logit: 0.04097744360902256, nn: 0.0390977443609023\n"
     ]
    }
   ],
   "source": [
    "# à la main\n",
    "\n",
    "print(f'Manually calculated error rate: gnb: {(feat_pred_gnb != activity34).sum()/len(feat_pred_gnb)}, logit: {(feat_pred_logit != activity34).sum()/len(feat_pred_gnb)}, nn: {(feat_pred_nn != activity34).sum()/len(feat_pred_gnb)}')\n",
    "shape(feat_pred_gnb), shape(activity34), activity34, feat_pred_gnb\n",
    "print(f'Score calculatef: gnb: {1 - gnb.score(features34, activity34)}, logit: {1 - logit.score(features34, activity34)}, nn: {1- nn.score(features34, activity34)}')"
   ]
  },
  {
   "cell_type": "markdown",
   "metadata": {},
   "source": [
    "Evidemment ce n'est pas pas la bonne façon d'estimer le risque de l'estimateur : estimer de l'erreur de généralisation en évaluant les erreurs sur l'échantillon qui a déjà servi à ajuster le prédicteur conduit la plupart du temps à une estimation trop optimiste."
   ]
  },
  {
   "cell_type": "markdown",
   "metadata": {},
   "source": [
    "# Evaluation de l'erreur par découpage train / test"
   ]
  },
  {
   "cell_type": "markdown",
   "metadata": {},
   "source": [
    "Nous allons maintenant évaluer l'erreur de généralisation en conservant une partie de l'échantillon pour évaluer les erreurs du prédicteur ajusté. Pour cela on découpe aléatoirement l'échantillon initial en deux parties :  \n",
    "\n",
    "- l'ensemble d'apprentissage : utilisé pour ajuster les prédicteurs ;\n",
    "- l'ensemble de test (ou de validation) : utilisé pour évaluer les performances des prédicteurs."
   ]
  },
  {
   "cell_type": "markdown",
   "metadata": {},
   "source": [
    "> Utiliser la fonction <code>train_test_split</code> du module [<code>model_selection</code>](http://scikit-learn.org/stable/modules/classes.html#module-sklearn.model_selection) pour construire un échantillon d'apprentissage de taille 60% (et donc 40% réservées aux données de test)"
   ]
  },
  {
   "cell_type": "code",
   "execution_count": 15,
   "metadata": {},
   "outputs": [
    {
     "name": "stdout",
     "output_type": "stream",
     "text": [
      "0.6\n",
      "0.4\n",
      "(1064, 100)\n"
     ]
    }
   ],
   "source": [
    "from sklearn import model_selection\n",
    "\n",
    "features_train, features_test, activity_train, activity_test = model_selection.train_test_split(features34, activity34, test_size = 0.4)\n",
    "print(len(activity_train)/ float(len(activity34)))\n",
    "print(len(activity_test)/ float(len(activity34)))\n",
    "print(shape(features_test))"
   ]
  },
  {
   "cell_type": "markdown",
   "metadata": {},
   "source": [
    "> Evaluer le risque d'un classifieur par plus proches voisins (knn) avec 5 voisins sur ce découpage des données : ajuster sur les données d'apprentissage et évaluer les erreurs sur le test.  \n",
    ">\n",
    "> Vérifier que l'estimation de l'erreur ainsi obtenue est plus élevée que l'estimation obtenue précédemment, en ajustant et évaluant l'erreur sur le même échantillon (échantillon complet, sans découpage)"
   ]
  },
  {
   "cell_type": "code",
   "execution_count": 16,
   "metadata": {},
   "outputs": [
    {
     "name": "stdout",
     "output_type": "stream",
     "text": [
      "Manually calculated error rate: 0.08834586466165413\n",
      "Score calculated by .score: 0.052005012531328276\n"
     ]
    }
   ],
   "source": [
    "from sklearn.neighbors import KNeighborsClassifier\n",
    "nn = KNeighborsClassifier(n_neighbors=5)\n",
    "nn.fit(features_train, activity_train)\n",
    "\n",
    "feat_pred_nn = nn.predict(features_test)\n",
    "print(f'Manually calculated error rate: {(feat_pred_nn != activity_test).sum()/len(feat_pred_nn)}')\n",
    "print(f'Score calculated by .score: {1 - nn.score(features_train, activity_train)}')"
   ]
  },
  {
   "cell_type": "markdown",
   "metadata": {},
   "source": [
    "> Reproduire la procédure 100 fois et dresser le boxplot de l'estimation de l'erreur sur ces 100 runs."
   ]
  },
  {
   "cell_type": "code",
   "execution_count": 17,
   "metadata": {},
   "outputs": [
    {
     "data": {
      "image/png": "[encoded data removed]",
      "text/plain": [
       "<Figure size 640x480 with 1 Axes>"
      ]
     },
     "metadata": {},
     "output_type": "display_data"
    }
   ],
   "source": [
    "score_train_test = [] # pour stockage des scores\n",
    "for simu in range(100):\n",
    "    features_train, features_test, activity_train, activity_test = model_selection.train_test_split(features34, activity34, test_size = 0.4)\n",
    "    nn_train_test = KNeighborsClassifier(n_neighbors=5)\n",
    "    nn_train_test.fit(features_train, activity_train)\n",
    "    score_train_test.append(1 - nn_train_test.score(features_test, activity_test))\n",
    "B = plt.boxplot(score_train_test)"
   ]
  },
  {
   "cell_type": "markdown",
   "metadata": {},
   "source": [
    "> Tracer la courbe d'erreur du classifieur par plus proches voisins en fonction du nombre de voisins utilisés (de 1 à 15), en utilisant cette méthode de découpage train / test répétée 20 fois."
   ]
  },
  {
   "cell_type": "code",
   "execution_count": 18,
   "metadata": {},
   "outputs": [
    {
     "data": {
      "text/plain": [
       "[<matplotlib.lines.Line2D at 0x15ebc6c80>]"
      ]
     },
     "execution_count": 18,
     "metadata": {},
     "output_type": "execute_result"
    },
    {
     "data": {
      "image/png": "[encoded data removed]",
      "text/plain": [
       "<Figure size 640x480 with 1 Axes>"
      ]
     },
     "metadata": {},
     "output_type": "display_data"
    }
   ],
   "source": [
    "voisins = np.arange(1,16)\n",
    "results = []\n",
    "for voisin in voisins:\n",
    "    score_train_test = [] # pour stockage des scores\n",
    "    for simu in range(20):\n",
    "        features_train, features_test, activity_train, activity_test = model_selection.train_test_split(features34, activity34, test_size = 0.4)\n",
    "        nn_train_test = KNeighborsClassifier(n_neighbors=voisin)\n",
    "        nn_train_test.fit(features_train, activity_train)\n",
    "        score_train_test.append(1 - nn_train_test.score(features_test, activity_test))\n",
    "    results.append(mean(score_train_test))\n",
    "\n",
    "plt.plot(voisins, results)"
   ]
  },
  {
   "cell_type": "markdown",
   "metadata": {},
   "source": [
    "En réalité, si l'on désire une estimation du modèle sélectionné ainsi, il faut découper l'échantillon disponible non pas en deux mais en trois parties :\n",
    "- l'ensemble d'apprentissage : utilisé pour construire des modèles ;\n",
    "- l'ensemble de validation : utilisé pour choisir un modèle ;\n",
    "- l'ensemble de test : utilisé pour évaluer les performances du modèle\n",
    "  finalement choisi.\n",
    "  \n",
    "Ceci est notamment important lorsque l'on souhaite comparer deux méthodes qui ont toutes les deux fait intervenir un réglage de paramètres (ici le nombre de voisins).\n",
    "\n",
    "> **Question bonus** (finir le tp avant de répondre à cette question) : Mettre en oeuvre cette méthode pour estimer l'erreur de généralisation du prédicteur knn pour lequel le nombre de voisins est choisi via l'échantillon de validation."
   ]
  },
  {
   "cell_type": "code",
   "execution_count": 19,
   "metadata": {},
   "outputs": [],
   "source": [
    "#TODO"
   ]
  },
  {
   "cell_type": "markdown",
   "metadata": {},
   "source": [
    "# Estimation du risque par validation croisée \n",
    "\n",
    "On présente ci-dessous la méthode du de validation croisée de type **k-fold**.\n",
    "\n",
    "L'idée principale est de faire jouer à chaque observation à la fois le rôle de donnée d'apprentissage et celui de donnée de validation. \n",
    "\n",
    "Le principe consiste à partitionner aléatoirement les données $D=(\\mathbf{x}_i,y_i)_{1\\leq i\\leq N} $ \n",
    "en $K$ blocs disjoints de tailles comparables :\n",
    "$D^1,\\ldots,D^K$. On prend généralement $K=5$ ou $10$. La méthode du **leave-one-out (Loo)** correspond au choix $K=N$. \n",
    "\n",
    "On estime alors la qualité d'un predicteur $\\hat f$ de la\n",
    "façon suivante :\n",
    "- pour tout $k \\in \\{1,\\dots, K\\}$, on construit un predicteur $\\hat f^k$ (du même type que $\\hat f$) sur l'ensemble d'apprentissage $D^{-k} := D\\setminus D^k$ ;\n",
    "- on estime le risque du prédicteur $\\hat f$ par   \n",
    "$$\n",
    "\\frac{1}{N}\\sum_{k=1}^K\\sum_{\\mathbf{x}_i\\in D^k} \\ell(\\hat f^k(\\mathbf{x}_i),y_i),\n",
    "$$\n",
    "où $\\ell$ est la perte utilisée.\n",
    "\n",
    "On construit donc autant de prédicteurs qu'il y a de blocs dans\n",
    "l'ensemble d'apprentissage. Chaque prédicteur est évalué sur les éléments du\n",
    "bloc qui n'a pas été utilisé pour l'apprentissage (et qui joue donc le rôle d'\n",
    "ensemble de validation). \n",
    "\n",
    "Lorsque l'on souhaite régler un paramètre en utilisant la validation croisée, par exemple le nombre de voisins $k$ pour knn, on procède comme suit :\n",
    "- on évalue les performances des prédicteurs par validation croisée comme expliqué ci-dessus ;\n",
    "- on détermine la valeur optimale du paramètre ;\n",
    "- on construit finalement un predicteur pour le paramètre sélectionné, en utilisant comme base d'apprentissage toutes les données.\n",
    "\n",
    "\n",
    "**Comparaison entre LOO et methodes k folds, quelques repères :** \n",
    "- LOO a un coût computationnel plus élevé que les méthodes k-fold pour k petit (pour k = 5 ou 10 par exemple)\n",
    "- L'estimation de l'erreur fournie par LOO a généralement une variance plus élevée que celles obtenues par un k-fold pour k petit.\n",
    "- En revanche, si l'erreur de classification décroit très rapidement avec $n$, les méthodes k-fold avec k petit peuvent surestimer significativement l'erreur de généralisation.\n",
    "- En général, il est souvent recommandé d'utiliser les méthodes k-fold avec k = 5 ou 10."
   ]
  },
  {
   "cell_type": "markdown",
   "metadata": {},
   "source": [
    "L'ensemble des méthodes de validation croisée disponibles sous `sklearn` sont disponibles dans le module [<code>model_selection</code>](http://scikit-learn.org/stable/modules/classes.html#module-sklearn.model_selection). Voir aussi le [guide](https://scikit-learn.org/stable/modules/cross_validation.html#)."
   ]
  },
  {
   "cell_type": "markdown",
   "metadata": {},
   "source": [
    "##  Estimation de l'erreur par 10-fold :"
   ]
  },
  {
   "cell_type": "code",
   "execution_count": 20,
   "metadata": {},
   "outputs": [
    {
     "name": "stdout",
     "output_type": "stream",
     "text": [
      "[0.90601504 0.83458647 0.85338346 0.81578947 0.87593985 0.80451128\n",
      " 0.91353383 0.95864662 0.84586466 0.88345865]\n",
      "0.8691729323308272\n"
     ]
    }
   ],
   "source": [
    "from sklearn import neighbors\n",
    "\n",
    "nn_val_croisee = neighbors.KNeighborsClassifier(n_neighbors = 10)\n",
    "scores = model_selection.cross_val_score(nn_val_croisee, features34, activity34, cv=10)\n",
    "print(scores)\n",
    "print(mean(scores))"
   ]
  },
  {
   "cell_type": "markdown",
   "metadata": {},
   "source": [
    "Attention cependant, avec cette méthode, la fonction `cross_val_score` ne permute pas préalablement les données avant de définir les blocs. Voir cette [note](https://scikit-learn.org/stable/modules/cross_validation.html#a-note-on-shuffling) dans la doc de sklearn."
   ]
  },
  {
   "cell_type": "markdown",
   "metadata": {},
   "source": [
    "> Modifier la procédure pour que les données soient bien initiallement permutées. On utilise pour cela un \"iterateur\" de validation croisée, que l'on définit ici avec la fonction `KFold`, et que l'on fournit en argument de la fonction `cross_val_score`."
   ]
  },
  {
   "cell_type": "code",
   "execution_count": 21,
   "metadata": {},
   "outputs": [
    {
     "data": {
      "text/plain": [
       "(array([0.92857143, 0.90977444, 0.92481203, 0.92481203, 0.92857143,\n",
       "        0.93984962, 0.93233083, 0.92857143, 0.90977444, 0.92857143]),\n",
       " 0.925563909774436)"
      ]
     },
     "execution_count": 21,
     "metadata": {},
     "output_type": "execute_result"
    }
   ],
   "source": [
    "my_kfold = model_selection.KFold(n_splits = 10, shuffle = True)\n",
    "\n",
    "nn_val_croisee = neighbors.KNeighborsClassifier(n_neighbors = 10)\n",
    "\n",
    "scores = model_selection.cross_val_score(estimator=nn_val_croisee,\n",
    "                        X=features34,\n",
    "                        y=activity34,\n",
    "                        cv=my_kfold,\n",
    "                        n_jobs=-1) # permet de répartir les calculs sur plusieurs coeurs\n",
    "scores, mean(scores)"
   ]
  },
  {
   "cell_type": "markdown",
   "metadata": {},
   "source": [
    "##  Estimation de l'erreur par Loo\n",
    "\n",
    "\n",
    "> Utiliser la fonction <code>LeaveOneOut</code> de `model_selection` pour évaluer l'erreur du classifieur de plus proches voisin (pour 10 voisins).\n",
    "\n"
   ]
  },
  {
   "cell_type": "code",
   "execution_count": null,
   "metadata": {},
   "outputs": [],
   "source": []
  },
  {
   "cell_type": "code",
   "execution_count": null,
   "metadata": {},
   "outputs": [],
   "source": []
  },
  {
   "cell_type": "markdown",
   "metadata": {},
   "source": [
    "> La question de la permutation aléatoire initiale des données se pose-t-elle ici aussi ?"
   ]
  },
  {
   "cell_type": "code",
   "execution_count": null,
   "metadata": {},
   "outputs": [],
   "source": []
  },
  {
   "cell_type": "markdown",
   "metadata": {},
   "source": [
    "## Sélection du nombre de plus proches voisins par validation croisée 10 fold"
   ]
  },
  {
   "cell_type": "markdown",
   "metadata": {},
   "source": [
    "> Selectionner un nombre de voisins pour le classifieur de plus proches voisins par validation croisée 10 fold."
   ]
  },
  {
   "cell_type": "code",
   "execution_count": null,
   "metadata": {},
   "outputs": [],
   "source": []
  },
  {
   "cell_type": "markdown",
   "metadata": {},
   "source": [
    "## La fonction GridSearchCV\n",
    "\n",
    "En apprentissage statistique, on a très souvent recours à la validation croisée pour régler des paramètres de la méthode utilisée. La fonction [gridSearchCV](https://scikit-learn.org/stable/modules/generated/sklearn.model_selection.GridSearchCV.html) permet d'effectuer cette tâche de façon simple, en répartissant éventuellement les calculs sur plusieurs coeurs (voir plus bas)."
   ]
  },
  {
   "cell_type": "code",
   "execution_count": 22,
   "metadata": {},
   "outputs": [
    {
     "name": "stdout",
     "output_type": "stream",
     "text": [
      "2.0756192207336426 sec\n",
      "{'n_neighbors': 14}\n"
     ]
    }
   ],
   "source": [
    "from sklearn.model_selection import GridSearchCV\n",
    "from time import time\n",
    "\n",
    "# la grille de parametres a regler sont definis dans un dictionnaire (dict)\n",
    "tuned_parameters = {'n_neighbors': range(2,20)}\n",
    "start = time()\n",
    "\n",
    "my_kfold = model_selection.KFold(n_splits=10, shuffle=True, random_state=0)\n",
    "nnGrid = GridSearchCV(neighbors.KNeighborsClassifier(),\n",
    "                      tuned_parameters,\n",
    "                      cv=5)\n",
    "nnGrid.fit(features34, activity34)\n",
    "print(str(time() - start)+ \" sec\")\n",
    "\n",
    "# le meilleur modele \n",
    "print(nnGrid.best_params_)"
   ]
  },
  {
   "cell_type": "markdown",
   "metadata": {},
   "source": [
    "> Si votre machine le permet, utiliser maintenant plusieurs coeurs (argument \"n_jobs= \") et comparer les temps de calcul."
   ]
  },
  {
   "cell_type": "code",
   "execution_count": 23,
   "metadata": {},
   "outputs": [
    {
     "name": "stdout",
     "output_type": "stream",
     "text": [
      "0.7493009567260742 sec\n",
      "{'n_neighbors': 14}\n"
     ]
    }
   ],
   "source": [
    "from sklearn.model_selection import GridSearchCV\n",
    "from time import time\n",
    "\n",
    "# la grille de parametres a regler sont definis dans un dictionnaire (dict)\n",
    "tuned_parameters = {'n_neighbors': range(2,20)}\n",
    "start = time()\n",
    "\n",
    "my_kfold = model_selection.KFold(n_splits=10, shuffle=True, random_state=0)\n",
    "nnGrid = GridSearchCV(neighbors.KNeighborsClassifier(),\n",
    "                      tuned_parameters,\n",
    "                      cv=5,\n",
    "                      n_jobs=-1)\n",
    "nnGrid.fit(features34, activity34)\n",
    "print(str(time() - start)+ \" sec\")\n",
    "\n",
    "# le meilleur modele \n",
    "print(nnGrid.best_params_)"
   ]
  },
  {
   "cell_type": "markdown",
   "metadata": {
    "tags": []
   },
   "source": [
    "# Classification multiclasses \n",
    "\n",
    "Pour réduire les temps de calcul (il s'agit d'un TP...) nous appliquons la même stratégie de présélection de features que nous avons utilisé pour la classification binaire."
   ]
  },
  {
   "cell_type": "markdown",
   "metadata": {},
   "source": [
    "## Présélection de features\n",
    "\n",
    "Pour réduire les temps de calcul (il s'agit d'un TP...) nous appliquons la même stratégie de présélection de features que pour le cas à deux classes :"
   ]
  },
  {
   "cell_type": "code",
   "execution_count": 24,
   "metadata": {},
   "outputs": [
    {
     "data": {
      "text/plain": [
       "(7352, 100)"
      ]
     },
     "execution_count": 24,
     "metadata": {},
     "output_type": "execute_result"
    }
   ],
   "source": [
    "Selec = SelectKBest(f_classif, k=100)\n",
    "features_all_activities = Selec.fit_transform(activity_features, activity)\n",
    "shape(features_all_activities)"
   ]
  },
  {
   "cell_type": "markdown",
   "metadata": {},
   "source": [
    "#### Classifieur naif bayesien multiclasses"
   ]
  },
  {
   "cell_type": "code",
   "execution_count": 25,
   "metadata": {},
   "outputs": [
    {
     "name": "stdout",
     "output_type": "stream",
     "text": [
      "[0.77581522 0.78668478 0.78367347 0.76054422 0.75646259 0.79319728\n",
      " 0.76598639 0.80680272 0.79319728 0.76326531]\n",
      "0.778562925170068\n"
     ]
    }
   ],
   "source": [
    "gnb = GaussianNB()\n",
    "scores = model_selection.cross_val_score(gnb, features_all_activities, activity, cv=my_kfold)\n",
    "print(scores)\n",
    "print(mean(scores))"
   ]
  },
  {
   "cell_type": "markdown",
   "metadata": {},
   "source": [
    "#### Classifieur des k plus proches voisins multiclasses"
   ]
  },
  {
   "cell_type": "code",
   "execution_count": 26,
   "metadata": {},
   "outputs": [
    {
     "name": "stdout",
     "output_type": "stream",
     "text": [
      "[0.94293478 0.95380435 0.95918367 0.9414966  0.9414966  0.94421769\n",
      " 0.94285714 0.94421769 0.93877551 0.94421769]\n",
      "0.9453201715468795\n"
     ]
    }
   ],
   "source": [
    "nn = neighbors.KNeighborsClassifier(n_neighbors = 10)\n",
    "scores  = model_selection.cross_val_score(nn, features_all_activities, activity, cv=my_kfold)\n",
    "print(scores)\n",
    "print(mean(scores))"
   ]
  },
  {
   "cell_type": "markdown",
   "metadata": {},
   "source": [
    "> Effectuer un découpage apprentissage / test des données (avec toutes les classes).\n",
    "> Utiliser la fonction `GridSearchCV` sur l'échantillon d'apprentissage pour choisir le nombre de voisins pour l'estimateur knn. Dresser et afficher la matrice de confusion sur les données de test, voir [ici](https://scikit-learn.org/stable/modules/generated/sklearn.metrics.confusion_matrix.html) et [ici](https://scikit-learn.org/stable/modules/generated/sklearn.metrics.plot_confusion_matrix.html)."
   ]
  },
  {
   "cell_type": "code",
   "execution_count": 28,
   "metadata": {},
   "outputs": [
    {
     "name": "stderr",
     "output_type": "stream",
     "text": [
      "/Users/dgalembeck/miniforge3/envs/ia/lib/python3.10/site-packages/sklearn/utils/deprecation.py:87: FutureWarning: Function plot_confusion_matrix is deprecated; Function `plot_confusion_matrix` is deprecated in 1.0 and will be removed in 1.2. Use one of the class methods: ConfusionMatrixDisplay.from_predictions or ConfusionMatrixDisplay.from_estimator.\n",
      "  warnings.warn(msg, category=FutureWarning)\n"
     ]
    },
    {
     "data": {
      "image/png": "[encoded data removed]",
      "text/plain": [
       "<Figure size 640x480 with 2 Axes>"
      ]
     },
     "metadata": {},
     "output_type": "display_data"
    }
   ],
   "source": [
    "from sklearn.model_selection import GridSearchCV\n",
    "from sklearn.metrics import plot_confusion_matrix, confusion_matrix\n",
    "\n",
    "# la grille de parametres a regler sont definis dans un dictionnaire (dict)\n",
    "tuned_parameters = {'n_neighbors': range(2,20)}\n",
    "\n",
    "features_train, features_test, activity_train, activity_test = model_selection.train_test_split(features_all_activities, activity, test_size = 0.4)\n",
    "\n",
    "my_kfold = model_selection.KFold(n_splits=10, shuffle=True, random_state=0)\n",
    "\n",
    "nnGrid = GridSearchCV(neighbors.KNeighborsClassifier(),\n",
    "                      tuned_parameters,\n",
    "                      cv=5,\n",
    "                      n_jobs=-1)\n",
    "\n",
    "nnGrid.fit(features_train, activity_train)\n",
    "\n",
    "voisin = nnGrid.best_params_['n_neighbors']\n",
    "\n",
    "nn_train_test = KNeighborsClassifier(n_neighbors=voisin).fit(features_train, activity_train)\n",
    "y_pred = nn_train_test.predict(features_test)\n",
    "M = plot_confusion_matrix(nn_train_test, features_test, y_pred)\n",
    "plt.show()"
   ]
  },
  {
   "cell_type": "markdown",
   "metadata": {},
   "source": [
    "# Regression logistique Lasso"
   ]
  },
  {
   "cell_type": "markdown",
   "metadata": {},
   "source": [
    "> Ajuster et évaluer un modèle logistique Lasso sur les données avec la fonction [LogisticRegressionCV](https://scikit-learn.org/stable/modules/generated/sklearn.linear_model.LogisticRegressionCV.html)."
   ]
  },
  {
   "cell_type": "code",
   "execution_count": 30,
   "metadata": {},
   "outputs": [
    {
     "name": "stderr",
     "output_type": "stream",
     "text": [
      "/Users/dgalembeck/miniforge3/envs/ia/lib/python3.10/site-packages/sklearn/linear_model/_logistic.py:444: ConvergenceWarning: lbfgs failed to converge (status=1):\n",
      "STOP: TOTAL NO. of ITERATIONS REACHED LIMIT.\n",
      "\n",
      "Increase the number of iterations (max_iter) or scale the data as shown in:\n",
      "    https://scikit-learn.org/stable/modules/preprocessing.html\n",
      "Please also refer to the documentation for alternative solver options:\n",
      "    https://scikit-learn.org/stable/modules/linear_model.html#logistic-regression\n",
      "  n_iter_i = _check_optimize_result(\n",
      "/Users/dgalembeck/miniforge3/envs/ia/lib/python3.10/site-packages/sklearn/linear_model/_logistic.py:444: ConvergenceWarning: lbfgs failed to converge (status=1):\n",
      "STOP: TOTAL NO. of ITERATIONS REACHED LIMIT.\n",
      "\n",
      "Increase the number of iterations (max_iter) or scale the data as shown in:\n",
      "    https://scikit-learn.org/stable/modules/preprocessing.html\n",
      "Please also refer to the documentation for alternative solver options:\n",
      "    https://scikit-learn.org/stable/modules/linear_model.html#logistic-regression\n",
      "  n_iter_i = _check_optimize_result(\n",
      "/Users/dgalembeck/miniforge3/envs/ia/lib/python3.10/site-packages/sklearn/linear_model/_logistic.py:444: ConvergenceWarning: lbfgs failed to converge (status=1):\n",
      "STOP: TOTAL NO. of ITERATIONS REACHED LIMIT.\n",
      "\n",
      "Increase the number of iterations (max_iter) or scale the data as shown in:\n",
      "    https://scikit-learn.org/stable/modules/preprocessing.html\n",
      "Please also refer to the documentation for alternative solver options:\n",
      "    https://scikit-learn.org/stable/modules/linear_model.html#logistic-regression\n",
      "  n_iter_i = _check_optimize_result(\n",
      "/Users/dgalembeck/miniforge3/envs/ia/lib/python3.10/site-packages/sklearn/linear_model/_logistic.py:444: ConvergenceWarning: lbfgs failed to converge (status=1):\n",
      "STOP: TOTAL NO. of ITERATIONS REACHED LIMIT.\n",
      "\n",
      "Increase the number of iterations (max_iter) or scale the data as shown in:\n",
      "    https://scikit-learn.org/stable/modules/preprocessing.html\n",
      "Please also refer to the documentation for alternative solver options:\n",
      "    https://scikit-learn.org/stable/modules/linear_model.html#logistic-regression\n",
      "  n_iter_i = _check_optimize_result(\n",
      "/Users/dgalembeck/miniforge3/envs/ia/lib/python3.10/site-packages/sklearn/linear_model/_logistic.py:444: ConvergenceWarning: lbfgs failed to converge (status=1):\n",
      "STOP: TOTAL NO. of ITERATIONS REACHED LIMIT.\n",
      "\n",
      "Increase the number of iterations (max_iter) or scale the data as shown in:\n",
      "    https://scikit-learn.org/stable/modules/preprocessing.html\n",
      "Please also refer to the documentation for alternative solver options:\n",
      "    https://scikit-learn.org/stable/modules/linear_model.html#logistic-regression\n",
      "  n_iter_i = _check_optimize_result(\n",
      "/Users/dgalembeck/miniforge3/envs/ia/lib/python3.10/site-packages/sklearn/linear_model/_logistic.py:444: ConvergenceWarning: lbfgs failed to converge (status=1):\n",
      "STOP: TOTAL NO. of ITERATIONS REACHED LIMIT.\n",
      "\n",
      "Increase the number of iterations (max_iter) or scale the data as shown in:\n",
      "    https://scikit-learn.org/stable/modules/preprocessing.html\n",
      "Please also refer to the documentation for alternative solver options:\n",
      "    https://scikit-learn.org/stable/modules/linear_model.html#logistic-regression\n",
      "  n_iter_i = _check_optimize_result(\n"
     ]
    },
    {
     "data": {
      "text/plain": [
       "0.9669009294944457"
      ]
     },
     "execution_count": 30,
     "metadata": {},
     "output_type": "execute_result"
    }
   ],
   "source": [
    "from sklearn.linear_model import LogisticRegressionCV\n",
    "clf = LogisticRegressionCV(cv=5, random_state=0, penalty='l2').fit(features_train, activity_train)\n",
    "clf.predict(features_test)\n",
    "clf.predict_proba(features_test).shape\n",
    "clf.score(features_train, activity_train)"
   ]
  },
  {
   "cell_type": "markdown",
   "metadata": {
    "tags": []
   },
   "source": [
    "# Analyse en composantes principales sur la tableau des features.\n",
    "\n",
    "L'analyse en composantes principales est une méthode de réduction de dimension, de visualisation et de compression de données. Elle consiste à déterminer le sous-espace vectoriel de dimension $q$ qui approche au mieux possible un nuage de points dans $\\mathbb R^d$ (au sens de la projection euclidienne sur cet espace).\n",
    "\n",
    "Les directions du sous-espace vectoriel approximant peuvent être vues comme de nouvelles variables, qui s'éxpriment comme des combinaisons linéaires des variables initiales. Par ailleurs, ces nouvelles variables, appelées **composantes principales**, sont dirigées selon les premières directions propres de la matrice de covariance empirique des données.\n",
    "\n",
    "On représente alors les données dans le nouveau système de variables issu de l'ACP.  \n",
    "\n",
    "![analyse en composantes principales](http://www.nlpca.org/fig_pca_principal_component_analysis.png)\n",
    "\n",
    "Un descriptif de la fonction `sklearn.decomposition.PCA()` de la librairie scikit-learn est disponible [ici](http://scikit-learn.org/stable/modules/generated/sklearn.decomposition.PCA.html).\n",
    "\n",
    "> Tracer le nuage des deux premières composantes de l'ACP en distinguant les 5 activités. \n",
    "> Dans son écriture, le problème de l'ACP ignore la classification en classes d'activité. Les classes d'activités sur ces deux premières composantes sont elles bien séparées ? \n",
    "> En particulier, vérifier graphiquement que les classes 3 et 4 (pour lesquelles nous avons proposé des classifieurs plus haut) ne sont pas facilement séparées par les deux premiers axes de l'APC. "
   ]
  },
  {
   "cell_type": "code",
   "execution_count": 60,
   "metadata": {},
   "outputs": [
    {
     "name": "stderr",
     "output_type": "stream",
     "text": [
      "No artists with labels found to put in legend.  Note that artists whose label start with an underscore are ignored when legend() is called with no argument.\n"
     ]
    },
    {
     "data": {
      "text/plain": [
       "<matplotlib.legend.Legend at 0x3042dcb80>"
      ]
     },
     "execution_count": 60,
     "metadata": {},
     "output_type": "execute_result"
    },
    {
     "data": {
      "image/png": "[encoded data removed]",
      "text/plain": [
       "<Figure size 1200x1200 with 1 Axes>"
      ]
     },
     "metadata": {},
     "output_type": "display_data"
    }
   ],
   "source": [
    "from sklearn.decomposition import PCA\n",
    "pca = PCA(n_components=5)\n",
    "\n",
    "# ajuster la PCA sur les données features_nor\n",
    "features_nor = pca.fit_transform(features_all_activities)\n",
    "# transformer (prediction) les données features_nor pour le modele PCA\n",
    "ACP0 = features_nor[:, 0]\n",
    "ACP1 = features_nor[:, 1]\n",
    "\n",
    "color = []\n",
    "for k in activity:\n",
    "    if k == 0:\n",
    "        color.append('r')\n",
    "    elif k == 1:\n",
    "        color.append('g')\n",
    "    elif k == 2:\n",
    "        color.append('b')\n",
    "    elif k == 3:\n",
    "        color.append('y')\n",
    "    elif k == 4:\n",
    "        color.append('c')\n",
    "    else:\n",
    "        color.append('m')\n",
    "\n",
    "plt.figure(figsize=(12, 12))\n",
    "for v, c, i, act in zip(activity, color, ACP0, ACP1):\n",
    "    plt.scatter(i, act, color = c)\n",
    "# iterer sur les activités et utiliser un zip pour\n",
    "# faciliter la representation graphique des objets \n",
    "# sur lesquels on itere\n",
    "plt.legend()"
   ]
  }
 ],
 "metadata": {
  "anaconda-cloud": {},
  "kernelspec": {
   "display_name": "Python 3.10.6 ('ia')",
   "language": "python",
   "name": "python3"
  },
  "language_info": {
   "codemirror_mode": {
    "name": "ipython",
    "version": 3
   },
   "file_extension": ".py",
   "mimetype": "text/x-python",
   "name": "python",
   "nbconvert_exporter": "python",
   "pygments_lexer": "ipython3",
   "version": "3.10.6"
  },
  "vscode": {
   "interpreter": {
    "hash": "efbd2a6f4a04b68599ec5faeab462c250af230788da58af6a1c24ebf998e3749"
   }
  }
 },
 "nbformat": 4,
 "nbformat_minor": 4
}
