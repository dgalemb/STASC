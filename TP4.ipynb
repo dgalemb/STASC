{
 "cells": [
  {
   "cell_type": "markdown",
   "metadata": {},
   "source": [
    "# Introduction à Keras "
   ]
  },
  {
   "cell_type": "markdown",
   "metadata": {},
   "source": [
    "\"\n",
    "Keras is a model-level library, providing high-level building blocks for developing deep learning models. It does not handle itself low-level operations such as tensor products, convolutions and so on. Instead, it relies on a specialized, well-optimized tensor manipulation library to do so, serving as the “backend engine” of Keras.*\n",
    "The Python Keras API uses TensorFlow™ as it’s default tensor backend engine, however it’s possible to use other backends if desired. At this time, Keras has two backend implementations available:\n",
    "-  TensorFlow is an open-source symbolic tensor manipulation framework developed by Google.\n",
    "-  Theano is an open-source symbolic tensor manipulation framework developed by LISA Lab at Université de Montréal.\n",
    "\""
   ]
  },
  {
   "cell_type": "markdown",
   "metadata": {},
   "source": [
    "> Vérifier que la libraire Keras est bien installée.\n",
    "> Dans le cas contraire vous pouvez installer Keras via le [gestionnaire d'environnement d'Anaconda](https://www.logicalfeed.com/posts/1224/install-tensorflow-keras-and-theano-using-anaconda-for-deep-learning), en [ligne de commandes conda](https://anaconda.org/conda-forge/keras) ou encore avec `pip install Keras`."
   ]
  },
  {
   "cell_type": "code",
   "execution_count": 1,
   "metadata": {},
   "outputs": [],
   "source": [
    "import tensorflow as tf\n",
    "from tensorflow import keras"
   ]
  },
  {
   "cell_type": "markdown",
   "metadata": {},
   "source": [
    "## Importation des données"
   ]
  },
  {
   "cell_type": "markdown",
   "metadata": {},
   "source": [
    "Dans ce TP, nous allons illustrer les fonctionnalitées de [Keras](https://keras.io/getting_started/intro_to_keras_for_engineers/) sur la base de données des [handwritten digits](http://scikit-learn.org/stable/modules/generated/sklearn.datasets.load_digits.html#sklearn.datasets.load_digits) de sckit-learn.\n",
    "\n",
    "Il s'agit d'un problème de classification à 10 classes (10 digits). "
   ]
  },
  {
   "cell_type": "code",
   "execution_count": 2,
   "metadata": {},
   "outputs": [],
   "source": [
    "%matplotlib inline \n",
    "import matplotlib.pyplot as plt"
   ]
  },
  {
   "cell_type": "code",
   "execution_count": 3,
   "metadata": {},
   "outputs": [],
   "source": [
    "import numpy as np\n",
    "from sklearn.datasets import load_digits\n",
    "from sklearn import preprocessing \n",
    "from sklearn.model_selection import train_test_split"
   ]
  },
  {
   "cell_type": "code",
   "execution_count": 4,
   "metadata": {},
   "outputs": [],
   "source": [
    "digits = load_digits()"
   ]
  },
  {
   "cell_type": "code",
   "execution_count": 5,
   "metadata": {},
   "outputs": [
    {
     "data": {
      "image/png": "[encoded data removed]",
      "text/plain": [
       "<Figure size 300x300 with 1 Axes>"
      ]
     },
     "metadata": {},
     "output_type": "display_data"
    }
   ],
   "source": [
    "sample_index = 50\n",
    "plt.figure(figsize=(3, 3))\n",
    "plt.imshow(digits.images[sample_index], cmap=plt.cm.gray_r,\n",
    "           interpolation='nearest')\n",
    "plt.title(\"label: %d\" % digits.target[sample_index]);"
   ]
  },
  {
   "cell_type": "markdown",
   "metadata": {},
   "source": [
    "> Normaliser les données avec la fonction `preprocessing.scale()` et séparer celles-ci en deux échantillons d'apprentissage et de test. Afficher la dimension des deux jeux de données."
   ]
  },
  {
   "cell_type": "code",
   "execution_count": 6,
   "metadata": {},
   "outputs": [],
   "source": [
    "digits.data_nor = preprocessing.scale(digits.data)\n",
    "\n",
    "X_train_nor, X_test_nor, y_train, y_test = train_test_split(digits.data, digits.target, test_size = 0.4)"
   ]
  },
  {
   "cell_type": "markdown",
   "metadata": {},
   "source": [
    "Les dimensions des deux jeux de données:"
   ]
  },
  {
   "cell_type": "code",
   "execution_count": 7,
   "metadata": {},
   "outputs": [
    {
     "name": "stdout",
     "output_type": "stream",
     "text": [
      "(1078, 64) (1078,)\n",
      "(719, 64) (719,)\n"
     ]
    }
   ],
   "source": [
    "print(X_train_nor.shape, y_train.shape)\n",
    "print(X_test_nor.shape, y_test.shape)"
   ]
  },
  {
   "cell_type": "markdown",
   "metadata": {},
   "source": [
    "## Feed Forward Neural Network avec Keras"
   ]
  },
  {
   "cell_type": "markdown",
   "metadata": {},
   "source": [
    "Nous allons maintenant définir et ajuster un modèle à propagation avant (Feed Forward) avec Keras.\n",
    "\n",
    "#### Pre-processing"
   ]
  },
  {
   "cell_type": "markdown",
   "metadata": {},
   "source": [
    "La variable de classe (chiffre correspondant) indique le numéro de la catégorie : "
   ]
  },
  {
   "cell_type": "code",
   "execution_count": 8,
   "metadata": {},
   "outputs": [
    {
     "data": {
      "text/plain": [
       "array([8, 7, 6])"
      ]
     },
     "execution_count": 8,
     "metadata": {},
     "output_type": "execute_result"
    }
   ],
   "source": [
    "y_train[:3]"
   ]
  },
  {
   "cell_type": "markdown",
   "metadata": {},
   "source": [
    "Avec Keras, pour construire un réseau de neurones adapté à ce problème de la classification multiclasses, il faut préalablement transformer la variable de classe sous la forme \"one hot encoding\" i.e. transformer la variable de classe en un vecteur indiquant l'appartenance à chacune des classes sous forme d'indicatrices :"
   ]
  },
  {
   "cell_type": "code",
   "execution_count": 9,
   "metadata": {},
   "outputs": [
    {
     "data": {
      "text/plain": [
       "array([[0., 0., 0., 0., 0., 0., 0., 0., 1., 0.],\n",
       "       [0., 0., 0., 0., 0., 0., 0., 1., 0., 0.],\n",
       "       [0., 0., 0., 0., 0., 0., 1., 0., 0., 0.]], dtype=float32)"
      ]
     },
     "execution_count": 9,
     "metadata": {},
     "output_type": "execute_result"
    }
   ],
   "source": [
    "from keras.utils.np_utils import to_categorical\n",
    "\n",
    "Y_train = to_categorical(y_train)\n",
    "Y_train[:3]"
   ]
  },
  {
   "cell_type": "markdown",
   "metadata": {},
   "source": [
    "#### Definition de l'architecture"
   ]
  },
  {
   "cell_type": "markdown",
   "metadata": {},
   "source": [
    "Nous allons maintenant construire un premier réseau à propagation avant :"
   ]
  },
  {
   "cell_type": "code",
   "execution_count": 10,
   "metadata": {},
   "outputs": [],
   "source": [
    "from keras.models import Sequential"
   ]
  },
  {
   "cell_type": "markdown",
   "metadata": {},
   "source": [
    "On importe les fonctionnalités qui permettent de définir, de façon successive, les différentes couches :\n",
    "- Dense : permet de définir les pré-activations, c'est dans cette couche que se situent les poids et les termes de biais.\n",
    "- Activation :  permet de définir les fonctions d'activation."
   ]
  },
  {
   "cell_type": "code",
   "execution_count": 11,
   "metadata": {},
   "outputs": [],
   "source": [
    "from keras.layers.core import Dense, Activation"
   ]
  },
  {
   "cell_type": "markdown",
   "metadata": {},
   "source": [
    "Les dimensions du modèle : "
   ]
  },
  {
   "cell_type": "code",
   "execution_count": 12,
   "metadata": {},
   "outputs": [
    {
     "data": {
      "text/plain": [
       "64"
      ]
     },
     "execution_count": 12,
     "metadata": {},
     "output_type": "execute_result"
    }
   ],
   "source": [
    "N = X_train_nor.shape[1]  # dimension en entrée\n",
    "N"
   ]
  },
  {
   "cell_type": "code",
   "execution_count": 13,
   "metadata": {},
   "outputs": [],
   "source": [
    "H = 128 # dimension de la couche cachée\n",
    "K = 10  # nombre de classes en sortie (autant que de chiffres ici)"
   ]
  },
  {
   "cell_type": "markdown",
   "metadata": {},
   "source": [
    "On peut maintenant définir l'architecture du réseau :"
   ]
  },
  {
   "cell_type": "code",
   "execution_count": 14,
   "metadata": {},
   "outputs": [
    {
     "name": "stdout",
     "output_type": "stream",
     "text": [
      "Metal device set to: Apple M1\n",
      "\n",
      "systemMemory: 8.00 GB\n",
      "maxCacheSize: 2.67 GB\n",
      "\n"
     ]
    },
    {
     "name": "stderr",
     "output_type": "stream",
     "text": [
      "2022-12-27 21:11:40.097854: I tensorflow/core/common_runtime/pluggable_device/pluggable_device_factory.cc:306] Could not identify NUMA node of platform GPU ID 0, defaulting to 0. Your kernel may not have been built with NUMA support.\n",
      "2022-12-27 21:11:40.098622: I tensorflow/core/common_runtime/pluggable_device/pluggable_device_factory.cc:272] Created TensorFlow device (/job:localhost/replica:0/task:0/device:GPU:0 with 0 MB memory) -> physical PluggableDevice (device: 0, name: METAL, pci bus id: <undefined>)\n"
     ]
    }
   ],
   "source": [
    "model = Sequential()\n",
    "model.add(Dense(H, input_dim=N))\n",
    "model.add(Activation(\"relu\"))\n",
    "model.add(Dense(K))\n",
    "model.add(Activation(\"softmax\"))"
   ]
  },
  {
   "cell_type": "markdown",
   "metadata": {},
   "source": [
    "Il est possible de résumer l'architecture avec la méthode `summary()`:"
   ]
  },
  {
   "cell_type": "code",
   "execution_count": 15,
   "metadata": {},
   "outputs": [
    {
     "name": "stdout",
     "output_type": "stream",
     "text": [
      "Model: \"sequential\"\n",
      "_________________________________________________________________\n",
      " Layer (type)                Output Shape              Param #   \n",
      "=================================================================\n",
      " dense (Dense)               (None, 128)               8320      \n",
      "                                                                 \n",
      " activation (Activation)     (None, 128)               0         \n",
      "                                                                 \n",
      " dense_1 (Dense)             (None, 10)                1290      \n",
      "                                                                 \n",
      " activation_1 (Activation)   (None, 10)                0         \n",
      "                                                                 \n",
      "=================================================================\n",
      "Total params: 9,610\n",
      "Trainable params: 9,610\n",
      "Non-trainable params: 0\n",
      "_________________________________________________________________\n"
     ]
    }
   ],
   "source": [
    "model.summary()"
   ]
  },
  {
   "cell_type": "markdown",
   "metadata": {},
   "source": [
    "Le nombre de paramètres est indiqué dans la dernière colonne, notez que seules les couches `dense` contiennent ici des paramètres à ajuster.\n",
    "\n",
    "Les dimensions en sortie de chaque couche sont de la forme `(None, ...)`. Lorsque le réseau sera ajusté sur un échantillon, la première dimension indiquera la taille de l'échantillon."
   ]
  },
  {
   "cell_type": "markdown",
   "metadata": {},
   "source": [
    "Vous pouvez visualiser (dans un fichier .png) l'architecture ainsi. Si vous êtes confronté à des problèmes d'installation (librairies `pydot`, `graphviz` ...), ne perdez pas trop de temps sur cette partie."
   ]
  },
  {
   "cell_type": "code",
   "execution_count": 16,
   "metadata": {},
   "outputs": [
    {
     "name": "stdout",
     "output_type": "stream",
     "text": [
      "You must install pydot (`pip install pydot`) and install graphviz (see instructions at https://graphviz.gitlab.io/download/) for plot_model to work.\n"
     ]
    }
   ],
   "source": [
    "from keras.utils import plot_model\n",
    "plot_model(model, to_file='model.png')"
   ]
  },
  {
   "cell_type": "markdown",
   "metadata": {},
   "source": [
    "#### Poids du réseau"
   ]
  },
  {
   "cell_type": "markdown",
   "metadata": {},
   "source": [
    "Le contenu (les poids) de chaque couche du réseau est accessible dans la liste `model.layers`. Par exemple pour la premiere couche :"
   ]
  },
  {
   "cell_type": "code",
   "execution_count": 17,
   "metadata": {},
   "outputs": [],
   "source": [
    "my_first_layer = model.layers[0]"
   ]
  },
  {
   "cell_type": "markdown",
   "metadata": {},
   "source": [
    "Le tableau contenant les valeurs des poids et les termes de biais de cette première couche sont accessibles avec la méthode `get_weights()`. La méthode renvoie en fait une liste contenant\n",
    "- le tableau numpy des poids,\n",
    "- le vecteur des termes de biais.\n",
    "\n",
    "> Vérifier que le tableau des poids ainsi que les termes de biais possèdent les dimensions attendues compte tenu de ce que nous avons vu dans le `model.summary()` plus haut. Retrouvez le nombre de paramètres affichés dans le `model.summary()`."
   ]
  },
  {
   "cell_type": "code",
   "execution_count": 18,
   "metadata": {},
   "outputs": [
    {
     "name": "stdout",
     "output_type": "stream",
     "text": [
      "Number of parameters: Input : 128 neurones, each one with 64 weights and 1 bias, totalling 8320 parameters\n"
     ]
    }
   ],
   "source": [
    "len(my_first_layer.get_weights()[0]), len(my_first_layer.get_weights()[1])\n",
    "print(f'Number of parameters: Input : {len(my_first_layer.get_weights()[1])} neurones, each one with {len(my_first_layer.get_weights()[0])} weights and {1} bias, totalling {len(my_first_layer.get_weights()[0])*len(my_first_layer.get_weights()[1])+len(my_first_layer.get_weights()[1])} parameters')"
   ]
  },
  {
   "cell_type": "markdown",
   "metadata": {},
   "source": [
    "> Bien que le réseau n'ait pas encore été ajusté sur des données, vérifier que la définition de l'architecture implique une intialisation immédiate des poids du réseau (i.e. les poids prennent des valeurs). \n",
    "> Vérifier aussi que les biais sont initialisés à zéro."
   ]
  },
  {
   "cell_type": "code",
   "execution_count": 19,
   "metadata": {},
   "outputs": [
    {
     "data": {
      "text/plain": [
       "(array([0., 0., 0., 0., 0., 0., 0., 0., 0., 0., 0., 0., 0., 0., 0., 0., 0.,\n",
       "        0., 0., 0., 0., 0., 0., 0., 0., 0., 0., 0., 0., 0., 0., 0., 0., 0.,\n",
       "        0., 0., 0., 0., 0., 0., 0., 0., 0., 0., 0., 0., 0., 0., 0., 0., 0.,\n",
       "        0., 0., 0., 0., 0., 0., 0., 0., 0., 0., 0., 0., 0., 0., 0., 0., 0.,\n",
       "        0., 0., 0., 0., 0., 0., 0., 0., 0., 0., 0., 0., 0., 0., 0., 0., 0.,\n",
       "        0., 0., 0., 0., 0., 0., 0., 0., 0., 0., 0., 0., 0., 0., 0., 0., 0.,\n",
       "        0., 0., 0., 0., 0., 0., 0., 0., 0., 0., 0., 0., 0., 0., 0., 0., 0.,\n",
       "        0., 0., 0., 0., 0., 0., 0., 0., 0.], dtype=float32),\n",
       " array([[ 0.15458651,  0.13516928, -0.16210833, ..., -0.1055435 ,\n",
       "          0.08544834,  0.11901437],\n",
       "        [ 0.00372343, -0.08342361,  0.11974405, ...,  0.02059637,\n",
       "         -0.01866616, -0.15903059],\n",
       "        [ 0.07107922, -0.08430579, -0.040163  , ..., -0.12650365,\n",
       "          0.08093815, -0.06200589],\n",
       "        ...,\n",
       "        [ 0.06614329,  0.159537  , -0.16755635, ...,  0.09425868,\n",
       "          0.09535421, -0.02961436],\n",
       "        [-0.01506265,  0.03392282, -0.12755874, ..., -0.00085081,\n",
       "         -0.00197196, -0.05898624],\n",
       "        [ 0.08600132, -0.1500212 , -0.15779047, ...,  0.06125218,\n",
       "         -0.00532588,  0.12719153]], dtype=float32))"
      ]
     },
     "execution_count": 19,
     "metadata": {},
     "output_type": "execute_result"
    }
   ],
   "source": [
    "my_first_layer.get_weights()[1], my_first_layer.get_weights()[0]"
   ]
  },
  {
   "cell_type": "markdown",
   "metadata": {},
   "source": [
    "### Apprentissage : ajustement des poids du réseau"
   ]
  },
  {
   "cell_type": "markdown",
   "metadata": {},
   "source": [
    "La phase d'apprentissage consiste à estimer le vecteur $\\theta$ (qui contient tous les paramètres du réseau : poids et biais) en cherchant à minimiser en $\\theta$ le risque empirique (ici sans pénalité) \n",
    "$$ \\theta \\mapsto \\frac 1{n} \\sum_{i=1}^n  \\ell( f(X_i , \\theta),Y_i) $$\n",
    "où $f(\\cdot , \\theta)$ est la fonction qui correspond au réseau de neurones et où $\\ell$ est la perte choisie. Pour le problème de classification multiclasses qui nous intéresse ici il s'agit de la cross-entropy.\n",
    "\n",
    "On utilise pour cela une méthode d'optimisation de type descente de gradient stochastique, appliquée au risque empirique pénalisé. Par exemple pour `SGD`, chaque itération effectue un pas de gradient, en calculant ce gradient sur un sous-échantillon des données (échantillon batch):\n",
    "$$ \\theta_b  =   \\theta_{b-1}  - \\varepsilon   \\frac 1{|B|} \\sum_{i \\in B}  \\nabla_\\theta \\ell( f(X_i , \\theta_{b-1}),Y_i)   \n",
    " $$\n",
    "où $\\varepsilon$ est le taux d'apprentissage (learning rate).\n",
    "\n",
    "Le module `optimizers` de Keras permet de choisir la méthode d'optimisation. On utilise ci-dessous l'optimiseur `SGD`, avec l'argument `lr` pour régler le taux d'apprentissage :"
   ]
  },
  {
   "cell_type": "code",
   "execution_count": 20,
   "metadata": {},
   "outputs": [],
   "source": [
    "from keras.optimizers import SGD\n",
    "sgd = SGD(learning_rate=0.08)"
   ]
  },
  {
   "cell_type": "markdown",
   "metadata": {},
   "source": [
    "Nous allons maintenant ajuster sur les données digits un réseau de neurones à une couche cachée.\n",
    "\n",
    "L'ajustement est effectué en deux temps : compilation puis ajustement sur les données.\n",
    "\n",
    "On spécifie les éléments nécessaires à l'ajustement  avec la méthode  `compile` :\n",
    "- optimiseur,\n",
    "- perte considérée pour la back propagation (dans l'algo de descente de gradient)\n",
    "- \"métriques\" à considérer pour évaluer l'erreur. On pourrait bien sûr évaluer l'erreur uniquement pour la cross-entropy, mais l'erreur pour la perte sèche $\\ell(y,y') = 1_{y \\neq y'}$ est plus facile à interpréter, on choisit donc de suivre  aussi la métrique \"accuracy\" (précision = taux de bien classé) le long de la trajectoire de descente de gradient."
   ]
  },
  {
   "cell_type": "code",
   "execution_count": 21,
   "metadata": {},
   "outputs": [],
   "source": [
    "model.compile(optimizer=sgd,\n",
    "              loss='categorical_crossentropy',\n",
    "              metrics=['accuracy'])"
   ]
  },
  {
   "cell_type": "markdown",
   "metadata": {},
   "source": [
    "Dans les arguments de la méthode `.fit` ci-dessous:\n",
    "- epochs = nombre de passages sur l'ensemble de l'échantillon  ;\n",
    "- batch_size = taille du sous-échantillon extrait (batch) pour le calcul du gradient à chaque itération."
   ]
  },
  {
   "cell_type": "code",
   "execution_count": 22,
   "metadata": {
    "scrolled": true
   },
   "outputs": [
    {
     "name": "stdout",
     "output_type": "stream",
     "text": [
      "Epoch 1/15\n"
     ]
    },
    {
     "name": "stderr",
     "output_type": "stream",
     "text": [
      "2022-12-27 21:11:40.913084: W tensorflow/core/platform/profile_utils/cpu_utils.cc:128] Failed to get CPU frequency: 0 Hz\n",
      "2022-12-27 21:11:41.121723: I tensorflow/core/grappler/optimizers/custom_graph_optimizer_registry.cc:114] Plugin optimizer for device_type GPU is enabled.\n"
     ]
    },
    {
     "name": "stdout",
     "output_type": "stream",
     "text": [
      "34/34 [==============================] - 3s 24ms/step - loss: 5.2930 - accuracy: 0.4443\n",
      "Epoch 2/15\n",
      "34/34 [==============================] - 0s 14ms/step - loss: 1.0550 - accuracy: 0.6818\n",
      "Epoch 3/15\n",
      "34/34 [==============================] - 0s 11ms/step - loss: 0.3641 - accuracy: 0.8766\n",
      "Epoch 4/15\n",
      "34/34 [==============================] - 0s 13ms/step - loss: 0.2173 - accuracy: 0.9258\n",
      "Epoch 5/15\n",
      "34/34 [==============================] - 0s 13ms/step - loss: 0.2117 - accuracy: 0.9351\n",
      "Epoch 6/15\n",
      "34/34 [==============================] - 0s 12ms/step - loss: 0.1595 - accuracy: 0.9527\n",
      "Epoch 7/15\n",
      "34/34 [==============================] - 0s 12ms/step - loss: 0.1263 - accuracy: 0.9675\n",
      "Epoch 8/15\n",
      "34/34 [==============================] - 0s 12ms/step - loss: 0.3844 - accuracy: 0.8859\n",
      "Epoch 9/15\n",
      "34/34 [==============================] - 0s 12ms/step - loss: 0.1856 - accuracy: 0.9351\n",
      "Epoch 10/15\n",
      "34/34 [==============================] - 0s 13ms/step - loss: 0.0888 - accuracy: 0.9685\n",
      "Epoch 11/15\n",
      "34/34 [==============================] - 0s 12ms/step - loss: 0.0621 - accuracy: 0.9712\n",
      "Epoch 12/15\n",
      "34/34 [==============================] - 0s 12ms/step - loss: 0.0500 - accuracy: 0.9870\n",
      "Epoch 13/15\n",
      "34/34 [==============================] - 0s 12ms/step - loss: 0.0312 - accuracy: 0.9917\n",
      "Epoch 14/15\n",
      "34/34 [==============================] - 0s 11ms/step - loss: 0.0240 - accuracy: 0.9935\n",
      "Epoch 15/15\n",
      "34/34 [==============================] - 0s 12ms/step - loss: 0.0194 - accuracy: 0.9954\n"
     ]
    },
    {
     "data": {
      "text/plain": [
       "<keras.callbacks.History at 0x2964cdb40>"
      ]
     },
     "execution_count": 22,
     "metadata": {},
     "output_type": "execute_result"
    }
   ],
   "source": [
    "model.fit(X_train_nor, Y_train, epochs=15, batch_size=32)"
   ]
  },
  {
   "cell_type": "markdown",
   "metadata": {},
   "source": [
    "> Chaque ligne correspond à un passage sur l'ensemble des données (= un epoch). Nous avons choisi un batch size de 32 observations. Combien de pas de gradients sont donc effectués par epoch pour ce choix de paramètres ?"
   ]
  },
  {
   "cell_type": "code",
   "execution_count": 23,
   "metadata": {},
   "outputs": [
    {
     "data": {
      "text/plain": [
       "33.6875"
      ]
     },
     "execution_count": 23,
     "metadata": {},
     "output_type": "execute_result"
    }
   ],
   "source": [
    "len(X_train_nor)/32"
   ]
  },
  {
   "cell_type": "markdown",
   "metadata": {},
   "source": [
    "> La perte cross entropy (ici utilisé pour désigner le risque empirique pour la cross entropy) et la précision (accuracy) s'améliorent-elles le long de la trajectoire de descente de gradient ?"
   ]
  },
  {
   "cell_type": "markdown",
   "metadata": {},
   "source": [
    "Oui, en général, oui."
   ]
  },
  {
   "cell_type": "markdown",
   "metadata": {},
   "source": [
    "Les poids sont enregistrés dans `model.layers`. \n",
    "\n",
    "> Les biais sont ils toujours à zero ?"
   ]
  },
  {
   "cell_type": "code",
   "execution_count": 24,
   "metadata": {},
   "outputs": [
    {
     "data": {
      "text/plain": [
       "array([-0.00469325, -0.00477989, -0.00289353, -0.00590405, -0.00534618,\n",
       "       -0.00362621, -0.01298121, -0.02622497, -0.0040567 , -0.00568277,\n",
       "       -0.00917046, -0.00743093, -0.00511825, -0.00186661, -0.01093596,\n",
       "        0.        , -0.00316564, -0.01110364, -0.01344055,  0.00092663,\n",
       "       -0.00854741, -0.01404353, -0.00076937, -0.00875938, -0.02230687,\n",
       "       -0.02087067, -0.00185425, -0.01321584, -0.00451892,  0.00471578,\n",
       "       -0.00608628, -0.01211313, -0.01631761, -0.00185407, -0.00761797,\n",
       "       -0.00682505, -0.00107952, -0.00291667, -0.01177481, -0.00980244,\n",
       "       -0.00125196, -0.00415703, -0.00416455, -0.01054579, -0.01897246,\n",
       "       -0.00191089, -0.01443018, -0.00095142, -0.00048042, -0.01578537,\n",
       "       -0.00851271, -0.00297235, -0.02323554, -0.00250389, -0.00704984,\n",
       "       -0.00945143, -0.00654105, -0.00912331, -0.02046103, -0.01920363,\n",
       "        0.        , -0.00368293,  0.        , -0.01232877, -0.0045461 ,\n",
       "       -0.00607941,  0.        , -0.00553477, -0.00711085, -0.00385562,\n",
       "       -0.00429038, -0.00658448, -0.0088132 , -0.00781185, -0.0066373 ,\n",
       "       -0.00124867, -0.00744188, -0.00312269, -0.00317079, -0.00356306,\n",
       "        0.        , -0.00631266, -0.00372335, -0.01339276,  0.00326168,\n",
       "        0.00032797, -0.00602662, -0.00241003, -0.00241656, -0.00548344,\n",
       "       -0.00308633, -0.02215351, -0.01167363, -0.0038087 , -0.00665873,\n",
       "       -0.01556714, -0.04156227, -0.00109149, -0.00309323, -0.01826191,\n",
       "       -0.00338522, -0.0032414 , -0.00422602, -0.00491996, -0.00199712,\n",
       "       -0.00818586,  0.00661483,  0.00827158, -0.00031729, -0.00165993,\n",
       "        0.        , -0.00785455, -0.01166606,  0.00594396, -0.01053749,\n",
       "        0.0051684 , -0.02312956, -0.00143089, -0.00441486,  0.00142777,\n",
       "       -0.00030108, -0.00353138,  0.00209522, -0.0050613 , -0.01372998,\n",
       "       -0.00732337, -0.00924933, -0.005634  ], dtype=float32)"
      ]
     },
     "execution_count": 24,
     "metadata": {},
     "output_type": "execute_result"
    }
   ],
   "source": [
    "my_first_layer.get_weights()[1]"
   ]
  },
  {
   "cell_type": "markdown",
   "metadata": {},
   "source": [
    "> En comparant les valeurs de la perte et de l'accuracy, vérifier (sur les sorties) que si l'on effectue l'ajustement une seconde fois, l'état initial pour le second essai correspond à l'état du réseau précédemment ajusté."
   ]
  },
  {
   "cell_type": "markdown",
   "metadata": {},
   "source": [
    "> Essayer de diminuer encore la perte en augmentant le nombre d'épochs, en diminuant le taux d'apprentissage (par exemple 0.001).   \n",
    "> Remarque : si vous souhaitez réinitialiser les poids, il vous faut \"réinstancier\" le modèle en le redéfinissant totalement. "
   ]
  },
  {
   "cell_type": "code",
   "execution_count": 25,
   "metadata": {},
   "outputs": [],
   "source": [
    "model2 = Sequential()\n",
    "model2.add(Dense(H, input_dim=N))\n",
    "model2.add(Activation(\"relu\"))\n",
    "model2.add(Dense(K))\n",
    "model2.add(Activation(\"softmax\"))"
   ]
  },
  {
   "cell_type": "markdown",
   "metadata": {},
   "source": [
    "> Que dire de la convergence pour une grande valeur du taux d'apprentissage (par exemple `lr=2`) ?"
   ]
  },
  {
   "cell_type": "code",
   "execution_count": 26,
   "metadata": {},
   "outputs": [
    {
     "name": "stdout",
     "output_type": "stream",
     "text": [
      "Epoch 1/10\n"
     ]
    },
    {
     "name": "stderr",
     "output_type": "stream",
     "text": [
      "/Users/dgalembeck/miniforge3/envs/IA/lib/python3.10/site-packages/keras/optimizers/optimizer_v2/gradient_descent.py:111: UserWarning: The `lr` argument is deprecated, use `learning_rate` instead.\n",
      "  super().__init__(name, **kwargs)\n"
     ]
    },
    {
     "name": "stdout",
     "output_type": "stream",
     "text": [
      " 5/34 [===>..........................] - ETA: 0s - loss: 20772.0449 - accuracy: 0.1313"
     ]
    },
    {
     "name": "stderr",
     "output_type": "stream",
     "text": [
      "2022-12-27 21:11:50.107708: I tensorflow/core/grappler/optimizers/custom_graph_optimizer_registry.cc:114] Plugin optimizer for device_type GPU is enabled.\n"
     ]
    },
    {
     "name": "stdout",
     "output_type": "stream",
     "text": [
      "34/34 [==============================] - 1s 14ms/step - loss: 3109.4753 - accuracy: 0.1104\n",
      "Epoch 2/10\n",
      "34/34 [==============================] - 0s 11ms/step - loss: 2.3202 - accuracy: 0.0965\n",
      "Epoch 3/10\n",
      "34/34 [==============================] - 0s 11ms/step - loss: 2.3240 - accuracy: 0.0900\n",
      "Epoch 4/10\n",
      "34/34 [==============================] - 0s 12ms/step - loss: 2.3184 - accuracy: 0.0993\n",
      "Epoch 5/10\n",
      "34/34 [==============================] - 0s 11ms/step - loss: 2.3177 - accuracy: 0.1039\n",
      "Epoch 6/10\n",
      "34/34 [==============================] - 0s 11ms/step - loss: 2.3205 - accuracy: 0.0891\n",
      "Epoch 7/10\n",
      "34/34 [==============================] - 0s 11ms/step - loss: 2.3214 - accuracy: 0.0937\n",
      "Epoch 8/10\n",
      "34/34 [==============================] - 0s 11ms/step - loss: 2.3174 - accuracy: 0.1039\n",
      "Epoch 9/10\n",
      "34/34 [==============================] - 0s 11ms/step - loss: 2.3245 - accuracy: 0.0826\n",
      "Epoch 10/10\n",
      "34/34 [==============================] - 0s 11ms/step - loss: 2.3207 - accuracy: 0.1002\n"
     ]
    },
    {
     "data": {
      "text/plain": [
       "<keras.callbacks.History at 0x2975e04c0>"
      ]
     },
     "execution_count": 26,
     "metadata": {},
     "output_type": "execute_result"
    }
   ],
   "source": [
    "sgd2 = SGD(lr=2) \n",
    "\n",
    "model2.compile(optimizer=sgd2,\n",
    "              loss='categorical_crossentropy',\n",
    "              metrics=['accuracy'])\n",
    "\n",
    "model2.fit(X_train_nor, Y_train, epochs=10, batch_size=32)"
   ]
  },
  {
   "cell_type": "markdown",
   "metadata": {},
   "source": [
    "> Essayer aussi d'utiliser une méthode `Momentum-SGD` (argument `momentum= True`).  "
   ]
  },
  {
   "cell_type": "code",
   "execution_count": 27,
   "metadata": {},
   "outputs": [
    {
     "name": "stdout",
     "output_type": "stream",
     "text": [
      "Epoch 1/15\n"
     ]
    },
    {
     "name": "stderr",
     "output_type": "stream",
     "text": [
      "2022-12-27 21:11:54.389055: I tensorflow/core/grappler/optimizers/custom_graph_optimizer_registry.cc:114] Plugin optimizer for device_type GPU is enabled.\n"
     ]
    },
    {
     "name": "stdout",
     "output_type": "stream",
     "text": [
      "34/34 [==============================] - 1s 12ms/step - loss: 2.5004 - accuracy: 0.5009\n",
      "Epoch 2/15\n",
      "34/34 [==============================] - 0s 11ms/step - loss: 0.7794 - accuracy: 0.8423\n",
      "Epoch 3/15\n",
      "34/34 [==============================] - 0s 12ms/step - loss: 0.7150 - accuracy: 0.8748\n",
      "Epoch 4/15\n",
      "34/34 [==============================] - 0s 13ms/step - loss: 0.9920 - accuracy: 0.8664\n",
      "Epoch 5/15\n",
      "34/34 [==============================] - 0s 12ms/step - loss: 0.9515 - accuracy: 0.8998\n",
      "Epoch 6/15\n",
      "34/34 [==============================] - 0s 11ms/step - loss: 0.7011 - accuracy: 0.9156\n",
      "Epoch 7/15\n",
      "34/34 [==============================] - 0s 13ms/step - loss: 0.5931 - accuracy: 0.9332\n",
      "Epoch 8/15\n",
      "34/34 [==============================] - 0s 12ms/step - loss: 0.4787 - accuracy: 0.9601\n",
      "Epoch 9/15\n",
      "34/34 [==============================] - 0s 12ms/step - loss: 0.4752 - accuracy: 0.9685\n",
      "Epoch 10/15\n",
      "34/34 [==============================] - 0s 12ms/step - loss: 0.2901 - accuracy: 0.9833\n",
      "Epoch 11/15\n",
      "34/34 [==============================] - 0s 12ms/step - loss: 0.3535 - accuracy: 0.9750\n",
      "Epoch 12/15\n",
      "34/34 [==============================] - 0s 12ms/step - loss: 0.3033 - accuracy: 0.9805\n",
      "Epoch 13/15\n",
      "34/34 [==============================] - 0s 12ms/step - loss: 0.2949 - accuracy: 0.9852\n",
      "Epoch 14/15\n",
      "34/34 [==============================] - 0s 14ms/step - loss: 0.2895 - accuracy: 0.9824\n",
      "Epoch 15/15\n",
      "34/34 [==============================] - 0s 12ms/step - loss: 0.2883 - accuracy: 0.9870\n"
     ]
    },
    {
     "data": {
      "text/plain": [
       "<keras.callbacks.History at 0x297a15db0>"
      ]
     },
     "execution_count": 27,
     "metadata": {},
     "output_type": "execute_result"
    }
   ],
   "source": [
    "model3 = Sequential()\n",
    "model3.add(Dense(H, input_dim=N))\n",
    "model3.add(Activation(\"relu\"))\n",
    "model3.add(Dense(K))\n",
    "model3.add(Activation(\"softmax\"))\n",
    "\n",
    "sgd3 = SGD(learning_rate=0.0007, momentum = True) \n",
    "\n",
    "model3.compile(optimizer=sgd3,\n",
    "              loss='categorical_crossentropy',\n",
    "              metrics=['accuracy'])\n",
    "\n",
    "model3.fit(X_train_nor, Y_train, epochs=15, batch_size=32)"
   ]
  },
  {
   "cell_type": "markdown",
   "metadata": {},
   "source": [
    "### Predictions et erreur de généralisation"
   ]
  },
  {
   "cell_type": "markdown",
   "metadata": {},
   "source": [
    "> Effectuer des prédictions de votre réseau sur l'échantillon test avec la méthode `.predict()`."
   ]
  },
  {
   "cell_type": "code",
   "execution_count": 49,
   "metadata": {},
   "outputs": [
    {
     "name": "stdout",
     "output_type": "stream",
     "text": [
      "23/23 [==============================] - 0s 2ms/step\n"
     ]
    },
    {
     "data": {
      "text/plain": [
       "array([[0., 0., 0., ..., 1., 0., 0.],\n",
       "       [0., 0., 0., ..., 1., 0., 0.],\n",
       "       [0., 0., 0., ..., 0., 1., 0.],\n",
       "       ...,\n",
       "       [0., 0., 0., ..., 0., 0., 1.],\n",
       "       [0., 0., 0., ..., 0., 0., 0.],\n",
       "       [0., 0., 0., ..., 0., 0., 0.]], dtype=float32)"
      ]
     },
     "execution_count": 49,
     "metadata": {},
     "output_type": "execute_result"
    }
   ],
   "source": [
    "y_predicted = model.predict(X_test_nor)\n",
    "y_predicted1 = np.array([np.argmax(y_predicted) for y_predicted in y_predicted])\n",
    "y_predicted1 = tf.keras.utils.to_categorical(y_predicted1)"
   ]
  },
  {
   "cell_type": "markdown",
   "metadata": {},
   "source": [
    "> Pour plusieurs élements de l'échantillon test, renvoyer les probabilités conditionnelles prédites par le réseau (en sortie du Softmax) à l'aide de la méthode `.model.predict()`. La probabilité de la classe choisie est-elle générallement bien supérieure aux probabilités des autres classes ?\n",
    "Calculer le taux de bien classé sur l'échantillon test."
   ]
  },
  {
   "cell_type": "code",
   "execution_count": 38,
   "metadata": {},
   "outputs": [
    {
     "data": {
      "text/plain": [
       "Text(0.5, 1.0, 'predicted label: 8\\n true label: 3')"
      ]
     },
     "execution_count": 38,
     "metadata": {},
     "output_type": "execute_result"
    },
    {
     "data": {
      "image/png": "[encoded data removed]",
      "text/plain": [
       "<Figure size 640x480 with 1 Axes>"
      ]
     },
     "metadata": {},
     "output_type": "display_data"
    }
   ],
   "source": [
    "sample_idx = 2\n",
    "plt.imshow(X_test_nor[sample_idx].reshape(8, 8),\n",
    "           cmap=plt.cm.gray_r, interpolation='nearest');\n",
    "plt.title(\"predicted label: %d\\n true label: %d\"\n",
    "              % (y_predicted1[sample_idx], y_test[sample_idx]))\n",
    "\n",
    "    "
   ]
  },
  {
   "cell_type": "code",
   "execution_count": 39,
   "metadata": {},
   "outputs": [
    {
     "data": {
      "text/plain": [
       "array([1.7091905e-09, 6.1160324e-07, 1.6549762e-02, 6.2897825e-03,\n",
       "       2.3816419e-08, 9.4545840e-07, 1.1774438e-07, 1.3886672e-06,\n",
       "       9.7714680e-01, 1.0642474e-05], dtype=float32)"
      ]
     },
     "execution_count": 39,
     "metadata": {},
     "output_type": "execute_result"
    }
   ],
   "source": [
    "probabilities = y_predicted\n",
    "probabilities[sample_idx] "
   ]
  },
  {
   "cell_type": "code",
   "execution_count": 40,
   "metadata": {
    "scrolled": true
   },
   "outputs": [
    {
     "data": {
      "image/png": "[encoded data removed]",
      "text/plain": [
       "<Figure size 1200x900 with 15 Axes>"
      ]
     },
     "metadata": {},
     "output_type": "display_data"
    }
   ],
   "source": [
    "plt.figure(figsize=(12, 9))\n",
    "for i in range(15):\n",
    "    plt.subplot(3, 5, i + 1)\n",
    "    plt.imshow(X_test_nor[i].reshape(8, 8),\n",
    "               cmap=plt.cm.gray_r, interpolation='nearest')\n",
    "    plt.title(\"predicted label: %d\\n true label: %d\"\n",
    "              % (y_predicted1[i], y_test[i]))\n",
    "  "
   ]
  },
  {
   "cell_type": "code",
   "execution_count": 41,
   "metadata": {},
   "outputs": [
    {
     "data": {
      "text/plain": [
       "0.96105702364395"
      ]
     },
     "execution_count": 41,
     "metadata": {},
     "output_type": "execute_result"
    }
   ],
   "source": [
    "(y_predicted1 == y_test).mean()"
   ]
  },
  {
   "cell_type": "markdown",
   "metadata": {},
   "source": [
    "On rappelle que la perte empirique pour la cross-entropy vaut\n",
    "\\begin{eqnarray*}\n",
    "\\hat{ \\mathcal R}_n (\\theta)  &=&  \\frac 1n  \\sum_{i=1}^n  \\ell( Y_i,  f(X_i , \\theta)) \\\\ \n",
    "& =&   -    \\frac 1n \\sum_{i=1}^n  \\sum_{k = 1}^K  \\mathbb{1}_{Y_i =  k}  \\log (f(X_i , \\theta)_k)  \n",
    "\\end{eqnarray*}\n"
   ]
  },
  {
   "cell_type": "markdown",
   "metadata": {},
   "source": [
    "> Calculer (\"à la main\") le risque empirique (pour la cross entropy) sur l'échantillon test. Le risque était-il plus faible sur l'échantillon d'apprentissage  ?"
   ]
  },
  {
   "cell_type": "code",
   "execution_count": 50,
   "metadata": {},
   "outputs": [
    {
     "data": {
      "text/plain": [
       "<tf.Tensor: shape=(), dtype=float32, numpy=0.6276867>"
      ]
     },
     "execution_count": 50,
     "metadata": {},
     "output_type": "execute_result"
    }
   ],
   "source": [
    "cce = tf.keras.losses.CategoricalCrossentropy()\n",
    "y_test1 = tf.keras.utils.to_categorical(y_test)\n",
    "cce(y_test1, y_predicted1)"
   ]
  },
  {
   "cell_type": "markdown",
   "metadata": {},
   "source": [
    "#### > Plus simplement, on peut utiliser la méthode `.evaluate(x,y)`  pour retrouver la perte empirique et l'accuracy. Ce calcul correspond-il à une passe de propagation avant ou bien à un pas de back-propagation ?"
   ]
  },
  {
   "cell_type": "code",
   "execution_count": 51,
   "metadata": {},
   "outputs": [
    {
     "name": "stdout",
     "output_type": "stream",
     "text": [
      "11/23 [=============>................] - ETA: 0s - loss: 0.0785 - accuracy: 1.0000"
     ]
    },
    {
     "name": "stderr",
     "output_type": "stream",
     "text": [
      "2022-12-27 21:22:07.765178: I tensorflow/core/grappler/optimizers/custom_graph_optimizer_registry.cc:114] Plugin optimizer for device_type GPU is enabled.\n"
     ]
    },
    {
     "name": "stdout",
     "output_type": "stream",
     "text": [
      "23/23 [==============================] - 0s 12ms/step - loss: 0.0692 - accuracy: 1.0000\n"
     ]
    },
    {
     "data": {
      "text/plain": [
       "[0.06920705735683441, 1.0]"
      ]
     },
     "execution_count": 51,
     "metadata": {},
     "output_type": "execute_result"
    }
   ],
   "source": [
    "model.evaluate(X_test_nor, y_predicted)"
   ]
  },
  {
   "cell_type": "markdown",
   "metadata": {},
   "source": [
    "### Impact de l'initialisation\n",
    "\n",
    "Nous allons maintenant étudier l'impact de l'initialisation de la méthode SGD sur la convergence de ce dernier.\n",
    "\n",
    "Dans Keras, par défaut les poids sont initialisés comme suit par l'initialiseur `glorot_uniform` :\n",
    "\n",
    "- chaque poids est tiré uniformément dans $[-scale, scale]$\n",
    "- scale est choisi de l'ordre de $\\frac{1}{\\sqrt{n_{in} + n_{out}}}$\n",
    "\n",
    "Nous allons étudier l'impact de l'initialisation en considérant des initialiseurs Gaussiens en testant plusieurs valeurs pour la variance."
   ]
  },
  {
   "cell_type": "code",
   "execution_count": 52,
   "metadata": {},
   "outputs": [],
   "source": [
    "from keras import initializers\n",
    "mon_init1 = initializers.RandomNormal(mean=0.0, stddev=0.05)"
   ]
  },
  {
   "cell_type": "markdown",
   "metadata": {},
   "source": [
    "> Définir un réseau avec une couche Softmax en sortie et deux couches cachées \"tanh\", avec respectivement H neurones et K neurones. (On utilise ici des activations \"tanh\" pour que le problème soit un peu plus difficile à résoudre pour le réseau ...)\n",
    "> Passer l'initialiseur en argument de `Dense()`, ce qui donne par exemple pour la première couche :   \n",
    "`model.add(Dense(H,input_dim=N,kernel_initializer=mon_init1))`."
   ]
  },
  {
   "cell_type": "code",
   "execution_count": 53,
   "metadata": {},
   "outputs": [],
   "source": [
    "model4 = Sequential()\n",
    "model4.add(Dense(H, input_dim=N,kernel_initializer=mon_init1))\n",
    "model4.add(Activation(\"tanh\"))\n",
    "model4.add(Dense(K))\n",
    "model4.add(Activation(\"softmax\"))"
   ]
  },
  {
   "cell_type": "markdown",
   "metadata": {},
   "source": [
    "> Ajuster le réseau et afficher l'évolution de la perte (i.e. risque empirique) sur les données d'apprentissage le long de la trajectoire des epochs."
   ]
  },
  {
   "cell_type": "code",
   "execution_count": 54,
   "metadata": {},
   "outputs": [
    {
     "name": "stderr",
     "output_type": "stream",
     "text": [
      "2022-12-27 21:23:52.347674: I tensorflow/core/grappler/optimizers/custom_graph_optimizer_registry.cc:114] Plugin optimizer for device_type GPU is enabled.\n"
     ]
    }
   ],
   "source": [
    "sgd4 = SGD(learning_rate=0.08)\n",
    "model4.compile(optimizer=sgd4,\n",
    "              loss='categorical_crossentropy',\n",
    "              metrics=['accuracy']) \n",
    "\n",
    "history1 = model4.fit(X_train_nor, Y_train,epochs=20,\n",
    "                     batch_size=32,verbose=0)"
   ]
  },
  {
   "cell_type": "markdown",
   "metadata": {},
   "source": [
    "On peut afficher l'évolution de la perte sur l'apprentissage comme suit :"
   ]
  },
  {
   "cell_type": "code",
   "execution_count": 55,
   "metadata": {},
   "outputs": [
    {
     "data": {
      "image/png": "[encoded data removed]",
      "text/plain": [
       "<Figure size 640x480 with 1 Axes>"
      ]
     },
     "metadata": {},
     "output_type": "display_data"
    }
   ],
   "source": [
    "plt.plot(history1.history['loss'],label = \"stddev=0.05\")\n",
    "plt.xlabel('# epochs')\n",
    "plt.ylabel('Training loss')\n",
    "#plt.ylim(0, 6)\n",
    "plt.legend(loc='best');"
   ]
  },
  {
   "cell_type": "markdown",
   "metadata": {},
   "source": [
    "> Faire de même avec les initialiseurs suivants :    \n",
    "> `mon_init2 = initializers.RandomNormal(mean=0.0,stddev=10)`   \n",
    "> `mon_init3 = initializers.RandomNormal(mean=0.0,stddev=0.001)` \\\n",
    "> `mon_init4 = initializers.glorot_uniform()`    "
   ]
  },
  {
   "cell_type": "code",
   "execution_count": 56,
   "metadata": {},
   "outputs": [
    {
     "name": "stderr",
     "output_type": "stream",
     "text": [
      "2022-12-27 21:27:02.474728: I tensorflow/core/grappler/optimizers/custom_graph_optimizer_registry.cc:114] Plugin optimizer for device_type GPU is enabled.\n",
      "2022-12-27 21:27:10.121560: I tensorflow/core/grappler/optimizers/custom_graph_optimizer_registry.cc:114] Plugin optimizer for device_type GPU is enabled.\n",
      "2022-12-27 21:27:17.914068: I tensorflow/core/grappler/optimizers/custom_graph_optimizer_registry.cc:114] Plugin optimizer for device_type GPU is enabled.\n"
     ]
    },
    {
     "data": {
      "image/png": "[encoded data removed]",
      "text/plain": [
       "<Figure size 640x480 with 1 Axes>"
      ]
     },
     "metadata": {},
     "output_type": "display_data"
    }
   ],
   "source": [
    "list_inits = [initializers.RandomNormal(mean=0.0,stddev=10), initializers.RandomNormal(mean=0.0,stddev=0.001), initializers.glorot_uniform()]\n",
    "\n",
    "for mon_init, std in zip(list_inits, [10, 0.001, 0]): \n",
    "\n",
    "    model4 = Sequential()\n",
    "    model4.add(Dense(H, input_dim=N,kernel_initializer=mon_init))\n",
    "    model4.add(Activation(\"tanh\"))\n",
    "    model4.add(Dense(K))\n",
    "    model4.add(Activation(\"softmax\"))\n",
    "\n",
    "    sgd4 = SGD(learning_rate=0.08)\n",
    "    model4.compile(optimizer=sgd4,\n",
    "                  loss='categorical_crossentropy',\n",
    "                  metrics=['accuracy']) \n",
    "\n",
    "    history1 = model4.fit(X_train_nor, Y_train,epochs=20,\n",
    "                         batch_size=32,verbose=0)\n",
    "\n",
    "    plt.plot(history1.history['loss'],label = f\"stddev={std}\")\n",
    "    plt.xlabel('# epochs')\n",
    "    plt.ylabel('Training loss')\n",
    "    plt.legend(loc='best');"
   ]
  },
  {
   "cell_type": "markdown",
   "metadata": {},
   "source": [
    "> Comparer les performance des réseaux ajustés avec ces initialiseurs en représentant les \"trajectoires d'apprentissage\"."
   ]
  },
  {
   "cell_type": "markdown",
   "metadata": {},
   "source": [
    "Conclusion:\n",
    "- Initialisation trop proche de zero : gradients trop faibles et SGD peine à sortir de cette zone ...\n",
    "- Initialisation avec des amplitudes trop élevées : les couches intermédiaires ont des gradients qui s'annulent et difficile là encore de sortir de cette zone"
   ]
  },
  {
   "cell_type": "markdown",
   "metadata": {},
   "source": [
    "### Early Stopping\n"
   ]
  },
  {
   "cell_type": "markdown",
   "metadata": {},
   "source": [
    "L'argument ` validation_split=0.1` dans la méthode `.fit()` permet d'évaluer la perte sur un échantillon de validation. \n",
    "\n",
    "> Vérifier graphiquement qu'après un certain nombre d'itérations (quelques centaines epochs ici), le risque et la précision sur l'échantillon de validation  finissent par se dégrader. "
   ]
  },
  {
   "cell_type": "code",
   "execution_count": null,
   "metadata": {},
   "outputs": [],
   "source": [
    "### TO DO ###"
   ]
  },
  {
   "cell_type": "markdown",
   "metadata": {},
   "source": [
    "Les réseaux de neurones, même sans parler des architectures \"profondes\", nécessitent d'ajuster un très grand nombre de paramètres. Il est donc naturel de devoir contrôler la complexité statistique de ces prédicteurs pour en obtenir les meilleurs erreurs de généralisation. \n",
    "\n",
    "A chaque pas de la descente de gradient l'ensemble des poids et des biais du réseau est mis à jour. A chaque pas de la descente correspond donc un prédicteur, et au final on dispose donc d'une suite de prédicteurs. Le prédicteur final (du dernier pas de gradient) est certes celui qui minimise le risque empirique (appelée ici perte) mais cela ne signifie évidemment pas que ce prédicteur a les meilleurs performances sur l'échantillon de validation (ou de test).\n",
    "\n",
    "\n",
    "La méthode classiquement utilisée pour choisir le nombre de pas de gradients est celle du \"early stopping\".  Le principe consiste tout simplement à stopper la descente de gradient stochastique lorsque l'erreur de validation remonte. L'argument `monitor='val_loss'` de la fonction `EarlyStopping` indique que c'est l'erreur de validation calculée pour la perte (ici cross entropy) qui sera surveillée."
   ]
  },
  {
   "cell_type": "code",
   "execution_count": 57,
   "metadata": {},
   "outputs": [],
   "source": [
    "from keras.callbacks import EarlyStopping\n",
    "early_stopping = EarlyStopping(monitor='val_loss', patience=5)"
   ]
  },
  {
   "cell_type": "markdown",
   "metadata": {},
   "source": [
    "Le long d'une trajectoire de descente de gradient, il est possible que la perte remonte ponctuellement sur une itération, avant de redescendre aussitôt. Il est donc préférable de ne prendre la décision d'arrêter la descente de gradient que si cette remontée se confirme sur quelques itérations successives. L'argument `patience=5` impose à la descente de gradient de patienter 5 itérations après une remontée de la perte, avant de prendre la décision d'arrêter  ou non l'algorithme."
   ]
  },
  {
   "cell_type": "code",
   "execution_count": 58,
   "metadata": {},
   "outputs": [
    {
     "ename": "NameError",
     "evalue": "name 'mon_init4' is not defined",
     "output_type": "error",
     "traceback": [
      "\u001b[0;31m---------------------------------------------------------------------------\u001b[0m",
      "\u001b[0;31mNameError\u001b[0m                                 Traceback (most recent call last)",
      "Cell \u001b[0;32mIn [58], line 3\u001b[0m\n\u001b[1;32m      1\u001b[0m model \u001b[39m=\u001b[39m Sequential()\n\u001b[0;32m----> 3\u001b[0m model\u001b[39m.\u001b[39madd(Dense(H,input_dim\u001b[39m=\u001b[39mN, kernel_initializer\u001b[39m=\u001b[39mmon_init4))\n\u001b[1;32m      4\u001b[0m model\u001b[39m.\u001b[39madd(Activation(\u001b[39m\"\u001b[39m\u001b[39mtanh\u001b[39m\u001b[39m\"\u001b[39m))\n\u001b[1;32m      5\u001b[0m model\u001b[39m.\u001b[39madd(Dense(K,kernel_initializer\u001b[39m=\u001b[39mmon_init4))\n",
      "\u001b[0;31mNameError\u001b[0m: name 'mon_init4' is not defined"
     ]
    }
   ],
   "source": [
    "model = Sequential()\n",
    "\n",
    "model.add(Dense(H,input_dim=N, kernel_initializer=mon_init4))\n",
    "model.add(Activation(\"tanh\"))\n",
    "model.add(Dense(K,kernel_initializer=mon_init4))\n",
    "model.add(Activation(\"tanh\"))\n",
    "model.add(Dense(K,kernel_initializer=mon_init4))\n",
    "model.add(Activation(\"softmax\"))\n",
    "sgd = SGD(lr=0.1) \n",
    "\n",
    "model.compile(optimizer=sgd,\n",
    "              loss='categorical_crossentropy',\n",
    "              metrics = ['accuracy'] )\n",
    "\n",
    "history = model.fit(X_train_nor, Y_train,epochs=500,\n",
    "          batch_size=32,verbose=0,\n",
    "          validation_split=0.1,\n",
    "          callbacks=[early_stopping])"
   ]
  },
  {
   "cell_type": "code",
   "execution_count": null,
   "metadata": {},
   "outputs": [],
   "source": [
    "plt.plot(history.history['loss'],label =\"train\")\n",
    "plt.plot(history.history['val_loss'],label =\"valid\")\n",
    "plt.xlabel('# epochs')\n",
    "plt.ylabel('Training loss')\n",
    "plt.legend(loc='best');"
   ]
  },
  {
   "cell_type": "markdown",
   "metadata": {},
   "source": [
    "> Donner la prédiction du dernier modèle ajusté (par early stopping) sur l'échantillon test `X_test_nor`. Calculer le risque estimé sur les données de test en utilisant la méthode `.evaluate()`. Calculer enfin le taux de mauvais classement sur l'échantillon test."
   ]
  },
  {
   "cell_type": "code",
   "execution_count": null,
   "metadata": {},
   "outputs": [],
   "source": [
    "### TO DO ###"
   ]
  },
  {
   "cell_type": "markdown",
   "metadata": {},
   "source": [
    "## Application : Données MNIST\n",
    "\n",
    "Charger les données [handwritten digits MNIST](http://yann.lecun.com/exdb/mnist/) :"
   ]
  },
  {
   "cell_type": "code",
   "execution_count": null,
   "metadata": {},
   "outputs": [],
   "source": [
    "from keras.datasets import mnist # subroutines for fetching the MNIST dataset\n",
    "(X_train, y_train), (X_test, y_test) = mnist.load_data()  \n",
    "\n",
    "height, width, depth = 28, 28, 1 #  28x28 and 1 canal pour le niveau de gris\n",
    "num_classes = 10\n",
    "\n",
    "num_train = 60000 \n",
    "num_test = 10000  \n",
    "\n",
    "X_train = X_train.reshape(num_train, height * width)  # vecteur \n",
    "X_test = X_test.reshape(num_test, height * width) # vecteur \n",
    "\n",
    "X_train = X_train.astype('float32') \n",
    "X_test = X_test.astype('float32')\n",
    "\n",
    "X_train_nor = X_train / 255 # normalisation dans  [0, 1]  \n",
    "X_test_nor = X_test / 255 # normalisation dans  [0, 1]  "
   ]
  },
  {
   "cell_type": "markdown",
   "metadata": {},
   "source": [
    "> Définir et ajuster un réseau de neurones à deux couches cachées. \n",
    "> On pourra dans un premier temps choisir les paramètres ci-dessous. \n",
    "> On pourra aussi utiliser l'optimiseur adagrad :    \n",
    "> `adag = keras.optimizers.Adagrad(lr=0.01)`"
   ]
  },
  {
   "cell_type": "code",
   "execution_count": null,
   "metadata": {},
   "outputs": [],
   "source": [
    "batch_size = 128  \n",
    "num_epochs = 40  \n",
    "hidden_size = 512  "
   ]
  },
  {
   "cell_type": "code",
   "execution_count": null,
   "metadata": {},
   "outputs": [],
   "source": [
    "### TO DO ###"
   ]
  },
  {
   "cell_type": "markdown",
   "metadata": {},
   "source": [
    "> En reproduisant les codes proposés sur ce [blog](https://machinelearningmastery.com/use-keras-deep-learning-models-scikit-learn-python/), essayer d'améliorer les performances de votre réseau en choisissant mieux les paramètres par validation croisée à l'aide de la fonction `GridSearchCV` de sckit-learn. Attention, cette validation croisée s'avère très couteuse en temps de calcul..."
   ]
  },
  {
   "cell_type": "code",
   "execution_count": null,
   "metadata": {},
   "outputs": [],
   "source": [
    "### TO DO ###"
   ]
  }
 ],
 "metadata": {
  "kernelspec": {
   "display_name": "IA",
   "language": "python",
   "name": "python3"
  },
  "language_info": {
   "codemirror_mode": {
    "name": "ipython",
    "version": 3
   },
   "file_extension": ".py",
   "mimetype": "text/x-python",
   "name": "python",
   "nbconvert_exporter": "python",
   "pygments_lexer": "ipython3",
   "version": "3.10.6"
  },
  "vscode": {
   "interpreter": {
    "hash": "87fc21197254558951455343ce704bc14f1a5282bb938462d86fd102e291cdae"
   }
  }
 },
 "nbformat": 4,
 "nbformat_minor": 4
}
