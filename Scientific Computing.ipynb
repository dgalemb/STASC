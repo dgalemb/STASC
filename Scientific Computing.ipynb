{
 "cells": [
  {
   "cell_type": "markdown",
   "metadata": {},
   "source": [
    "# Introduction to scientific computing with Python\n",
    " \n",
    "*Merci à [Maxime Sangnier](https://perso.lpsm.paris/~msangnier/) d'avoir partagé avec nous ses TPs.*\n",
    "\n",
    "\n",
    "## Part 3: Linear algebra and scientific computing"
   ]
  },
  {
   "cell_type": "markdown",
   "metadata": {},
   "source": [
    "# Table of contents\n",
    "1. [Numpy: numerical arrays in Python](#part1)\n",
    "    - [What is Numpy](#part1sec1)\n",
    "    - [Numpy array](#part1sec2)\n",
    "    - [Operations on arrays](#part1sec3)\n",
    "1. [Scipy: scientific computing in Python](#part2)\n",
    "    - [What is Scipy](#part2sec1)\n",
    "    - [Special functions](#part2sec2)\n",
    "    - [Linear algebra](#part2sec3)\n",
    "    - [Optimization](#part2sec4)\n",
    "    - [Interpolation](#part2sec5)\n",
    "    - [Numerical integration](#part2sec6)\n",
    "    - [Others](#part2sec7)\n",
    "1. [Loading and saving data](#part3)\n",
    "    - [Basics](#part3sec1)\n",
    "    - [Text files](#part3sec2)\n",
    "    - [Numpy format](#part3sec4)\n",
    "    - [Matlab format](#part3sec5)\n",
    "    - [JSON](#part3sec6)\n",
    "    - [Pickle](#part3sec7)\n",
    "1. [Exercises](#part4)\n",
    "1. [References](#part5)\n"
   ]
  },
  {
   "cell_type": "markdown",
   "metadata": {},
   "source": [
    "# Numpy: numerical arrays in Python <a id=\"part1\"></a>\n",
    "## What is Numpy <a id=\"part1sec1\"></a>\n",
    "Numpy is a fundamental extension of Python for scientific computing.\n",
    "This package provides:\n",
    "- a container, called `ndarray`, for handling numerical arrays;\n",
    "- [routines](http://docs.scipy.org/doc/numpy/reference/routines.html#routines) for fast operations on arrays (including mathematical and statistical operations);\n",
    "- universal mathematical functions (cos, log, exp…).\n",
    "\n",
    "The main asset of Numpy is the `ndarray` object.\n",
    "Roughly speaking, a Numpy array is a list (or a list of lists of… for n-dimensional arrays) that comes with many methods for scientific computing implemented in fast compiled routines.\n",
    "Despite the fact that Numpy arrays and lists serve as containers for a collection of items, they diverge on several points:\n",
    "- an array is a collection of homogeneous objects (same data types);\n",
    "- an array has a fixed size (definition at creation) while a list can grow dynamically;\n",
    "- methods for arrays are scientific oriented and efficiently implemented.\n",
    "\n",
    "The following sections provide a basic introduction to Numpy virtues.\n",
    "\n",
    "## Numpy array <a id=\"part1sec2\"></a>\n",
    "### Creation\n",
    "The main contribution of the numpy package is its multidimensional array.\n",
    "Since it shares some features with Python lists, an array can be legitimately created from a list.\n",
    "Let us begin with the following 2-dimensional list:"
   ]
  },
  {
   "cell_type": "code",
   "execution_count": 39,
   "metadata": {},
   "outputs": [
    {
     "name": "stdout",
     "output_type": "stream",
     "text": [
      "[[18.0, 17.0, 16.0], [14.0, 19.0, 18.0]]\n"
     ]
    }
   ],
   "source": [
    "l = [[18., 17., 16.],\n",
    "     [14., 19., 18.]]\n",
    "\n",
    "print(l)"
   ]
  },
  {
   "cell_type": "markdown",
   "metadata": {},
   "source": [
    "The corresponding array can be created thanks to the `array` function:"
   ]
  },
  {
   "cell_type": "code",
   "execution_count": 40,
   "metadata": {},
   "outputs": [
    {
     "name": "stdout",
     "output_type": "stream",
     "text": [
      "[[18. 17. 16.]\n",
      " [14. 19. 18.]]\n"
     ]
    }
   ],
   "source": [
    "import numpy as np\n",
    "\n",
    "a = np.array(l)\n",
    "print(a)"
   ]
  },
  {
   "cell_type": "markdown",
   "metadata": {},
   "source": [
    "Let us have a look to the more import attributes of the array object:"
   ]
  },
  {
   "cell_type": "code",
   "execution_count": 41,
   "metadata": {},
   "outputs": [
    {
     "name": "stdout",
     "output_type": "stream",
     "text": [
      "Rank (number of dimensions, also called axes) of a:  2\n"
     ]
    }
   ],
   "source": [
    "print(\"Rank (number of dimensions, also called axes) of a: \", a.ndim)"
   ]
  },
  {
   "cell_type": "code",
   "execution_count": 42,
   "metadata": {},
   "outputs": [
    {
     "name": "stdout",
     "output_type": "stream",
     "text": [
      "Dimensions (or shape) of a: (2, 3)\n"
     ]
    }
   ],
   "source": [
    "print(\"Dimensions (or shape) of a:\", a.shape)  # The result is a tuple"
   ]
  },
  {
   "cell_type": "code",
   "execution_count": 43,
   "metadata": {},
   "outputs": [
    {
     "name": "stdout",
     "output_type": "stream",
     "text": [
      "Total number of items in a: 6\n"
     ]
    }
   ],
   "source": [
    "print(\"Total number of items in a:\", a.size)"
   ]
  },
  {
   "cell_type": "code",
   "execution_count": 44,
   "metadata": {},
   "outputs": [
    {
     "name": "stdout",
     "output_type": "stream",
     "text": [
      "Types of items: float64\n"
     ]
    }
   ],
   "source": [
    "print(\"Types of items:\", a.dtype)"
   ]
  },
  {
   "cell_type": "markdown",
   "metadata": {},
   "source": [
    "Note that the type of items is automatically inferred at creation.\n",
    "In the following example, an array of integers is created."
   ]
  },
  {
   "cell_type": "code",
   "execution_count": 45,
   "metadata": {},
   "outputs": [
    {
     "name": "stdout",
     "output_type": "stream",
     "text": [
      "int64\n"
     ]
    }
   ],
   "source": [
    "print(np.array([1, 2, 3]).dtype)"
   ]
  },
  {
   "cell_type": "markdown",
   "metadata": {},
   "source": [
    "The type can be changed *a posteriori* with `asarray`."
   ]
  },
  {
   "cell_type": "code",
   "execution_count": 46,
   "metadata": {},
   "outputs": [
    {
     "data": {
      "text/plain": [
       "array([[18, 17, 16],\n",
       "       [14, 19, 18]])"
      ]
     },
     "execution_count": 46,
     "metadata": {},
     "output_type": "execute_result"
    }
   ],
   "source": [
    "np.asarray(a, dtype='int64')"
   ]
  },
  {
   "cell_type": "markdown",
   "metadata": {},
   "source": [
    "The type can also be forced at creation:"
   ]
  },
  {
   "cell_type": "code",
   "execution_count": 47,
   "metadata": {},
   "outputs": [
    {
     "name": "stdout",
     "output_type": "stream",
     "text": [
      "[1.+0.j 2.+0.j 3.+0.j]\n",
      "complex128\n"
     ]
    }
   ],
   "source": [
    "b = np.array([1, 2, 3], dtype=\"complex\")\n",
    "\n",
    "print(b)\n",
    "print(b.dtype)"
   ]
  },
  {
   "cell_type": "markdown",
   "metadata": {},
   "source": [
    "### Arrays from Numpy routines\n",
    "Appart from the `array` function, a Numpy array can be created in several other ways (see the documentation for further details on the parameters):"
   ]
  },
  {
   "cell_type": "code",
   "execution_count": 48,
   "metadata": {},
   "outputs": [
    {
     "data": {
      "text/plain": [
       "array([ 0,  1,  2,  3,  4,  5,  6,  7,  8,  9, 10, 11, 12, 13, 14])"
      ]
     },
     "execution_count": 48,
     "metadata": {},
     "output_type": "execute_result"
    }
   ],
   "source": [
    "np.arange(15)"
   ]
  },
  {
   "cell_type": "code",
   "execution_count": 49,
   "metadata": {},
   "outputs": [
    {
     "data": {
      "text/plain": [
       "array([[0., 0., 0., 0.],\n",
       "       [0., 0., 0., 0.],\n",
       "       [0., 0., 0., 0.]])"
      ]
     },
     "execution_count": 49,
     "metadata": {},
     "output_type": "execute_result"
    }
   ],
   "source": [
    "np.zeros((3, 4))"
   ]
  },
  {
   "cell_type": "code",
   "execution_count": 50,
   "metadata": {},
   "outputs": [
    {
     "data": {
      "text/plain": [
       "array([[1., 1., 1., 1., 1., 1., 1., 1., 1., 1.],\n",
       "       [1., 1., 1., 1., 1., 1., 1., 1., 1., 1.]])"
      ]
     },
     "execution_count": 50,
     "metadata": {},
     "output_type": "execute_result"
    }
   ],
   "source": [
    "np.ones((2, 10))"
   ]
  },
  {
   "cell_type": "code",
   "execution_count": 51,
   "metadata": {},
   "outputs": [
    {
     "data": {
      "text/plain": [
       "array([[1., 0., 0.],\n",
       "       [0., 1., 0.],\n",
       "       [0., 0., 1.]])"
      ]
     },
     "execution_count": 51,
     "metadata": {},
     "output_type": "execute_result"
    }
   ],
   "source": [
    "np.eye(3)"
   ]
  },
  {
   "cell_type": "code",
   "execution_count": 52,
   "metadata": {},
   "outputs": [
    {
     "data": {
      "text/plain": [
       "array([[1., 0., 0.],\n",
       "       [0., 2., 0.],\n",
       "       [0., 0., 3.]])"
      ]
     },
     "execution_count": 52,
     "metadata": {},
     "output_type": "execute_result"
    }
   ],
   "source": [
    "np.diag([1., 2, 3])"
   ]
  },
  {
   "cell_type": "code",
   "execution_count": 53,
   "metadata": {},
   "outputs": [
    {
     "data": {
      "text/plain": [
       "array([0. , 0.2, 0.4, 0.6, 0.8, 1. ])"
      ]
     },
     "execution_count": 53,
     "metadata": {},
     "output_type": "execute_result"
    }
   ],
   "source": [
    "np.linspace(0, 1, num=6)"
   ]
  },
  {
   "cell_type": "markdown",
   "metadata": {},
   "source": [
    "### Shape modification\n",
    "The shape of an array can be modified with many routines.\n",
    "The main one is `resize`.\n",
    "\n",
    "In Python, the norm for resizing a vector is *the rightmost index changes first*.\n",
    "This means that a 2D array `m` is filled in the following order: m[0, 0], m[0, 1], m[0, 2], …, m[1, 0]…\n",
    "**This is different from R and Matlab**."
   ]
  },
  {
   "cell_type": "code",
   "execution_count": 54,
   "metadata": {
    "scrolled": true
   },
   "outputs": [
    {
     "name": "stdout",
     "output_type": "stream",
     "text": [
      "[[ 1  2  3]\n",
      " [ 4  5  6]\n",
      " [ 7  8  9]\n",
      " [10 11 12]]\n"
     ]
    }
   ],
   "source": [
    "m = np.array([[1,2],[3,4],[5,6],[7,8],[9,10],[11,12]])\n",
    "m.resize(4, 3)  # In-place operation\n",
    "print(m)"
   ]
  },
  {
   "cell_type": "markdown",
   "metadata": {},
   "source": [
    "This is equivalent to modifying the `shape` attribute of the array (yet I advise you not to use it):"
   ]
  },
  {
   "cell_type": "code",
   "execution_count": 55,
   "metadata": {
    "scrolled": true
   },
   "outputs": [
    {
     "name": "stdout",
     "output_type": "stream",
     "text": [
      "[[ 1  2  3  4]\n",
      " [ 5  6  7  8]\n",
      " [ 9 10 11 12]]\n"
     ]
    }
   ],
   "source": [
    "m.shape = (3, 4)\n",
    "print(m)"
   ]
  },
  {
   "cell_type": "markdown",
   "metadata": {},
   "source": [
    "To go back to a one-dimensional array, one can use the `ravel` method:"
   ]
  },
  {
   "cell_type": "code",
   "execution_count": 56,
   "metadata": {},
   "outputs": [
    {
     "data": {
      "text/plain": [
       "array([ 1,  2,  3,  4,  5,  6,  7,  8,  9, 10, 11, 12])"
      ]
     },
     "execution_count": 56,
     "metadata": {},
     "output_type": "execute_result"
    }
   ],
   "source": [
    "m.ravel()  # Not in-place"
   ]
  },
  {
   "cell_type": "markdown",
   "metadata": {},
   "source": [
    "Note that this is **not an in-place** method, meaning that it does not alter the original array.\n",
    "About this, two other methods are similar to `resize` and `ravel`:\n",
    "- `reshape` creates a new **view** of the object while `resize` runs **in-place**;\n",
    "- `flatten` creates a **copy** of the object while `ravel` returns a new **view**.\n",
    "The difference between copy and view is explained below."
   ]
  },
  {
   "cell_type": "code",
   "execution_count": 57,
   "metadata": {},
   "outputs": [
    {
     "name": "stdout",
     "output_type": "stream",
     "text": [
      "[[ 1  2  3  4  5  6]\n",
      " [ 7  8  9 10 11 12]]\n"
     ]
    }
   ],
   "source": [
    "print(m.reshape(2, 6))"
   ]
  },
  {
   "cell_type": "code",
   "execution_count": 58,
   "metadata": {},
   "outputs": [
    {
     "name": "stdout",
     "output_type": "stream",
     "text": [
      "[ 1  2  3  4  5  6  7  8  9 10 11 12]\n"
     ]
    }
   ],
   "source": [
    "print(m.flatten())"
   ]
  },
  {
   "cell_type": "code",
   "execution_count": 59,
   "metadata": {
    "scrolled": true
   },
   "outputs": [
    {
     "name": "stdout",
     "output_type": "stream",
     "text": [
      "[[ 1  2  3  4]\n",
      " [ 5  6  7  8]\n",
      " [ 9 10 11 12]]\n"
     ]
    }
   ],
   "source": [
    "print(m)"
   ]
  },
  {
   "cell_type": "markdown",
   "metadata": {},
   "source": [
    "Note that with the `reshape` method and the `shape` attribute, one dimension can be automatically calculated by giving `-1`:"
   ]
  },
  {
   "cell_type": "code",
   "execution_count": 60,
   "metadata": {},
   "outputs": [
    {
     "name": "stdout",
     "output_type": "stream",
     "text": [
      "[[ 1  2  3  4  5  6]\n",
      " [ 7  8  9 10 11 12]]\n"
     ]
    }
   ],
   "source": [
    "m.shape = (2, -1)\n",
    "print(m)"
   ]
  },
  {
   "cell_type": "code",
   "execution_count": 61,
   "metadata": {},
   "outputs": [
    {
     "data": {
      "text/plain": [
       "array([[ 1,  2],\n",
       "       [ 3,  4],\n",
       "       [ 5,  6],\n",
       "       [ 7,  8],\n",
       "       [ 9, 10],\n",
       "       [11, 12]])"
      ]
     },
     "execution_count": 61,
     "metadata": {},
     "output_type": "execute_result"
    }
   ],
   "source": [
    "m.reshape(-1, 2)"
   ]
  },
  {
   "cell_type": "markdown",
   "metadata": {},
   "source": [
    "**Remark :**\n",
    "I advise you to use `reshape` and `ravel`, which are two convenient methods returning a new view of the object."
   ]
  },
  {
   "cell_type": "markdown",
   "metadata": {},
   "source": [
    "Finally, a new dimension can be added to an array with the object `newaxis`:"
   ]
  },
  {
   "cell_type": "code",
   "execution_count": 62,
   "metadata": {},
   "outputs": [
    {
     "name": "stdout",
     "output_type": "stream",
     "text": [
      "[1. 1. 1.]\n"
     ]
    }
   ],
   "source": [
    "c = np.ones(3)\n",
    "print(c)"
   ]
  },
  {
   "cell_type": "code",
   "execution_count": 63,
   "metadata": {},
   "outputs": [
    {
     "name": "stdout",
     "output_type": "stream",
     "text": [
      "[[1.]\n",
      " [1.]\n",
      " [1.]]\n"
     ]
    }
   ],
   "source": [
    "c = c[:, np.newaxis]\n",
    "print(c)"
   ]
  },
  {
   "cell_type": "markdown",
   "metadata": {},
   "source": [
    "This technique is equivalent to reshaping with dimensions `(-1, 1)`:"
   ]
  },
  {
   "cell_type": "code",
   "execution_count": 64,
   "metadata": {},
   "outputs": [
    {
     "data": {
      "text/plain": [
       "array([[1.],\n",
       "       [1.],\n",
       "       [1.]])"
      ]
     },
     "execution_count": 64,
     "metadata": {},
     "output_type": "execute_result"
    }
   ],
   "source": [
    "np.ones(3).reshape(-1, 1)"
   ]
  },
  {
   "cell_type": "markdown",
   "metadata": {},
   "source": [
    "### Repetition and concatenation\n",
    "Besides modifying their shapes, arrays can also be repeated and concatenated:"
   ]
  },
  {
   "cell_type": "code",
   "execution_count": 65,
   "metadata": {},
   "outputs": [
    {
     "name": "stdout",
     "output_type": "stream",
     "text": [
      "[[0 1]\n",
      " [2 3]]\n"
     ]
    }
   ],
   "source": [
    "m = np.arange(4).reshape(2, -1)\n",
    "print(m)"
   ]
  },
  {
   "cell_type": "code",
   "execution_count": 66,
   "metadata": {},
   "outputs": [
    {
     "data": {
      "text/plain": [
       "array([[0, 1, 0, 1, 0, 1],\n",
       "       [2, 3, 2, 3, 2, 3],\n",
       "       [0, 1, 0, 1, 0, 1],\n",
       "       [2, 3, 2, 3, 2, 3]])"
      ]
     },
     "execution_count": 66,
     "metadata": {},
     "output_type": "execute_result"
    }
   ],
   "source": [
    "np.tile(m, (2, 3))  # 2 repetitions in line, 3 in column"
   ]
  },
  {
   "cell_type": "code",
   "execution_count": 67,
   "metadata": {},
   "outputs": [
    {
     "name": "stdout",
     "output_type": "stream",
     "text": [
      "[[-2.  -1.5]\n",
      " [-1.  -0.5]]\n"
     ]
    }
   ],
   "source": [
    "p = np.linspace(-2, -0.5, num=4).reshape(2, -1)\n",
    "print(p)"
   ]
  },
  {
   "cell_type": "code",
   "execution_count": 68,
   "metadata": {},
   "outputs": [
    {
     "data": {
      "text/plain": [
       "array([[ 0. ,  1. ],\n",
       "       [ 2. ,  3. ],\n",
       "       [-2. , -1.5],\n",
       "       [-1. , -0.5]])"
      ]
     },
     "execution_count": 68,
     "metadata": {},
     "output_type": "execute_result"
    }
   ],
   "source": [
    "np.concatenate((m, p))"
   ]
  },
  {
   "cell_type": "code",
   "execution_count": 69,
   "metadata": {},
   "outputs": [
    {
     "data": {
      "text/plain": [
       "array([[ 0. ,  1. , -2. , -1.5],\n",
       "       [ 2. ,  3. , -1. , -0.5]])"
      ]
     },
     "execution_count": 69,
     "metadata": {},
     "output_type": "execute_result"
    }
   ],
   "source": [
    "np.concatenate((m, p), axis=1)"
   ]
  },
  {
   "cell_type": "markdown",
   "metadata": {},
   "source": [
    "For 2D-arrays, the last two operations can also be done by stacking arrays vertically or horizontally:"
   ]
  },
  {
   "cell_type": "code",
   "execution_count": 70,
   "metadata": {},
   "outputs": [
    {
     "data": {
      "text/plain": [
       "array([[ 0. ,  1. ],\n",
       "       [ 2. ,  3. ],\n",
       "       [-2. , -1.5],\n",
       "       [-1. , -0.5]])"
      ]
     },
     "execution_count": 70,
     "metadata": {},
     "output_type": "execute_result"
    }
   ],
   "source": [
    "np.vstack((m, p))"
   ]
  },
  {
   "cell_type": "code",
   "execution_count": 71,
   "metadata": {},
   "outputs": [
    {
     "data": {
      "text/plain": [
       "array([[ 0. ,  1. , -2. , -1.5],\n",
       "       [ 2. ,  3. , -1. , -0.5]])"
      ]
     },
     "execution_count": 71,
     "metadata": {},
     "output_type": "execute_result"
    }
   ],
   "source": [
    "np.hstack((m, p))"
   ]
  },
  {
   "cell_type": "markdown",
   "metadata": {},
   "source": [
    "Finally, stacking objects of different kinds may also be a way to create arrays.\n",
    "This is the purpose of the routines `r_` (for *row*) and `c_` (for *column*).\n",
    "The first one is used for concatenating horizontally 1D-arrays while the second one serves for 2D-arrays.\n",
    "Beware of the notation. It is quite unusual:"
   ]
  },
  {
   "cell_type": "code",
   "execution_count": 72,
   "metadata": {},
   "outputs": [
    {
     "data": {
      "text/plain": [
       "array([ 0. ,  2. ,  4. , -1. , -0.6, -0.2,  0.2,  0.6,  1. ,  0. ,  0. ,\n",
       "        0. ,  5. ,  6. ,  1. ,  3. ,  5. ])"
      ]
     },
     "execution_count": 72,
     "metadata": {},
     "output_type": "execute_result"
    }
   ],
   "source": [
    "np.r_[0:6:2, -1:1:6j, [0]*3, 5, 6, np.array([1, 3, 5])]"
   ]
  },
  {
   "cell_type": "markdown",
   "metadata": {},
   "source": [
    "Here, we used the slice notation of `0:6:2`, which produces the same as `np.arange(0, 6, step=2)`, that is `[0, 2, 4]` (no 6!).\n",
    "However, when the step is an imaginary number, the slice notation is equivalent to a linspace.\n",
    "In other words, `-1:1:6j` produces the same as `np.linspace(-1, 1, num=6)`."
   ]
  },
  {
   "cell_type": "code",
   "execution_count": 73,
   "metadata": {},
   "outputs": [
    {
     "data": {
      "text/plain": [
       "array([[ 0. ,  1. ,  0. , -2. , -1.5],\n",
       "       [ 2. ,  3. ,  0. , -1. , -0.5]])"
      ]
     },
     "execution_count": 73,
     "metadata": {},
     "output_type": "execute_result"
    }
   ],
   "source": [
    "np.c_[m, [[0], [0]], p]  # Concatenation of 2D-arrays"
   ]
  },
  {
   "cell_type": "markdown",
   "metadata": {},
   "source": [
    "**Question**\n",
    "\n",
    "With `reshape` and `concatenate`, produce the array:\n",
    "    \n",
    "    [[ 0 -2  0  2]\n",
    "     [-4 -6  4  6]]."
   ]
  },
  {
   "cell_type": "code",
   "execution_count": 74,
   "metadata": {},
   "outputs": [
    {
     "ename": "TypeError",
     "evalue": "'list' object cannot be interpreted as an integer",
     "output_type": "error",
     "traceback": [
      "\u001b[0;31m---------------------------------------------------------------------------\u001b[0m",
      "\u001b[0;31mTypeError\u001b[0m                                 Traceback (most recent call last)",
      "Cell \u001b[0;32mIn [74], line 2\u001b[0m\n\u001b[1;32m      1\u001b[0m \u001b[39m# Answer\u001b[39;00m\n\u001b[0;32m----> 2\u001b[0m np\u001b[39m.\u001b[39;49mconcatenate([\u001b[39m1\u001b[39;49m], [\u001b[39m2\u001b[39;49m])\n",
      "File \u001b[0;32m<__array_function__ internals>:180\u001b[0m, in \u001b[0;36mconcatenate\u001b[0;34m(*args, **kwargs)\u001b[0m\n",
      "\u001b[0;31mTypeError\u001b[0m: 'list' object cannot be interpreted as an integer"
     ]
    }
   ],
   "source": [
    "# Answer\n",
    "np.concatenate([1], [2])"
   ]
  },
  {
   "cell_type": "markdown",
   "metadata": {},
   "source": [
    "### Indexing and slicing\n",
    "A one-dimensional array can be indexed, sliced and iterated over the same way as a list:"
   ]
  },
  {
   "cell_type": "code",
   "execution_count": null,
   "metadata": {},
   "outputs": [
    {
     "name": "stdout",
     "output_type": "stream",
     "text": [
      "[0 1 2 3]\n"
     ]
    },
    {
     "data": {
      "text/plain": [
       "array([1, 2])"
      ]
     },
     "execution_count": 37,
     "metadata": {},
     "output_type": "execute_result"
    }
   ],
   "source": [
    "a = np.arange(4)\n",
    "print(a)\n",
    "a[1:3]"
   ]
  },
  {
   "cell_type": "code",
   "execution_count": null,
   "metadata": {},
   "outputs": [
    {
     "data": {
      "text/plain": [
       "array([0, 2])"
      ]
     },
     "execution_count": 38,
     "metadata": {},
     "output_type": "execute_result"
    }
   ],
   "source": [
    "a[[0, 2]]"
   ]
  },
  {
   "cell_type": "code",
   "execution_count": null,
   "metadata": {},
   "outputs": [
    {
     "name": "stdout",
     "output_type": "stream",
     "text": [
      "0.0 0.04000000000000001 0.16000000000000003 0.3600000000000001 0.6400000000000001 1.0 "
     ]
    }
   ],
   "source": [
    "for it in np.linspace(0, 1, num=6):\n",
    "    print(it**2, end=\" \")"
   ]
  },
  {
   "cell_type": "markdown",
   "metadata": {},
   "source": [
    "For a multi-dimensional array (here 2D), a single index is interpreted as accessing the first axis of the array:"
   ]
  },
  {
   "cell_type": "code",
   "execution_count": null,
   "metadata": {},
   "outputs": [
    {
     "name": "stdout",
     "output_type": "stream",
     "text": [
      "[[ 0  1  2]\n",
      " [ 3  4  5]\n",
      " [ 6  7  8]\n",
      " [ 9 10 11]]\n"
     ]
    }
   ],
   "source": [
    "m = np.arange(12).reshape(4, 3)\n",
    "print(m)"
   ]
  },
  {
   "cell_type": "markdown",
   "metadata": {},
   "source": [
    "Note that the first axis is understood from **top to bottom**."
   ]
  },
  {
   "cell_type": "code",
   "execution_count": null,
   "metadata": {},
   "outputs": [
    {
     "name": "stdout",
     "output_type": "stream",
     "text": [
      "[0 1 2]\n"
     ]
    }
   ],
   "source": [
    "print(m[0])"
   ]
  },
  {
   "cell_type": "code",
   "execution_count": null,
   "metadata": {},
   "outputs": [
    {
     "name": "stdout",
     "output_type": "stream",
     "text": [
      "[0 1 2]\n",
      "[3 4 5]\n",
      "[6 7 8]\n",
      "[ 9 10 11]\n"
     ]
    }
   ],
   "source": [
    "for row in m:\n",
    "    print(row)"
   ]
  },
  {
   "cell_type": "markdown",
   "metadata": {},
   "source": [
    "To iterate on each element of a multi-dimensional array, one can use the `flat` attribute, which is an iterator over all items:"
   ]
  },
  {
   "cell_type": "code",
   "execution_count": null,
   "metadata": {},
   "outputs": [
    {
     "name": "stdout",
     "output_type": "stream",
     "text": [
      "Number of even items: 6\n"
     ]
    }
   ],
   "source": [
    "c = 0\n",
    "for it in m.flat:\n",
    "    c += 1 - it%2\n",
    "print(\"Number of even items:\", c)"
   ]
  },
  {
   "cell_type": "markdown",
   "metadata": {},
   "source": [
    "Yet, one can access items of a multi-dimensional array with multi-dimensional indexes:"
   ]
  },
  {
   "cell_type": "code",
   "execution_count": null,
   "metadata": {},
   "outputs": [
    {
     "data": {
      "text/plain": [
       "1"
      ]
     },
     "execution_count": 44,
     "metadata": {},
     "output_type": "execute_result"
    }
   ],
   "source": [
    "m[0, 1]"
   ]
  },
  {
   "cell_type": "markdown",
   "metadata": {},
   "source": [
    "Note that this is equivalent to:"
   ]
  },
  {
   "cell_type": "code",
   "execution_count": null,
   "metadata": {},
   "outputs": [
    {
     "data": {
      "text/plain": [
       "1"
      ]
     },
     "execution_count": 45,
     "metadata": {},
     "output_type": "execute_result"
    }
   ],
   "source": [
    "m[0][1]"
   ]
  },
  {
   "cell_type": "markdown",
   "metadata": {},
   "source": [
    "Some parameters of the slice can be automatically inferred:"
   ]
  },
  {
   "cell_type": "code",
   "execution_count": null,
   "metadata": {},
   "outputs": [
    {
     "data": {
      "text/plain": [
       "array([[1, 2],\n",
       "       [4, 5]])"
      ]
     },
     "execution_count": 46,
     "metadata": {},
     "output_type": "execute_result"
    }
   ],
   "source": [
    "m[:2, 1:]  # Until Row 2 (excluded), from Column 1 (included)"
   ]
  },
  {
   "cell_type": "code",
   "execution_count": null,
   "metadata": {},
   "outputs": [
    {
     "data": {
      "text/plain": [
       "array([], shape=(0, 6), dtype=int64)"
      ]
     },
     "execution_count": 18,
     "metadata": {},
     "output_type": "execute_result"
    }
   ],
   "source": [
    "m[2:, :]  # ':' means 'all'"
   ]
  },
  {
   "cell_type": "markdown",
   "metadata": {},
   "source": [
    "A feature of Numpy is to provide two methods of *fancy indexing* for arrays.\n",
    "The first one is with lists/arrays:"
   ]
  },
  {
   "cell_type": "code",
   "execution_count": null,
   "metadata": {},
   "outputs": [
    {
     "name": "stdout",
     "output_type": "stream",
     "text": [
      "[[0 1]\n",
      " [2 3]]\n"
     ]
    },
    {
     "ename": "IndexError",
     "evalue": "index 2 is out of bounds for axis 0 with size 2",
     "output_type": "error",
     "traceback": [
      "\u001b[0;31m---------------------------------------------------------------------------\u001b[0m",
      "\u001b[0;31mIndexError\u001b[0m                                Traceback (most recent call last)",
      "Cell \u001b[0;32mIn [56], line 2\u001b[0m\n\u001b[1;32m      1\u001b[0m \u001b[39mprint\u001b[39m(m)\n\u001b[0;32m----> 2\u001b[0m \u001b[39mprint\u001b[39m(\u001b[39m\"\u001b[39m\u001b[39mExtracted array:\u001b[39m\u001b[39m\"\u001b[39m, m[[\u001b[39m1\u001b[39;49m, \u001b[39m1\u001b[39;49m, \u001b[39m2\u001b[39;49m], [\u001b[39m0\u001b[39;49m, \u001b[39m1\u001b[39;49m, \u001b[39m2\u001b[39;49m]])\n",
      "\u001b[0;31mIndexError\u001b[0m: index 2 is out of bounds for axis 0 with size 2"
     ]
    }
   ],
   "source": [
    "print(m)\n",
    "print(\"Extracted array:\", m[[1, 1, 2], [0, 1, 2]])"
   ]
  },
  {
   "cell_type": "markdown",
   "metadata": {},
   "source": [
    "The second method is using masks:"
   ]
  },
  {
   "cell_type": "code",
   "execution_count": null,
   "metadata": {},
   "outputs": [
    {
     "name": "stdout",
     "output_type": "stream",
     "text": [
      "[[False False False]\n",
      " [False  True  True]\n",
      " [ True  True  True]\n",
      " [False False False]]\n"
     ]
    }
   ],
   "source": [
    "print(np.logical_and(3 < m, m < 9))"
   ]
  },
  {
   "cell_type": "code",
   "execution_count": null,
   "metadata": {},
   "outputs": [
    {
     "name": "stdout",
     "output_type": "stream",
     "text": [
      "[4 5 6 7 8]\n"
     ]
    }
   ],
   "source": [
    "print(m[np.logical_and(3 < m, m < 9)])"
   ]
  },
  {
   "cell_type": "markdown",
   "metadata": {},
   "source": [
    "These two methods are particularly useful for assignments:"
   ]
  },
  {
   "cell_type": "code",
   "execution_count": null,
   "metadata": {},
   "outputs": [
    {
     "name": "stdout",
     "output_type": "stream",
     "text": [
      "[[ 0  0  2]\n",
      " [ 2  4  4]\n",
      " [ 6  6  8]\n",
      " [ 8 10 10]]\n"
     ]
    }
   ],
   "source": [
    "m[m%2 == 1] -= 1\n",
    "print(m)"
   ]
  },
  {
   "cell_type": "markdown",
   "metadata": {},
   "source": [
    "**Question**\n",
    "\n",
    "Set all the negative items of the following array to 0."
   ]
  },
  {
   "cell_type": "code",
   "execution_count": null,
   "metadata": {},
   "outputs": [
    {
     "name": "stdout",
     "output_type": "stream",
     "text": [
      "[[-6  5 -4  3]\n",
      " [-2  1  0 -1]\n",
      " [ 2 -3  4 -5]]\n",
      "[[0 5 0 3]\n",
      " [0 1 0 0]\n",
      " [2 0 4 0]]\n"
     ]
    }
   ],
   "source": [
    "u = ((-1)**np.arange(12) * (np.arange(-6, 6))).reshape(3, -1)\n",
    "print(u)\n",
    "u[u < 0] = 0\n",
    "print(u)"
   ]
  },
  {
   "cell_type": "code",
   "execution_count": null,
   "metadata": {
    "collapsed": true
   },
   "outputs": [],
   "source": [
    "# Answer\n",
    "u[u < 0] = 0"
   ]
  },
  {
   "cell_type": "markdown",
   "metadata": {},
   "source": [
    "### Copies and views\n",
    "As already stated in the first part of this tutorial, Python objects are rarely copied but often only bound.\n",
    "This is still true with Numpy arrays (they are mutable objects) and even a bit more complicated.\n",
    "There are three situations:\n",
    "#### No copy\n",
    "With the assignment operator and arrays as parameters of a function, there is no copy:"
   ]
  },
  {
   "cell_type": "code",
   "execution_count": null,
   "metadata": {},
   "outputs": [
    {
     "data": {
      "text/plain": [
       "True"
      ]
     },
     "execution_count": 54,
     "metadata": {},
     "output_type": "execute_result"
    }
   ],
   "source": [
    "p = m\n",
    "p is m"
   ]
  },
  {
   "cell_type": "markdown",
   "metadata": {},
   "source": [
    "#### View\n",
    "With Numpy, two arrays can share the same data.\n",
    "The `view` method enables to create a new array that looks at the same data:"
   ]
  },
  {
   "cell_type": "code",
   "execution_count": null,
   "metadata": {},
   "outputs": [
    {
     "data": {
      "text/plain": [
       "False"
      ]
     },
     "execution_count": 65,
     "metadata": {},
     "output_type": "execute_result"
    }
   ],
   "source": [
    "p = m.view()\n",
    "p is m  # Different objects"
   ]
  },
  {
   "cell_type": "markdown",
   "metadata": {},
   "source": [
    "#### Copy\n",
    "The `copy` method makes a complete copy of an array (object and data):"
   ]
  },
  {
   "cell_type": "code",
   "execution_count": null,
   "metadata": {},
   "outputs": [
    {
     "data": {
      "text/plain": [
       "False"
      ]
     },
     "execution_count": 56,
     "metadata": {},
     "output_type": "execute_result"
    }
   ],
   "source": [
    "p = m.copy()\n",
    "p is m "
   ]
  },
  {
   "cell_type": "markdown",
   "metadata": {},
   "source": [
    "## Operations on arrays <a id=\"part1sec3\"></a>\n",
    "### Basic operations\n",
    "In Numpy, operations on arrays are elementwise.\n",
    "The result is returned in a new array."
   ]
  },
  {
   "cell_type": "code",
   "execution_count": null,
   "metadata": {},
   "outputs": [
    {
     "name": "stdout",
     "output_type": "stream",
     "text": [
      "a = [0 1 2 3]\n",
      "b = [ 0 10 20 30]\n"
     ]
    }
   ],
   "source": [
    "a = np.arange(4)\n",
    "print(\"a =\", a)\n",
    "\n",
    "b = a * 10  # Product with a scalar\n",
    "print(\"b =\", b)"
   ]
  },
  {
   "cell_type": "code",
   "execution_count": null,
   "metadata": {},
   "outputs": [
    {
     "data": {
      "text/plain": [
       "array([ 0,  9, 18, 27])"
      ]
     },
     "execution_count": 58,
     "metadata": {},
     "output_type": "execute_result"
    }
   ],
   "source": [
    "b-a  # Sum and differences"
   ]
  },
  {
   "cell_type": "code",
   "execution_count": null,
   "metadata": {},
   "outputs": [
    {
     "data": {
      "text/plain": [
       "array([0, 1, 4, 9])"
      ]
     },
     "execution_count": 59,
     "metadata": {},
     "output_type": "execute_result"
    }
   ],
   "source": [
    "a**2  # Power"
   ]
  },
  {
   "cell_type": "code",
   "execution_count": null,
   "metadata": {},
   "outputs": [
    {
     "data": {
      "text/plain": [
       "array([ 0, 10, 40, 90])"
      ]
     },
     "execution_count": 60,
     "metadata": {},
     "output_type": "execute_result"
    }
   ],
   "source": [
    "a * b  # Product with another array"
   ]
  },
  {
   "cell_type": "code",
   "execution_count": null,
   "metadata": {},
   "outputs": [
    {
     "data": {
      "text/plain": [
       "array([ True,  True, False, False])"
      ]
     },
     "execution_count": 61,
     "metadata": {},
     "output_type": "execute_result"
    }
   ],
   "source": [
    "b < 10.5  # Comparison"
   ]
  },
  {
   "cell_type": "markdown",
   "metadata": {},
   "source": [
    "Som operations, such as *+=* and **=* are inplace (no copy):"
   ]
  },
  {
   "cell_type": "code",
   "execution_count": null,
   "metadata": {},
   "outputs": [
    {
     "name": "stdout",
     "output_type": "stream",
     "text": [
      "[2 3 4 5]\n"
     ]
    }
   ],
   "source": [
    "a += 2\n",
    "print(a)"
   ]
  },
  {
   "cell_type": "markdown",
   "metadata": {},
   "source": [
    "### Broadcasting\n",
    "A major feature of array is operation broadcasting, that is the ability to operate on arrays with different shapes.\n",
    "Broadcasting is a way of vectorizing array operations with fast backward implementations.\n",
    "\n",
    "The main rule of broadcasting is that the shapes of two arrays are compatible when:\n",
    "- they are the same;\n",
    "- a shape is different but is equal to 1 (in this case, the array is identically repeated along this direction);\n",
    "- a dimension is missing (in this case, numpy creates a new dimension at the beginning and the array is identically repeated along this new first direction).\n",
    "\n",
    "A common example of this last case is operation between an array and a reduced version of it along the axis 0 (see below)."
   ]
  },
  {
   "cell_type": "code",
   "execution_count": null,
   "metadata": {},
   "outputs": [
    {
     "name": "stdout",
     "output_type": "stream",
     "text": [
      "[[ 0  1  2]\n",
      " [ 3  4  5]\n",
      " [ 6  7  8]\n",
      " [ 9 10 11]]\n"
     ]
    }
   ],
   "source": [
    "x = np.arange(12).reshape(4, -1)\n",
    "print(x)"
   ]
  },
  {
   "cell_type": "markdown",
   "metadata": {},
   "source": [
    "The mean along the first axis is:"
   ]
  },
  {
   "cell_type": "code",
   "execution_count": null,
   "metadata": {},
   "outputs": [
    {
     "name": "stdout",
     "output_type": "stream",
     "text": [
      "[4.5 5.5 6.5]\n"
     ]
    }
   ],
   "source": [
    "m = x.mean(axis=0)\n",
    "print(m)"
   ]
  },
  {
   "cell_type": "markdown",
   "metadata": {},
   "source": [
    "Then, centering the array can be easily performed in the following way:"
   ]
  },
  {
   "cell_type": "code",
   "execution_count": null,
   "metadata": {},
   "outputs": [
    {
     "name": "stdout",
     "output_type": "stream",
     "text": [
      "[[-4.5 -4.5 -4.5]\n",
      " [-1.5 -1.5 -1.5]\n",
      " [ 1.5  1.5  1.5]\n",
      " [ 4.5  4.5  4.5]]\n"
     ]
    }
   ],
   "source": [
    "c = x - m\n",
    "print(c)"
   ]
  },
  {
   "cell_type": "code",
   "execution_count": null,
   "metadata": {},
   "outputs": [
    {
     "name": "stdout",
     "output_type": "stream",
     "text": [
      "[0. 0. 0.]\n"
     ]
    }
   ],
   "source": [
    "print(c.mean(axis=0))"
   ]
  },
  {
   "cell_type": "markdown",
   "metadata": {},
   "source": [
    "**Question**\n",
    "\n",
    "What is the aim of the operation `u - ur.reshape(-1, 1)`?"
   ]
  },
  {
   "cell_type": "code",
   "execution_count": null,
   "metadata": {},
   "outputs": [
    {
     "name": "stdout",
     "output_type": "stream",
     "text": [
      "[[ 0  1  2  3]\n",
      " [ 4  5  6  7]\n",
      " [ 8  9 10 11]\n",
      " [12 13 14 15]] [ 1.5  5.5  9.5 13.5]\n"
     ]
    }
   ],
   "source": [
    "u = np.arange(16).reshape(4, -1)\n",
    "ur = u.mean(axis=1)\n",
    "print(u, ur)"
   ]
  },
  {
   "cell_type": "code",
   "execution_count": null,
   "metadata": {
    "collapsed": true
   },
   "outputs": [
    {
     "data": {
      "text/plain": [
       "array([[-1.5, -0.5,  0.5,  1.5],\n",
       "       [-1.5, -0.5,  0.5,  1.5],\n",
       "       [-1.5, -0.5,  0.5,  1.5],\n",
       "       [-1.5, -0.5,  0.5,  1.5]])"
      ]
     },
     "execution_count": 72,
     "metadata": {},
     "output_type": "execute_result"
    }
   ],
   "source": [
    "# Answer\n",
    "u - ur.reshape(-1, 1)"
   ]
  },
  {
   "cell_type": "markdown",
   "metadata": {},
   "source": [
    "### Mathematical methods\n",
    "As stated in the introduction, a major feature of Numpy is to provide mathematical methods with fast implementations.\n",
    "For instance:"
   ]
  },
  {
   "cell_type": "code",
   "execution_count": null,
   "metadata": {
    "scrolled": true
   },
   "outputs": [
    {
     "name": "stdout",
     "output_type": "stream",
     "text": [
      "[2 3 4 5]\n"
     ]
    },
    {
     "data": {
      "text/plain": [
       "(14, 120)"
      ]
     },
     "execution_count": 69,
     "metadata": {},
     "output_type": "execute_result"
    }
   ],
   "source": [
    "print(a)\n",
    "a.sum(), a.prod()"
   ]
  },
  {
   "cell_type": "code",
   "execution_count": null,
   "metadata": {},
   "outputs": [
    {
     "data": {
      "text/plain": [
       "array([ 2,  5,  9, 14])"
      ]
     },
     "execution_count": 70,
     "metadata": {},
     "output_type": "execute_result"
    }
   ],
   "source": [
    "a.cumsum()"
   ]
  },
  {
   "cell_type": "code",
   "execution_count": null,
   "metadata": {},
   "outputs": [
    {
     "data": {
      "text/plain": [
       "(3.5, 1.118033988749895)"
      ]
     },
     "execution_count": 71,
     "metadata": {},
     "output_type": "execute_result"
    }
   ],
   "source": [
    "a.mean(), a.std()"
   ]
  },
  {
   "cell_type": "code",
   "execution_count": null,
   "metadata": {},
   "outputs": [
    {
     "data": {
      "text/plain": [
       "(2, 5)"
      ]
     },
     "execution_count": 72,
     "metadata": {},
     "output_type": "execute_result"
    }
   ],
   "source": [
    "a.min(), a.max()"
   ]
  },
  {
   "cell_type": "code",
   "execution_count": null,
   "metadata": {},
   "outputs": [
    {
     "data": {
      "text/plain": [
       "(0, 3)"
      ]
     },
     "execution_count": 73,
     "metadata": {},
     "output_type": "execute_result"
    }
   ],
   "source": [
    "a.argmin(), a.argmax()"
   ]
  },
  {
   "cell_type": "code",
   "execution_count": null,
   "metadata": {},
   "outputs": [
    {
     "name": "stdout",
     "output_type": "stream",
     "text": [
      "[3 4 5 6 9]\n"
     ]
    }
   ],
   "source": [
    "c = np.array([4, 3, 6, 5, 9])\n",
    "c.sort()  # In-place sorting\n",
    "print(c)"
   ]
  },
  {
   "cell_type": "markdown",
   "metadata": {},
   "source": [
    "Note that for multidimensional arrays, the axis of operation can be specified:"
   ]
  },
  {
   "cell_type": "code",
   "execution_count": null,
   "metadata": {},
   "outputs": [
    {
     "name": "stdout",
     "output_type": "stream",
     "text": [
      "[[ 0  1  2]\n",
      " [ 3  4  5]\n",
      " [ 6  7  8]\n",
      " [ 9 10 11]]\n",
      "[ 3 12 21 30]\n"
     ]
    }
   ],
   "source": [
    "m = np.arange(12).reshape(4, -1)\n",
    "print(m)\n",
    "print(m.sum(axis=1))"
   ]
  },
  {
   "cell_type": "markdown",
   "metadata": {},
   "source": [
    "### Universal functions\n",
    "As a mathematical package, Numpy provides elementary functions (called [*universal functions*](http://docs.scipy.org/doc/numpy/reference/ufuncs.html#math-operations)) such as the following ones.\n",
    "These functions apply element-wise and return an array."
   ]
  },
  {
   "cell_type": "code",
   "execution_count": null,
   "metadata": {},
   "outputs": [],
   "source": [
    "import matplotlib.pyplot as plt\n",
    "import seaborn as sns\n",
    "sns.set()\n",
    "\n",
    "t = np.linspace(0, 2*np.pi, num=50)\n",
    "\n",
    "fig, ax = plt.subplots()\n",
    "ax.plot(t, np.sin(t), label=\"sin\")\n",
    "ax.plot(t, np.cos(t), label=\"cos\")\n",
    "ax.plot(t, np.exp(-t), label=\"exp\")\n",
    "ax.legend();"
   ]
  },
  {
   "cell_type": "code",
   "execution_count": null,
   "metadata": {},
   "outputs": [
    {
     "data": {
      "image/png": "[encoded data removed]",
      "text/plain": [
       "<Figure size 432x288 with 1 Axes>"
      ]
     },
     "metadata": {
      "needs_background": "light"
     },
     "output_type": "display_data"
    }
   ],
   "source": [
    "fig, ax = plt.subplots()\n",
    "ax.plot(t, np.fmax(np.sin(t), np.cos(t)));"
   ]
  },
  {
   "cell_type": "markdown",
   "metadata": {},
   "source": [
    "**Question**\n",
    "\n",
    "Compute and plot on the last graphic the curve of $\\left| \\max(\\sin(t), \\cos(t)) - 0.25 \\right|$."
   ]
  },
  {
   "cell_type": "code",
   "execution_count": null,
   "metadata": {
    "collapsed": true
   },
   "outputs": [],
   "source": [
    "# Answer"
   ]
  },
  {
   "cell_type": "markdown",
   "metadata": {},
   "source": [
    "### Linear algebra\n",
    "A major application of Numpy is [linear algebra](http://docs.scipy.org/doc/numpy/reference/routines.linalg.html).\n",
    "For this purpose, Numpy provides a `matrix` object, yet it is hardly ever used in practice.\n",
    "Scientists generally prefer to handle traditional arrays with routines from linear algebra.\n",
    "Some examples are provided below."
   ]
  },
  {
   "cell_type": "code",
   "execution_count": null,
   "metadata": {},
   "outputs": [
    {
     "name": "stdout",
     "output_type": "stream",
     "text": [
      "[1. 1. 1. 1. 1.]\n",
      "[0 1 2 3 4]\n"
     ]
    }
   ],
   "source": [
    "a = np.ones(5)\n",
    "print(a)\n",
    "\n",
    "b = np.arange(5)\n",
    "print(b)"
   ]
  },
  {
   "cell_type": "code",
   "execution_count": null,
   "metadata": {},
   "outputs": [
    {
     "name": "stdout",
     "output_type": "stream",
     "text": [
      "10.0\n"
     ]
    }
   ],
   "source": [
    "print(a.dot(b))  # Dot product"
   ]
  },
  {
   "cell_type": "code",
   "execution_count": 76,
   "metadata": {},
   "outputs": [
    {
     "name": "stdout",
     "output_type": "stream",
     "text": [
      "[[18.+0.j 36.+0.j 54.+0.j]\n",
      " [17.+0.j 34.+0.j 51.+0.j]\n",
      " [16.+0.j 32.+0.j 48.+0.j]\n",
      " [14.+0.j 28.+0.j 42.+0.j]\n",
      " [19.+0.j 38.+0.j 57.+0.j]\n",
      " [18.+0.j 36.+0.j 54.+0.j]]\n"
     ]
    }
   ],
   "source": [
    "A = np.outer(a, b)  # Outer product\n",
    "print(A)"
   ]
  },
  {
   "cell_type": "code",
   "execution_count": 77,
   "metadata": {},
   "outputs": [
    {
     "name": "stdout",
     "output_type": "stream",
     "text": [
      "[[ 0.2  0.   0.   0.   0. ]\n",
      " [ 0.   0.7  0.   0.   0. ]\n",
      " [ 0.   0.  -1.   0.   0. ]\n",
      " [ 0.   0.   0.   2.   0. ]\n",
      " [ 0.   0.   0.   0.   5. ]]\n"
     ]
    }
   ],
   "source": [
    "B = np.diag([0.2, 0.7, -1, 2, 5])\n",
    "print(B)"
   ]
  },
  {
   "cell_type": "code",
   "execution_count": 78,
   "metadata": {},
   "outputs": [
    {
     "ename": "ValueError",
     "evalue": "shapes (6,3) and (5,5) not aligned: 3 (dim 1) != 5 (dim 0)",
     "output_type": "error",
     "traceback": [
      "\u001b[0;31m---------------------------------------------------------------------------\u001b[0m",
      "\u001b[0;31mValueError\u001b[0m                                Traceback (most recent call last)",
      "Cell \u001b[0;32mIn [78], line 1\u001b[0m\n\u001b[0;32m----> 1\u001b[0m \u001b[39mprint\u001b[39m(A\u001b[39m.\u001b[39;49mdot(B))  \u001b[39m# Matrix product (different from A*B!)\u001b[39;00m\n\u001b[1;32m      2\u001b[0m A\u001b[39m*\u001b[39mB\n",
      "\u001b[0;31mValueError\u001b[0m: shapes (6,3) and (5,5) not aligned: 3 (dim 1) != 5 (dim 0)"
     ]
    }
   ],
   "source": [
    "print(A.dot(B))  # Matrix product (different from A*B!)"
   ]
  },
  {
   "cell_type": "code",
   "execution_count": null,
   "metadata": {},
   "outputs": [
    {
     "name": "stdout",
     "output_type": "stream",
     "text": [
      "[[0. 0. 0. 0. 0.]\n",
      " [1. 1. 1. 1. 1.]\n",
      " [2. 2. 2. 2. 2.]\n",
      " [3. 3. 3. 3. 3.]\n",
      " [4. 4. 4. 4. 4.]]\n"
     ]
    }
   ],
   "source": [
    "print(A.T)  # Transposed matrix"
   ]
  },
  {
   "cell_type": "code",
   "execution_count": null,
   "metadata": {},
   "outputs": [
    {
     "name": "stdout",
     "output_type": "stream",
     "text": [
      "[[ 2.86 -1.41 -0.84  0.4   1.48]\n",
      " [-1.41  6.92  0.41 -3.07 -4.47]\n",
      " [-0.84  0.41  1.7  -0.49 -2.35]\n",
      " [ 0.4  -3.07 -0.49  2.63  2.34]\n",
      " [ 1.48 -4.47 -2.35  2.34  6.69]]\n"
     ]
    }
   ],
   "source": [
    "C = np.random.randn(*A.shape)\n",
    "C = C.dot(C.T)  # Symmetric positive semidefinite matrix\n",
    "\n",
    "np.set_printoptions(precision=2)\n",
    "print(C)"
   ]
  },
  {
   "cell_type": "code",
   "execution_count": null,
   "metadata": {},
   "outputs": [
    {
     "name": "stdout",
     "output_type": "stream",
     "text": [
      "[ 0.28  1.04  2.39  3.57 13.52]\n"
     ]
    }
   ],
   "source": [
    "print(np.linalg.eigvalsh(C))  # Eigenvalues"
   ]
  },
  {
   "cell_type": "code",
   "execution_count": null,
   "metadata": {},
   "outputs": [
    {
     "name": "stdout",
     "output_type": "stream",
     "text": [
      "20.80176751480242 20.80176751480243\n"
     ]
    }
   ],
   "source": [
    "print(np.linalg.eigvalsh(C).sum(), C.trace())  # Trace of C"
   ]
  },
  {
   "cell_type": "code",
   "execution_count": null,
   "metadata": {},
   "outputs": [
    {
     "name": "stdout",
     "output_type": "stream",
     "text": [
      "[[1. 0. 0. 0. 0.]\n",
      " [0. 1. 0. 0. 0.]\n",
      " [0. 0. 1. 0. 0.]\n",
      " [0. 0. 0. 1. 0.]\n",
      " [0. 0. 0. 0. 1.]]\n"
     ]
    }
   ],
   "source": [
    "invC = np.linalg.inv(C)  # Inverse of C\n",
    "pC = invC.dot(C)\n",
    "pC[pC < 1e-10] = 0  # Erase numerical errors before printing\n",
    "\n",
    "print(pC)"
   ]
  },
  {
   "cell_type": "markdown",
   "metadata": {},
   "source": [
    "**Question**\n",
    "\n",
    "Based on the array defined below, compute the matrix $(2^{-|i-j|})_{1 \\le i, j \\le 4}$."
   ]
  },
  {
   "cell_type": "code",
   "execution_count": 79,
   "metadata": {},
   "outputs": [
    {
     "name": "stdout",
     "output_type": "stream",
     "text": [
      "[[0. 0. 0. 0.]\n",
      " [1. 1. 1. 1.]\n",
      " [2. 2. 2. 2.]\n",
      " [3. 3. 3. 3.]]\n"
     ]
    },
    {
     "data": {
      "text/plain": [
       "numpy.ndarray"
      ]
     },
     "execution_count": 79,
     "metadata": {},
     "output_type": "execute_result"
    }
   ],
   "source": [
    "ind = np.outer(np.arange(4), np.ones(4))\n",
    "print(ind)"
   ]
  },
  {
   "cell_type": "code",
   "execution_count": 90,
   "metadata": {
    "collapsed": true
   },
   "outputs": [
    {
     "data": {
      "text/plain": [
       "array([[0.2   , 0.    , 0.    , 0.    , 0.    ],\n",
       "       [0.5   , 1.    , 0.5   , 0.25  , 0.125 ],\n",
       "       [0.25  , 0.5   , 1.    , 0.5   , 0.25  ],\n",
       "       [0.125 , 0.25  , 0.5   , 1.    , 0.5   ],\n",
       "       [0.0625, 0.125 , 0.25  , 0.5   , 1.    ]])"
      ]
     },
     "execution_count": 90,
     "metadata": {},
     "output_type": "execute_result"
    }
   ],
   "source": [
    "# Answer\n",
    "n = 5\n",
    "ans = np.ndarray((n,n), dtype=float)\n",
    "for i, lig in enumerate(ans):\n",
    "    for j, cont in enumerate(ans):\n",
    "        if i >= 1:\n",
    "            ans[i][j] = float(2)**(-np.abs(i - j))\n",
    "\n",
    "ans"
   ]
  },
  {
   "cell_type": "markdown",
   "metadata": {},
   "source": [
    "### Others"
   ]
  },
  {
   "cell_type": "code",
   "execution_count": null,
   "metadata": {},
   "outputs": [
    {
     "name": "stdout",
     "output_type": "stream",
     "text": [
      "[ True  True  True  True  True]\n"
     ]
    }
   ],
   "source": [
    "print(np.any(C < -1, axis=0))  # Test if a column has at least one value less than -1\n"
   ]
  },
  {
   "cell_type": "code",
   "execution_count": null,
   "metadata": {},
   "outputs": [
    {
     "name": "stdout",
     "output_type": "stream",
     "text": [
      "[ True  True  True  True  True]\n"
     ]
    }
   ],
   "source": [
    "print(np.all(C > -5, axis=1))  # Test if a row has all values greater than -5"
   ]
  },
  {
   "cell_type": "code",
   "execution_count": null,
   "metadata": {},
   "outputs": [
    {
     "name": "stdout",
     "output_type": "stream",
     "text": [
      "[0 1 1 1 2 3 4 4] [1 0 3 4 4 1 1 2]\n"
     ]
    }
   ],
   "source": [
    "indx, indy = np.where(C < -1)  # Indices where C is less than -1\n",
    "# This is equivalent to np.nonzero(C < -1).\n",
    "print(indx, indy)"
   ]
  },
  {
   "cell_type": "code",
   "execution_count": null,
   "metadata": {},
   "outputs": [
    {
     "name": "stdout",
     "output_type": "stream",
     "text": [
      "[-1.41 -1.41 -3.07 -4.47 -2.35 -3.07 -4.47 -2.35]\n"
     ]
    }
   ],
   "source": [
    "print(C[indx, indy])"
   ]
  },
  {
   "cell_type": "code",
   "execution_count": null,
   "metadata": {},
   "outputs": [
    {
     "data": {
      "text/plain": [
       "array([[ 2., -2., -1.,  0.,  1.],\n",
       "       [-2.,  6.,  0., -4., -5.],\n",
       "       [-1.,  0.,  1., -1., -3.],\n",
       "       [ 0., -4., -1.,  2.,  2.],\n",
       "       [ 1., -5., -3.,  2.,  6.]])"
      ]
     },
     "execution_count": 95,
     "metadata": {},
     "output_type": "execute_result"
    }
   ],
   "source": [
    "np.floor(C)  # Floor of C"
   ]
  },
  {
   "cell_type": "markdown",
   "metadata": {},
   "source": [
    "# Scipy: scientific computing in Python <a id=\"part2\"></a>\n",
    "## What is Scipy <a id=\"part2sec1\"></a>\n",
    "Scipy is a collection of mudules for various mathematical purposes.\n",
    "Leveraging the Numpy package, Scipy offers a broad and powerful environment for solving scientific problems.\n",
    "Roughly speaking, Scipy is to Python what toolboxes are to Matlab.\n",
    "\n",
    "In the forthcoming sections, a few modules of Scipy are skimmed."
   ]
  },
  {
   "cell_type": "markdown",
   "metadata": {},
   "source": [
    "## Special functions <a id=\"part2sec2\"></a>\n",
    "An important feature of the [scipy.special](http://docs.scipy.org/doc/scipy/reference/special.html#module-scipy.special) module is the definition of numerous mathematical functions, called *special functions*.\n",
    "Available functions include Airy, elliptic, Bessel, gamma, beta, hypergeometric, parabolic cylinder, Mathieu, spheroidal wave, Struve, and Kelvin."
   ]
  },
  {
   "cell_type": "markdown",
   "metadata": {},
   "source": [
    "**Question**\n",
    "\n",
    "Plot the error function on the line $[-3, 3]$."
   ]
  },
  {
   "cell_type": "code",
   "execution_count": 93,
   "metadata": {
    "collapsed": true
   },
   "outputs": [
    {
     "data": {
      "text/plain": [
       "[<matplotlib.lines.Line2D at 0x168ebcbe0>]"
      ]
     },
     "execution_count": 93,
     "metadata": {},
     "output_type": "execute_result"
    },
    {
     "data": {
      "image/png": "[encoded data removed]",
      "text/plain": [
       "<Figure size 640x480 with 1 Axes>"
      ]
     },
     "metadata": {},
     "output_type": "display_data"
    }
   ],
   "source": [
    "# Answerf\n",
    "import scipy.special as scp\n",
    "from matplotlib import pyplot as plt\n",
    "\n",
    "x = np.linspace(-3,3,1000)\n",
    "y = scp.erf(x)\n",
    "\n",
    "plt, ax = plt.subplots()\n",
    "\n",
    "ax.plot(x,y)\n",
    "\n"
   ]
  },
  {
   "cell_type": "markdown",
   "metadata": {},
   "source": [
    "## Linear algebra <a id=\"part2sec3\"></a>\n",
    "The [scipy.linalg](http://docs.scipy.org/doc/scipy/reference/linalg.html#module-scipy.linalg) module is crafted for linear algebra.\n",
    "It subsumes all the functions in numpy.linalg and adds other more advanced ones.\n",
    "\n",
    "Here is a non-exhaustive list of scipy.linalg's assets.\n",
    "\n",
    "### Inverse of a matrix"
   ]
  },
  {
   "cell_type": "code",
   "execution_count": null,
   "metadata": {},
   "outputs": [
    {
     "name": "stdout",
     "output_type": "stream",
     "text": [
      "[[ 2.86 -1.41 -0.84  0.4   1.48]\n",
      " [-1.41  6.92  0.41 -3.07 -4.47]\n",
      " [-0.84  0.41  1.7  -0.49 -2.35]\n",
      " [ 0.4  -3.07 -0.49  2.63  2.34]\n",
      " [ 1.48 -4.47 -2.35  2.34  6.69]]\n"
     ]
    }
   ],
   "source": [
    "from scipy import linalg\n",
    "print(C)"
   ]
  },
  {
   "cell_type": "code",
   "execution_count": null,
   "metadata": {},
   "outputs": [
    {
     "name": "stdout",
     "output_type": "stream",
     "text": [
      "[[1. 0. 0. 0. 0.]\n",
      " [0. 1. 0. 0. 0.]\n",
      " [0. 0. 1. 0. 0.]\n",
      " [0. 0. 0. 1. 0.]\n",
      " [0. 0. 0. 0. 1.]]\n"
     ]
    }
   ],
   "source": [
    "pC_sci = linalg.inv(C).dot(C)\n",
    "pC_sci[pC_sci < 1e-10] = 0  # Erase numerical errors before printing\n",
    "\n",
    "print(pC)"
   ]
  },
  {
   "cell_type": "markdown",
   "metadata": {},
   "source": [
    "### Solving a linear system\n",
    "Here we try to solve the linear system $Cx = b$ for $x$."
   ]
  },
  {
   "cell_type": "code",
   "execution_count": null,
   "metadata": {},
   "outputs": [
    {
     "name": "stdout",
     "output_type": "stream",
     "text": [
      "[-0.78 -1.04 -2.98 -0.47 -1.38]\n"
     ]
    }
   ],
   "source": [
    "b = np.random.randn(C.shape[0])\n",
    "x = linalg.solve(C, b)\n",
    "print(x)"
   ]
  },
  {
   "cell_type": "code",
   "execution_count": null,
   "metadata": {},
   "outputs": [
    {
     "name": "stdout",
     "output_type": "stream",
     "text": [
      "[-0.47  0.3  -1.37 -0.1   0.19] [-0.47  0.3  -1.37 -0.1   0.19]\n"
     ]
    }
   ],
   "source": [
    "print(C.dot(x), b)"
   ]
  },
  {
   "cell_type": "markdown",
   "metadata": {},
   "source": [
    "**Remark:**\n",
    "It is numerically more efficient to compute $C^{-1}b$ with `solve` than `inv`."
   ]
  },
  {
   "cell_type": "code",
   "execution_count": null,
   "metadata": {},
   "outputs": [
    {
     "name": "stdout",
     "output_type": "stream",
     "text": [
      "solve: 0.12s\n",
      "inv: 0.14s\n"
     ]
    }
   ],
   "source": [
    "from timeit import timeit\n",
    "\n",
    "setup = \"\"\"\n",
    "from scipy.linalg import solve, inv\n",
    "from numpy.random import randn\n",
    "\n",
    "n = 200\n",
    "C = randn(n, n)\n",
    "C = C.dot(C.T)\n",
    "b = randn(n)\n",
    "\"\"\"\n",
    "\n",
    "print('solve: {0:0.2f}s'.format(timeit('x = solve(C, b);', setup=setup, number=100)))\n",
    "print('inv: {0:0.2f}s'.format(timeit('x = inv(C).dot(b);', setup=setup, number=100)))"
   ]
  },
  {
   "cell_type": "markdown",
   "metadata": {},
   "source": [
    "### Eigendecomposition\n",
    "The eigendecomposition is illustrated here, yet many others are available: singular value, LU, Cholesky, QR and Schur decompositions."
   ]
  },
  {
   "cell_type": "code",
   "execution_count": null,
   "metadata": {},
   "outputs": [
    {
     "name": "stdout",
     "output_type": "stream",
     "text": [
      "[ 0.28  1.04  2.39  3.57 13.52]\n"
     ]
    }
   ],
   "source": [
    "print(linalg.eigvalsh(C))"
   ]
  },
  {
   "cell_type": "markdown",
   "metadata": {},
   "source": [
    "### Special matrices\n",
    "An important feature of `scipy.linalg` over `numpy.linalg` is to provide several functions for creating special matrices such as block diagonal, circulant, Hadamard, Toeplitz…"
   ]
  },
  {
   "cell_type": "code",
   "execution_count": null,
   "metadata": {},
   "outputs": [
    {
     "name": "stdout",
     "output_type": "stream",
     "text": [
      "[[ 0.   1.   2.   3.   4.   0.   0.   0.   0.   0. ]\n",
      " [ 0.   1.   2.   3.   4.   0.   0.   0.   0.   0. ]\n",
      " [ 0.   1.   2.   3.   4.   0.   0.   0.   0.   0. ]\n",
      " [ 0.   1.   2.   3.   4.   0.   0.   0.   0.   0. ]\n",
      " [ 0.   1.   2.   3.   4.   0.   0.   0.   0.   0. ]\n",
      " [ 0.   0.   0.   0.   0.   0.2  0.   0.   0.   0. ]\n",
      " [ 0.   0.   0.   0.   0.   0.   0.7  0.   0.   0. ]\n",
      " [ 0.   0.   0.   0.   0.   0.   0.  -1.   0.   0. ]\n",
      " [ 0.   0.   0.   0.   0.   0.   0.   0.   2.   0. ]\n",
      " [ 0.   0.   0.   0.   0.   0.   0.   0.   0.   5. ]]\n"
     ]
    }
   ],
   "source": [
    "print(linalg.block_diag(A, B))"
   ]
  },
  {
   "cell_type": "code",
   "execution_count": null,
   "metadata": {},
   "outputs": [
    {
     "name": "stdout",
     "output_type": "stream",
     "text": [
      "[[0 3 2 1]\n",
      " [1 0 3 2]\n",
      " [2 1 0 3]\n",
      " [3 2 1 0]]\n"
     ]
    }
   ],
   "source": [
    "print(linalg.circulant(np.arange(4)))"
   ]
  },
  {
   "cell_type": "markdown",
   "metadata": {},
   "source": [
    "## Optimization <a id=\"part2sec4\"></a>\n",
    "The [scipy.optimize](http://docs.scipy.org/doc/scipy/reference/optimize.html#module-scipy.optimize) module offers several common but efficient routines for constrained and unconstrained optimization, as well as curve fitting and root finding.\n",
    "### Local optimization\n",
    "The main interfaces for optimization offered by scipy.optimize are `minimize` (Nelder-Mead, BFGS, Newton, etc.) for local multivariate optimization, `minimize_scalar` for univariate optimization and `linprog` for linear programming (Simplex algorithm). In addition, other routines are available for global optimization and least-squares."
   ]
  },
  {
   "cell_type": "code",
   "execution_count": 94,
   "metadata": {},
   "outputs": [],
   "source": [
    "from scipy import optimize\n",
    "# import warnings\n",
    "# warnings.filterwarnings('ignore')\n",
    "\n",
    "def f(x):\n",
    "    return x**2 + 10*np.sin(x)"
   ]
  },
  {
   "cell_type": "code",
   "execution_count": 95,
   "metadata": {},
   "outputs": [
    {
     "ename": "TypeError",
     "evalue": "cannot unpack non-iterable AxesSubplot object",
     "output_type": "error",
     "traceback": [
      "\u001b[0;31m---------------------------------------------------------------------------\u001b[0m",
      "\u001b[0;31mTypeError\u001b[0m                                 Traceback (most recent call last)",
      "Cell \u001b[0;32mIn [95], line 3\u001b[0m\n\u001b[1;32m      1\u001b[0m x \u001b[39m=\u001b[39m np\u001b[39m.\u001b[39marange(\u001b[39m-\u001b[39m\u001b[39m10\u001b[39m, \u001b[39m10\u001b[39m, \u001b[39m0.1\u001b[39m)\n\u001b[0;32m----> 3\u001b[0m fig, ax \u001b[39m=\u001b[39m plt\u001b[39m.\u001b[39msubplots()\n\u001b[1;32m      4\u001b[0m ax\u001b[39m.\u001b[39mplot(x, f(x), linewidth\u001b[39m=\u001b[39m\u001b[39m2\u001b[39m)\n\u001b[1;32m      6\u001b[0m \u001b[39mfor\u001b[39;00m x0 \u001b[39min\u001b[39;00m np\u001b[39m.\u001b[39mlinspace(\u001b[39m-\u001b[39m\u001b[39m10\u001b[39m, \u001b[39m10\u001b[39m, \u001b[39m5\u001b[39m):\n",
      "\u001b[0;31mTypeError\u001b[0m: cannot unpack non-iterable AxesSubplot object"
     ]
    }
   ],
   "source": [
    "x = np.arange(-10, 10, 0.1)\n",
    "\n",
    "fig, ax = plt.subplots()\n",
    "ax.plot(x, f(x), linewidth=2)\n",
    "\n",
    "for x0 in np.linspace(-10, 10, 5):\n",
    "    sol = optimize.minimize(f, x0, method='BFGS')\n",
    "    ax.annotate(\"\", xy=(sol.x[0], f(sol.x[0])), xytext=(x0, f(x0)), size=20,\n",
    "                arrowprops=dict(arrowstyle=\"-|>\", connectionstyle=\"arc3,rad=-0.2\", edgecolor=\"k\", facecolor='w'))\n",
    "    ax.plot(x0, f(x0), 'go', markersize=8)\n",
    "    ax.plot(sol.x, f(sol.x), '*r', markersize=12)"
   ]
  },
  {
   "cell_type": "markdown",
   "metadata": {},
   "source": [
    "### Curve fitting\n",
    "Given some points $\\{x_i, y_i\\}_{i=1}^n$ and a model $f(\\cdot, \\theta)$ parametrized by $\\theta$, `scipy.optimize.curve_fit` finds a good parameter $\\theta^\\star$ that makes it possible for the model $f(\\cdot, \\theta^\\star)$ to explain $y_i$ based on $x_i$.\n",
    "The solution $\\theta^\\star$ is obtained by solving non-linear least-squares."
   ]
  },
  {
   "cell_type": "code",
   "execution_count": 96,
   "metadata": {},
   "outputs": [
    {
     "name": "stderr",
     "output_type": "stream",
     "text": [
      "/opt/homebrew/lib/python3.10/site-packages/scipy/optimize/_minpack_py.py:881: OptimizeWarning: Covariance of the parameters could not be estimated\n",
      "  warnings.warn('Covariance of the parameters could not be estimated',\n"
     ]
    },
    {
     "ename": "TypeError",
     "evalue": "cannot unpack non-iterable AxesSubplot object",
     "output_type": "error",
     "traceback": [
      "\u001b[0;31m---------------------------------------------------------------------------\u001b[0m",
      "\u001b[0;31mTypeError\u001b[0m                                 Traceback (most recent call last)",
      "Cell \u001b[0;32mIn [96], line 11\u001b[0m\n\u001b[1;32m      7\u001b[0m popt, pcov \u001b[39m=\u001b[39m optimize\u001b[39m.\u001b[39mcurve_fit(f_model, x, y)\n\u001b[1;32m      9\u001b[0m x_plot \u001b[39m=\u001b[39m np\u001b[39m.\u001b[39marange(\u001b[39m-\u001b[39m\u001b[39m10\u001b[39m, \u001b[39m10\u001b[39m, \u001b[39m0.1\u001b[39m)\n\u001b[0;32m---> 11\u001b[0m fig, ax \u001b[39m=\u001b[39m plt\u001b[39m.\u001b[39msubplots()\n\u001b[1;32m     12\u001b[0m ax\u001b[39m.\u001b[39mplot(x_plot, f(x_plot), linewidth\u001b[39m=\u001b[39m\u001b[39m2\u001b[39m, label\u001b[39m=\u001b[39m\u001b[39m\"\u001b[39m\u001b[39mtrue\u001b[39m\u001b[39m\"\u001b[39m)\n\u001b[1;32m     13\u001b[0m ax\u001b[39m.\u001b[39mplot(x_plot, f_model(x_plot, \u001b[39m*\u001b[39mpopt), linestyle\u001b[39m=\u001b[39m\u001b[39m'\u001b[39m\u001b[39mdashed\u001b[39m\u001b[39m'\u001b[39m, color\u001b[39m=\u001b[39m\u001b[39m\"\u001b[39m\u001b[39mred\u001b[39m\u001b[39m\"\u001b[39m, linewidth\u001b[39m=\u001b[39m\u001b[39m2\u001b[39m, label\u001b[39m=\u001b[39m\u001b[39m\"\u001b[39m\u001b[39mfitted\u001b[39m\u001b[39m\"\u001b[39m)\n",
      "\u001b[0;31mTypeError\u001b[0m: cannot unpack non-iterable AxesSubplot object"
     ]
    }
   ],
   "source": [
    "def f_model(x, theta1, theta2, theta3, theta4):\n",
    "    return theta1*x**2 + theta2*np.sin(x+np.pi/6)\n",
    "\n",
    "x = np.linspace(-10, 10, num=10)\n",
    "y = f(x)\n",
    "\n",
    "popt, pcov = optimize.curve_fit(f_model, x, y)\n",
    "\n",
    "x_plot = np.arange(-10, 10, 0.1)\n",
    "\n",
    "fig, ax = plt.subplots()\n",
    "ax.plot(x_plot, f(x_plot), linewidth=2, label=\"true\")\n",
    "ax.plot(x_plot, f_model(x_plot, *popt), linestyle='dashed', color=\"red\", linewidth=2, label=\"fitted\")\n",
    "ax.legend();"
   ]
  },
  {
   "cell_type": "markdown",
   "metadata": {},
   "source": [
    "### Root finding\n",
    "Several routines are available for finding roots and fixed points of a function (see [scipy.optimize](http://docs.scipy.org/doc/scipy/reference/optimize.html#module-scipy.optimize)).\n",
    "For instance, one can use `fsolve`:"
   ]
  },
  {
   "cell_type": "code",
   "execution_count": null,
   "metadata": {},
   "outputs": [
    {
     "data": {
      "image/png": "[encoded data removed]",
      "text/plain": [
       "<Figure size 432x288 with 1 Axes>"
      ]
     },
     "metadata": {
      "needs_background": "light"
     },
     "output_type": "display_data"
    }
   ],
   "source": [
    "x = np.arange(-10, 10, 0.1)\n",
    "\n",
    "fig, ax = plt.subplots()\n",
    "ax.plot(x, f(x), linewidth=2)\n",
    "\n",
    "for x0 in np.linspace(-4, 4, 4):\n",
    "    root = optimize.fsolve(f, x0)\n",
    "    ax.annotate(\"\", xy=(root[0], f(root[0])), xytext=(x0, f(x0)), size=20,\n",
    "                arrowprops=dict(arrowstyle=\"-|>\", connectionstyle=\"arc3,rad=-0.2\", edgecolor=\"k\", facecolor=\"w\"))\n",
    "    ax.plot(x0, f(x0), 'go', markersize=8)\n",
    "    ax.plot(root, f(root), '*r', markersize=12)"
   ]
  },
  {
   "cell_type": "markdown",
   "metadata": {},
   "source": [
    "## Interpolation <a id=\"part2sec5\"></a>\n",
    "[scipy.interpolate](http://docs.scipy.org/doc/scipy/reference/interpolate.html#module-scipy.interpolate) provides functions for uni and multivariate data interpolation.\n",
    "Here, we only focus on unidimensional interpolation."
   ]
  },
  {
   "cell_type": "code",
   "execution_count": null,
   "metadata": {},
   "outputs": [
    {
     "data": {
      "image/png": "[encoded data removed]",
      "text/plain": [
       "<Figure size 432x288 with 1 Axes>"
      ]
     },
     "metadata": {
      "needs_background": "light"
     },
     "output_type": "display_data"
    }
   ],
   "source": [
    "from scipy.interpolate import interp1d\n",
    "\n",
    "\n",
    "x = np.linspace(-10, 10, num=10)\n",
    "x_plot = np.arange(-10, 10, 0.1)\n",
    "\n",
    "fig, ax = plt.subplots()\n",
    "ax.plot(x_plot, f(x_plot), linewidth=2, label=\"true\")\n",
    "ax.plot(x, f(x), 'o', markersize=6, color=\"blue\")\n",
    "\n",
    "for kind in ['linear', 'cubic']:\n",
    "    f_inter = interp1d(x, f(x), kind=kind)\n",
    "    ax.plot(x_plot, f_inter(x_plot), label=kind, linewidth=2, linestyle=\"dashed\")\n",
    "ax.legend();"
   ]
  },
  {
   "cell_type": "markdown",
   "metadata": {},
   "source": [
    "## Numerical integration <a id=\"part2sec6\"></a>\n",
    "In the [scipy.integrate](http://docs.scipy.org/doc/scipy/reference/integrate.html#module-scipy.integrate) module, one can find several methods (trapezoidal, Simpson, Romberg, etc) for integrating uni, bi and trivariate functions.\n",
    "Below is an example of univariate integration."
   ]
  },
  {
   "cell_type": "code",
   "execution_count": null,
   "metadata": {},
   "outputs": [
    {
     "name": "stdout",
     "output_type": "stream",
     "text": [
      "0.842700792949715 0.8427007929497148\n"
     ]
    }
   ],
   "source": [
    "from scipy.special import erf\n",
    "from scipy.integrate import quad\n",
    "\n",
    "f = lambda x: np.exp(-x**2)*2/np.sqrt(np.pi)\n",
    "I, I_err = quad(f, 0, 1)\n",
    "print(I, erf(1))"
   ]
  },
  {
   "cell_type": "markdown",
   "metadata": {},
   "source": [
    "## Others <a id=\"part2sec7\"></a>\n",
    "Other possibilities of Scipy include:\n",
    "- Fourier transforms ([scipy.fftpack](http://docs.scipy.org/doc/scipy/reference/fftpack.html#module-scipy.fftpack));\n",
    "- sparse matrices ([scipy.sparse](docs.scipy.org/doc/scipy/reference/sparse.html));\n",
    "- signal processing ([scipy.signal](http://docs.scipy.org/doc/scipy/reference/signal.html#module-scipy.signal));\n",
    "- spatial structures ([scipy.spatial](http://docs.scipy.org/doc/scipy/reference/spatial.html#module-scipy.spatial));\n",
    "- multidimensional image processing ([scipy.ndimage](http://docs.scipy.org/doc/scipy/reference/ndimage.html#module-scipy.ndimage)).\n"
   ]
  },
  {
   "cell_type": "markdown",
   "metadata": {},
   "source": [
    "# Loading and saving data <a id=\"part3\"></a>\n",
    "The core of Python as well as Numpy and Scipy provide several routines for loading and saving data.\n",
    "We will review some of them.\n",
    "\n",
    "## Basics <a id=\"part3sec1\"></a>\n",
    "With Python only, files are handled thanks to a file object, initialized with `open` and that should be closed after operations completed.\n",
    "Roughly speaking, operations may be `write`, `read`, `readline` and `readlines`.\n",
    "Note that only strings can be saved thanks to those routines.\n",
    "\n",
    "One can open a file with different modes:\n",
    "- `r`: read only;\n",
    "- `w`: write only;\n",
    "- `a`: append;\n",
    "- `r+`: read and write;\n",
    "- `[rwa]b`: (read, write, append) binary."
   ]
  },
  {
   "cell_type": "code",
   "execution_count": null,
   "metadata": {},
   "outputs": [],
   "source": [
    "f = open('an_example.txt', 'w')\n",
    "\n",
    "f.write(\"\"\"This file is an example.\n",
    "It illustrates how to write in a file.\n",
    "As well as how to read a file.\"\"\")\n",
    "\n",
    "f.close()"
   ]
  },
  {
   "cell_type": "code",
   "execution_count": null,
   "metadata": {},
   "outputs": [
    {
     "name": "stdout",
     "output_type": "stream",
     "text": [
      "This file is an example.\n",
      "It illustrates how to write in a file.\n",
      "As well as how to read a file."
     ]
    }
   ],
   "source": [
    "!cat an_example.txt"
   ]
  },
  {
   "cell_type": "markdown",
   "metadata": {},
   "source": [
    "It is good practice for handling exceptions and being sure that the file is closed properly to replace the previous script by:"
   ]
  },
  {
   "cell_type": "code",
   "execution_count": null,
   "metadata": {},
   "outputs": [
    {
     "name": "stdout",
     "output_type": "stream",
     "text": [
      "File closed: True\n"
     ]
    }
   ],
   "source": [
    "with open('an_example.txt', 'w') as f:\n",
    "    f.write(\"\"\"This file is an example.\n",
    "It illustrates how to write in a file.\n",
    "As well as how to read a file.\"\"\")\n",
    "\n",
    "print(\"File closed:\", f.closed)"
   ]
  },
  {
   "cell_type": "code",
   "execution_count": null,
   "metadata": {},
   "outputs": [
    {
     "name": "stdout",
     "output_type": "stream",
     "text": [
      "This file is an example.\n",
      "It illustrates how to write in a file.\n",
      "As well as how to read a file.\n"
     ]
    }
   ],
   "source": [
    "with open('an_example.txt', 'r') as f:\n",
    "    s = f.read()\n",
    "    print(s)"
   ]
  },
  {
   "cell_type": "markdown",
   "metadata": {},
   "source": [
    "The functions `readline` and `readlines` respectively read a single line and put all lines in a list."
   ]
  },
  {
   "cell_type": "code",
   "execution_count": null,
   "metadata": {},
   "outputs": [
    {
     "name": "stdout",
     "output_type": "stream",
     "text": [
      "First line: This file is an example.\n",
      "\n",
      "Second line: It illustrates how to write in a file.\n",
      "\n"
     ]
    }
   ],
   "source": [
    "with open('an_example.txt', 'r') as f:\n",
    "    print(\"First line:\", f.readline())\n",
    "    print(\"Second line:\", f.readline())"
   ]
  },
  {
   "cell_type": "code",
   "execution_count": null,
   "metadata": {},
   "outputs": [
    {
     "name": "stdout",
     "output_type": "stream",
     "text": [
      "['This file is an example.\\n', 'It illustrates how to write in a file.\\n', 'As well as how to read a file.']\n"
     ]
    }
   ],
   "source": [
    "with open('an_example.txt', 'r') as f:\n",
    "    s = f.readlines()\n",
    "    print(s)"
   ]
  },
  {
   "cell_type": "markdown",
   "metadata": {},
   "source": [
    "One may also iterate over the lines of a file."
   ]
  },
  {
   "cell_type": "code",
   "execution_count": null,
   "metadata": {},
   "outputs": [
    {
     "name": "stdout",
     "output_type": "stream",
     "text": [
      "Line 0 : This file is an example.\n",
      "\n",
      "Line 1 : It illustrates how to write in a file.\n",
      "\n",
      "Line 2 : As well as how to read a file.\n"
     ]
    }
   ],
   "source": [
    "with open('an_example.txt', 'r') as f:\n",
    "    for it, line in enumerate(f):\n",
    "        print(\"Line\", it, \":\", line)"
   ]
  },
  {
   "cell_type": "markdown",
   "metadata": {},
   "source": [
    "## Text files <a id=\"part3sec2\"></a>\n",
    "Numpy provides two routines for handling arrays saved in text files: `loadtxt` and `savetxt`. Save the [consumption.csv](http://bertrand.michel.perso.math.cnrs.fr/Enseignements/Data/consumption.csv) file in your disk."
   ]
  },
  {
   "cell_type": "code",
   "execution_count": null,
   "metadata": {},
   "outputs": [
    {
     "name": "stdout",
     "output_type": "stream",
     "text": [
      "England;Wales;Scotland;N Ireland\n",
      "105;103;103;66\n",
      "245;227;242;267\n",
      "685;803;750;586\n",
      "147;160;122;93\n",
      "193;235;184;209\n",
      "156;175;147;139\n",
      "720;874;566;1033\n",
      "253;265;171;143\n",
      "488;570;418;355\n",
      "198;203;220;187\n",
      "360;365;337;334\n",
      "1102;1137;957;674\n",
      "1472;1582;1462;1494\n",
      "57;73;53;47\n",
      "1374;1256;1572;1506\n",
      "375;475;458;135\n",
      "54;64;62;41\n"
     ]
    }
   ],
   "source": [
    "!cat consumption.csv"
   ]
  },
  {
   "cell_type": "markdown",
   "metadata": {},
   "source": [
    "## Images <a id=\"part3sec3\"></a>\n",
    "Images can be read and saved thanks to the functions *imread* and *imsave* from matplotlib.pyplot."
   ]
  },
  {
   "cell_type": "code",
   "execution_count": null,
   "metadata": {},
   "outputs": [],
   "source": [
    "import matplotlib.pyplot as plt\n",
    "\n",
    "img = plt.imread(\"img/upmc.jpg\")\n",
    "\n",
    "fig, ax = plt.subplots()\n",
    "ax.imshow(img);\n",
    "ax.grid(False)"
   ]
  },
  {
   "cell_type": "code",
   "execution_count": null,
   "metadata": {},
   "outputs": [],
   "source": [
    "plt.imsave(\"img/upmc3.jpg\", img[:, :, 0], cmap=plt.cm.gray)  # Save only one channel"
   ]
  },
  {
   "cell_type": "code",
   "execution_count": null,
   "metadata": {},
   "outputs": [
    {
     "name": "stdout",
     "output_type": "stream",
     "text": [
      "[[ 105.  103.  103.   66.]\n",
      " [ 245.  227.  242.  267.]\n",
      " [ 685.  803.  750.  586.]\n",
      " [ 147.  160.  122.   93.]\n",
      " [ 193.  235.  184.  209.]\n",
      " [ 156.  175.  147.  139.]\n",
      " [ 720.  874.  566. 1033.]\n",
      " [ 253.  265.  171.  143.]\n",
      " [ 488.  570.  418.  355.]\n",
      " [ 198.  203.  220.  187.]\n",
      " [ 360.  365.  337.  334.]\n",
      " [1102. 1137.  957.  674.]\n",
      " [1472. 1582. 1462. 1494.]\n",
      " [  57.   73.   53.   47.]\n",
      " [1374. 1256. 1572. 1506.]\n",
      " [ 375.  475.  458.  135.]\n",
      " [  54.   64.   62.   41.]]\n"
     ]
    }
   ],
   "source": [
    "data = np.loadtxt(\"consumption.csv\", delimiter=\";\", skiprows=1)\n",
    "print(data)"
   ]
  },
  {
   "cell_type": "code",
   "execution_count": null,
   "metadata": {},
   "outputs": [],
   "source": [
    "# Standardization\n",
    "data -= data.mean(axis=0)\n",
    "data /= data.std(axis=0)\n",
    "\n",
    "# Save the data\n",
    "np.savetxt(\"consumption_std.csv\", data)"
   ]
  },
  {
   "cell_type": "code",
   "execution_count": null,
   "metadata": {},
   "outputs": [
    {
     "name": "stdout",
     "output_type": "stream",
     "text": [
      "[[-0.83 -0.89 -0.78 -0.78]\n",
      " [-0.51 -0.62 -0.48 -0.35]\n",
      " [ 0.49  0.66  0.64  0.34]\n",
      " [-0.73 -0.76 -0.74 -0.72]\n",
      " [-0.63 -0.6  -0.61 -0.47]\n",
      " [-0.71 -0.73 -0.69 -0.62]\n",
      " [ 0.57  0.82  0.23  1.3 ]\n",
      " [-0.49 -0.53 -0.63 -0.62]\n",
      " [ 0.04  0.15 -0.09 -0.16]\n",
      " [-0.62 -0.67 -0.53 -0.52]\n",
      " [-0.25 -0.31 -0.27 -0.21]\n",
      " [ 1.44  1.41  1.09  0.52]\n",
      " [ 2.28  2.4   2.2   2.29]\n",
      " [-0.94 -0.96 -0.89 -0.82]\n",
      " [ 2.06  1.67  2.44  2.31]\n",
      " [-0.22 -0.06 -0.   -0.63]\n",
      " [-0.95 -0.98 -0.87 -0.84]]\n"
     ]
    }
   ],
   "source": [
    "data_txt = np.loadtxt(\"consumption_std.csv\")\n",
    "print(data_txt)"
   ]
  },
  {
   "cell_type": "markdown",
   "metadata": {},
   "source": [
    "## Numpy format <a id=\"part3sec4\"></a>\n",
    "Numpy has its own binary format.\n",
    "Note that it does not promote interoperability."
   ]
  },
  {
   "cell_type": "code",
   "execution_count": null,
   "metadata": {},
   "outputs": [],
   "source": [
    "np.save('consumption.npy', data)"
   ]
  },
  {
   "cell_type": "code",
   "execution_count": null,
   "metadata": {},
   "outputs": [
    {
     "name": "stdout",
     "output_type": "stream",
     "text": [
      "[[-0.83 -0.89 -0.78 -0.78]\n",
      " [-0.51 -0.62 -0.48 -0.35]\n",
      " [ 0.49  0.66  0.64  0.34]\n",
      " [-0.73 -0.76 -0.74 -0.72]\n",
      " [-0.63 -0.6  -0.61 -0.47]\n",
      " [-0.71 -0.73 -0.69 -0.62]\n",
      " [ 0.57  0.82  0.23  1.3 ]\n",
      " [-0.49 -0.53 -0.63 -0.62]\n",
      " [ 0.04  0.15 -0.09 -0.16]\n",
      " [-0.62 -0.67 -0.53 -0.52]\n",
      " [-0.25 -0.31 -0.27 -0.21]\n",
      " [ 1.44  1.41  1.09  0.52]\n",
      " [ 2.28  2.4   2.2   2.29]\n",
      " [-0.94 -0.96 -0.89 -0.82]\n",
      " [ 2.06  1.67  2.44  2.31]\n",
      " [-0.22 -0.06 -0.   -0.63]\n",
      " [-0.95 -0.98 -0.87 -0.84]]\n"
     ]
    }
   ],
   "source": [
    "data_npy = np.load('consumption.npy')\n",
    "print(data_npy)"
   ]
  },
  {
   "cell_type": "markdown",
   "metadata": {},
   "source": [
    "## Matlab format <a id=\"part3sec5\"></a>\n",
    "Scipy offers the possibility to save and read Matlab files with the functions *loadmat*, *whosmat* and *savemat*."
   ]
  },
  {
   "cell_type": "code",
   "execution_count": null,
   "metadata": {},
   "outputs": [],
   "source": [
    "import scipy.io as sio\n",
    "\n",
    "sio.savemat('consumption.mat', {'data': data})"
   ]
  },
  {
   "cell_type": "code",
   "execution_count": null,
   "metadata": {},
   "outputs": [
    {
     "data": {
      "text/plain": [
       "[('data', (17, 4), 'double')]"
      ]
     },
     "execution_count": 125,
     "metadata": {},
     "output_type": "execute_result"
    }
   ],
   "source": [
    "sio.whosmat('consumption.mat')"
   ]
  },
  {
   "cell_type": "code",
   "execution_count": null,
   "metadata": {},
   "outputs": [
    {
     "name": "stdout",
     "output_type": "stream",
     "text": [
      "[[-0.83 -0.89 -0.78 -0.78]\n",
      " [-0.51 -0.62 -0.48 -0.35]\n",
      " [ 0.49  0.66  0.64  0.34]\n",
      " [-0.73 -0.76 -0.74 -0.72]\n",
      " [-0.63 -0.6  -0.61 -0.47]\n",
      " [-0.71 -0.73 -0.69 -0.62]\n",
      " [ 0.57  0.82  0.23  1.3 ]\n",
      " [-0.49 -0.53 -0.63 -0.62]\n",
      " [ 0.04  0.15 -0.09 -0.16]\n",
      " [-0.62 -0.67 -0.53 -0.52]\n",
      " [-0.25 -0.31 -0.27 -0.21]\n",
      " [ 1.44  1.41  1.09  0.52]\n",
      " [ 2.28  2.4   2.2   2.29]\n",
      " [-0.94 -0.96 -0.89 -0.82]\n",
      " [ 2.06  1.67  2.44  2.31]\n",
      " [-0.22 -0.06 -0.   -0.63]\n",
      " [-0.95 -0.98 -0.87 -0.84]]\n"
     ]
    }
   ],
   "source": [
    "data_mat = sio.loadmat('consumption.mat')['data']\n",
    "print(data_mat)"
   ]
  },
  {
   "cell_type": "markdown",
   "metadata": {},
   "source": [
    "## JSON <a id=\"part3sec6\"></a>\n",
    "JSON (which stands for *JavaScript Object Notation*) is a format\n",
    "with which one can save complex data types such as dictionaries and nested lists by serialization.\n",
    "It is a secure data format that benefits from inter-operability (data exchange).\n",
    "\n",
    "However, Numpy arrays cannot be serialized with JSON."
   ]
  },
  {
   "cell_type": "code",
   "execution_count": null,
   "metadata": {},
   "outputs": [],
   "source": [
    "import json\n",
    "\n",
    "with open('consumption.json', 'w') as f:\n",
    "    json.dump(data.tolist(), f)"
   ]
  },
  {
   "cell_type": "code",
   "execution_count": null,
   "metadata": {},
   "outputs": [
    {
     "name": "stdout",
     "output_type": "stream",
     "text": [
      "[[-0.83 -0.89 -0.78 -0.78]\n",
      " [-0.51 -0.62 -0.48 -0.35]\n",
      " [ 0.49  0.66  0.64  0.34]\n",
      " [-0.73 -0.76 -0.74 -0.72]\n",
      " [-0.63 -0.6  -0.61 -0.47]\n",
      " [-0.71 -0.73 -0.69 -0.62]\n",
      " [ 0.57  0.82  0.23  1.3 ]\n",
      " [-0.49 -0.53 -0.63 -0.62]\n",
      " [ 0.04  0.15 -0.09 -0.16]\n",
      " [-0.62 -0.67 -0.53 -0.52]\n",
      " [-0.25 -0.31 -0.27 -0.21]\n",
      " [ 1.44  1.41  1.09  0.52]\n",
      " [ 2.28  2.4   2.2   2.29]\n",
      " [-0.94 -0.96 -0.89 -0.82]\n",
      " [ 2.06  1.67  2.44  2.31]\n",
      " [-0.22 -0.06 -0.   -0.63]\n",
      " [-0.95 -0.98 -0.87 -0.84]]\n"
     ]
    }
   ],
   "source": [
    "with open('consumption.json', 'r') as f:\n",
    "    data_json = np.array(json.load(f))\n",
    "print(data_json)"
   ]
  },
  {
   "cell_type": "markdown",
   "metadata": {},
   "source": [
    "## Pickle <a id=\"part3sec7\"></a>\n",
    "Akin to JSON, Pickle (and its C version cPickle for Python 2) is a module aimed at serializing (or pickling) and de-serializing (or unpickling) a Python object structure.\n",
    "However, Pickle is far more powerful than JSON: it can serialize arbitrarily complex Python objects.\n",
    "Thus, in practice, any Python object can be saved (and then re-loaded) with Pickle.\n",
    "\n",
    "However (this is the other side of the coin), **the Pickle module is not secure against erroneous or maliciously constructed data: deserializing pickle data can execute arbitrary harmful code.\n",
    "Never unpickle data received from an untrusted or unauthenticated source**."
   ]
  },
  {
   "cell_type": "code",
   "execution_count": null,
   "metadata": {},
   "outputs": [],
   "source": [
    "import pickle as pkl  # import cPickle in Python 2, it is faster than pickle\n",
    "\n",
    "with open('consumption.pkl', 'wb') as f:\n",
    "    pkl.dump(data, f)"
   ]
  },
  {
   "cell_type": "code",
   "execution_count": null,
   "metadata": {},
   "outputs": [
    {
     "name": "stdout",
     "output_type": "stream",
     "text": [
      "[[-0.83 -0.89 -0.78 -0.78]\n",
      " [-0.51 -0.62 -0.48 -0.35]\n",
      " [ 0.49  0.66  0.64  0.34]\n",
      " [-0.73 -0.76 -0.74 -0.72]\n",
      " [-0.63 -0.6  -0.61 -0.47]\n",
      " [-0.71 -0.73 -0.69 -0.62]\n",
      " [ 0.57  0.82  0.23  1.3 ]\n",
      " [-0.49 -0.53 -0.63 -0.62]\n",
      " [ 0.04  0.15 -0.09 -0.16]\n",
      " [-0.62 -0.67 -0.53 -0.52]\n",
      " [-0.25 -0.31 -0.27 -0.21]\n",
      " [ 1.44  1.41  1.09  0.52]\n",
      " [ 2.28  2.4   2.2   2.29]\n",
      " [-0.94 -0.96 -0.89 -0.82]\n",
      " [ 2.06  1.67  2.44  2.31]\n",
      " [-0.22 -0.06 -0.   -0.63]\n",
      " [-0.95 -0.98 -0.87 -0.84]]\n"
     ]
    }
   ],
   "source": [
    "with open('consumption.pkl', 'rb') as f:\n",
    "    data_pkl = pkl.load(f)\n",
    "print(data_pkl)"
   ]
  },
  {
   "cell_type": "markdown",
   "metadata": {},
   "source": [
    "# Exercises <a id=\"part4\"></a>\n",
    "## Exercise 1 <a id=\"part4sec1\"></a>\n",
    "Produce the following array:\n",
    "\n",
    "    [[ 0  4  8 12 16]\n",
    "     [ 1  5  9 13 17]\n",
    "     [ 2  6 10 14 18]\n",
    "     [ 3  7 11 15 19]]\n",
    "\n",
    "Standardize this array, namely do such that the mean of each column is $0$ and the standard deviation is $1$."
   ]
  },
  {
   "cell_type": "code",
   "execution_count": 160,
   "metadata": {
    "collapsed": true
   },
   "outputs": [
    {
     "name": "stdout",
     "output_type": "stream",
     "text": [
      "[[ 0.          0.53452248  1.06904497 -1.60356745]\n",
      " [-0.71269665  0.89087081  1.06904497 -1.24721913]\n",
      " [-0.8363334   0.94087507  1.04541675 -1.14995842]\n",
      " [-0.88585616  0.95967751  1.03349886 -1.10732021]\n",
      " [-0.91242552  0.96945211  1.02647871 -1.0835053 ]]\n",
      "Mean column #1: 0.0, Std column #1: 1.0\n",
      "Mean column #2: 0.0, Std column #2: 1.0\n",
      "Mean column #3: 0.0, Std column #3: 1.0\n",
      "Mean column #4: 0.0, Std column #4: 1.0\n",
      "Mean column #5: 0.0, Std column #5: 1.0\n"
     ]
    }
   ],
   "source": [
    "# Answer\n",
    "arr = [[k+j for k in np.arange(5) * 4] for j in np.arange(4)]\n",
    "\n",
    "arr = np.array([-np.array(p) if k == 0 or k == 3 else np.array(p) for k, p in enumerate(arr)])\n",
    "arr = np.array([2*col/(np.linalg.norm(col)) for col in arr.T])\n",
    "print(arr)\n",
    "\n",
    "for k,j in enumerate(arr, start=1):\n",
    "    print(f'Mean column #{k}: {round(np.mean(j), 4)}, Std column #{k}: {np.std(j)}')"
   ]
  },
  {
   "cell_type": "markdown",
   "metadata": {},
   "source": [
    "## Exercise 2 <a id=\"part4sec2\"></a>\n",
    "Plot the [probability density functions](https://en.wikipedia.org/wiki/Chi-squared_distribution) of $\\chi^2$ with parameters $k \\in \\{1, 2, \\dots, 5\\}$.\n"
   ]
  },
  {
   "cell_type": "code",
   "execution_count": null,
   "metadata": {
    "collapsed": true
   },
   "outputs": [],
   "source": [
    "# Answer"
   ]
  },
  {
   "cell_type": "markdown",
   "metadata": {},
   "source": [
    "## Exercise 3 <a id=\"part4sec3\"></a>\n",
    "Let $A$ be a matrix and $b$ be a vector defined by:\n",
    "\n",
    "    V = np.random.randn(5, 5)\n",
    "    A = V + V.T\n",
    "    b = np.random.rand(5)\n",
    "\n",
    "Solve the linear system $Ax = b$ with two different methods.\n"
   ]
  },
  {
   "cell_type": "code",
   "execution_count": 165,
   "metadata": {
    "collapsed": true
   },
   "outputs": [
    {
     "data": {
      "text/plain": [
       "array([ 5.55111512e-17, -2.77555756e-17, -5.55111512e-17,  5.55111512e-17,\n",
       "        1.11022302e-16])"
      ]
     },
     "execution_count": 165,
     "metadata": {},
     "output_type": "execute_result"
    }
   ],
   "source": [
    "# Answer\n",
    "V = np.random.randn(5, 5)\n",
    "A = V + V.T\n",
    "b = np.random.rand(5)\n",
    "\n",
    "x1 = np.linalg.solve(A, b)\n",
    "x2 = np.linalg.inv(A).dot(b)\n",
    "\n",
    "x1-x2"
   ]
  },
  {
   "cell_type": "markdown",
   "metadata": {},
   "source": [
    "## Exercise 4 <a id=\"part4sec4\"></a>\n",
    "Build a symmetric positive semidefinite matrix $H$ of size 5 x 5, a vector $b$ of size 5 and a scalar value $c$.\n",
    "Compute a minimizer of $x \\mapsto \\frac 12 x^\\top H x + b^\\top x + c$.\n",
    "Compute the minimum of this function.\n"
   ]
  },
  {
   "cell_type": "code",
   "execution_count": null,
   "metadata": {
    "collapsed": true
   },
   "outputs": [],
   "source": [
    "# Answer\n"
   ]
  },
  {
   "cell_type": "markdown",
   "metadata": {},
   "source": [
    "## Exercise 5 <a id=\"part4sec6\"></a>\n",
    "Dowload [this data file](http://www.lpsm.paris/pageperso/sangnier/files/pythonM2/Gaussian_sample.mat).\n",
    "The sample in this file is assumed to be Gaussian iid.\n",
    "Compute the negative log-likelihood function associated to this sample.\n",
    "Minimize it with a Scipy routine to estimate $\\mu$ and $\\sigma$."
   ]
  },
  {
   "cell_type": "code",
   "execution_count": null,
   "metadata": {
    "collapsed": true
   },
   "outputs": [],
   "source": [
    "# Answer"
   ]
  },
  {
   "cell_type": "markdown",
   "metadata": {},
   "source": [
    "# References <a id=\"part5\"></a>\n",
    "- [Official documentation](https://docs.python.org/3/tutorial/index.html).\n",
    "- [Numpy and Scipy documentation](http://docs.scipy.org/doc/).\n",
    "- [Scipy lecture notes](http://www.scipy-lectures.org/index.html)."
   ]
  }
 ],
 "metadata": {
  "kernelspec": {
   "display_name": "Python 3.10.8 64-bit",
   "language": "python",
   "name": "python3"
  },
  "language_info": {
   "codemirror_mode": {
    "name": "ipython",
    "version": 3
   },
   "file_extension": ".py",
   "mimetype": "text/x-python",
   "name": "python",
   "nbconvert_exporter": "python",
   "pygments_lexer": "ipython3",
   "version": "3.10.8"
  },
  "vscode": {
   "interpreter": {
    "hash": "b0fa6594d8f4cbf19f97940f81e996739fb7646882a419484c72d19e05852a7e"
   }
  }
 },
 "nbformat": 4,
 "nbformat_minor": 4
}
